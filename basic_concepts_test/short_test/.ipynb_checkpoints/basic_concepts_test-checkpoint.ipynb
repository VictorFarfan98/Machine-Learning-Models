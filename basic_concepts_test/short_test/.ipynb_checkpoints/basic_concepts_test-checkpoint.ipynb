{
 "cells": [
  {
   "cell_type": "markdown",
   "metadata": {},
   "source": [
    "# BASIC CONCEPTS TEST\n",
    "\n",
    "This short test is designed to evaluate your current undertanding of the course\n",
    "By now you are expected to be able to be able to perform:\n",
    "- Basic data manipulation\n",
    "- Imputation\n",
    "- Plot data\n",
    "- Use ML algorithms based on desired objective, dataset and complexity\n",
    "\n",
    "\n",
    "# Tasks:\n",
    "1. Merge the dataset into a single dataframe\n",
    "2. Apply an imputation strategy where NAs are present\n",
    "3. Gain quick insights from the the distributions of the numeric variables of the target categories usign plots\n",
    "4. Split the dataset into test and training subsets. The ussual proportion is 30/70 %\n",
    "5. Use the Logistic Regression (LR) algorithm to create a model and predict the outcome of the test subset"
   ]
  },
  {
   "cell_type": "code",
   "execution_count": 42,
   "metadata": {},
   "outputs": [],
   "source": [
    "import pandas as pd\n",
    "import seaborn as sns\n",
    "import matplotlib.pyplot as plt\n",
    "%matplotlib inline"
   ]
  },
  {
   "cell_type": "code",
   "execution_count": 52,
   "metadata": {},
   "outputs": [],
   "source": [
    "# set your path\n",
    "\n",
    "# PATH = r'C:\\\\Users\\\\cmedina\\\\Dropbox\\\\pxq_trainning\\\\proyects\\\\admision_challenge\\\\short_test\\\\'\n",
    "\n",
    "filenames = ['campaign.csv','category.csv','country.csv','sub_category.csv']"
   ]
  },
  {
   "cell_type": "code",
   "execution_count": 53,
   "metadata": {},
   "outputs": [
    {
     "name": "stdout",
     "output_type": "stream",
     "text": [
      "0 Loading campaign.csv\n",
      "1 Loading category.csv\n",
      "2 Loading country.csv\n",
      "3 Loading sub_category.csv\n"
     ]
    }
   ],
   "source": [
    "# load csv files\n",
    "dataframes = []\n",
    "for i,file in enumerate(filenames):\n",
    "    print('{0} Loading {1}'.format(i,file))\n",
    "    dataframes.append(pd.read_csv(file))"
   ]
  },
  {
   "cell_type": "markdown",
   "metadata": {},
   "source": [
    "# TASK 1\n",
    "Merge the dataset into a single dataframe"
   ]
  },
  {
   "cell_type": "code",
   "execution_count": 54,
   "metadata": {},
   "outputs": [
    {
     "data": {
      "text/html": [
       "<div>\n",
       "<style scoped>\n",
       "    .dataframe tbody tr th:only-of-type {\n",
       "        vertical-align: middle;\n",
       "    }\n",
       "\n",
       "    .dataframe tbody tr th {\n",
       "        vertical-align: top;\n",
       "    }\n",
       "\n",
       "    .dataframe thead th {\n",
       "        text-align: right;\n",
       "    }\n",
       "</style>\n",
       "<table border=\"1\" class=\"dataframe\">\n",
       "  <thead>\n",
       "    <tr style=\"text-align: right;\">\n",
       "      <th></th>\n",
       "      <th>id</th>\n",
       "      <th>name</th>\n",
       "    </tr>\n",
       "  </thead>\n",
       "  <tbody>\n",
       "    <tr>\n",
       "      <th>0</th>\n",
       "      <td>1</td>\n",
       "      <td>Publishing</td>\n",
       "    </tr>\n",
       "    <tr>\n",
       "      <th>1</th>\n",
       "      <td>2</td>\n",
       "      <td>Film &amp; Video</td>\n",
       "    </tr>\n",
       "    <tr>\n",
       "      <th>2</th>\n",
       "      <td>3</td>\n",
       "      <td>Music</td>\n",
       "    </tr>\n",
       "    <tr>\n",
       "      <th>3</th>\n",
       "      <td>4</td>\n",
       "      <td>Food</td>\n",
       "    </tr>\n",
       "    <tr>\n",
       "      <th>4</th>\n",
       "      <td>5</td>\n",
       "      <td>Design</td>\n",
       "    </tr>\n",
       "  </tbody>\n",
       "</table>\n",
       "</div>"
      ],
      "text/plain": [
       "   id          name\n",
       "0   1    Publishing\n",
       "1   2  Film & Video\n",
       "2   3         Music\n",
       "3   4          Food\n",
       "4   5        Design"
      ]
     },
     "execution_count": 54,
     "metadata": {},
     "output_type": "execute_result"
    }
   ],
   "source": [
    "dataframes[1].head()"
   ]
  },
  {
   "cell_type": "markdown",
   "metadata": {},
   "source": [
    "Convert dataframes to dictionaries to map values "
   ]
  },
  {
   "cell_type": "code",
   "execution_count": 59,
   "metadata": {},
   "outputs": [
    {
     "name": "stdout",
     "output_type": "stream",
     "text": [
      "{1: 'Publishing', 2: 'Film & Video', 3: 'Music', 4: 'Food', 5: 'Design', 6: 'Crafts', 7: 'Games', 8: 'Comics', 9: 'Fashion', 10: 'Theater', 11: 'Art', 12: 'Photography', 13: 'Technology', 14: 'Dance', 15: 'Journalism'}\n",
      "{1: 'GB', 2: 'US', 3: 'CA', 4: 'AU', 5: 'NO', 6: 'IT', 7: 'DE', 8: 'IE', 9: 'MX', 10: 'ES', 11: nan, 12: 'SE', 13: 'FR', 14: 'NL', 15: 'NZ', 16: 'CH', 17: 'AT', 18: 'DK', 19: 'BE', 20: 'HK', 21: 'LU', 22: 'SG', 23: 'JP'}\n",
      "{1: 'Poetry', 2: 'Narrative Film', 3: 'Music', 4: 'Film & Video', 5: 'Restaurants', 6: 'Food', 7: 'Drinks', 8: 'Product Design', 9: 'Documentary', 10: 'Nonfiction', 11: 'Indie Rock', 12: 'Crafts', 13: 'Games', 14: 'Tabletop Games', 15: 'Design', 16: 'Comic Books', 17: 'Art Books', 18: 'Fashion', 19: 'Childrenswear', 20: 'Theater', 21: 'Comics', 22: 'DIY', 23: 'Webseries', 24: 'Animation', 25: 'Food Trucks', 26: 'Public Art', 27: 'Illustration', 28: 'Photography', 29: 'Pop', 30: 'People', 31: 'Art', 32: 'Family', 33: 'Fiction', 34: 'Accessories', 35: 'Rock', 36: 'Hardware', 37: 'Software', 38: 'Weaving', 39: 'Gadgets', 40: 'Web', 41: 'Jazz', 42: 'Ready-to-wear', 43: 'Festivals', 44: 'Video Games', 45: 'Anthologies', 46: 'Publishing', 47: 'Shorts', 48: 'Electronic Music', 49: 'Radio & Podcasts', 50: 'Apps', 51: 'Cookbooks', 52: 'Apparel', 53: 'Metal', 54: 'Comedy', 55: 'Hip-Hop', 56: 'Periodicals', 57: 'Dance', 58: 'Technology', 59: 'Painting', 60: 'World Music', 61: 'Photobooks', 62: 'Drama', 63: 'Architecture', 64: 'Young Adult', 65: 'Latin', 66: 'Mobile Games', 67: 'Flight', 68: 'Fine Art', 69: 'Action', 70: 'Playing Cards', 71: 'Makerspaces', 72: 'Punk', 73: 'Thrillers', 74: \"Children's Books\", 75: 'Audio', 76: 'Performance Art', 77: 'Ceramics', 78: 'Vegan', 79: 'Graphic Novels', 80: 'Fabrication Tools', 81: 'Performances', 82: 'Sculpture', 83: 'Sound', 84: 'Stationery', 85: 'Print', 86: \"Farmer's Markets\", 87: 'Events', 88: 'Classical Music', 89: 'Graphic Design', 90: 'Spaces', 91: 'Country & Folk', 92: 'Wearables', 93: 'Mixed Media', 94: 'Journalism', 95: 'Movie Theaters', 96: 'Animals', 97: 'Digital Art', 98: 'Horror', 99: 'Knitting', 100: 'Small Batch', 101: 'Installations', 102: 'Community Gardens', 103: 'DIY Electronics', 104: 'Embroidery', 105: 'Camera Equipment', 106: 'Jewelry', 107: 'Farms', 108: 'Conceptual Art', 109: 'Fantasy', 110: 'Webcomics', 111: 'Experimental', 112: 'Science Fiction', 113: 'Puzzles', 114: 'R&B', 115: 'Music Videos', 116: 'Calendars', 117: 'Video', 118: 'Plays', 119: 'Blues', 120: 'Bacon', 121: 'Faith', 122: 'Live Games', 123: 'Woodworking', 124: 'Places', 125: 'Footwear', 126: '3D Printing', 127: 'Academic', 128: 'Zines', 129: 'Musical', 130: 'Workshops', 131: 'Photo', 132: 'Immersive', 133: 'Letterpress', 134: 'Gaming Hardware', 135: 'Candles', 136: 'Television', 137: 'Space Exploration', 138: 'Couture', 139: 'Nature', 140: 'Robots', 141: 'Typography', 142: 'Crochet', 143: 'Translations', 144: 'Textiles', 145: 'Pottery', 146: 'Interactive Design', 147: 'Video Art', 148: 'Quilts', 149: 'Glass', 150: 'Pet Fashion', 151: 'Printing', 152: 'Romance', 153: 'Civic Design', 154: 'Kids', 155: 'Literary Journals', 156: 'Taxidermy', 157: 'Literary Spaces', 158: 'Chiptune', 159: 'Residencies'}\n"
     ]
    }
   ],
   "source": [
    "category_dict = dict([(i,name) for i, name in zip(dataframes[1].id, dataframes[1].name)])\n",
    "country_dict = dict([(i,name) for i, name in zip(dataframes[2].id, dataframes[2].name)])\n",
    "subcategory_dict = dict([(i,name) for i, name in zip(dataframes[3].id, dataframes[3].name)])\n",
    "\n",
    "fullsubcategory = dict([(name, category_id) for name, category_id in zip(dataframes[3].name, dataframes[3].category_id)])\n",
    "\n",
    "print(category_dict)\n",
    "print(country_dict)\n",
    "print(subcategory_dict)\n",
    "\n"
   ]
  },
  {
   "cell_type": "code",
   "execution_count": 60,
   "metadata": {},
   "outputs": [
    {
     "name": "stdout",
     "output_type": "stream",
     "text": [
      "{'Poetry': 1, 'Narrative Film': 2, 'Music': 3, 'Film & Video': 2, 'Restaurants': 4, 'Food': 4, 'Drinks': 4, 'Product Design': 5, 'Documentary': 2, 'Nonfiction': 1, 'Indie Rock': 3, 'Crafts': 6, 'Games': 7, 'Tabletop Games': 7, 'Design': 5, 'Comic Books': 8, 'Art Books': 1, 'Fashion': 9, 'Childrenswear': 9, 'Theater': 10, 'Comics': 8, 'DIY': 6, 'Webseries': 2, 'Animation': 2, 'Food Trucks': 4, 'Public Art': 11, 'Illustration': 11, 'Photography': 12, 'Pop': 3, 'People': 12, 'Art': 11, 'Family': 2, 'Fiction': 1, 'Accessories': 9, 'Rock': 3, 'Hardware': 13, 'Software': 13, 'Weaving': 6, 'Gadgets': 13, 'Web': 13, 'Jazz': 3, 'Ready-to-wear': 9, 'Festivals': 10, 'Video Games': 7, 'Anthologies': 8, 'Publishing': 1, 'Shorts': 2, 'Electronic Music': 3, 'Radio & Podcasts': 1, 'Apps': 13, 'Cookbooks': 4, 'Apparel': 9, 'Metal': 3, 'Comedy': 2, 'Hip-Hop': 3, 'Periodicals': 1, 'Dance': 14, 'Technology': 13, 'Painting': 11, 'World Music': 3, 'Photobooks': 12, 'Drama': 2, 'Architecture': 5, 'Young Adult': 1, 'Latin': 3, 'Mobile Games': 7, 'Flight': 13, 'Fine Art': 12, 'Action': 2, 'Playing Cards': 7, 'Makerspaces': 13, 'Punk': 3, 'Thrillers': 2, \"Children's Books\": 1, 'Audio': 15, 'Performance Art': 11, 'Ceramics': 11, 'Vegan': 4, 'Graphic Novels': 8, 'Fabrication Tools': 13, 'Performances': 14, 'Sculpture': 11, 'Sound': 13, 'Stationery': 6, 'Print': 15, \"Farmer's Markets\": 4, 'Events': 4, 'Classical Music': 3, 'Graphic Design': 5, 'Spaces': 4, 'Country & Folk': 3, 'Wearables': 13, 'Mixed Media': 11, 'Journalism': 15, 'Movie Theaters': 2, 'Animals': 12, 'Digital Art': 11, 'Horror': 2, 'Knitting': 6, 'Small Batch': 4, 'Installations': 11, 'Community Gardens': 4, 'DIY Electronics': 13, 'Embroidery': 6, 'Camera Equipment': 13, 'Jewelry': 9, 'Farms': 4, 'Conceptual Art': 11, 'Fantasy': 2, 'Webcomics': 8, 'Experimental': 10, 'Science Fiction': 2, 'Puzzles': 7, 'R&B': 3, 'Music Videos': 2, 'Calendars': 1, 'Video': 15, 'Plays': 10, 'Blues': 3, 'Bacon': 4, 'Faith': 3, 'Live Games': 7, 'Woodworking': 6, 'Places': 12, 'Footwear': 9, '3D Printing': 13, 'Academic': 1, 'Zines': 1, 'Musical': 10, 'Workshops': 14, 'Photo': 15, 'Immersive': 10, 'Letterpress': 6, 'Gaming Hardware': 7, 'Candles': 6, 'Television': 2, 'Space Exploration': 13, 'Couture': 9, 'Nature': 12, 'Robots': 13, 'Typography': 5, 'Crochet': 6, 'Translations': 1, 'Textiles': 11, 'Pottery': 6, 'Interactive Design': 5, 'Video Art': 11, 'Quilts': 6, 'Glass': 6, 'Pet Fashion': 9, 'Printing': 6, 'Romance': 2, 'Civic Design': 5, 'Kids': 3, 'Literary Journals': 1, 'Taxidermy': 6, 'Literary Spaces': 1, 'Chiptune': 3, 'Residencies': 14}\n"
     ]
    }
   ],
   "source": [
    "print(fullsubcategory)"
   ]
  },
  {
   "cell_type": "code",
   "execution_count": 63,
   "metadata": {},
   "outputs": [
    {
     "data": {
      "text/html": [
       "<div>\n",
       "<style scoped>\n",
       "    .dataframe tbody tr th:only-of-type {\n",
       "        vertical-align: middle;\n",
       "    }\n",
       "\n",
       "    .dataframe tbody tr th {\n",
       "        vertical-align: top;\n",
       "    }\n",
       "\n",
       "    .dataframe thead th {\n",
       "        text-align: right;\n",
       "    }\n",
       "</style>\n",
       "<table border=\"1\" class=\"dataframe\">\n",
       "  <thead>\n",
       "    <tr style=\"text-align: right;\">\n",
       "      <th></th>\n",
       "      <th>id</th>\n",
       "      <th>name</th>\n",
       "      <th>sub_category_id</th>\n",
       "      <th>country_id</th>\n",
       "      <th>currency_id</th>\n",
       "      <th>launched</th>\n",
       "      <th>deadline</th>\n",
       "      <th>goal</th>\n",
       "      <th>pledged</th>\n",
       "      <th>backers</th>\n",
       "      <th>outcome</th>\n",
       "      <th>subcategory</th>\n",
       "      <th>country</th>\n",
       "      <th>category_id</th>\n",
       "      <th>category</th>\n",
       "    </tr>\n",
       "  </thead>\n",
       "  <tbody>\n",
       "    <tr>\n",
       "      <th>0</th>\n",
       "      <td>1</td>\n",
       "      <td>Ragdolls</td>\n",
       "      <td>23</td>\n",
       "      <td>2</td>\n",
       "      <td>2</td>\n",
       "      <td>4/25/2013 0:00</td>\n",
       "      <td>5/25/2013 0:00</td>\n",
       "      <td>15000.00</td>\n",
       "      <td>20.00</td>\n",
       "      <td>3.0</td>\n",
       "      <td>failed</td>\n",
       "      <td>Webseries</td>\n",
       "      <td>US</td>\n",
       "      <td>2</td>\n",
       "      <td>Film &amp; Video</td>\n",
       "    </tr>\n",
       "    <tr>\n",
       "      <th>1</th>\n",
       "      <td>2</td>\n",
       "      <td>One To Ten</td>\n",
       "      <td>47</td>\n",
       "      <td>1</td>\n",
       "      <td>1</td>\n",
       "      <td>11/16/2015 0:00</td>\n",
       "      <td>12/16/2015 0:00</td>\n",
       "      <td>223.68</td>\n",
       "      <td>413.81</td>\n",
       "      <td>23.0</td>\n",
       "      <td>successful</td>\n",
       "      <td>Shorts</td>\n",
       "      <td>GB</td>\n",
       "      <td>2</td>\n",
       "      <td>Film &amp; Video</td>\n",
       "    </tr>\n",
       "    <tr>\n",
       "      <th>2</th>\n",
       "      <td>3</td>\n",
       "      <td>Future Gun - A short film about kids and advan...</td>\n",
       "      <td>24</td>\n",
       "      <td>2</td>\n",
       "      <td>2</td>\n",
       "      <td>8/28/2013 0:00</td>\n",
       "      <td>9/27/2013 0:00</td>\n",
       "      <td>5000.00</td>\n",
       "      <td>1497.00</td>\n",
       "      <td>28.0</td>\n",
       "      <td>failed</td>\n",
       "      <td>Animation</td>\n",
       "      <td>US</td>\n",
       "      <td>2</td>\n",
       "      <td>Film &amp; Video</td>\n",
       "    </tr>\n",
       "    <tr>\n",
       "      <th>3</th>\n",
       "      <td>4</td>\n",
       "      <td>Fourth Wave Apparel—Vintage Fashion for the Mo...</td>\n",
       "      <td>52</td>\n",
       "      <td>2</td>\n",
       "      <td>2</td>\n",
       "      <td>7/22/2014 0:00</td>\n",
       "      <td>8/21/2014 0:00</td>\n",
       "      <td>6000.00</td>\n",
       "      <td>8795.00</td>\n",
       "      <td>218.0</td>\n",
       "      <td>successful</td>\n",
       "      <td>Apparel</td>\n",
       "      <td>US</td>\n",
       "      <td>9</td>\n",
       "      <td>Fashion</td>\n",
       "    </tr>\n",
       "    <tr>\n",
       "      <th>4</th>\n",
       "      <td>5</td>\n",
       "      <td>The Rich Lifestyle</td>\n",
       "      <td>9</td>\n",
       "      <td>2</td>\n",
       "      <td>2</td>\n",
       "      <td>8/24/2016 0:00</td>\n",
       "      <td>9/28/2016 0:00</td>\n",
       "      <td>2000000.00</td>\n",
       "      <td>2.00</td>\n",
       "      <td>2.0</td>\n",
       "      <td>failed</td>\n",
       "      <td>Documentary</td>\n",
       "      <td>US</td>\n",
       "      <td>2</td>\n",
       "      <td>Film &amp; Video</td>\n",
       "    </tr>\n",
       "  </tbody>\n",
       "</table>\n",
       "</div>"
      ],
      "text/plain": [
       "   id                                               name  sub_category_id  \\\n",
       "0   1                                           Ragdolls               23   \n",
       "1   2                                         One To Ten               47   \n",
       "2   3  Future Gun - A short film about kids and advan...               24   \n",
       "3   4  Fourth Wave Apparel—Vintage Fashion for the Mo...               52   \n",
       "4   5                                 The Rich Lifestyle                9   \n",
       "\n",
       "   country_id  currency_id         launched         deadline        goal  \\\n",
       "0           2            2   4/25/2013 0:00   5/25/2013 0:00    15000.00   \n",
       "1           1            1  11/16/2015 0:00  12/16/2015 0:00      223.68   \n",
       "2           2            2   8/28/2013 0:00   9/27/2013 0:00     5000.00   \n",
       "3           2            2   7/22/2014 0:00   8/21/2014 0:00     6000.00   \n",
       "4           2            2   8/24/2016 0:00   9/28/2016 0:00  2000000.00   \n",
       "\n",
       "   pledged  backers     outcome  subcategory country  category_id  \\\n",
       "0    20.00      3.0      failed    Webseries      US            2   \n",
       "1   413.81     23.0  successful       Shorts      GB            2   \n",
       "2  1497.00     28.0      failed    Animation      US            2   \n",
       "3  8795.00    218.0  successful      Apparel      US            9   \n",
       "4     2.00      2.0      failed  Documentary      US            2   \n",
       "\n",
       "       category  \n",
       "0  Film & Video  \n",
       "1  Film & Video  \n",
       "2  Film & Video  \n",
       "3       Fashion  \n",
       "4  Film & Video  "
      ]
     },
     "execution_count": 63,
     "metadata": {},
     "output_type": "execute_result"
    }
   ],
   "source": [
    "dataframes[0]['subcategory'] = dataframes[0][\"sub_category_id\"].map(subcategory_dict)\n",
    "dataframes[0]['country'] = dataframes[0][\"country_id\"].map(country_dict)\n",
    "\n",
    "# Create category id to be able to map the corresponding category\n",
    "dataframes[0]['category_id'] = dataframes[0][\"subcategory\"].map(fullsubcategory)\n",
    "dataframes[0]['category'] = dataframes[0][\"category_id\"].map(category_dict)\n",
    "\n",
    "\n",
    "dataframes[0].head()\n",
    "#dataframes[0]['Category'] = pd.Series(d)\n",
    "#dataframes[0].head()\n",
    "#dataframes[0].tail()"
   ]
  },
  {
   "cell_type": "code",
   "execution_count": 65,
   "metadata": {},
   "outputs": [
    {
     "data": {
      "text/html": [
       "<div>\n",
       "<style scoped>\n",
       "    .dataframe tbody tr th:only-of-type {\n",
       "        vertical-align: middle;\n",
       "    }\n",
       "\n",
       "    .dataframe tbody tr th {\n",
       "        vertical-align: top;\n",
       "    }\n",
       "\n",
       "    .dataframe thead th {\n",
       "        text-align: right;\n",
       "    }\n",
       "</style>\n",
       "<table border=\"1\" class=\"dataframe\">\n",
       "  <thead>\n",
       "    <tr style=\"text-align: right;\">\n",
       "      <th></th>\n",
       "      <th>id</th>\n",
       "      <th>name</th>\n",
       "      <th>launched</th>\n",
       "      <th>deadline</th>\n",
       "      <th>goal</th>\n",
       "      <th>pledged</th>\n",
       "      <th>backers</th>\n",
       "      <th>outcome</th>\n",
       "      <th>category</th>\n",
       "      <th>subcategory</th>\n",
       "      <th>country</th>\n",
       "    </tr>\n",
       "  </thead>\n",
       "  <tbody>\n",
       "    <tr>\n",
       "      <th>0</th>\n",
       "      <td>1</td>\n",
       "      <td>Ragdolls</td>\n",
       "      <td>4/25/2013 0:00</td>\n",
       "      <td>5/25/2013 0:00</td>\n",
       "      <td>15000.00</td>\n",
       "      <td>20.00</td>\n",
       "      <td>3.0</td>\n",
       "      <td>failed</td>\n",
       "      <td>Film &amp; Video</td>\n",
       "      <td>Webseries</td>\n",
       "      <td>US</td>\n",
       "    </tr>\n",
       "    <tr>\n",
       "      <th>1</th>\n",
       "      <td>2</td>\n",
       "      <td>One To Ten</td>\n",
       "      <td>11/16/2015 0:00</td>\n",
       "      <td>12/16/2015 0:00</td>\n",
       "      <td>223.68</td>\n",
       "      <td>413.81</td>\n",
       "      <td>23.0</td>\n",
       "      <td>successful</td>\n",
       "      <td>Film &amp; Video</td>\n",
       "      <td>Shorts</td>\n",
       "      <td>GB</td>\n",
       "    </tr>\n",
       "    <tr>\n",
       "      <th>2</th>\n",
       "      <td>3</td>\n",
       "      <td>Future Gun - A short film about kids and advan...</td>\n",
       "      <td>8/28/2013 0:00</td>\n",
       "      <td>9/27/2013 0:00</td>\n",
       "      <td>5000.00</td>\n",
       "      <td>1497.00</td>\n",
       "      <td>28.0</td>\n",
       "      <td>failed</td>\n",
       "      <td>Film &amp; Video</td>\n",
       "      <td>Animation</td>\n",
       "      <td>US</td>\n",
       "    </tr>\n",
       "    <tr>\n",
       "      <th>3</th>\n",
       "      <td>4</td>\n",
       "      <td>Fourth Wave Apparel—Vintage Fashion for the Mo...</td>\n",
       "      <td>7/22/2014 0:00</td>\n",
       "      <td>8/21/2014 0:00</td>\n",
       "      <td>6000.00</td>\n",
       "      <td>8795.00</td>\n",
       "      <td>218.0</td>\n",
       "      <td>successful</td>\n",
       "      <td>Fashion</td>\n",
       "      <td>Apparel</td>\n",
       "      <td>US</td>\n",
       "    </tr>\n",
       "    <tr>\n",
       "      <th>4</th>\n",
       "      <td>5</td>\n",
       "      <td>The Rich Lifestyle</td>\n",
       "      <td>8/24/2016 0:00</td>\n",
       "      <td>9/28/2016 0:00</td>\n",
       "      <td>2000000.00</td>\n",
       "      <td>2.00</td>\n",
       "      <td>2.0</td>\n",
       "      <td>failed</td>\n",
       "      <td>Film &amp; Video</td>\n",
       "      <td>Documentary</td>\n",
       "      <td>US</td>\n",
       "    </tr>\n",
       "    <tr>\n",
       "      <th>...</th>\n",
       "      <td>...</td>\n",
       "      <td>...</td>\n",
       "      <td>...</td>\n",
       "      <td>...</td>\n",
       "      <td>...</td>\n",
       "      <td>...</td>\n",
       "      <td>...</td>\n",
       "      <td>...</td>\n",
       "      <td>...</td>\n",
       "      <td>...</td>\n",
       "      <td>...</td>\n",
       "    </tr>\n",
       "    <tr>\n",
       "      <th>995</th>\n",
       "      <td>996</td>\n",
       "      <td>Nudge | The Instant Messaging App Like No Other!</td>\n",
       "      <td>6/16/2013 0:00</td>\n",
       "      <td>7/16/2013 0:00</td>\n",
       "      <td>228902.79</td>\n",
       "      <td>3282.47</td>\n",
       "      <td>248.0</td>\n",
       "      <td>failed</td>\n",
       "      <td>Technology</td>\n",
       "      <td>Technology</td>\n",
       "      <td>GB</td>\n",
       "    </tr>\n",
       "    <tr>\n",
       "      <th>996</th>\n",
       "      <td>997</td>\n",
       "      <td>The Letter Black - New Record</td>\n",
       "      <td>12/19/2016 0:00</td>\n",
       "      <td>1/18/2017 0:00</td>\n",
       "      <td>25000.00</td>\n",
       "      <td>34660.00</td>\n",
       "      <td>859.0</td>\n",
       "      <td>successful</td>\n",
       "      <td>Music</td>\n",
       "      <td>Rock</td>\n",
       "      <td>US</td>\n",
       "    </tr>\n",
       "    <tr>\n",
       "      <th>997</th>\n",
       "      <td>998</td>\n",
       "      <td>Handmade Japanese Wooden Headphones (Canceled)</td>\n",
       "      <td>4/12/2016 0:00</td>\n",
       "      <td>5/12/2016 0:00</td>\n",
       "      <td>50000.00</td>\n",
       "      <td>11261.00</td>\n",
       "      <td>67.0</td>\n",
       "      <td>canceled</td>\n",
       "      <td>Design</td>\n",
       "      <td>Product Design</td>\n",
       "      <td>US</td>\n",
       "    </tr>\n",
       "    <tr>\n",
       "      <th>998</th>\n",
       "      <td>999</td>\n",
       "      <td>Paria Exchange at Dave's Leicester Comedy Fest...</td>\n",
       "      <td>11/20/2015 0:00</td>\n",
       "      <td>12/20/2015 0:00</td>\n",
       "      <td>223.65</td>\n",
       "      <td>342.93</td>\n",
       "      <td>17.0</td>\n",
       "      <td>successful</td>\n",
       "      <td>Theater</td>\n",
       "      <td>Plays</td>\n",
       "      <td>GB</td>\n",
       "    </tr>\n",
       "    <tr>\n",
       "      <th>999</th>\n",
       "      <td>1000</td>\n",
       "      <td>Udgivelse: Månen og jeg</td>\n",
       "      <td>8/16/2016 0:00</td>\n",
       "      <td>9/25/2016 0:00</td>\n",
       "      <td>1198.29</td>\n",
       "      <td>1250.71</td>\n",
       "      <td>28.0</td>\n",
       "      <td>successful</td>\n",
       "      <td>Music</td>\n",
       "      <td>Music</td>\n",
       "      <td>DK</td>\n",
       "    </tr>\n",
       "  </tbody>\n",
       "</table>\n",
       "<p>1000 rows × 11 columns</p>\n",
       "</div>"
      ],
      "text/plain": [
       "       id                                               name         launched  \\\n",
       "0       1                                           Ragdolls   4/25/2013 0:00   \n",
       "1       2                                         One To Ten  11/16/2015 0:00   \n",
       "2       3  Future Gun - A short film about kids and advan...   8/28/2013 0:00   \n",
       "3       4  Fourth Wave Apparel—Vintage Fashion for the Mo...   7/22/2014 0:00   \n",
       "4       5                                 The Rich Lifestyle   8/24/2016 0:00   \n",
       "..    ...                                                ...              ...   \n",
       "995   996   Nudge | The Instant Messaging App Like No Other!   6/16/2013 0:00   \n",
       "996   997                      The Letter Black - New Record  12/19/2016 0:00   \n",
       "997   998     Handmade Japanese Wooden Headphones (Canceled)   4/12/2016 0:00   \n",
       "998   999  Paria Exchange at Dave's Leicester Comedy Fest...  11/20/2015 0:00   \n",
       "999  1000                            Udgivelse: Månen og jeg   8/16/2016 0:00   \n",
       "\n",
       "            deadline        goal   pledged  backers     outcome      category  \\\n",
       "0     5/25/2013 0:00    15000.00     20.00      3.0      failed  Film & Video   \n",
       "1    12/16/2015 0:00      223.68    413.81     23.0  successful  Film & Video   \n",
       "2     9/27/2013 0:00     5000.00   1497.00     28.0      failed  Film & Video   \n",
       "3     8/21/2014 0:00     6000.00   8795.00    218.0  successful       Fashion   \n",
       "4     9/28/2016 0:00  2000000.00      2.00      2.0      failed  Film & Video   \n",
       "..               ...         ...       ...      ...         ...           ...   \n",
       "995   7/16/2013 0:00   228902.79   3282.47    248.0      failed    Technology   \n",
       "996   1/18/2017 0:00    25000.00  34660.00    859.0  successful         Music   \n",
       "997   5/12/2016 0:00    50000.00  11261.00     67.0    canceled        Design   \n",
       "998  12/20/2015 0:00      223.65    342.93     17.0  successful       Theater   \n",
       "999   9/25/2016 0:00     1198.29   1250.71     28.0  successful         Music   \n",
       "\n",
       "        subcategory country  \n",
       "0         Webseries      US  \n",
       "1            Shorts      GB  \n",
       "2         Animation      US  \n",
       "3           Apparel      US  \n",
       "4       Documentary      US  \n",
       "..              ...     ...  \n",
       "995      Technology      GB  \n",
       "996            Rock      US  \n",
       "997  Product Design      US  \n",
       "998           Plays      GB  \n",
       "999           Music      DK  \n",
       "\n",
       "[1000 rows x 11 columns]"
      ]
     },
     "execution_count": 65,
     "metadata": {},
     "output_type": "execute_result"
    }
   ],
   "source": [
    "# Save final dataframe\n",
    "merged_dataframe = dataframes[0][['id', 'name', 'launched', 'deadline', 'goal', 'pledged', 'backers', 'outcome', 'category', 'subcategory', 'country']]\n",
    "merged_dataframe"
   ]
  },
  {
   "cell_type": "markdown",
   "metadata": {},
   "source": [
    "# TASK 2\n",
    "Apply an imputation strategy where NAs are present"
   ]
  },
  {
   "cell_type": "code",
   "execution_count": 66,
   "metadata": {},
   "outputs": [
    {
     "data": {
      "text/plain": [
       "id              0\n",
       "name            0\n",
       "launched        0\n",
       "deadline        0\n",
       "goal            0\n",
       "pledged         0\n",
       "backers        42\n",
       "outcome         0\n",
       "category        0\n",
       "subcategory     0\n",
       "country         7\n",
       "dtype: int64"
      ]
     },
     "execution_count": 66,
     "metadata": {},
     "output_type": "execute_result"
    }
   ],
   "source": [
    "# Find where are missing values\n",
    "merged_dataframe.isna().sum()"
   ]
  },
  {
   "cell_type": "markdown",
   "metadata": {},
   "source": [
    "Use a mean Imputation to avoid deleting values and because it allows for a quick fill of missing data"
   ]
  },
  {
   "cell_type": "code",
   "execution_count": 70,
   "metadata": {},
   "outputs": [],
   "source": [
    "merged_dataframe = merged_dataframe.fillna(merged_dataframe.mean())"
   ]
  },
  {
   "cell_type": "markdown",
   "metadata": {},
   "source": [
    "Delete observations with missing country as there is no easy way to impute them"
   ]
  },
  {
   "cell_type": "code",
   "execution_count": 72,
   "metadata": {},
   "outputs": [],
   "source": [
    "merged_dataframe = merged_dataframe.dropna()"
   ]
  },
  {
   "cell_type": "code",
   "execution_count": 73,
   "metadata": {},
   "outputs": [
    {
     "data": {
      "text/plain": [
       "id             0\n",
       "name           0\n",
       "launched       0\n",
       "deadline       0\n",
       "goal           0\n",
       "pledged        0\n",
       "backers        0\n",
       "outcome        0\n",
       "category       0\n",
       "subcategory    0\n",
       "country        0\n",
       "dtype: int64"
      ]
     },
     "execution_count": 73,
     "metadata": {},
     "output_type": "execute_result"
    }
   ],
   "source": [
    "merged_dataframe.isna().sum()"
   ]
  },
  {
   "cell_type": "code",
   "execution_count": 74,
   "metadata": {},
   "outputs": [
    {
     "data": {
      "text/html": [
       "<div>\n",
       "<style scoped>\n",
       "    .dataframe tbody tr th:only-of-type {\n",
       "        vertical-align: middle;\n",
       "    }\n",
       "\n",
       "    .dataframe tbody tr th {\n",
       "        vertical-align: top;\n",
       "    }\n",
       "\n",
       "    .dataframe thead th {\n",
       "        text-align: right;\n",
       "    }\n",
       "</style>\n",
       "<table border=\"1\" class=\"dataframe\">\n",
       "  <thead>\n",
       "    <tr style=\"text-align: right;\">\n",
       "      <th></th>\n",
       "      <th>id</th>\n",
       "      <th>name</th>\n",
       "      <th>launched</th>\n",
       "      <th>deadline</th>\n",
       "      <th>goal</th>\n",
       "      <th>pledged</th>\n",
       "      <th>backers</th>\n",
       "      <th>outcome</th>\n",
       "      <th>category</th>\n",
       "      <th>subcategory</th>\n",
       "      <th>country</th>\n",
       "    </tr>\n",
       "  </thead>\n",
       "  <tbody>\n",
       "    <tr>\n",
       "      <th>0</th>\n",
       "      <td>1</td>\n",
       "      <td>Ragdolls</td>\n",
       "      <td>4/25/2013 0:00</td>\n",
       "      <td>5/25/2013 0:00</td>\n",
       "      <td>15000.00</td>\n",
       "      <td>20.00</td>\n",
       "      <td>3.0</td>\n",
       "      <td>failed</td>\n",
       "      <td>Film &amp; Video</td>\n",
       "      <td>Webseries</td>\n",
       "      <td>US</td>\n",
       "    </tr>\n",
       "    <tr>\n",
       "      <th>1</th>\n",
       "      <td>2</td>\n",
       "      <td>One To Ten</td>\n",
       "      <td>11/16/2015 0:00</td>\n",
       "      <td>12/16/2015 0:00</td>\n",
       "      <td>223.68</td>\n",
       "      <td>413.81</td>\n",
       "      <td>23.0</td>\n",
       "      <td>successful</td>\n",
       "      <td>Film &amp; Video</td>\n",
       "      <td>Shorts</td>\n",
       "      <td>GB</td>\n",
       "    </tr>\n",
       "    <tr>\n",
       "      <th>2</th>\n",
       "      <td>3</td>\n",
       "      <td>Future Gun - A short film about kids and advan...</td>\n",
       "      <td>8/28/2013 0:00</td>\n",
       "      <td>9/27/2013 0:00</td>\n",
       "      <td>5000.00</td>\n",
       "      <td>1497.00</td>\n",
       "      <td>28.0</td>\n",
       "      <td>failed</td>\n",
       "      <td>Film &amp; Video</td>\n",
       "      <td>Animation</td>\n",
       "      <td>US</td>\n",
       "    </tr>\n",
       "    <tr>\n",
       "      <th>3</th>\n",
       "      <td>4</td>\n",
       "      <td>Fourth Wave Apparel—Vintage Fashion for the Mo...</td>\n",
       "      <td>7/22/2014 0:00</td>\n",
       "      <td>8/21/2014 0:00</td>\n",
       "      <td>6000.00</td>\n",
       "      <td>8795.00</td>\n",
       "      <td>218.0</td>\n",
       "      <td>successful</td>\n",
       "      <td>Fashion</td>\n",
       "      <td>Apparel</td>\n",
       "      <td>US</td>\n",
       "    </tr>\n",
       "    <tr>\n",
       "      <th>4</th>\n",
       "      <td>5</td>\n",
       "      <td>The Rich Lifestyle</td>\n",
       "      <td>8/24/2016 0:00</td>\n",
       "      <td>9/28/2016 0:00</td>\n",
       "      <td>2000000.00</td>\n",
       "      <td>2.00</td>\n",
       "      <td>2.0</td>\n",
       "      <td>failed</td>\n",
       "      <td>Film &amp; Video</td>\n",
       "      <td>Documentary</td>\n",
       "      <td>US</td>\n",
       "    </tr>\n",
       "    <tr>\n",
       "      <th>...</th>\n",
       "      <td>...</td>\n",
       "      <td>...</td>\n",
       "      <td>...</td>\n",
       "      <td>...</td>\n",
       "      <td>...</td>\n",
       "      <td>...</td>\n",
       "      <td>...</td>\n",
       "      <td>...</td>\n",
       "      <td>...</td>\n",
       "      <td>...</td>\n",
       "      <td>...</td>\n",
       "    </tr>\n",
       "    <tr>\n",
       "      <th>995</th>\n",
       "      <td>996</td>\n",
       "      <td>Nudge | The Instant Messaging App Like No Other!</td>\n",
       "      <td>6/16/2013 0:00</td>\n",
       "      <td>7/16/2013 0:00</td>\n",
       "      <td>228902.79</td>\n",
       "      <td>3282.47</td>\n",
       "      <td>248.0</td>\n",
       "      <td>failed</td>\n",
       "      <td>Technology</td>\n",
       "      <td>Technology</td>\n",
       "      <td>GB</td>\n",
       "    </tr>\n",
       "    <tr>\n",
       "      <th>996</th>\n",
       "      <td>997</td>\n",
       "      <td>The Letter Black - New Record</td>\n",
       "      <td>12/19/2016 0:00</td>\n",
       "      <td>1/18/2017 0:00</td>\n",
       "      <td>25000.00</td>\n",
       "      <td>34660.00</td>\n",
       "      <td>859.0</td>\n",
       "      <td>successful</td>\n",
       "      <td>Music</td>\n",
       "      <td>Rock</td>\n",
       "      <td>US</td>\n",
       "    </tr>\n",
       "    <tr>\n",
       "      <th>997</th>\n",
       "      <td>998</td>\n",
       "      <td>Handmade Japanese Wooden Headphones (Canceled)</td>\n",
       "      <td>4/12/2016 0:00</td>\n",
       "      <td>5/12/2016 0:00</td>\n",
       "      <td>50000.00</td>\n",
       "      <td>11261.00</td>\n",
       "      <td>67.0</td>\n",
       "      <td>canceled</td>\n",
       "      <td>Design</td>\n",
       "      <td>Product Design</td>\n",
       "      <td>US</td>\n",
       "    </tr>\n",
       "    <tr>\n",
       "      <th>998</th>\n",
       "      <td>999</td>\n",
       "      <td>Paria Exchange at Dave's Leicester Comedy Fest...</td>\n",
       "      <td>11/20/2015 0:00</td>\n",
       "      <td>12/20/2015 0:00</td>\n",
       "      <td>223.65</td>\n",
       "      <td>342.93</td>\n",
       "      <td>17.0</td>\n",
       "      <td>successful</td>\n",
       "      <td>Theater</td>\n",
       "      <td>Plays</td>\n",
       "      <td>GB</td>\n",
       "    </tr>\n",
       "    <tr>\n",
       "      <th>999</th>\n",
       "      <td>1000</td>\n",
       "      <td>Udgivelse: Månen og jeg</td>\n",
       "      <td>8/16/2016 0:00</td>\n",
       "      <td>9/25/2016 0:00</td>\n",
       "      <td>1198.29</td>\n",
       "      <td>1250.71</td>\n",
       "      <td>28.0</td>\n",
       "      <td>successful</td>\n",
       "      <td>Music</td>\n",
       "      <td>Music</td>\n",
       "      <td>DK</td>\n",
       "    </tr>\n",
       "  </tbody>\n",
       "</table>\n",
       "<p>993 rows × 11 columns</p>\n",
       "</div>"
      ],
      "text/plain": [
       "       id                                               name         launched  \\\n",
       "0       1                                           Ragdolls   4/25/2013 0:00   \n",
       "1       2                                         One To Ten  11/16/2015 0:00   \n",
       "2       3  Future Gun - A short film about kids and advan...   8/28/2013 0:00   \n",
       "3       4  Fourth Wave Apparel—Vintage Fashion for the Mo...   7/22/2014 0:00   \n",
       "4       5                                 The Rich Lifestyle   8/24/2016 0:00   \n",
       "..    ...                                                ...              ...   \n",
       "995   996   Nudge | The Instant Messaging App Like No Other!   6/16/2013 0:00   \n",
       "996   997                      The Letter Black - New Record  12/19/2016 0:00   \n",
       "997   998     Handmade Japanese Wooden Headphones (Canceled)   4/12/2016 0:00   \n",
       "998   999  Paria Exchange at Dave's Leicester Comedy Fest...  11/20/2015 0:00   \n",
       "999  1000                            Udgivelse: Månen og jeg   8/16/2016 0:00   \n",
       "\n",
       "            deadline        goal   pledged  backers     outcome      category  \\\n",
       "0     5/25/2013 0:00    15000.00     20.00      3.0      failed  Film & Video   \n",
       "1    12/16/2015 0:00      223.68    413.81     23.0  successful  Film & Video   \n",
       "2     9/27/2013 0:00     5000.00   1497.00     28.0      failed  Film & Video   \n",
       "3     8/21/2014 0:00     6000.00   8795.00    218.0  successful       Fashion   \n",
       "4     9/28/2016 0:00  2000000.00      2.00      2.0      failed  Film & Video   \n",
       "..               ...         ...       ...      ...         ...           ...   \n",
       "995   7/16/2013 0:00   228902.79   3282.47    248.0      failed    Technology   \n",
       "996   1/18/2017 0:00    25000.00  34660.00    859.0  successful         Music   \n",
       "997   5/12/2016 0:00    50000.00  11261.00     67.0    canceled        Design   \n",
       "998  12/20/2015 0:00      223.65    342.93     17.0  successful       Theater   \n",
       "999   9/25/2016 0:00     1198.29   1250.71     28.0  successful         Music   \n",
       "\n",
       "        subcategory country  \n",
       "0         Webseries      US  \n",
       "1            Shorts      GB  \n",
       "2         Animation      US  \n",
       "3           Apparel      US  \n",
       "4       Documentary      US  \n",
       "..              ...     ...  \n",
       "995      Technology      GB  \n",
       "996            Rock      US  \n",
       "997  Product Design      US  \n",
       "998           Plays      GB  \n",
       "999           Music      DK  \n",
       "\n",
       "[993 rows x 11 columns]"
      ]
     },
     "execution_count": 74,
     "metadata": {},
     "output_type": "execute_result"
    }
   ],
   "source": [
    "merged_dataframe"
   ]
  },
  {
   "cell_type": "markdown",
   "metadata": {},
   "source": [
    "# TASK 3\n",
    "Gain quick insights from the the distributions of the numeric variables of the target categories usign plots"
   ]
  },
  {
   "cell_type": "code",
   "execution_count": 88,
   "metadata": {},
   "outputs": [
    {
     "data": {
      "image/png": "[encoded data removed]",
      "text/plain": [
       "<Figure size 432x288 with 1 Axes>"
      ]
     },
     "metadata": {
      "needs_background": "light"
     },
     "output_type": "display_data"
    }
   ],
   "source": [
    "x = merged_dataframe['goal']\n",
    "sns.distplot(x, color='b');"
   ]
  },
  {
   "cell_type": "code",
   "execution_count": 89,
   "metadata": {},
   "outputs": [
    {
     "data": {
      "image/png": "[encoded data removed]",
      "text/plain": [
       "<Figure size 432x288 with 1 Axes>"
      ]
     },
     "metadata": {
      "needs_background": "light"
     },
     "output_type": "display_data"
    }
   ],
   "source": [
    "x = merged_dataframe['pledged']\n",
    "sns.distplot(x, color='b');"
   ]
  },
  {
   "cell_type": "code",
   "execution_count": 87,
   "metadata": {},
   "outputs": [
    {
     "data": {
      "image/png": "[encoded data removed]",
      "text/plain": [
       "<Figure size 432x288 with 1 Axes>"
      ]
     },
     "metadata": {
      "needs_background": "light"
     },
     "output_type": "display_data"
    }
   ],
   "source": [
    "x = merged_dataframe['backers']\n",
    "sns.distplot(x, color='b');"
   ]
  },
  {
   "cell_type": "code",
   "execution_count": 98,
   "metadata": {},
   "outputs": [
    {
     "data": {
      "text/plain": [
       "(array([2., 1., 0., 0., 0., 0., 1., 0., 0., 1.]),\n",
       " array([  5. ,  56.9, 108.8, 160.7, 212.6, 264.5, 316.4, 368.3, 420.2,\n",
       "        472.1, 524. ]),\n",
       " <a list of 10 Patch objects>)"
      ]
     },
     "execution_count": 98,
     "metadata": {},
     "output_type": "execute_result"
    },
    {
     "data": {
      "image/png": "[encoded data removed]",
      "text/plain": [
       "<Figure size 432x288 with 1 Axes>"
      ]
     },
     "metadata": {
      "needs_background": "light"
     },
     "output_type": "display_data"
    }
   ],
   "source": [
    "outcomes = merged_dataframe.groupby(['outcome']).count().id\n",
    "outcomes\n",
    "#x = ['canceled', 'failed,', 'live', 'successful', 'suspended']\n",
    "#y = [97,524,5,358,9\n",
    "#plt.hist(outcomes)"
   ]
  },
  {
   "cell_type": "markdown",
   "metadata": {},
   "source": [
    "# TASK 4\n",
    "Split the dataset into test and training subsets. The ussual proportion is 30/70 %"
   ]
  },
  {
   "cell_type": "code",
   "execution_count": null,
   "metadata": {},
   "outputs": [],
   "source": []
  },
  {
   "cell_type": "markdown",
   "metadata": {},
   "source": [
    "# TASK 5\n",
    "Use the Logistic Regression (LR) algorithm to create a model and predict the outcome of the test subset"
   ]
  },
  {
   "cell_type": "code",
   "execution_count": null,
   "metadata": {},
   "outputs": [],
   "source": []
  }
 ],
 "metadata": {
  "kernelspec": {
   "display_name": "Python 3",
   "language": "python",
   "name": "python3"
  },
  "language_info": {
   "codemirror_mode": {
    "name": "ipython",
    "version": 3
   },
   "file_extension": ".py",
   "mimetype": "text/x-python",
   "name": "python",
   "nbconvert_exporter": "python",
   "pygments_lexer": "ipython3",
   "version": "3.7.5"
  }
 },
 "nbformat": 4,
 "nbformat_minor": 4
}
