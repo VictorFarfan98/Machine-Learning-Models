{
 "cells": [
  {
   "cell_type": "markdown",
   "metadata": {},
   "source": [
    "# Import all libraries used for graphics and predictions"
   ]
  },
  {
   "cell_type": "code",
   "execution_count": 2,
   "metadata": {},
   "outputs": [],
   "source": [
    "import pandas as pd\n",
    "\n",
    "import plotly\n",
    "import plotly.graph_objs as go\n",
    "import plotly.express as px\n",
    "#plotly.offline.init_notebook_mode(connected=True)\n",
    "import plotly.offline as offline\n",
    "from plotly.offline import init_notebook_mode, iplot\n",
    "import matplotlib.pyplot as plt\n",
    "%matplotlib inline\n",
    "\n",
    "import numpy as np\n",
    "import seaborn as sns\n",
    "\n",
    "from sklearn.preprocessing import StandardScaler\n",
    "from sklearn.discriminant_analysis import LinearDiscriminantAnalysis as LDA\n",
    "from sklearn import svm, datasets\n",
    "from sklearn.metrics import roc_curve, auc\n",
    "from sklearn.model_selection import train_test_split\n",
    "from sklearn.preprocessing import label_binarize\n",
    "from sklearn.multiclass import OneVsRestClassifier\n",
    "from scipy import interp\n",
    "from sklearn.metrics import roc_auc_score\n",
    "\n",
    "from sklearn import linear_model\n",
    "from sklearn.cluster import AgglomerativeClustering\n",
    "from sklearn.decomposition import PCA\n",
    "import scipy.cluster.hierarchy as sch"
   ]
  },
  {
   "cell_type": "markdown",
   "metadata": {},
   "source": [
    "## Read and explore the dataset"
   ]
  },
  {
   "cell_type": "markdown",
   "metadata": {},
   "source": [
    "Check dataset dimensions and data"
   ]
  },
  {
   "cell_type": "code",
   "execution_count": 37,
   "metadata": {},
   "outputs": [
    {
     "name": "stdout",
     "output_type": "stream",
     "text": [
      "(2318, 892)\n"
     ]
    },
    {
     "data": {
      "text/html": [
       "<div>\n",
       "<style scoped>\n",
       "    .dataframe tbody tr th:only-of-type {\n",
       "        vertical-align: middle;\n",
       "    }\n",
       "\n",
       "    .dataframe tbody tr th {\n",
       "        vertical-align: top;\n",
       "    }\n",
       "\n",
       "    .dataframe thead th {\n",
       "        text-align: right;\n",
       "    }\n",
       "</style>\n",
       "<table border=\"1\" class=\"dataframe\">\n",
       "  <thead>\n",
       "    <tr style=\"text-align: right;\">\n",
       "      <th></th>\n",
       "      <th>BPrev</th>\n",
       "      <th>BStreak</th>\n",
       "      <th>B_Age</th>\n",
       "      <th>B_Height</th>\n",
       "      <th>B_HomeTown</th>\n",
       "      <th>B_Location</th>\n",
       "      <th>B_Name</th>\n",
       "      <th>B_Weight</th>\n",
       "      <th>B__Round1_Grappling_Reversals_Landed</th>\n",
       "      <th>B__Round1_Grappling_Standups_Landed</th>\n",
       "      <th>...</th>\n",
       "      <th>R__Round5_TIP_Ground Time</th>\n",
       "      <th>R__Round5_TIP_Guard Control Time</th>\n",
       "      <th>R__Round5_TIP_Half Guard Control Time</th>\n",
       "      <th>R__Round5_TIP_Misc. Ground Control Time</th>\n",
       "      <th>R__Round5_TIP_Mount Control Time</th>\n",
       "      <th>R__Round5_TIP_Neutral Time</th>\n",
       "      <th>R__Round5_TIP_Side Control Time</th>\n",
       "      <th>R__Round5_TIP_Standing Time</th>\n",
       "      <th>winby</th>\n",
       "      <th>winner</th>\n",
       "    </tr>\n",
       "  </thead>\n",
       "  <tbody>\n",
       "    <tr>\n",
       "      <th>0</th>\n",
       "      <td>0</td>\n",
       "      <td>0</td>\n",
       "      <td>38.0</td>\n",
       "      <td>193.0</td>\n",
       "      <td>Hounslow England</td>\n",
       "      <td>Amsterdam The Netherlands</td>\n",
       "      <td>Alistair Overeem</td>\n",
       "      <td>120.0</td>\n",
       "      <td>NaN</td>\n",
       "      <td>NaN</td>\n",
       "      <td>...</td>\n",
       "      <td>NaN</td>\n",
       "      <td>NaN</td>\n",
       "      <td>NaN</td>\n",
       "      <td>NaN</td>\n",
       "      <td>NaN</td>\n",
       "      <td>NaN</td>\n",
       "      <td>NaN</td>\n",
       "      <td>NaN</td>\n",
       "      <td>DEC</td>\n",
       "      <td>blue</td>\n",
       "    </tr>\n",
       "    <tr>\n",
       "      <th>1</th>\n",
       "      <td>0</td>\n",
       "      <td>0</td>\n",
       "      <td>36.0</td>\n",
       "      <td>172.0</td>\n",
       "      <td>Chicago, Illinois United States</td>\n",
       "      <td>Chicago, Illinois United States</td>\n",
       "      <td>Ricardo Lamas</td>\n",
       "      <td>65.0</td>\n",
       "      <td>NaN</td>\n",
       "      <td>NaN</td>\n",
       "      <td>...</td>\n",
       "      <td>NaN</td>\n",
       "      <td>NaN</td>\n",
       "      <td>NaN</td>\n",
       "      <td>NaN</td>\n",
       "      <td>NaN</td>\n",
       "      <td>NaN</td>\n",
       "      <td>NaN</td>\n",
       "      <td>NaN</td>\n",
       "      <td>DEC</td>\n",
       "      <td>red</td>\n",
       "    </tr>\n",
       "    <tr>\n",
       "      <th>2</th>\n",
       "      <td>0</td>\n",
       "      <td>0</td>\n",
       "      <td>39.0</td>\n",
       "      <td>167.0</td>\n",
       "      <td>Isla Vista , California USA</td>\n",
       "      <td>Sacramento, California USA</td>\n",
       "      <td>Urijah Faber</td>\n",
       "      <td>61.0</td>\n",
       "      <td>NaN</td>\n",
       "      <td>NaN</td>\n",
       "      <td>...</td>\n",
       "      <td>NaN</td>\n",
       "      <td>NaN</td>\n",
       "      <td>NaN</td>\n",
       "      <td>NaN</td>\n",
       "      <td>NaN</td>\n",
       "      <td>NaN</td>\n",
       "      <td>NaN</td>\n",
       "      <td>NaN</td>\n",
       "      <td>KO/TKO</td>\n",
       "      <td>red</td>\n",
       "    </tr>\n",
       "    <tr>\n",
       "      <th>3</th>\n",
       "      <td>0</td>\n",
       "      <td>0</td>\n",
       "      <td>33.0</td>\n",
       "      <td>167.0</td>\n",
       "      <td>San Diego, CA USA</td>\n",
       "      <td>San Diego, CA USA</td>\n",
       "      <td>Danny Martinez</td>\n",
       "      <td>56.0</td>\n",
       "      <td>NaN</td>\n",
       "      <td>NaN</td>\n",
       "      <td>...</td>\n",
       "      <td>NaN</td>\n",
       "      <td>NaN</td>\n",
       "      <td>NaN</td>\n",
       "      <td>NaN</td>\n",
       "      <td>NaN</td>\n",
       "      <td>NaN</td>\n",
       "      <td>NaN</td>\n",
       "      <td>NaN</td>\n",
       "      <td>DEC</td>\n",
       "      <td>red</td>\n",
       "    </tr>\n",
       "    <tr>\n",
       "      <th>4</th>\n",
       "      <td>0</td>\n",
       "      <td>0</td>\n",
       "      <td>36.0</td>\n",
       "      <td>185.0</td>\n",
       "      <td>Southampton England</td>\n",
       "      <td>Southampton England</td>\n",
       "      <td>Tom Watson</td>\n",
       "      <td>84.0</td>\n",
       "      <td>NaN</td>\n",
       "      <td>NaN</td>\n",
       "      <td>...</td>\n",
       "      <td>NaN</td>\n",
       "      <td>NaN</td>\n",
       "      <td>NaN</td>\n",
       "      <td>NaN</td>\n",
       "      <td>NaN</td>\n",
       "      <td>NaN</td>\n",
       "      <td>NaN</td>\n",
       "      <td>NaN</td>\n",
       "      <td>DEC</td>\n",
       "      <td>red</td>\n",
       "    </tr>\n",
       "  </tbody>\n",
       "</table>\n",
       "<p>5 rows × 892 columns</p>\n",
       "</div>"
      ],
      "text/plain": [
       "   BPrev  BStreak  B_Age  B_Height                       B_HomeTown  \\\n",
       "0      0        0   38.0     193.0                 Hounslow England   \n",
       "1      0        0   36.0     172.0  Chicago, Illinois United States   \n",
       "2      0        0   39.0     167.0      Isla Vista , California USA   \n",
       "3      0        0   33.0     167.0                San Diego, CA USA   \n",
       "4      0        0   36.0     185.0              Southampton England   \n",
       "\n",
       "                        B_Location            B_Name  B_Weight  \\\n",
       "0        Amsterdam The Netherlands  Alistair Overeem     120.0   \n",
       "1  Chicago, Illinois United States     Ricardo Lamas      65.0   \n",
       "2       Sacramento, California USA      Urijah Faber      61.0   \n",
       "3                San Diego, CA USA    Danny Martinez      56.0   \n",
       "4              Southampton England        Tom Watson      84.0   \n",
       "\n",
       "   B__Round1_Grappling_Reversals_Landed  B__Round1_Grappling_Standups_Landed  \\\n",
       "0                                   NaN                                  NaN   \n",
       "1                                   NaN                                  NaN   \n",
       "2                                   NaN                                  NaN   \n",
       "3                                   NaN                                  NaN   \n",
       "4                                   NaN                                  NaN   \n",
       "\n",
       "   ...  R__Round5_TIP_Ground Time  R__Round5_TIP_Guard Control Time  \\\n",
       "0  ...                        NaN                               NaN   \n",
       "1  ...                        NaN                               NaN   \n",
       "2  ...                        NaN                               NaN   \n",
       "3  ...                        NaN                               NaN   \n",
       "4  ...                        NaN                               NaN   \n",
       "\n",
       "   R__Round5_TIP_Half Guard Control Time  \\\n",
       "0                                    NaN   \n",
       "1                                    NaN   \n",
       "2                                    NaN   \n",
       "3                                    NaN   \n",
       "4                                    NaN   \n",
       "\n",
       "   R__Round5_TIP_Misc. Ground Control Time  R__Round5_TIP_Mount Control Time  \\\n",
       "0                                      NaN                               NaN   \n",
       "1                                      NaN                               NaN   \n",
       "2                                      NaN                               NaN   \n",
       "3                                      NaN                               NaN   \n",
       "4                                      NaN                               NaN   \n",
       "\n",
       "   R__Round5_TIP_Neutral Time  R__Round5_TIP_Side Control Time  \\\n",
       "0                         NaN                              NaN   \n",
       "1                         NaN                              NaN   \n",
       "2                         NaN                              NaN   \n",
       "3                         NaN                              NaN   \n",
       "4                         NaN                              NaN   \n",
       "\n",
       "   R__Round5_TIP_Standing Time   winby  winner  \n",
       "0                          NaN     DEC    blue  \n",
       "1                          NaN     DEC     red  \n",
       "2                          NaN  KO/TKO     red  \n",
       "3                          NaN     DEC     red  \n",
       "4                          NaN     DEC     red  \n",
       "\n",
       "[5 rows x 892 columns]"
      ]
     },
     "execution_count": 37,
     "metadata": {},
     "output_type": "execute_result"
    }
   ],
   "source": [
    "# Read the dataframe\n",
    "df = pd.read_csv('ufcdata/data (1).csv')\n",
    "df = df.drop(['B_ID', 'R_ID'], axis=1)\n",
    "print(df.shape)\n",
    "\n",
    "df.head()"
   ]
  },
  {
   "cell_type": "markdown",
   "metadata": {},
   "source": [
    "Use describe function to summarize dataset features."
   ]
  },
  {
   "cell_type": "code",
   "execution_count": 4,
   "metadata": {},
   "outputs": [
    {
     "data": {
      "text/html": [
       "<div>\n",
       "<style scoped>\n",
       "    .dataframe tbody tr th:only-of-type {\n",
       "        vertical-align: middle;\n",
       "    }\n",
       "\n",
       "    .dataframe tbody tr th {\n",
       "        vertical-align: top;\n",
       "    }\n",
       "\n",
       "    .dataframe thead th {\n",
       "        text-align: right;\n",
       "    }\n",
       "</style>\n",
       "<table border=\"1\" class=\"dataframe\">\n",
       "  <thead>\n",
       "    <tr style=\"text-align: right;\">\n",
       "      <th></th>\n",
       "      <th>BPrev</th>\n",
       "      <th>BStreak</th>\n",
       "      <th>B_Age</th>\n",
       "      <th>B_Height</th>\n",
       "      <th>B_HomeTown</th>\n",
       "      <th>B_Location</th>\n",
       "      <th>B_Name</th>\n",
       "      <th>B_Weight</th>\n",
       "      <th>B__Round1_Grappling_Reversals_Landed</th>\n",
       "      <th>B__Round1_Grappling_Standups_Landed</th>\n",
       "      <th>...</th>\n",
       "      <th>R__Round5_TIP_Ground Time</th>\n",
       "      <th>R__Round5_TIP_Guard Control Time</th>\n",
       "      <th>R__Round5_TIP_Half Guard Control Time</th>\n",
       "      <th>R__Round5_TIP_Misc. Ground Control Time</th>\n",
       "      <th>R__Round5_TIP_Mount Control Time</th>\n",
       "      <th>R__Round5_TIP_Neutral Time</th>\n",
       "      <th>R__Round5_TIP_Side Control Time</th>\n",
       "      <th>R__Round5_TIP_Standing Time</th>\n",
       "      <th>winby</th>\n",
       "      <th>winner</th>\n",
       "    </tr>\n",
       "  </thead>\n",
       "  <tbody>\n",
       "    <tr>\n",
       "      <th>count</th>\n",
       "      <td>2318.000000</td>\n",
       "      <td>2318.000000</td>\n",
       "      <td>2301.000000</td>\n",
       "      <td>2301.000000</td>\n",
       "      <td>2301</td>\n",
       "      <td>2305</td>\n",
       "      <td>2318</td>\n",
       "      <td>2306.000000</td>\n",
       "      <td>1647.000000</td>\n",
       "      <td>1647.000000</td>\n",
       "      <td>...</td>\n",
       "      <td>270.000000</td>\n",
       "      <td>270.000000</td>\n",
       "      <td>270.000000</td>\n",
       "      <td>270.000000</td>\n",
       "      <td>270.000000</td>\n",
       "      <td>270.000000</td>\n",
       "      <td>270.000000</td>\n",
       "      <td>270.000000</td>\n",
       "      <td>2282</td>\n",
       "      <td>2318</td>\n",
       "    </tr>\n",
       "    <tr>\n",
       "      <th>unique</th>\n",
       "      <td>NaN</td>\n",
       "      <td>NaN</td>\n",
       "      <td>NaN</td>\n",
       "      <td>NaN</td>\n",
       "      <td>724</td>\n",
       "      <td>567</td>\n",
       "      <td>949</td>\n",
       "      <td>NaN</td>\n",
       "      <td>NaN</td>\n",
       "      <td>NaN</td>\n",
       "      <td>...</td>\n",
       "      <td>NaN</td>\n",
       "      <td>NaN</td>\n",
       "      <td>NaN</td>\n",
       "      <td>NaN</td>\n",
       "      <td>NaN</td>\n",
       "      <td>NaN</td>\n",
       "      <td>NaN</td>\n",
       "      <td>NaN</td>\n",
       "      <td>3</td>\n",
       "      <td>4</td>\n",
       "    </tr>\n",
       "    <tr>\n",
       "      <th>top</th>\n",
       "      <td>NaN</td>\n",
       "      <td>NaN</td>\n",
       "      <td>NaN</td>\n",
       "      <td>NaN</td>\n",
       "      <td>Rio de Janeiro Brazil</td>\n",
       "      <td>Rio de Janeiro Brazil</td>\n",
       "      <td>Kevin Lee</td>\n",
       "      <td>NaN</td>\n",
       "      <td>NaN</td>\n",
       "      <td>NaN</td>\n",
       "      <td>...</td>\n",
       "      <td>NaN</td>\n",
       "      <td>NaN</td>\n",
       "      <td>NaN</td>\n",
       "      <td>NaN</td>\n",
       "      <td>NaN</td>\n",
       "      <td>NaN</td>\n",
       "      <td>NaN</td>\n",
       "      <td>NaN</td>\n",
       "      <td>DEC</td>\n",
       "      <td>red</td>\n",
       "    </tr>\n",
       "    <tr>\n",
       "      <th>freq</th>\n",
       "      <td>NaN</td>\n",
       "      <td>NaN</td>\n",
       "      <td>NaN</td>\n",
       "      <td>NaN</td>\n",
       "      <td>46</td>\n",
       "      <td>58</td>\n",
       "      <td>11</td>\n",
       "      <td>NaN</td>\n",
       "      <td>NaN</td>\n",
       "      <td>NaN</td>\n",
       "      <td>...</td>\n",
       "      <td>NaN</td>\n",
       "      <td>NaN</td>\n",
       "      <td>NaN</td>\n",
       "      <td>NaN</td>\n",
       "      <td>NaN</td>\n",
       "      <td>NaN</td>\n",
       "      <td>NaN</td>\n",
       "      <td>NaN</td>\n",
       "      <td>1111</td>\n",
       "      <td>1327</td>\n",
       "    </tr>\n",
       "    <tr>\n",
       "      <th>mean</th>\n",
       "      <td>2.391286</td>\n",
       "      <td>0.744607</td>\n",
       "      <td>31.776184</td>\n",
       "      <td>177.327249</td>\n",
       "      <td>NaN</td>\n",
       "      <td>NaN</td>\n",
       "      <td>NaN</td>\n",
       "      <td>73.699480</td>\n",
       "      <td>0.074681</td>\n",
       "      <td>1.103825</td>\n",
       "      <td>...</td>\n",
       "      <td>64.903704</td>\n",
       "      <td>6.855556</td>\n",
       "      <td>3.977778</td>\n",
       "      <td>4.303704</td>\n",
       "      <td>12.011111</td>\n",
       "      <td>262.740741</td>\n",
       "      <td>4.381481</td>\n",
       "      <td>303.103704</td>\n",
       "      <td>NaN</td>\n",
       "      <td>NaN</td>\n",
       "    </tr>\n",
       "    <tr>\n",
       "      <th>std</th>\n",
       "      <td>2.539978</td>\n",
       "      <td>1.145596</td>\n",
       "      <td>4.165267</td>\n",
       "      <td>8.807620</td>\n",
       "      <td>NaN</td>\n",
       "      <td>NaN</td>\n",
       "      <td>NaN</td>\n",
       "      <td>15.425347</td>\n",
       "      <td>0.305691</td>\n",
       "      <td>1.537946</td>\n",
       "      <td>...</td>\n",
       "      <td>100.516057</td>\n",
       "      <td>25.786323</td>\n",
       "      <td>13.039241</td>\n",
       "      <td>12.810181</td>\n",
       "      <td>39.171198</td>\n",
       "      <td>199.940529</td>\n",
       "      <td>20.941919</td>\n",
       "      <td>224.848078</td>\n",
       "      <td>NaN</td>\n",
       "      <td>NaN</td>\n",
       "    </tr>\n",
       "    <tr>\n",
       "      <th>min</th>\n",
       "      <td>0.000000</td>\n",
       "      <td>0.000000</td>\n",
       "      <td>20.000000</td>\n",
       "      <td>152.000000</td>\n",
       "      <td>NaN</td>\n",
       "      <td>NaN</td>\n",
       "      <td>NaN</td>\n",
       "      <td>52.000000</td>\n",
       "      <td>0.000000</td>\n",
       "      <td>0.000000</td>\n",
       "      <td>...</td>\n",
       "      <td>0.000000</td>\n",
       "      <td>0.000000</td>\n",
       "      <td>0.000000</td>\n",
       "      <td>0.000000</td>\n",
       "      <td>0.000000</td>\n",
       "      <td>0.000000</td>\n",
       "      <td>0.000000</td>\n",
       "      <td>0.000000</td>\n",
       "      <td>NaN</td>\n",
       "      <td>NaN</td>\n",
       "    </tr>\n",
       "    <tr>\n",
       "      <th>25%</th>\n",
       "      <td>0.000000</td>\n",
       "      <td>0.000000</td>\n",
       "      <td>29.000000</td>\n",
       "      <td>172.000000</td>\n",
       "      <td>NaN</td>\n",
       "      <td>NaN</td>\n",
       "      <td>NaN</td>\n",
       "      <td>61.000000</td>\n",
       "      <td>0.000000</td>\n",
       "      <td>0.000000</td>\n",
       "      <td>...</td>\n",
       "      <td>0.000000</td>\n",
       "      <td>0.000000</td>\n",
       "      <td>0.000000</td>\n",
       "      <td>0.000000</td>\n",
       "      <td>0.000000</td>\n",
       "      <td>137.000000</td>\n",
       "      <td>0.000000</td>\n",
       "      <td>178.000000</td>\n",
       "      <td>NaN</td>\n",
       "      <td>NaN</td>\n",
       "    </tr>\n",
       "    <tr>\n",
       "      <th>50%</th>\n",
       "      <td>2.000000</td>\n",
       "      <td>0.000000</td>\n",
       "      <td>31.000000</td>\n",
       "      <td>177.000000</td>\n",
       "      <td>NaN</td>\n",
       "      <td>NaN</td>\n",
       "      <td>NaN</td>\n",
       "      <td>70.000000</td>\n",
       "      <td>0.000000</td>\n",
       "      <td>1.000000</td>\n",
       "      <td>...</td>\n",
       "      <td>10.000000</td>\n",
       "      <td>0.000000</td>\n",
       "      <td>0.000000</td>\n",
       "      <td>0.000000</td>\n",
       "      <td>0.000000</td>\n",
       "      <td>258.500000</td>\n",
       "      <td>0.000000</td>\n",
       "      <td>296.500000</td>\n",
       "      <td>NaN</td>\n",
       "      <td>NaN</td>\n",
       "    </tr>\n",
       "    <tr>\n",
       "      <th>75%</th>\n",
       "      <td>4.000000</td>\n",
       "      <td>1.000000</td>\n",
       "      <td>35.000000</td>\n",
       "      <td>182.000000</td>\n",
       "      <td>NaN</td>\n",
       "      <td>NaN</td>\n",
       "      <td>NaN</td>\n",
       "      <td>84.000000</td>\n",
       "      <td>0.000000</td>\n",
       "      <td>2.000000</td>\n",
       "      <td>...</td>\n",
       "      <td>98.000000</td>\n",
       "      <td>0.000000</td>\n",
       "      <td>0.000000</td>\n",
       "      <td>0.000000</td>\n",
       "      <td>2.000000</td>\n",
       "      <td>300.000000</td>\n",
       "      <td>0.000000</td>\n",
       "      <td>364.000000</td>\n",
       "      <td>NaN</td>\n",
       "      <td>NaN</td>\n",
       "    </tr>\n",
       "    <tr>\n",
       "      <th>max</th>\n",
       "      <td>14.000000</td>\n",
       "      <td>10.000000</td>\n",
       "      <td>48.000000</td>\n",
       "      <td>213.000000</td>\n",
       "      <td>NaN</td>\n",
       "      <td>NaN</td>\n",
       "      <td>NaN</td>\n",
       "      <td>120.000000</td>\n",
       "      <td>3.000000</td>\n",
       "      <td>13.000000</td>\n",
       "      <td>...</td>\n",
       "      <td>666.000000</td>\n",
       "      <td>144.000000</td>\n",
       "      <td>91.000000</td>\n",
       "      <td>62.000000</td>\n",
       "      <td>273.000000</td>\n",
       "      <td>1291.000000</td>\n",
       "      <td>200.000000</td>\n",
       "      <td>1473.000000</td>\n",
       "      <td>NaN</td>\n",
       "      <td>NaN</td>\n",
       "    </tr>\n",
       "  </tbody>\n",
       "</table>\n",
       "<p>11 rows × 892 columns</p>\n",
       "</div>"
      ],
      "text/plain": [
       "              BPrev      BStreak        B_Age     B_Height  \\\n",
       "count   2318.000000  2318.000000  2301.000000  2301.000000   \n",
       "unique          NaN          NaN          NaN          NaN   \n",
       "top             NaN          NaN          NaN          NaN   \n",
       "freq            NaN          NaN          NaN          NaN   \n",
       "mean       2.391286     0.744607    31.776184   177.327249   \n",
       "std        2.539978     1.145596     4.165267     8.807620   \n",
       "min        0.000000     0.000000    20.000000   152.000000   \n",
       "25%        0.000000     0.000000    29.000000   172.000000   \n",
       "50%        2.000000     0.000000    31.000000   177.000000   \n",
       "75%        4.000000     1.000000    35.000000   182.000000   \n",
       "max       14.000000    10.000000    48.000000   213.000000   \n",
       "\n",
       "                   B_HomeTown             B_Location     B_Name     B_Weight  \\\n",
       "count                    2301                   2305       2318  2306.000000   \n",
       "unique                    724                    567        949          NaN   \n",
       "top     Rio de Janeiro Brazil  Rio de Janeiro Brazil  Kevin Lee          NaN   \n",
       "freq                       46                     58         11          NaN   \n",
       "mean                      NaN                    NaN        NaN    73.699480   \n",
       "std                       NaN                    NaN        NaN    15.425347   \n",
       "min                       NaN                    NaN        NaN    52.000000   \n",
       "25%                       NaN                    NaN        NaN    61.000000   \n",
       "50%                       NaN                    NaN        NaN    70.000000   \n",
       "75%                       NaN                    NaN        NaN    84.000000   \n",
       "max                       NaN                    NaN        NaN   120.000000   \n",
       "\n",
       "        B__Round1_Grappling_Reversals_Landed  \\\n",
       "count                            1647.000000   \n",
       "unique                                   NaN   \n",
       "top                                      NaN   \n",
       "freq                                     NaN   \n",
       "mean                                0.074681   \n",
       "std                                 0.305691   \n",
       "min                                 0.000000   \n",
       "25%                                 0.000000   \n",
       "50%                                 0.000000   \n",
       "75%                                 0.000000   \n",
       "max                                 3.000000   \n",
       "\n",
       "        B__Round1_Grappling_Standups_Landed  ...  R__Round5_TIP_Ground Time  \\\n",
       "count                           1647.000000  ...                 270.000000   \n",
       "unique                                  NaN  ...                        NaN   \n",
       "top                                     NaN  ...                        NaN   \n",
       "freq                                    NaN  ...                        NaN   \n",
       "mean                               1.103825  ...                  64.903704   \n",
       "std                                1.537946  ...                 100.516057   \n",
       "min                                0.000000  ...                   0.000000   \n",
       "25%                                0.000000  ...                   0.000000   \n",
       "50%                                1.000000  ...                  10.000000   \n",
       "75%                                2.000000  ...                  98.000000   \n",
       "max                               13.000000  ...                 666.000000   \n",
       "\n",
       "        R__Round5_TIP_Guard Control Time  \\\n",
       "count                         270.000000   \n",
       "unique                               NaN   \n",
       "top                                  NaN   \n",
       "freq                                 NaN   \n",
       "mean                            6.855556   \n",
       "std                            25.786323   \n",
       "min                             0.000000   \n",
       "25%                             0.000000   \n",
       "50%                             0.000000   \n",
       "75%                             0.000000   \n",
       "max                           144.000000   \n",
       "\n",
       "        R__Round5_TIP_Half Guard Control Time  \\\n",
       "count                              270.000000   \n",
       "unique                                    NaN   \n",
       "top                                       NaN   \n",
       "freq                                      NaN   \n",
       "mean                                 3.977778   \n",
       "std                                 13.039241   \n",
       "min                                  0.000000   \n",
       "25%                                  0.000000   \n",
       "50%                                  0.000000   \n",
       "75%                                  0.000000   \n",
       "max                                 91.000000   \n",
       "\n",
       "        R__Round5_TIP_Misc. Ground Control Time  \\\n",
       "count                                270.000000   \n",
       "unique                                      NaN   \n",
       "top                                         NaN   \n",
       "freq                                        NaN   \n",
       "mean                                   4.303704   \n",
       "std                                   12.810181   \n",
       "min                                    0.000000   \n",
       "25%                                    0.000000   \n",
       "50%                                    0.000000   \n",
       "75%                                    0.000000   \n",
       "max                                   62.000000   \n",
       "\n",
       "        R__Round5_TIP_Mount Control Time  R__Round5_TIP_Neutral Time  \\\n",
       "count                         270.000000                  270.000000   \n",
       "unique                               NaN                         NaN   \n",
       "top                                  NaN                         NaN   \n",
       "freq                                 NaN                         NaN   \n",
       "mean                           12.011111                  262.740741   \n",
       "std                            39.171198                  199.940529   \n",
       "min                             0.000000                    0.000000   \n",
       "25%                             0.000000                  137.000000   \n",
       "50%                             0.000000                  258.500000   \n",
       "75%                             2.000000                  300.000000   \n",
       "max                           273.000000                 1291.000000   \n",
       "\n",
       "        R__Round5_TIP_Side Control Time  R__Round5_TIP_Standing Time  winby  \\\n",
       "count                        270.000000                   270.000000   2282   \n",
       "unique                              NaN                          NaN      3   \n",
       "top                                 NaN                          NaN    DEC   \n",
       "freq                                NaN                          NaN   1111   \n",
       "mean                           4.381481                   303.103704    NaN   \n",
       "std                           20.941919                   224.848078    NaN   \n",
       "min                            0.000000                     0.000000    NaN   \n",
       "25%                            0.000000                   178.000000    NaN   \n",
       "50%                            0.000000                   296.500000    NaN   \n",
       "75%                            0.000000                   364.000000    NaN   \n",
       "max                          200.000000                  1473.000000    NaN   \n",
       "\n",
       "        winner  \n",
       "count     2318  \n",
       "unique       4  \n",
       "top        red  \n",
       "freq      1327  \n",
       "mean       NaN  \n",
       "std        NaN  \n",
       "min        NaN  \n",
       "25%        NaN  \n",
       "50%        NaN  \n",
       "75%        NaN  \n",
       "max        NaN  \n",
       "\n",
       "[11 rows x 892 columns]"
      ]
     },
     "execution_count": 4,
     "metadata": {},
     "output_type": "execute_result"
    }
   ],
   "source": [
    "df.describe(include=\"all\")"
   ]
  },
  {
   "cell_type": "markdown",
   "metadata": {},
   "source": [
    "Check the number of fighters that have fought on each corner"
   ]
  },
  {
   "cell_type": "code",
   "execution_count": 5,
   "metadata": {},
   "outputs": [
    {
     "name": "stdout",
     "output_type": "stream",
     "text": [
      "Number of Blue fighters:  842\n",
      "Number of Red fighters:  949\n"
     ]
    }
   ],
   "source": [
    "print(\"Number of Blue fighters: \", len(df.R_Name.unique()))\n",
    "print(\"Number of Red fighters: \", len(df.B_Name.unique()))"
   ]
  },
  {
   "cell_type": "markdown",
   "metadata": {},
   "source": [
    "## Manage missing and incorrect values"
   ]
  },
  {
   "cell_type": "code",
   "execution_count": 38,
   "metadata": {},
   "outputs": [
    {
     "data": {
      "text/plain": [
       "BPrev                                 0\n",
       "BStreak                               0\n",
       "B_Age                                17\n",
       "B_Height                             17\n",
       "B_HomeTown                           17\n",
       "                                   ... \n",
       "R__Round5_TIP_Neutral Time         2048\n",
       "R__Round5_TIP_Side Control Time    2048\n",
       "R__Round5_TIP_Standing Time        2048\n",
       "winby                                36\n",
       "winner                                0\n",
       "Length: 892, dtype: int64"
      ]
     },
     "execution_count": 38,
     "metadata": {},
     "output_type": "execute_result"
    }
   ],
   "source": [
    "df.isna().sum()"
   ]
  },
  {
   "cell_type": "markdown",
   "metadata": {},
   "source": [
    "Fix the incorrect weight values to match it with the weight classes"
   ]
  },
  {
   "cell_type": "code",
   "execution_count": 6,
   "metadata": {},
   "outputs": [
    {
     "name": "stderr",
     "output_type": "stream",
     "text": [
      "e:\\githubs\\machine-learning-models-\\venv_mlm\\lib\\site-packages\\ipykernel_launcher.py:2: SettingWithCopyWarning:\n",
      "\n",
      "\n",
      "A value is trying to be set on a copy of a slice from a DataFrame\n",
      "\n",
      "See the caveats in the documentation: https://pandas.pydata.org/pandas-docs/stable/user_guide/indexing.html#returning-a-view-versus-a-copy\n",
      "\n",
      "e:\\githubs\\machine-learning-models-\\venv_mlm\\lib\\site-packages\\ipykernel_launcher.py:3: SettingWithCopyWarning:\n",
      "\n",
      "\n",
      "A value is trying to be set on a copy of a slice from a DataFrame\n",
      "\n",
      "See the caveats in the documentation: https://pandas.pydata.org/pandas-docs/stable/user_guide/indexing.html#returning-a-view-versus-a-copy\n",
      "\n"
     ]
    }
   ],
   "source": [
    "# Fix abnormal weights\n",
    "df['B_Weight'][df['B_Weight'] == 76] = 77\n",
    "df['R_Weight'][df['R_Weight'] == 76] = 77"
   ]
  },
  {
   "cell_type": "markdown",
   "metadata": {},
   "source": [
    "Fix incorrect 4 rounds matches"
   ]
  },
  {
   "cell_type": "code",
   "execution_count": 7,
   "metadata": {},
   "outputs": [],
   "source": [
    "df.loc[df['Max_round'] == 4, 'Max_round'] = 3"
   ]
  },
  {
   "cell_type": "code",
   "execution_count": 8,
   "metadata": {},
   "outputs": [
    {
     "data": {
      "text/plain": [
       "BPrev                                 0\n",
       "BStreak                               0\n",
       "B_Age                                17\n",
       "B_Height                             17\n",
       "B_HomeTown                           17\n",
       "                                   ... \n",
       "R__Round5_TIP_Neutral Time         2048\n",
       "R__Round5_TIP_Side Control Time    2048\n",
       "R__Round5_TIP_Standing Time        2048\n",
       "winby                                36\n",
       "winner                                0\n",
       "Length: 892, dtype: int64"
      ]
     },
     "execution_count": 8,
     "metadata": {},
     "output_type": "execute_result"
    }
   ],
   "source": [
    "# Check NA fields in original dataframe\n",
    "df.isna().sum()"
   ]
  },
  {
   "cell_type": "markdown",
   "metadata": {},
   "source": [
    "### Impute missing age and height for both fighters with the mean so it doesn't affect in a great way our statistics"
   ]
  },
  {
   "cell_type": "code",
   "execution_count": 9,
   "metadata": {},
   "outputs": [],
   "source": [
    "# Impute age\n",
    "df['B_Age'] = df['B_Age'].fillna(np.mean(df['B_Age']))\n",
    "df['R_Age'] = df['R_Age'].fillna(np.mean(df['R_Age']))\n",
    "\n",
    "\n",
    "# Impute height\n",
    "df['B_Height'] = df['B_Height'].fillna(np.mean(df['B_Height']))\n",
    "df['R_Height'] = df['R_Height'].fillna(np.mean(df['R_Height']))"
   ]
  },
  {
   "cell_type": "markdown",
   "metadata": {},
   "source": [
    "Used this cell to check value_counts and decide the most common value to use during imputation for Location, HomeTown and Weight"
   ]
  },
  {
   "cell_type": "code",
   "execution_count": 10,
   "metadata": {},
   "outputs": [
    {
     "data": {
      "text/plain": [
       "77.0     417\n",
       "70.0     407\n",
       "61.0     306\n",
       "84.0     259\n",
       "65.0     251\n",
       "56.0     209\n",
       "93.0     188\n",
       "52.0     117\n",
       "120.0     40\n",
       "109.0     24\n",
       "113.0     24\n",
       "111.0     12\n",
       "118.0     11\n",
       "119.0     10\n",
       "112.0      8\n",
       "106.0      7\n",
       "115.0      6\n",
       "104.0      3\n",
       "108.0      2\n",
       "114.0      2\n",
       "110.0      1\n",
       "99.0       1\n",
       "102.0      1\n",
       "Name: B_Weight, dtype: int64"
      ]
     },
     "execution_count": 10,
     "metadata": {},
     "output_type": "execute_result"
    }
   ],
   "source": [
    "# Check which is the most common value to impute it\n",
    "df['B_Weight'].value_counts()"
   ]
  },
  {
   "cell_type": "markdown",
   "metadata": {},
   "source": [
    "### Impute missing Location, HomeTown, and Weight with the most common values from the list"
   ]
  },
  {
   "cell_type": "code",
   "execution_count": 11,
   "metadata": {},
   "outputs": [],
   "source": [
    "# Impute weight\n",
    "df['B_Weight'] = df['B_Weight'].fillna(77)\n",
    "df['R_Weight'] = df['R_Weight'].fillna(77)\n",
    "\n",
    "# Impute Location\n",
    "df['B_Location'] = df['B_Location'].fillna('Rio de Janeiro Brazil')\n",
    "df['R_Location'] = df['R_Location'].fillna('Rio de Janeiro Brazil')\n",
    "\n",
    "# Impute HomeTown\n",
    "df['B_HomeTown'] = df['B_HomeTown'].fillna('Rio de Janeiro Brazil')\n",
    "df['R_HomeTown'] = df['R_HomeTown'].fillna('Rio de Janeiro Brazil')"
   ]
  },
  {
   "cell_type": "markdown",
   "metadata": {},
   "source": [
    "### Impute missing winby column with \"NC\", as they represent an outcome that was canceled by the organization"
   ]
  },
  {
   "cell_type": "code",
   "execution_count": 12,
   "metadata": {},
   "outputs": [],
   "source": [
    "# Impute winby\n",
    "df['winby'] = df['winby'].fillna('NC')"
   ]
  },
  {
   "cell_type": "markdown",
   "metadata": {},
   "source": [
    "Check which columns are still with NA rows"
   ]
  },
  {
   "cell_type": "code",
   "execution_count": 13,
   "metadata": {},
   "outputs": [
    {
     "data": {
      "text/plain": [
       "Index(['B__Round1_Grappling_Reversals_Landed',\n",
       "       'B__Round1_Grappling_Standups_Landed',\n",
       "       'B__Round1_Grappling_Submissions_Attempts',\n",
       "       'B__Round1_Grappling_Takedowns_Attempts',\n",
       "       'B__Round1_Grappling_Takedowns_Landed',\n",
       "       'B__Round1_Strikes_Body Significant Strikes_Attempts',\n",
       "       'B__Round1_Strikes_Body Significant Strikes_Landed',\n",
       "       'B__Round1_Strikes_Body Total Strikes_Attempts',\n",
       "       'B__Round1_Strikes_Body Total Strikes_Landed',\n",
       "       'B__Round1_Strikes_Clinch Body Strikes_Attempts',\n",
       "       ...\n",
       "       'R__Round5_TIP_Distance Time', 'R__Round5_TIP_Ground Control Time',\n",
       "       'R__Round5_TIP_Ground Time', 'R__Round5_TIP_Guard Control Time',\n",
       "       'R__Round5_TIP_Half Guard Control Time',\n",
       "       'R__Round5_TIP_Misc. Ground Control Time',\n",
       "       'R__Round5_TIP_Mount Control Time', 'R__Round5_TIP_Neutral Time',\n",
       "       'R__Round5_TIP_Side Control Time', 'R__Round5_TIP_Standing Time'],\n",
       "      dtype='object', length=870)"
      ]
     },
     "execution_count": 13,
     "metadata": {},
     "output_type": "execute_result"
    }
   ],
   "source": [
    "df.columns[df.isnull().any()]"
   ]
  },
  {
   "cell_type": "markdown",
   "metadata": {},
   "source": [
    "### All of these columns correspond to numeric values and most are probably NA because the fighter didn't attempted or landed any so let's impute them by giving them a 0 value"
   ]
  },
  {
   "cell_type": "code",
   "execution_count": 14,
   "metadata": {},
   "outputs": [],
   "source": [
    "df = df.fillna(0)"
   ]
  },
  {
   "cell_type": "code",
   "execution_count": 15,
   "metadata": {},
   "outputs": [
    {
     "data": {
      "text/plain": [
       "Index([], dtype='object')"
      ]
     },
     "execution_count": 15,
     "metadata": {},
     "output_type": "execute_result"
    }
   ],
   "source": [
    "df.columns[df.isnull().any()]"
   ]
  },
  {
   "cell_type": "markdown",
   "metadata": {},
   "source": [
    "## Let's create the weight classes category array and convert any outlier to the last bigger category"
   ]
  },
  {
   "cell_type": "markdown",
   "metadata": {},
   "source": [
    "This will be useful when analyzing wight categories"
   ]
  },
  {
   "cell_type": "code",
   "execution_count": 19,
   "metadata": {},
   "outputs": [
    {
     "name": "stdout",
     "output_type": "stream",
     "text": [
      "[52, 56, 61, 65, 70, 77, 84, 93]\n",
      "8\n",
      "8\n"
     ]
    },
    {
     "data": {
      "text/plain": [
       "array(['DEC', 'KO/TKO', 'SUB', 'NC'], dtype=object)"
      ]
     },
     "execution_count": 19,
     "metadata": {},
     "output_type": "execute_result"
    }
   ],
   "source": [
    "# Set above normal weight classes to the max weight class\n",
    "df['_B_Weight_Class'] = df['B_Weight'].apply(lambda x: int(x) if x <= 93 else 93)\n",
    "df['_R_Weight_Class'] = df['R_Weight'].apply(lambda x: int(x) if x <= 93 else 93)\n",
    "\n",
    "weight_classes = sorted(pd.concat([df['_B_Weight_Class'], df['_R_Weight_Class']]).unique())\n",
    "weight_classes_names = ['Flyweight', 'Bantamweight', 'Featherweight', 'Lightweight', 'Welterweight', 'Middleweight', 'Light Heavyweight', 'Heavyweight']\n",
    "print(weight_classes)\n",
    "print(len(weight_classes))\n",
    "print(len(weight_classes_names))\n",
    "\n",
    "df['winby'].unique()"
   ]
  },
  {
   "cell_type": "markdown",
   "metadata": {},
   "source": [
    "There are no more NAs and no more pending transformations, so we are ready to proceed "
   ]
  },
  {
   "cell_type": "markdown",
   "metadata": {},
   "source": [
    "# Visualizing the data"
   ]
  },
  {
   "cell_type": "markdown",
   "metadata": {},
   "source": [
    "## Which are the fighters with the most fights?"
   ]
  },
  {
   "cell_type": "markdown",
   "metadata": {},
   "source": [
    "### Let's check the fighters with most fights on the Red Corner (Contender)"
   ]
  },
  {
   "cell_type": "code",
   "execution_count": 39,
   "metadata": {},
   "outputs": [
    {
     "data": {
      "image/png": "[encoded data removed]",
      "text/plain": [
       "<Figure size 1080x360 with 1 Axes>"
      ]
     },
     "metadata": {
      "needs_background": "light"
     },
     "output_type": "display_data"
    }
   ],
   "source": [
    "temp = df['R_Name'].value_counts()\n",
    "temp = temp.head(10)\n",
    "\n",
    "plt.figure(figsize=(15,5))\n",
    "plt.title(\"Fight count in red corner\")\n",
    "plt.bar(temp.index, temp.values)\n",
    "plt.xticks(rotation=45)\n",
    "plt.show()"
   ]
  },
  {
   "cell_type": "markdown",
   "metadata": {},
   "source": [
    "### Now let's check the Blue Corner"
   ]
  },
  {
   "cell_type": "code",
   "execution_count": 20,
   "metadata": {},
   "outputs": [
    {
     "data": {
      "image/png": "[encoded data removed]",
      "text/plain": [
       "<Figure size 1080x360 with 1 Axes>"
      ]
     },
     "metadata": {
      "needs_background": "light"
     },
     "output_type": "display_data"
    }
   ],
   "source": [
    "temp = df['B_Name'].value_counts()\n",
    "temp = temp.head(10)\n",
    "\n",
    "plt.figure(figsize=(15,5))\n",
    "plt.title(\"Fight count in blue corner\")\n",
    "plt.bar(temp.index, temp.values)\n",
    "plt.xticks(rotation=45)\n",
    "plt.show()"
   ]
  },
  {
   "cell_type": "markdown",
   "metadata": {},
   "source": [
    "## When does fighters are at their prime?"
   ]
  },
  {
   "cell_type": "markdown",
   "metadata": {},
   "source": [
    "###  Check Age distributions"
   ]
  },
  {
   "cell_type": "code",
   "execution_count": 17,
   "metadata": {},
   "outputs": [
    {
     "data": {
      "text/plain": [
       "Text(0.5, 1.0, 'Red corner fighters Age')"
      ]
     },
     "execution_count": 17,
     "metadata": {},
     "output_type": "execute_result"
    },
    {
     "data": {
      "image/png": "[encoded data removed]",
      "text/plain": [
       "<Figure size 1080x360 with 2 Axes>"
      ]
     },
     "metadata": {
      "needs_background": "light"
     },
     "output_type": "display_data"
    }
   ],
   "source": [
    "fig, ax = plt.subplots(1,2, figsize=(15, 5))\n",
    "sns.distplot(df.B_Age, ax=ax[0]).set_title('Blue corner fighters Age')\n",
    "sns.distplot(df.R_Age, ax=ax[1]).set_title('Red corner fighters Age')"
   ]
  },
  {
   "cell_type": "markdown",
   "metadata": {},
   "source": [
    "### Check the Age of winning fighters"
   ]
  },
  {
   "cell_type": "markdown",
   "metadata": {},
   "source": [
    "Let's separate the dataset by winner from the blue corner and winner from the red corner"
   ]
  },
  {
   "cell_type": "code",
   "execution_count": 18,
   "metadata": {},
   "outputs": [
    {
     "name": "stdout",
     "output_type": "stream",
     "text": [
      "[ True False False ... False False False]\n"
     ]
    }
   ],
   "source": [
    "#df[['R_Age', 'B_Age']].groupby(['winner']).count()\n",
    "blues = df['winner'] == 'blue'\n",
    "print(blues.values)"
   ]
  },
  {
   "cell_type": "markdown",
   "metadata": {},
   "source": [
    "### For the Red corner"
   ]
  },
  {
   "cell_type": "code",
   "execution_count": 23,
   "metadata": {},
   "outputs": [
    {
     "data": {
      "text/plain": [
       "<seaborn.axisgrid.FacetGrid at 0x1e6c72fd448>"
      ]
     },
     "execution_count": 23,
     "metadata": {},
     "output_type": "execute_result"
    },
    {
     "data": {
      "image/png": "[encoded data removed]",
      "text/plain": [
       "<Figure size 864x216 with 4 Axes>"
      ]
     },
     "metadata": {
      "needs_background": "light"
     },
     "output_type": "display_data"
    }
   ],
   "source": [
    "g = sns.FacetGrid(df, col='winby')\n",
    "g.map(plt.hist, 'R_Age', bins=20)"
   ]
  },
  {
   "cell_type": "markdown",
   "metadata": {},
   "source": [
    "### For the Blue corner"
   ]
  },
  {
   "cell_type": "code",
   "execution_count": 24,
   "metadata": {},
   "outputs": [
    {
     "data": {
      "text/plain": [
       "<seaborn.axisgrid.FacetGrid at 0x1e6c703a488>"
      ]
     },
     "execution_count": 24,
     "metadata": {},
     "output_type": "execute_result"
    },
    {
     "data": {
      "image/png": "[encoded data removed]",
      "text/plain": [
       "<Figure size 864x216 with 4 Axes>"
      ]
     },
     "metadata": {
      "needs_background": "light"
     },
     "output_type": "display_data"
    }
   ],
   "source": [
    "g = sns.FacetGrid(df, col='winby')\n",
    "g.map(plt.hist, 'B_Age', bins=20)"
   ]
  },
  {
   "cell_type": "markdown",
   "metadata": {},
   "source": [
    "## Let's check how does fighter win depending on weight classes"
   ]
  },
  {
   "cell_type": "markdown",
   "metadata": {},
   "source": [
    "###  Check Weight distributions"
   ]
  },
  {
   "cell_type": "code",
   "execution_count": 16,
   "metadata": {},
   "outputs": [
    {
     "data": {
      "text/plain": [
       "Text(0.5, 1.0, 'Red corner fighters Weight')"
      ]
     },
     "execution_count": 16,
     "metadata": {},
     "output_type": "execute_result"
    },
    {
     "data": {
      "image/png": "[encoded data removed]",
      "text/plain": [
       "<Figure size 1080x360 with 2 Axes>"
      ]
     },
     "metadata": {
      "needs_background": "light"
     },
     "output_type": "display_data"
    }
   ],
   "source": [
    "fig, ax = plt.subplots(1,2, figsize=(15, 5))\n",
    "sns.distplot(df.B_Weight, ax=ax[0]).set_title('Blue corner fighters Weight')\n",
    "sns.distplot(df.R_Weight, ax=ax[1]).set_title('Red corner fighters Weight')"
   ]
  },
  {
   "cell_type": "markdown",
   "metadata": {},
   "source": [
    "## Visualize the match finish type by weight category"
   ]
  },
  {
   "cell_type": "code",
   "execution_count": 23,
   "metadata": {},
   "outputs": [
    {
     "name": "stderr",
     "output_type": "stream",
     "text": [
      "e:\\githubs\\machine-learning-models-\\venv_mlm\\lib\\site-packages\\ipykernel_launcher.py:7: UserWarning:\n",
      "\n",
      "Boolean Series key will be reindexed to match DataFrame index.\n",
      "\n"
     ]
    },
    {
     "data": {
      "application/vnd.plotly.v1+json": {
       "config": {
        "plotlyServerURL": "https://plot.ly"
       },
       "data": [
        {
         "name": "DEC",
         "type": "bar",
         "x": [
          "Flyweight",
          "Bantamweight",
          "Featherweight",
          "Lightweight",
          "Welterweight",
          "Middleweight",
          "Light Heavyweight",
          "Heavyweight"
         ],
         "y": [
          87,
          154,
          193,
          166,
          223,
          253,
          133,
          81
         ]
        },
        {
         "name": "KO/TKO",
         "type": "bar",
         "x": [
          "Flyweight",
          "Bantamweight",
          "Featherweight",
          "Lightweight",
          "Welterweight",
          "Middleweight",
          "Light Heavyweight",
          "Heavyweight"
         ],
         "y": [
          12,
          36,
          91,
          93,
          143,
          172,
          141,
          112
         ]
        },
        {
         "name": "SUB",
         "type": "bar",
         "x": [
          "Flyweight",
          "Bantamweight",
          "Featherweight",
          "Lightweight",
          "Welterweight",
          "Middleweight",
          "Light Heavyweight",
          "Heavyweight"
         ],
         "y": [
          29,
          61,
          73,
          55,
          94,
          100,
          47,
          35
         ]
        },
        {
         "name": "NC",
         "type": "bar",
         "x": [
          "Flyweight",
          "Bantamweight",
          "Featherweight",
          "Lightweight",
          "Welterweight",
          "Middleweight",
          "Light Heavyweight",
          "Heavyweight"
         ],
         "y": [
          2,
          2,
          9,
          2,
          10,
          7,
          6,
          0
         ]
        }
       ],
       "layout": {
        "autosize": true,
        "barmode": "stack",
        "template": {
         "data": {
          "bar": [
           {
            "error_x": {
             "color": "#2a3f5f"
            },
            "error_y": {
             "color": "#2a3f5f"
            },
            "marker": {
             "line": {
              "color": "#E5ECF6",
              "width": 0.5
             }
            },
            "type": "bar"
           }
          ],
          "barpolar": [
           {
            "marker": {
             "line": {
              "color": "#E5ECF6",
              "width": 0.5
             }
            },
            "type": "barpolar"
           }
          ],
          "carpet": [
           {
            "aaxis": {
             "endlinecolor": "#2a3f5f",
             "gridcolor": "white",
             "linecolor": "white",
             "minorgridcolor": "white",
             "startlinecolor": "#2a3f5f"
            },
            "baxis": {
             "endlinecolor": "#2a3f5f",
             "gridcolor": "white",
             "linecolor": "white",
             "minorgridcolor": "white",
             "startlinecolor": "#2a3f5f"
            },
            "type": "carpet"
           }
          ],
          "choropleth": [
           {
            "colorbar": {
             "outlinewidth": 0,
             "ticks": ""
            },
            "type": "choropleth"
           }
          ],
          "contour": [
           {
            "colorbar": {
             "outlinewidth": 0,
             "ticks": ""
            },
            "colorscale": [
             [
              0,
              "#0d0887"
             ],
             [
              0.1111111111111111,
              "#46039f"
             ],
             [
              0.2222222222222222,
              "#7201a8"
             ],
             [
              0.3333333333333333,
              "#9c179e"
             ],
             [
              0.4444444444444444,
              "#bd3786"
             ],
             [
              0.5555555555555556,
              "#d8576b"
             ],
             [
              0.6666666666666666,
              "#ed7953"
             ],
             [
              0.7777777777777778,
              "#fb9f3a"
             ],
             [
              0.8888888888888888,
              "#fdca26"
             ],
             [
              1,
              "#f0f921"
             ]
            ],
            "type": "contour"
           }
          ],
          "contourcarpet": [
           {
            "colorbar": {
             "outlinewidth": 0,
             "ticks": ""
            },
            "type": "contourcarpet"
           }
          ],
          "heatmap": [
           {
            "colorbar": {
             "outlinewidth": 0,
             "ticks": ""
            },
            "colorscale": [
             [
              0,
              "#0d0887"
             ],
             [
              0.1111111111111111,
              "#46039f"
             ],
             [
              0.2222222222222222,
              "#7201a8"
             ],
             [
              0.3333333333333333,
              "#9c179e"
             ],
             [
              0.4444444444444444,
              "#bd3786"
             ],
             [
              0.5555555555555556,
              "#d8576b"
             ],
             [
              0.6666666666666666,
              "#ed7953"
             ],
             [
              0.7777777777777778,
              "#fb9f3a"
             ],
             [
              0.8888888888888888,
              "#fdca26"
             ],
             [
              1,
              "#f0f921"
             ]
            ],
            "type": "heatmap"
           }
          ],
          "heatmapgl": [
           {
            "colorbar": {
             "outlinewidth": 0,
             "ticks": ""
            },
            "colorscale": [
             [
              0,
              "#0d0887"
             ],
             [
              0.1111111111111111,
              "#46039f"
             ],
             [
              0.2222222222222222,
              "#7201a8"
             ],
             [
              0.3333333333333333,
              "#9c179e"
             ],
             [
              0.4444444444444444,
              "#bd3786"
             ],
             [
              0.5555555555555556,
              "#d8576b"
             ],
             [
              0.6666666666666666,
              "#ed7953"
             ],
             [
              0.7777777777777778,
              "#fb9f3a"
             ],
             [
              0.8888888888888888,
              "#fdca26"
             ],
             [
              1,
              "#f0f921"
             ]
            ],
            "type": "heatmapgl"
           }
          ],
          "histogram": [
           {
            "marker": {
             "colorbar": {
              "outlinewidth": 0,
              "ticks": ""
             }
            },
            "type": "histogram"
           }
          ],
          "histogram2d": [
           {
            "colorbar": {
             "outlinewidth": 0,
             "ticks": ""
            },
            "colorscale": [
             [
              0,
              "#0d0887"
             ],
             [
              0.1111111111111111,
              "#46039f"
             ],
             [
              0.2222222222222222,
              "#7201a8"
             ],
             [
              0.3333333333333333,
              "#9c179e"
             ],
             [
              0.4444444444444444,
              "#bd3786"
             ],
             [
              0.5555555555555556,
              "#d8576b"
             ],
             [
              0.6666666666666666,
              "#ed7953"
             ],
             [
              0.7777777777777778,
              "#fb9f3a"
             ],
             [
              0.8888888888888888,
              "#fdca26"
             ],
             [
              1,
              "#f0f921"
             ]
            ],
            "type": "histogram2d"
           }
          ],
          "histogram2dcontour": [
           {
            "colorbar": {
             "outlinewidth": 0,
             "ticks": ""
            },
            "colorscale": [
             [
              0,
              "#0d0887"
             ],
             [
              0.1111111111111111,
              "#46039f"
             ],
             [
              0.2222222222222222,
              "#7201a8"
             ],
             [
              0.3333333333333333,
              "#9c179e"
             ],
             [
              0.4444444444444444,
              "#bd3786"
             ],
             [
              0.5555555555555556,
              "#d8576b"
             ],
             [
              0.6666666666666666,
              "#ed7953"
             ],
             [
              0.7777777777777778,
              "#fb9f3a"
             ],
             [
              0.8888888888888888,
              "#fdca26"
             ],
             [
              1,
              "#f0f921"
             ]
            ],
            "type": "histogram2dcontour"
           }
          ],
          "mesh3d": [
           {
            "colorbar": {
             "outlinewidth": 0,
             "ticks": ""
            },
            "type": "mesh3d"
           }
          ],
          "parcoords": [
           {
            "line": {
             "colorbar": {
              "outlinewidth": 0,
              "ticks": ""
             }
            },
            "type": "parcoords"
           }
          ],
          "pie": [
           {
            "automargin": true,
            "type": "pie"
           }
          ],
          "scatter": [
           {
            "marker": {
             "colorbar": {
              "outlinewidth": 0,
              "ticks": ""
             }
            },
            "type": "scatter"
           }
          ],
          "scatter3d": [
           {
            "line": {
             "colorbar": {
              "outlinewidth": 0,
              "ticks": ""
             }
            },
            "marker": {
             "colorbar": {
              "outlinewidth": 0,
              "ticks": ""
             }
            },
            "type": "scatter3d"
           }
          ],
          "scattercarpet": [
           {
            "marker": {
             "colorbar": {
              "outlinewidth": 0,
              "ticks": ""
             }
            },
            "type": "scattercarpet"
           }
          ],
          "scattergeo": [
           {
            "marker": {
             "colorbar": {
              "outlinewidth": 0,
              "ticks": ""
             }
            },
            "type": "scattergeo"
           }
          ],
          "scattergl": [
           {
            "marker": {
             "colorbar": {
              "outlinewidth": 0,
              "ticks": ""
             }
            },
            "type": "scattergl"
           }
          ],
          "scattermapbox": [
           {
            "marker": {
             "colorbar": {
              "outlinewidth": 0,
              "ticks": ""
             }
            },
            "type": "scattermapbox"
           }
          ],
          "scatterpolar": [
           {
            "marker": {
             "colorbar": {
              "outlinewidth": 0,
              "ticks": ""
             }
            },
            "type": "scatterpolar"
           }
          ],
          "scatterpolargl": [
           {
            "marker": {
             "colorbar": {
              "outlinewidth": 0,
              "ticks": ""
             }
            },
            "type": "scatterpolargl"
           }
          ],
          "scatterternary": [
           {
            "marker": {
             "colorbar": {
              "outlinewidth": 0,
              "ticks": ""
             }
            },
            "type": "scatterternary"
           }
          ],
          "surface": [
           {
            "colorbar": {
             "outlinewidth": 0,
             "ticks": ""
            },
            "colorscale": [
             [
              0,
              "#0d0887"
             ],
             [
              0.1111111111111111,
              "#46039f"
             ],
             [
              0.2222222222222222,
              "#7201a8"
             ],
             [
              0.3333333333333333,
              "#9c179e"
             ],
             [
              0.4444444444444444,
              "#bd3786"
             ],
             [
              0.5555555555555556,
              "#d8576b"
             ],
             [
              0.6666666666666666,
              "#ed7953"
             ],
             [
              0.7777777777777778,
              "#fb9f3a"
             ],
             [
              0.8888888888888888,
              "#fdca26"
             ],
             [
              1,
              "#f0f921"
             ]
            ],
            "type": "surface"
           }
          ],
          "table": [
           {
            "cells": {
             "fill": {
              "color": "#EBF0F8"
             },
             "line": {
              "color": "white"
             }
            },
            "header": {
             "fill": {
              "color": "#C8D4E3"
             },
             "line": {
              "color": "white"
             }
            },
            "type": "table"
           }
          ]
         },
         "layout": {
          "annotationdefaults": {
           "arrowcolor": "#2a3f5f",
           "arrowhead": 0,
           "arrowwidth": 1
          },
          "coloraxis": {
           "colorbar": {
            "outlinewidth": 0,
            "ticks": ""
           }
          },
          "colorscale": {
           "diverging": [
            [
             0,
             "#8e0152"
            ],
            [
             0.1,
             "#c51b7d"
            ],
            [
             0.2,
             "#de77ae"
            ],
            [
             0.3,
             "#f1b6da"
            ],
            [
             0.4,
             "#fde0ef"
            ],
            [
             0.5,
             "#f7f7f7"
            ],
            [
             0.6,
             "#e6f5d0"
            ],
            [
             0.7,
             "#b8e186"
            ],
            [
             0.8,
             "#7fbc41"
            ],
            [
             0.9,
             "#4d9221"
            ],
            [
             1,
             "#276419"
            ]
           ],
           "sequential": [
            [
             0,
             "#0d0887"
            ],
            [
             0.1111111111111111,
             "#46039f"
            ],
            [
             0.2222222222222222,
             "#7201a8"
            ],
            [
             0.3333333333333333,
             "#9c179e"
            ],
            [
             0.4444444444444444,
             "#bd3786"
            ],
            [
             0.5555555555555556,
             "#d8576b"
            ],
            [
             0.6666666666666666,
             "#ed7953"
            ],
            [
             0.7777777777777778,
             "#fb9f3a"
            ],
            [
             0.8888888888888888,
             "#fdca26"
            ],
            [
             1,
             "#f0f921"
            ]
           ],
           "sequentialminus": [
            [
             0,
             "#0d0887"
            ],
            [
             0.1111111111111111,
             "#46039f"
            ],
            [
             0.2222222222222222,
             "#7201a8"
            ],
            [
             0.3333333333333333,
             "#9c179e"
            ],
            [
             0.4444444444444444,
             "#bd3786"
            ],
            [
             0.5555555555555556,
             "#d8576b"
            ],
            [
             0.6666666666666666,
             "#ed7953"
            ],
            [
             0.7777777777777778,
             "#fb9f3a"
            ],
            [
             0.8888888888888888,
             "#fdca26"
            ],
            [
             1,
             "#f0f921"
            ]
           ]
          },
          "colorway": [
           "#636efa",
           "#EF553B",
           "#00cc96",
           "#ab63fa",
           "#FFA15A",
           "#19d3f3",
           "#FF6692",
           "#B6E880",
           "#FF97FF",
           "#FECB52"
          ],
          "font": {
           "color": "#2a3f5f"
          },
          "geo": {
           "bgcolor": "white",
           "lakecolor": "white",
           "landcolor": "#E5ECF6",
           "showlakes": true,
           "showland": true,
           "subunitcolor": "white"
          },
          "hoverlabel": {
           "align": "left"
          },
          "hovermode": "closest",
          "mapbox": {
           "style": "light"
          },
          "paper_bgcolor": "white",
          "plot_bgcolor": "#E5ECF6",
          "polar": {
           "angularaxis": {
            "gridcolor": "white",
            "linecolor": "white",
            "ticks": ""
           },
           "bgcolor": "#E5ECF6",
           "radialaxis": {
            "gridcolor": "white",
            "linecolor": "white",
            "ticks": ""
           }
          },
          "scene": {
           "xaxis": {
            "backgroundcolor": "#E5ECF6",
            "gridcolor": "white",
            "gridwidth": 2,
            "linecolor": "white",
            "showbackground": true,
            "ticks": "",
            "zerolinecolor": "white"
           },
           "yaxis": {
            "backgroundcolor": "#E5ECF6",
            "gridcolor": "white",
            "gridwidth": 2,
            "linecolor": "white",
            "showbackground": true,
            "ticks": "",
            "zerolinecolor": "white"
           },
           "zaxis": {
            "backgroundcolor": "#E5ECF6",
            "gridcolor": "white",
            "gridwidth": 2,
            "linecolor": "white",
            "showbackground": true,
            "ticks": "",
            "zerolinecolor": "white"
           }
          },
          "shapedefaults": {
           "line": {
            "color": "#2a3f5f"
           }
          },
          "ternary": {
           "aaxis": {
            "gridcolor": "white",
            "linecolor": "white",
            "ticks": ""
           },
           "baxis": {
            "gridcolor": "white",
            "linecolor": "white",
            "ticks": ""
           },
           "bgcolor": "#E5ECF6",
           "caxis": {
            "gridcolor": "white",
            "linecolor": "white",
            "ticks": ""
           }
          },
          "title": {
           "x": 0.05
          },
          "xaxis": {
           "automargin": true,
           "gridcolor": "white",
           "linecolor": "white",
           "ticks": "",
           "title": {
            "standoff": 15
           },
           "zerolinecolor": "white",
           "zerolinewidth": 2
          },
          "yaxis": {
           "automargin": true,
           "gridcolor": "white",
           "linecolor": "white",
           "ticks": "",
           "title": {
            "standoff": 15
           },
           "zerolinecolor": "white",
           "zerolinewidth": 2
          }
         }
        },
        "title": {
         "text": "Type of win by weight class"
        },
        "xaxis": {
         "autorange": true,
         "range": [
          -0.5,
          7.5
         ],
         "type": "category"
        },
        "yaxis": {
         "autorange": true,
         "range": [
          0,
          560
         ],
         "type": "linear"
        }
       }
      },
      "image/png": "[encoded data removed]",
      "text/html": [
       "<div>\n",
       "        \n",
       "        \n",
       "            <div id=\"838cd816-e01b-40d8-978b-ae823c5e91fd\" class=\"plotly-graph-div\" style=\"height:525px; width:100%;\"></div>\n",
       "            <script type=\"text/javascript\">\n",
       "                require([\"plotly\"], function(Plotly) {\n",
       "                    window.PLOTLYENV=window.PLOTLYENV || {};\n",
       "                    \n",
       "                if (document.getElementById(\"838cd816-e01b-40d8-978b-ae823c5e91fd\")) {\n",
       "                    Plotly.newPlot(\n",
       "                        '838cd816-e01b-40d8-978b-ae823c5e91fd',\n",
       "                        [{\"name\": \"DEC\", \"type\": \"bar\", \"x\": [\"Flyweight\", \"Bantamweight\", \"Featherweight\", \"Lightweight\", \"Welterweight\", \"Middleweight\", \"Light Heavyweight\", \"Heavyweight\"], \"y\": [87, 154, 193, 166, 223, 253, 133, 81]}, {\"name\": \"KO/TKO\", \"type\": \"bar\", \"x\": [\"Flyweight\", \"Bantamweight\", \"Featherweight\", \"Lightweight\", \"Welterweight\", \"Middleweight\", \"Light Heavyweight\", \"Heavyweight\"], \"y\": [12, 36, 91, 93, 143, 172, 141, 112]}, {\"name\": \"SUB\", \"type\": \"bar\", \"x\": [\"Flyweight\", \"Bantamweight\", \"Featherweight\", \"Lightweight\", \"Welterweight\", \"Middleweight\", \"Light Heavyweight\", \"Heavyweight\"], \"y\": [29, 61, 73, 55, 94, 100, 47, 35]}, {\"name\": \"NC\", \"type\": \"bar\", \"x\": [\"Flyweight\", \"Bantamweight\", \"Featherweight\", \"Lightweight\", \"Welterweight\", \"Middleweight\", \"Light Heavyweight\", \"Heavyweight\"], \"y\": [2, 2, 9, 2, 10, 7, 6, 0]}],\n",
       "                        {\"barmode\": \"stack\", \"template\": {\"data\": {\"bar\": [{\"error_x\": {\"color\": \"#2a3f5f\"}, \"error_y\": {\"color\": \"#2a3f5f\"}, \"marker\": {\"line\": {\"color\": \"#E5ECF6\", \"width\": 0.5}}, \"type\": \"bar\"}], \"barpolar\": [{\"marker\": {\"line\": {\"color\": \"#E5ECF6\", \"width\": 0.5}}, \"type\": \"barpolar\"}], \"carpet\": [{\"aaxis\": {\"endlinecolor\": \"#2a3f5f\", \"gridcolor\": \"white\", \"linecolor\": \"white\", \"minorgridcolor\": \"white\", \"startlinecolor\": \"#2a3f5f\"}, \"baxis\": {\"endlinecolor\": \"#2a3f5f\", \"gridcolor\": \"white\", \"linecolor\": \"white\", \"minorgridcolor\": \"white\", \"startlinecolor\": \"#2a3f5f\"}, \"type\": \"carpet\"}], \"choropleth\": [{\"colorbar\": {\"outlinewidth\": 0, \"ticks\": \"\"}, \"type\": \"choropleth\"}], \"contour\": [{\"colorbar\": {\"outlinewidth\": 0, \"ticks\": \"\"}, \"colorscale\": [[0.0, \"#0d0887\"], [0.1111111111111111, \"#46039f\"], [0.2222222222222222, \"#7201a8\"], [0.3333333333333333, \"#9c179e\"], [0.4444444444444444, \"#bd3786\"], [0.5555555555555556, \"#d8576b\"], [0.6666666666666666, \"#ed7953\"], [0.7777777777777778, \"#fb9f3a\"], [0.8888888888888888, \"#fdca26\"], [1.0, \"#f0f921\"]], \"type\": \"contour\"}], \"contourcarpet\": [{\"colorbar\": {\"outlinewidth\": 0, \"ticks\": \"\"}, \"type\": \"contourcarpet\"}], \"heatmap\": [{\"colorbar\": {\"outlinewidth\": 0, \"ticks\": \"\"}, \"colorscale\": [[0.0, \"#0d0887\"], [0.1111111111111111, \"#46039f\"], [0.2222222222222222, \"#7201a8\"], [0.3333333333333333, \"#9c179e\"], [0.4444444444444444, \"#bd3786\"], [0.5555555555555556, \"#d8576b\"], [0.6666666666666666, \"#ed7953\"], [0.7777777777777778, \"#fb9f3a\"], [0.8888888888888888, \"#fdca26\"], [1.0, \"#f0f921\"]], \"type\": \"heatmap\"}], \"heatmapgl\": [{\"colorbar\": {\"outlinewidth\": 0, \"ticks\": \"\"}, \"colorscale\": [[0.0, \"#0d0887\"], [0.1111111111111111, \"#46039f\"], [0.2222222222222222, \"#7201a8\"], [0.3333333333333333, \"#9c179e\"], [0.4444444444444444, \"#bd3786\"], [0.5555555555555556, \"#d8576b\"], [0.6666666666666666, \"#ed7953\"], [0.7777777777777778, \"#fb9f3a\"], [0.8888888888888888, \"#fdca26\"], [1.0, \"#f0f921\"]], \"type\": \"heatmapgl\"}], \"histogram\": [{\"marker\": {\"colorbar\": {\"outlinewidth\": 0, \"ticks\": \"\"}}, \"type\": \"histogram\"}], \"histogram2d\": [{\"colorbar\": {\"outlinewidth\": 0, \"ticks\": \"\"}, \"colorscale\": [[0.0, \"#0d0887\"], [0.1111111111111111, \"#46039f\"], [0.2222222222222222, \"#7201a8\"], [0.3333333333333333, \"#9c179e\"], [0.4444444444444444, \"#bd3786\"], [0.5555555555555556, \"#d8576b\"], [0.6666666666666666, \"#ed7953\"], [0.7777777777777778, \"#fb9f3a\"], [0.8888888888888888, \"#fdca26\"], [1.0, \"#f0f921\"]], \"type\": \"histogram2d\"}], \"histogram2dcontour\": [{\"colorbar\": {\"outlinewidth\": 0, \"ticks\": \"\"}, \"colorscale\": [[0.0, \"#0d0887\"], [0.1111111111111111, \"#46039f\"], [0.2222222222222222, \"#7201a8\"], [0.3333333333333333, \"#9c179e\"], [0.4444444444444444, \"#bd3786\"], [0.5555555555555556, \"#d8576b\"], [0.6666666666666666, \"#ed7953\"], [0.7777777777777778, \"#fb9f3a\"], [0.8888888888888888, \"#fdca26\"], [1.0, \"#f0f921\"]], \"type\": \"histogram2dcontour\"}], \"mesh3d\": [{\"colorbar\": {\"outlinewidth\": 0, \"ticks\": \"\"}, \"type\": \"mesh3d\"}], \"parcoords\": [{\"line\": {\"colorbar\": {\"outlinewidth\": 0, \"ticks\": \"\"}}, \"type\": \"parcoords\"}], \"pie\": [{\"automargin\": true, \"type\": \"pie\"}], \"scatter\": [{\"marker\": {\"colorbar\": {\"outlinewidth\": 0, \"ticks\": \"\"}}, \"type\": \"scatter\"}], \"scatter3d\": [{\"line\": {\"colorbar\": {\"outlinewidth\": 0, \"ticks\": \"\"}}, \"marker\": {\"colorbar\": {\"outlinewidth\": 0, \"ticks\": \"\"}}, \"type\": \"scatter3d\"}], \"scattercarpet\": [{\"marker\": {\"colorbar\": {\"outlinewidth\": 0, \"ticks\": \"\"}}, \"type\": \"scattercarpet\"}], \"scattergeo\": [{\"marker\": {\"colorbar\": {\"outlinewidth\": 0, \"ticks\": \"\"}}, \"type\": \"scattergeo\"}], \"scattergl\": [{\"marker\": {\"colorbar\": {\"outlinewidth\": 0, \"ticks\": \"\"}}, \"type\": \"scattergl\"}], \"scattermapbox\": [{\"marker\": {\"colorbar\": {\"outlinewidth\": 0, \"ticks\": \"\"}}, \"type\": \"scattermapbox\"}], \"scatterpolar\": [{\"marker\": {\"colorbar\": {\"outlinewidth\": 0, \"ticks\": \"\"}}, \"type\": \"scatterpolar\"}], \"scatterpolargl\": [{\"marker\": {\"colorbar\": {\"outlinewidth\": 0, \"ticks\": \"\"}}, \"type\": \"scatterpolargl\"}], \"scatterternary\": [{\"marker\": {\"colorbar\": {\"outlinewidth\": 0, \"ticks\": \"\"}}, \"type\": \"scatterternary\"}], \"surface\": [{\"colorbar\": {\"outlinewidth\": 0, \"ticks\": \"\"}, \"colorscale\": [[0.0, \"#0d0887\"], [0.1111111111111111, \"#46039f\"], [0.2222222222222222, \"#7201a8\"], [0.3333333333333333, \"#9c179e\"], [0.4444444444444444, \"#bd3786\"], [0.5555555555555556, \"#d8576b\"], [0.6666666666666666, \"#ed7953\"], [0.7777777777777778, \"#fb9f3a\"], [0.8888888888888888, \"#fdca26\"], [1.0, \"#f0f921\"]], \"type\": \"surface\"}], \"table\": [{\"cells\": {\"fill\": {\"color\": \"#EBF0F8\"}, \"line\": {\"color\": \"white\"}}, \"header\": {\"fill\": {\"color\": \"#C8D4E3\"}, \"line\": {\"color\": \"white\"}}, \"type\": \"table\"}]}, \"layout\": {\"annotationdefaults\": {\"arrowcolor\": \"#2a3f5f\", \"arrowhead\": 0, \"arrowwidth\": 1}, \"coloraxis\": {\"colorbar\": {\"outlinewidth\": 0, \"ticks\": \"\"}}, \"colorscale\": {\"diverging\": [[0, \"#8e0152\"], [0.1, \"#c51b7d\"], [0.2, \"#de77ae\"], [0.3, \"#f1b6da\"], [0.4, \"#fde0ef\"], [0.5, \"#f7f7f7\"], [0.6, \"#e6f5d0\"], [0.7, \"#b8e186\"], [0.8, \"#7fbc41\"], [0.9, \"#4d9221\"], [1, \"#276419\"]], \"sequential\": [[0.0, \"#0d0887\"], [0.1111111111111111, \"#46039f\"], [0.2222222222222222, \"#7201a8\"], [0.3333333333333333, \"#9c179e\"], [0.4444444444444444, \"#bd3786\"], [0.5555555555555556, \"#d8576b\"], [0.6666666666666666, \"#ed7953\"], [0.7777777777777778, \"#fb9f3a\"], [0.8888888888888888, \"#fdca26\"], [1.0, \"#f0f921\"]], \"sequentialminus\": [[0.0, \"#0d0887\"], [0.1111111111111111, \"#46039f\"], [0.2222222222222222, \"#7201a8\"], [0.3333333333333333, \"#9c179e\"], [0.4444444444444444, \"#bd3786\"], [0.5555555555555556, \"#d8576b\"], [0.6666666666666666, \"#ed7953\"], [0.7777777777777778, \"#fb9f3a\"], [0.8888888888888888, \"#fdca26\"], [1.0, \"#f0f921\"]]}, \"colorway\": [\"#636efa\", \"#EF553B\", \"#00cc96\", \"#ab63fa\", \"#FFA15A\", \"#19d3f3\", \"#FF6692\", \"#B6E880\", \"#FF97FF\", \"#FECB52\"], \"font\": {\"color\": \"#2a3f5f\"}, \"geo\": {\"bgcolor\": \"white\", \"lakecolor\": \"white\", \"landcolor\": \"#E5ECF6\", \"showlakes\": true, \"showland\": true, \"subunitcolor\": \"white\"}, \"hoverlabel\": {\"align\": \"left\"}, \"hovermode\": \"closest\", \"mapbox\": {\"style\": \"light\"}, \"paper_bgcolor\": \"white\", \"plot_bgcolor\": \"#E5ECF6\", \"polar\": {\"angularaxis\": {\"gridcolor\": \"white\", \"linecolor\": \"white\", \"ticks\": \"\"}, \"bgcolor\": \"#E5ECF6\", \"radialaxis\": {\"gridcolor\": \"white\", \"linecolor\": \"white\", \"ticks\": \"\"}}, \"scene\": {\"xaxis\": {\"backgroundcolor\": \"#E5ECF6\", \"gridcolor\": \"white\", \"gridwidth\": 2, \"linecolor\": \"white\", \"showbackground\": true, \"ticks\": \"\", \"zerolinecolor\": \"white\"}, \"yaxis\": {\"backgroundcolor\": \"#E5ECF6\", \"gridcolor\": \"white\", \"gridwidth\": 2, \"linecolor\": \"white\", \"showbackground\": true, \"ticks\": \"\", \"zerolinecolor\": \"white\"}, \"zaxis\": {\"backgroundcolor\": \"#E5ECF6\", \"gridcolor\": \"white\", \"gridwidth\": 2, \"linecolor\": \"white\", \"showbackground\": true, \"ticks\": \"\", \"zerolinecolor\": \"white\"}}, \"shapedefaults\": {\"line\": {\"color\": \"#2a3f5f\"}}, \"ternary\": {\"aaxis\": {\"gridcolor\": \"white\", \"linecolor\": \"white\", \"ticks\": \"\"}, \"baxis\": {\"gridcolor\": \"white\", \"linecolor\": \"white\", \"ticks\": \"\"}, \"bgcolor\": \"#E5ECF6\", \"caxis\": {\"gridcolor\": \"white\", \"linecolor\": \"white\", \"ticks\": \"\"}}, \"title\": {\"x\": 0.05}, \"xaxis\": {\"automargin\": true, \"gridcolor\": \"white\", \"linecolor\": \"white\", \"ticks\": \"\", \"title\": {\"standoff\": 15}, \"zerolinecolor\": \"white\", \"zerolinewidth\": 2}, \"yaxis\": {\"automargin\": true, \"gridcolor\": \"white\", \"linecolor\": \"white\", \"ticks\": \"\", \"title\": {\"standoff\": 15}, \"zerolinecolor\": \"white\", \"zerolinewidth\": 2}}}, \"title\": {\"text\": \"Type of win by weight class\"}},\n",
       "                        {\"responsive\": true}\n",
       "                    ).then(function(){\n",
       "                            \n",
       "var gd = document.getElementById('838cd816-e01b-40d8-978b-ae823c5e91fd');\n",
       "var x = new MutationObserver(function (mutations, observer) {{\n",
       "        var display = window.getComputedStyle(gd).display;\n",
       "        if (!display || display === 'none') {{\n",
       "            console.log([gd, 'removed!']);\n",
       "            Plotly.purge(gd);\n",
       "            observer.disconnect();\n",
       "        }}\n",
       "}});\n",
       "\n",
       "// Listen for the removal of the full notebook cells\n",
       "var notebookContainer = gd.closest('#notebook-container');\n",
       "if (notebookContainer) {{\n",
       "    x.observe(notebookContainer, {childList: true});\n",
       "}}\n",
       "\n",
       "// Listen for the clearing of the current output cell\n",
       "var outputEl = gd.closest('.output');\n",
       "if (outputEl) {{\n",
       "    x.observe(outputEl, {childList: true});\n",
       "}}\n",
       "\n",
       "                        })\n",
       "                };\n",
       "                });\n",
       "            </script>\n",
       "        </div>"
      ]
     },
     "metadata": {},
     "output_type": "display_data"
    }
   ],
   "source": [
    "# Make the graphic\n",
    "bar_charts = []\n",
    "for winby in ['DEC', 'KO/TKO', 'SUB', 'NC']:\n",
    "    fights_by_class = []\n",
    "    for cl in weight_classes:\n",
    "        #recent_df = df[df['_Date_year'] == df['_Date_year'].max()] # use only last year of data for reliable weight classes\n",
    "        fights_for_class = len(df[df['winby'] == winby][(df['B_Weight'] == cl) | (df['R_Weight'] == cl)])\n",
    "        fights_by_class.append(fights_for_class)\n",
    "    bar = go.Bar(name=winby, x=[ cl for cl in weight_classes_names ], y=fights_by_class)\n",
    "    bar_charts.append(bar)\n",
    "    \n",
    "layout = go.Layout(\n",
    "    xaxis={'title': 'Weight Classes'},\n",
    "    yaxis={'title': \"Number fights by 'winby'\"}\n",
    ")\n",
    "fig = go.Figure(data=bar_charts)\n",
    "fig.update_layout(barmode='stack', title='Type of win by weight class')\n",
    "fig.show()"
   ]
  },
  {
   "cell_type": "markdown",
   "metadata": {},
   "source": [
    "# Which is the most popular way of finalization?"
   ]
  },
  {
   "cell_type": "code",
   "execution_count": 21,
   "metadata": {},
   "outputs": [
    {
     "data": {
      "application/vnd.plotly.v1+json": {
       "config": {
        "linkText": "Export to plot.ly",
        "plotlyServerURL": "https://plot.ly",
        "showLink": false
       },
       "data": [
        {
         "domain": {
          "x": [
           0,
           1
          ]
         },
         "hole": 0.4,
         "labels": [
          "DEC",
          "KO/TKO",
          "SUB",
          "NC"
         ],
         "type": "pie",
         "values": [
          1111,
          744,
          427,
          36
         ]
        }
       ],
       "layout": {
        "annotations": [
         {
          "font": {
           "size": 20
          },
          "showarrow": false,
          "text": "Win by",
          "x": 0.5,
          "y": 0.5
         }
        ],
        "autosize": true,
        "template": {
         "data": {
          "bar": [
           {
            "error_x": {
             "color": "#2a3f5f"
            },
            "error_y": {
             "color": "#2a3f5f"
            },
            "marker": {
             "line": {
              "color": "#E5ECF6",
              "width": 0.5
             }
            },
            "type": "bar"
           }
          ],
          "barpolar": [
           {
            "marker": {
             "line": {
              "color": "#E5ECF6",
              "width": 0.5
             }
            },
            "type": "barpolar"
           }
          ],
          "carpet": [
           {
            "aaxis": {
             "endlinecolor": "#2a3f5f",
             "gridcolor": "white",
             "linecolor": "white",
             "minorgridcolor": "white",
             "startlinecolor": "#2a3f5f"
            },
            "baxis": {
             "endlinecolor": "#2a3f5f",
             "gridcolor": "white",
             "linecolor": "white",
             "minorgridcolor": "white",
             "startlinecolor": "#2a3f5f"
            },
            "type": "carpet"
           }
          ],
          "choropleth": [
           {
            "colorbar": {
             "outlinewidth": 0,
             "ticks": ""
            },
            "type": "choropleth"
           }
          ],
          "contour": [
           {
            "colorbar": {
             "outlinewidth": 0,
             "ticks": ""
            },
            "colorscale": [
             [
              0,
              "#0d0887"
             ],
             [
              0.1111111111111111,
              "#46039f"
             ],
             [
              0.2222222222222222,
              "#7201a8"
             ],
             [
              0.3333333333333333,
              "#9c179e"
             ],
             [
              0.4444444444444444,
              "#bd3786"
             ],
             [
              0.5555555555555556,
              "#d8576b"
             ],
             [
              0.6666666666666666,
              "#ed7953"
             ],
             [
              0.7777777777777778,
              "#fb9f3a"
             ],
             [
              0.8888888888888888,
              "#fdca26"
             ],
             [
              1,
              "#f0f921"
             ]
            ],
            "type": "contour"
           }
          ],
          "contourcarpet": [
           {
            "colorbar": {
             "outlinewidth": 0,
             "ticks": ""
            },
            "type": "contourcarpet"
           }
          ],
          "heatmap": [
           {
            "colorbar": {
             "outlinewidth": 0,
             "ticks": ""
            },
            "colorscale": [
             [
              0,
              "#0d0887"
             ],
             [
              0.1111111111111111,
              "#46039f"
             ],
             [
              0.2222222222222222,
              "#7201a8"
             ],
             [
              0.3333333333333333,
              "#9c179e"
             ],
             [
              0.4444444444444444,
              "#bd3786"
             ],
             [
              0.5555555555555556,
              "#d8576b"
             ],
             [
              0.6666666666666666,
              "#ed7953"
             ],
             [
              0.7777777777777778,
              "#fb9f3a"
             ],
             [
              0.8888888888888888,
              "#fdca26"
             ],
             [
              1,
              "#f0f921"
             ]
            ],
            "type": "heatmap"
           }
          ],
          "heatmapgl": [
           {
            "colorbar": {
             "outlinewidth": 0,
             "ticks": ""
            },
            "colorscale": [
             [
              0,
              "#0d0887"
             ],
             [
              0.1111111111111111,
              "#46039f"
             ],
             [
              0.2222222222222222,
              "#7201a8"
             ],
             [
              0.3333333333333333,
              "#9c179e"
             ],
             [
              0.4444444444444444,
              "#bd3786"
             ],
             [
              0.5555555555555556,
              "#d8576b"
             ],
             [
              0.6666666666666666,
              "#ed7953"
             ],
             [
              0.7777777777777778,
              "#fb9f3a"
             ],
             [
              0.8888888888888888,
              "#fdca26"
             ],
             [
              1,
              "#f0f921"
             ]
            ],
            "type": "heatmapgl"
           }
          ],
          "histogram": [
           {
            "marker": {
             "colorbar": {
              "outlinewidth": 0,
              "ticks": ""
             }
            },
            "type": "histogram"
           }
          ],
          "histogram2d": [
           {
            "colorbar": {
             "outlinewidth": 0,
             "ticks": ""
            },
            "colorscale": [
             [
              0,
              "#0d0887"
             ],
             [
              0.1111111111111111,
              "#46039f"
             ],
             [
              0.2222222222222222,
              "#7201a8"
             ],
             [
              0.3333333333333333,
              "#9c179e"
             ],
             [
              0.4444444444444444,
              "#bd3786"
             ],
             [
              0.5555555555555556,
              "#d8576b"
             ],
             [
              0.6666666666666666,
              "#ed7953"
             ],
             [
              0.7777777777777778,
              "#fb9f3a"
             ],
             [
              0.8888888888888888,
              "#fdca26"
             ],
             [
              1,
              "#f0f921"
             ]
            ],
            "type": "histogram2d"
           }
          ],
          "histogram2dcontour": [
           {
            "colorbar": {
             "outlinewidth": 0,
             "ticks": ""
            },
            "colorscale": [
             [
              0,
              "#0d0887"
             ],
             [
              0.1111111111111111,
              "#46039f"
             ],
             [
              0.2222222222222222,
              "#7201a8"
             ],
             [
              0.3333333333333333,
              "#9c179e"
             ],
             [
              0.4444444444444444,
              "#bd3786"
             ],
             [
              0.5555555555555556,
              "#d8576b"
             ],
             [
              0.6666666666666666,
              "#ed7953"
             ],
             [
              0.7777777777777778,
              "#fb9f3a"
             ],
             [
              0.8888888888888888,
              "#fdca26"
             ],
             [
              1,
              "#f0f921"
             ]
            ],
            "type": "histogram2dcontour"
           }
          ],
          "mesh3d": [
           {
            "colorbar": {
             "outlinewidth": 0,
             "ticks": ""
            },
            "type": "mesh3d"
           }
          ],
          "parcoords": [
           {
            "line": {
             "colorbar": {
              "outlinewidth": 0,
              "ticks": ""
             }
            },
            "type": "parcoords"
           }
          ],
          "pie": [
           {
            "automargin": true,
            "type": "pie"
           }
          ],
          "scatter": [
           {
            "marker": {
             "colorbar": {
              "outlinewidth": 0,
              "ticks": ""
             }
            },
            "type": "scatter"
           }
          ],
          "scatter3d": [
           {
            "line": {
             "colorbar": {
              "outlinewidth": 0,
              "ticks": ""
             }
            },
            "marker": {
             "colorbar": {
              "outlinewidth": 0,
              "ticks": ""
             }
            },
            "type": "scatter3d"
           }
          ],
          "scattercarpet": [
           {
            "marker": {
             "colorbar": {
              "outlinewidth": 0,
              "ticks": ""
             }
            },
            "type": "scattercarpet"
           }
          ],
          "scattergeo": [
           {
            "marker": {
             "colorbar": {
              "outlinewidth": 0,
              "ticks": ""
             }
            },
            "type": "scattergeo"
           }
          ],
          "scattergl": [
           {
            "marker": {
             "colorbar": {
              "outlinewidth": 0,
              "ticks": ""
             }
            },
            "type": "scattergl"
           }
          ],
          "scattermapbox": [
           {
            "marker": {
             "colorbar": {
              "outlinewidth": 0,
              "ticks": ""
             }
            },
            "type": "scattermapbox"
           }
          ],
          "scatterpolar": [
           {
            "marker": {
             "colorbar": {
              "outlinewidth": 0,
              "ticks": ""
             }
            },
            "type": "scatterpolar"
           }
          ],
          "scatterpolargl": [
           {
            "marker": {
             "colorbar": {
              "outlinewidth": 0,
              "ticks": ""
             }
            },
            "type": "scatterpolargl"
           }
          ],
          "scatterternary": [
           {
            "marker": {
             "colorbar": {
              "outlinewidth": 0,
              "ticks": ""
             }
            },
            "type": "scatterternary"
           }
          ],
          "surface": [
           {
            "colorbar": {
             "outlinewidth": 0,
             "ticks": ""
            },
            "colorscale": [
             [
              0,
              "#0d0887"
             ],
             [
              0.1111111111111111,
              "#46039f"
             ],
             [
              0.2222222222222222,
              "#7201a8"
             ],
             [
              0.3333333333333333,
              "#9c179e"
             ],
             [
              0.4444444444444444,
              "#bd3786"
             ],
             [
              0.5555555555555556,
              "#d8576b"
             ],
             [
              0.6666666666666666,
              "#ed7953"
             ],
             [
              0.7777777777777778,
              "#fb9f3a"
             ],
             [
              0.8888888888888888,
              "#fdca26"
             ],
             [
              1,
              "#f0f921"
             ]
            ],
            "type": "surface"
           }
          ],
          "table": [
           {
            "cells": {
             "fill": {
              "color": "#EBF0F8"
             },
             "line": {
              "color": "white"
             }
            },
            "header": {
             "fill": {
              "color": "#C8D4E3"
             },
             "line": {
              "color": "white"
             }
            },
            "type": "table"
           }
          ]
         },
         "layout": {
          "annotationdefaults": {
           "arrowcolor": "#2a3f5f",
           "arrowhead": 0,
           "arrowwidth": 1
          },
          "coloraxis": {
           "colorbar": {
            "outlinewidth": 0,
            "ticks": ""
           }
          },
          "colorscale": {
           "diverging": [
            [
             0,
             "#8e0152"
            ],
            [
             0.1,
             "#c51b7d"
            ],
            [
             0.2,
             "#de77ae"
            ],
            [
             0.3,
             "#f1b6da"
            ],
            [
             0.4,
             "#fde0ef"
            ],
            [
             0.5,
             "#f7f7f7"
            ],
            [
             0.6,
             "#e6f5d0"
            ],
            [
             0.7,
             "#b8e186"
            ],
            [
             0.8,
             "#7fbc41"
            ],
            [
             0.9,
             "#4d9221"
            ],
            [
             1,
             "#276419"
            ]
           ],
           "sequential": [
            [
             0,
             "#0d0887"
            ],
            [
             0.1111111111111111,
             "#46039f"
            ],
            [
             0.2222222222222222,
             "#7201a8"
            ],
            [
             0.3333333333333333,
             "#9c179e"
            ],
            [
             0.4444444444444444,
             "#bd3786"
            ],
            [
             0.5555555555555556,
             "#d8576b"
            ],
            [
             0.6666666666666666,
             "#ed7953"
            ],
            [
             0.7777777777777778,
             "#fb9f3a"
            ],
            [
             0.8888888888888888,
             "#fdca26"
            ],
            [
             1,
             "#f0f921"
            ]
           ],
           "sequentialminus": [
            [
             0,
             "#0d0887"
            ],
            [
             0.1111111111111111,
             "#46039f"
            ],
            [
             0.2222222222222222,
             "#7201a8"
            ],
            [
             0.3333333333333333,
             "#9c179e"
            ],
            [
             0.4444444444444444,
             "#bd3786"
            ],
            [
             0.5555555555555556,
             "#d8576b"
            ],
            [
             0.6666666666666666,
             "#ed7953"
            ],
            [
             0.7777777777777778,
             "#fb9f3a"
            ],
            [
             0.8888888888888888,
             "#fdca26"
            ],
            [
             1,
             "#f0f921"
            ]
           ]
          },
          "colorway": [
           "#636efa",
           "#EF553B",
           "#00cc96",
           "#ab63fa",
           "#FFA15A",
           "#19d3f3",
           "#FF6692",
           "#B6E880",
           "#FF97FF",
           "#FECB52"
          ],
          "font": {
           "color": "#2a3f5f"
          },
          "geo": {
           "bgcolor": "white",
           "lakecolor": "white",
           "landcolor": "#E5ECF6",
           "showlakes": true,
           "showland": true,
           "subunitcolor": "white"
          },
          "hoverlabel": {
           "align": "left"
          },
          "hovermode": "closest",
          "mapbox": {
           "style": "light"
          },
          "paper_bgcolor": "white",
          "plot_bgcolor": "#E5ECF6",
          "polar": {
           "angularaxis": {
            "gridcolor": "white",
            "linecolor": "white",
            "ticks": ""
           },
           "bgcolor": "#E5ECF6",
           "radialaxis": {
            "gridcolor": "white",
            "linecolor": "white",
            "ticks": ""
           }
          },
          "scene": {
           "xaxis": {
            "backgroundcolor": "#E5ECF6",
            "gridcolor": "white",
            "gridwidth": 2,
            "linecolor": "white",
            "showbackground": true,
            "ticks": "",
            "zerolinecolor": "white"
           },
           "yaxis": {
            "backgroundcolor": "#E5ECF6",
            "gridcolor": "white",
            "gridwidth": 2,
            "linecolor": "white",
            "showbackground": true,
            "ticks": "",
            "zerolinecolor": "white"
           },
           "zaxis": {
            "backgroundcolor": "#E5ECF6",
            "gridcolor": "white",
            "gridwidth": 2,
            "linecolor": "white",
            "showbackground": true,
            "ticks": "",
            "zerolinecolor": "white"
           }
          },
          "shapedefaults": {
           "line": {
            "color": "#2a3f5f"
           }
          },
          "ternary": {
           "aaxis": {
            "gridcolor": "white",
            "linecolor": "white",
            "ticks": ""
           },
           "baxis": {
            "gridcolor": "white",
            "linecolor": "white",
            "ticks": ""
           },
           "bgcolor": "#E5ECF6",
           "caxis": {
            "gridcolor": "white",
            "linecolor": "white",
            "ticks": ""
           }
          },
          "title": {
           "x": 0.05
          },
          "xaxis": {
           "automargin": true,
           "gridcolor": "white",
           "linecolor": "white",
           "ticks": "",
           "title": {
            "standoff": 15
           },
           "zerolinecolor": "white",
           "zerolinewidth": 2
          },
          "yaxis": {
           "automargin": true,
           "gridcolor": "white",
           "linecolor": "white",
           "ticks": "",
           "title": {
            "standoff": 15
           },
           "zerolinecolor": "white",
           "zerolinewidth": 2
          }
         }
        },
        "title": {
         "text": "Ways of finalizing the fight"
        }
       }
      },
      "image/png": "[encoded data removed]",
      "text/html": [
       "<div>\n",
       "        \n",
       "        \n",
       "            <div id=\"3c0ef761-5b2d-4ea7-9b3c-4d3a160467b0\" class=\"plotly-graph-div\" style=\"height:525px; width:100%;\"></div>\n",
       "            <script type=\"text/javascript\">\n",
       "                require([\"plotly\"], function(Plotly) {\n",
       "                    window.PLOTLYENV=window.PLOTLYENV || {};\n",
       "                    \n",
       "                if (document.getElementById(\"3c0ef761-5b2d-4ea7-9b3c-4d3a160467b0\")) {\n",
       "                    Plotly.newPlot(\n",
       "                        '3c0ef761-5b2d-4ea7-9b3c-4d3a160467b0',\n",
       "                        [{\"domain\": {\"x\": [0, 1]}, \"hole\": 0.4, \"labels\": [\"DEC\", \"KO/TKO\", \"SUB\", \"NC\"], \"type\": \"pie\", \"values\": [1111, 744, 427, 36]}],\n",
       "                        {\"annotations\": [{\"font\": {\"size\": 20}, \"showarrow\": false, \"text\": \"Win by\", \"x\": 0.5, \"y\": 0.5}], \"template\": {\"data\": {\"bar\": [{\"error_x\": {\"color\": \"#2a3f5f\"}, \"error_y\": {\"color\": \"#2a3f5f\"}, \"marker\": {\"line\": {\"color\": \"#E5ECF6\", \"width\": 0.5}}, \"type\": \"bar\"}], \"barpolar\": [{\"marker\": {\"line\": {\"color\": \"#E5ECF6\", \"width\": 0.5}}, \"type\": \"barpolar\"}], \"carpet\": [{\"aaxis\": {\"endlinecolor\": \"#2a3f5f\", \"gridcolor\": \"white\", \"linecolor\": \"white\", \"minorgridcolor\": \"white\", \"startlinecolor\": \"#2a3f5f\"}, \"baxis\": {\"endlinecolor\": \"#2a3f5f\", \"gridcolor\": \"white\", \"linecolor\": \"white\", \"minorgridcolor\": \"white\", \"startlinecolor\": \"#2a3f5f\"}, \"type\": \"carpet\"}], \"choropleth\": [{\"colorbar\": {\"outlinewidth\": 0, \"ticks\": \"\"}, \"type\": \"choropleth\"}], \"contour\": [{\"colorbar\": {\"outlinewidth\": 0, \"ticks\": \"\"}, \"colorscale\": [[0.0, \"#0d0887\"], [0.1111111111111111, \"#46039f\"], [0.2222222222222222, \"#7201a8\"], [0.3333333333333333, \"#9c179e\"], [0.4444444444444444, \"#bd3786\"], [0.5555555555555556, \"#d8576b\"], [0.6666666666666666, \"#ed7953\"], [0.7777777777777778, \"#fb9f3a\"], [0.8888888888888888, \"#fdca26\"], [1.0, \"#f0f921\"]], \"type\": \"contour\"}], \"contourcarpet\": [{\"colorbar\": {\"outlinewidth\": 0, \"ticks\": \"\"}, \"type\": \"contourcarpet\"}], \"heatmap\": [{\"colorbar\": {\"outlinewidth\": 0, \"ticks\": \"\"}, \"colorscale\": [[0.0, \"#0d0887\"], [0.1111111111111111, \"#46039f\"], [0.2222222222222222, \"#7201a8\"], [0.3333333333333333, \"#9c179e\"], [0.4444444444444444, \"#bd3786\"], [0.5555555555555556, \"#d8576b\"], [0.6666666666666666, \"#ed7953\"], [0.7777777777777778, \"#fb9f3a\"], [0.8888888888888888, \"#fdca26\"], [1.0, \"#f0f921\"]], \"type\": \"heatmap\"}], \"heatmapgl\": [{\"colorbar\": {\"outlinewidth\": 0, \"ticks\": \"\"}, \"colorscale\": [[0.0, \"#0d0887\"], [0.1111111111111111, \"#46039f\"], [0.2222222222222222, \"#7201a8\"], [0.3333333333333333, \"#9c179e\"], [0.4444444444444444, \"#bd3786\"], [0.5555555555555556, \"#d8576b\"], [0.6666666666666666, \"#ed7953\"], [0.7777777777777778, \"#fb9f3a\"], [0.8888888888888888, \"#fdca26\"], [1.0, \"#f0f921\"]], \"type\": \"heatmapgl\"}], \"histogram\": [{\"marker\": {\"colorbar\": {\"outlinewidth\": 0, \"ticks\": \"\"}}, \"type\": \"histogram\"}], \"histogram2d\": [{\"colorbar\": {\"outlinewidth\": 0, \"ticks\": \"\"}, \"colorscale\": [[0.0, \"#0d0887\"], [0.1111111111111111, \"#46039f\"], [0.2222222222222222, \"#7201a8\"], [0.3333333333333333, \"#9c179e\"], [0.4444444444444444, \"#bd3786\"], [0.5555555555555556, \"#d8576b\"], [0.6666666666666666, \"#ed7953\"], [0.7777777777777778, \"#fb9f3a\"], [0.8888888888888888, \"#fdca26\"], [1.0, \"#f0f921\"]], \"type\": \"histogram2d\"}], \"histogram2dcontour\": [{\"colorbar\": {\"outlinewidth\": 0, \"ticks\": \"\"}, \"colorscale\": [[0.0, \"#0d0887\"], [0.1111111111111111, \"#46039f\"], [0.2222222222222222, \"#7201a8\"], [0.3333333333333333, \"#9c179e\"], [0.4444444444444444, \"#bd3786\"], [0.5555555555555556, \"#d8576b\"], [0.6666666666666666, \"#ed7953\"], [0.7777777777777778, \"#fb9f3a\"], [0.8888888888888888, \"#fdca26\"], [1.0, \"#f0f921\"]], \"type\": \"histogram2dcontour\"}], \"mesh3d\": [{\"colorbar\": {\"outlinewidth\": 0, \"ticks\": \"\"}, \"type\": \"mesh3d\"}], \"parcoords\": [{\"line\": {\"colorbar\": {\"outlinewidth\": 0, \"ticks\": \"\"}}, \"type\": \"parcoords\"}], \"pie\": [{\"automargin\": true, \"type\": \"pie\"}], \"scatter\": [{\"marker\": {\"colorbar\": {\"outlinewidth\": 0, \"ticks\": \"\"}}, \"type\": \"scatter\"}], \"scatter3d\": [{\"line\": {\"colorbar\": {\"outlinewidth\": 0, \"ticks\": \"\"}}, \"marker\": {\"colorbar\": {\"outlinewidth\": 0, \"ticks\": \"\"}}, \"type\": \"scatter3d\"}], \"scattercarpet\": [{\"marker\": {\"colorbar\": {\"outlinewidth\": 0, \"ticks\": \"\"}}, \"type\": \"scattercarpet\"}], \"scattergeo\": [{\"marker\": {\"colorbar\": {\"outlinewidth\": 0, \"ticks\": \"\"}}, \"type\": \"scattergeo\"}], \"scattergl\": [{\"marker\": {\"colorbar\": {\"outlinewidth\": 0, \"ticks\": \"\"}}, \"type\": \"scattergl\"}], \"scattermapbox\": [{\"marker\": {\"colorbar\": {\"outlinewidth\": 0, \"ticks\": \"\"}}, \"type\": \"scattermapbox\"}], \"scatterpolar\": [{\"marker\": {\"colorbar\": {\"outlinewidth\": 0, \"ticks\": \"\"}}, \"type\": \"scatterpolar\"}], \"scatterpolargl\": [{\"marker\": {\"colorbar\": {\"outlinewidth\": 0, \"ticks\": \"\"}}, \"type\": \"scatterpolargl\"}], \"scatterternary\": [{\"marker\": {\"colorbar\": {\"outlinewidth\": 0, \"ticks\": \"\"}}, \"type\": \"scatterternary\"}], \"surface\": [{\"colorbar\": {\"outlinewidth\": 0, \"ticks\": \"\"}, \"colorscale\": [[0.0, \"#0d0887\"], [0.1111111111111111, \"#46039f\"], [0.2222222222222222, \"#7201a8\"], [0.3333333333333333, \"#9c179e\"], [0.4444444444444444, \"#bd3786\"], [0.5555555555555556, \"#d8576b\"], [0.6666666666666666, \"#ed7953\"], [0.7777777777777778, \"#fb9f3a\"], [0.8888888888888888, \"#fdca26\"], [1.0, \"#f0f921\"]], \"type\": \"surface\"}], \"table\": [{\"cells\": {\"fill\": {\"color\": \"#EBF0F8\"}, \"line\": {\"color\": \"white\"}}, \"header\": {\"fill\": {\"color\": \"#C8D4E3\"}, \"line\": {\"color\": \"white\"}}, \"type\": \"table\"}]}, \"layout\": {\"annotationdefaults\": {\"arrowcolor\": \"#2a3f5f\", \"arrowhead\": 0, \"arrowwidth\": 1}, \"coloraxis\": {\"colorbar\": {\"outlinewidth\": 0, \"ticks\": \"\"}}, \"colorscale\": {\"diverging\": [[0, \"#8e0152\"], [0.1, \"#c51b7d\"], [0.2, \"#de77ae\"], [0.3, \"#f1b6da\"], [0.4, \"#fde0ef\"], [0.5, \"#f7f7f7\"], [0.6, \"#e6f5d0\"], [0.7, \"#b8e186\"], [0.8, \"#7fbc41\"], [0.9, \"#4d9221\"], [1, \"#276419\"]], \"sequential\": [[0.0, \"#0d0887\"], [0.1111111111111111, \"#46039f\"], [0.2222222222222222, \"#7201a8\"], [0.3333333333333333, \"#9c179e\"], [0.4444444444444444, \"#bd3786\"], [0.5555555555555556, \"#d8576b\"], [0.6666666666666666, \"#ed7953\"], [0.7777777777777778, \"#fb9f3a\"], [0.8888888888888888, \"#fdca26\"], [1.0, \"#f0f921\"]], \"sequentialminus\": [[0.0, \"#0d0887\"], [0.1111111111111111, \"#46039f\"], [0.2222222222222222, \"#7201a8\"], [0.3333333333333333, \"#9c179e\"], [0.4444444444444444, \"#bd3786\"], [0.5555555555555556, \"#d8576b\"], [0.6666666666666666, \"#ed7953\"], [0.7777777777777778, \"#fb9f3a\"], [0.8888888888888888, \"#fdca26\"], [1.0, \"#f0f921\"]]}, \"colorway\": [\"#636efa\", \"#EF553B\", \"#00cc96\", \"#ab63fa\", \"#FFA15A\", \"#19d3f3\", \"#FF6692\", \"#B6E880\", \"#FF97FF\", \"#FECB52\"], \"font\": {\"color\": \"#2a3f5f\"}, \"geo\": {\"bgcolor\": \"white\", \"lakecolor\": \"white\", \"landcolor\": \"#E5ECF6\", \"showlakes\": true, \"showland\": true, \"subunitcolor\": \"white\"}, \"hoverlabel\": {\"align\": \"left\"}, \"hovermode\": \"closest\", \"mapbox\": {\"style\": \"light\"}, \"paper_bgcolor\": \"white\", \"plot_bgcolor\": \"#E5ECF6\", \"polar\": {\"angularaxis\": {\"gridcolor\": \"white\", \"linecolor\": \"white\", \"ticks\": \"\"}, \"bgcolor\": \"#E5ECF6\", \"radialaxis\": {\"gridcolor\": \"white\", \"linecolor\": \"white\", \"ticks\": \"\"}}, \"scene\": {\"xaxis\": {\"backgroundcolor\": \"#E5ECF6\", \"gridcolor\": \"white\", \"gridwidth\": 2, \"linecolor\": \"white\", \"showbackground\": true, \"ticks\": \"\", \"zerolinecolor\": \"white\"}, \"yaxis\": {\"backgroundcolor\": \"#E5ECF6\", \"gridcolor\": \"white\", \"gridwidth\": 2, \"linecolor\": \"white\", \"showbackground\": true, \"ticks\": \"\", \"zerolinecolor\": \"white\"}, \"zaxis\": {\"backgroundcolor\": \"#E5ECF6\", \"gridcolor\": \"white\", \"gridwidth\": 2, \"linecolor\": \"white\", \"showbackground\": true, \"ticks\": \"\", \"zerolinecolor\": \"white\"}}, \"shapedefaults\": {\"line\": {\"color\": \"#2a3f5f\"}}, \"ternary\": {\"aaxis\": {\"gridcolor\": \"white\", \"linecolor\": \"white\", \"ticks\": \"\"}, \"baxis\": {\"gridcolor\": \"white\", \"linecolor\": \"white\", \"ticks\": \"\"}, \"bgcolor\": \"#E5ECF6\", \"caxis\": {\"gridcolor\": \"white\", \"linecolor\": \"white\", \"ticks\": \"\"}}, \"title\": {\"x\": 0.05}, \"xaxis\": {\"automargin\": true, \"gridcolor\": \"white\", \"linecolor\": \"white\", \"ticks\": \"\", \"title\": {\"standoff\": 15}, \"zerolinecolor\": \"white\", \"zerolinewidth\": 2}, \"yaxis\": {\"automargin\": true, \"gridcolor\": \"white\", \"linecolor\": \"white\", \"ticks\": \"\", \"title\": {\"standoff\": 15}, \"zerolinecolor\": \"white\", \"zerolinewidth\": 2}}}, \"title\": {\"text\": \"Ways of finalizing the fight\"}},\n",
       "                        {\"responsive\": true}\n",
       "                    ).then(function(){\n",
       "                            \n",
       "var gd = document.getElementById('3c0ef761-5b2d-4ea7-9b3c-4d3a160467b0');\n",
       "var x = new MutationObserver(function (mutations, observer) {{\n",
       "        var display = window.getComputedStyle(gd).display;\n",
       "        if (!display || display === 'none') {{\n",
       "            console.log([gd, 'removed!']);\n",
       "            Plotly.purge(gd);\n",
       "            observer.disconnect();\n",
       "        }}\n",
       "}});\n",
       "\n",
       "// Listen for the removal of the full notebook cells\n",
       "var notebookContainer = gd.closest('#notebook-container');\n",
       "if (notebookContainer) {{\n",
       "    x.observe(notebookContainer, {childList: true});\n",
       "}}\n",
       "\n",
       "// Listen for the clearing of the current output cell\n",
       "var outputEl = gd.closest('.output');\n",
       "if (outputEl) {{\n",
       "    x.observe(outputEl, {childList: true});\n",
       "}}\n",
       "\n",
       "                        })\n",
       "                };\n",
       "                });\n",
       "            </script>\n",
       "        </div>"
      ]
     },
     "metadata": {},
     "output_type": "display_data"
    }
   ],
   "source": [
    "temp = df['winby'].value_counts()\n",
    "fig = {\n",
    "  'data': [\n",
    "    {\n",
    "      'values': temp.values,\n",
    "      'labels': temp.index,\n",
    "      'domain': {\"x\": [0, 1]},      \n",
    "      'hole': .4,\n",
    "      'type': 'pie'\n",
    "    },\n",
    "    \n",
    "    ],\n",
    "  'layout': {\n",
    "        'title':'Ways of finalizing the fight',\n",
    "        'annotations': [\n",
    "            {\n",
    "                'font': {\n",
    "                    'size': 20\n",
    "                },\n",
    "                'showarrow': False,\n",
    "                'text': 'Win by',\n",
    "                'x': 0.50,\n",
    "                'y': 0.5\n",
    "            }\n",
    "            \n",
    "        ]\n",
    "    }\n",
    "}\n",
    "iplot(fig, filename='winby chart')"
   ]
  },
  {
   "cell_type": "markdown",
   "metadata": {},
   "source": [
    "## Now lets check which of this corresponds to title bouts and which to normal bouts"
   ]
  },
  {
   "cell_type": "code",
   "execution_count": 22,
   "metadata": {},
   "outputs": [
    {
     "data": {
      "application/vnd.plotly.v1+json": {
       "config": {
        "linkText": "Export to plot.ly",
        "plotlyServerURL": "https://plot.ly",
        "showLink": false
       },
       "data": [
        {
         "domain": {
          "column": 0
         },
         "hole": 0.5,
         "hoverinfo": "label+percent+value",
         "labels": [
          "DEC",
          "KO/TKO",
          "SUB",
          "NC"
         ],
         "name": "Normal bout",
         "text": [
          "DEC",
          "KO/TKO",
          "SUB",
          "NC"
         ],
         "type": "pie",
         "values": [
          1040,
          634,
          390,
          35
         ]
        },
        {
         "domain": {
          "column": 1
         },
         "hole": 0.5,
         "hoverinfo": "label+percent+value",
         "labels": [
          "DEC",
          "KO/TKO",
          "SUB",
          "NC"
         ],
         "name": "Title bout",
         "text": [
          "DEC",
          "KO/TKO",
          "SUB",
          "NC"
         ],
         "textposition": "inside",
         "type": "pie",
         "values": [
          71,
          110,
          37,
          1
         ]
        }
       ],
       "layout": {
        "annotations": [
         {
          "font": {
           "size": 20
          },
          "showarrow": false,
          "text": "Normal bout",
          "x": 0.17,
          "y": 0.5
         },
         {
          "font": {
           "size": 20
          },
          "showarrow": false,
          "text": "Title bout",
          "x": 0.815,
          "y": 0.5
         }
        ],
        "autosize": true,
        "grid": {
         "columns": 2,
         "rows": 1
        },
        "template": {
         "data": {
          "bar": [
           {
            "error_x": {
             "color": "#2a3f5f"
            },
            "error_y": {
             "color": "#2a3f5f"
            },
            "marker": {
             "line": {
              "color": "#E5ECF6",
              "width": 0.5
             }
            },
            "type": "bar"
           }
          ],
          "barpolar": [
           {
            "marker": {
             "line": {
              "color": "#E5ECF6",
              "width": 0.5
             }
            },
            "type": "barpolar"
           }
          ],
          "carpet": [
           {
            "aaxis": {
             "endlinecolor": "#2a3f5f",
             "gridcolor": "white",
             "linecolor": "white",
             "minorgridcolor": "white",
             "startlinecolor": "#2a3f5f"
            },
            "baxis": {
             "endlinecolor": "#2a3f5f",
             "gridcolor": "white",
             "linecolor": "white",
             "minorgridcolor": "white",
             "startlinecolor": "#2a3f5f"
            },
            "type": "carpet"
           }
          ],
          "choropleth": [
           {
            "colorbar": {
             "outlinewidth": 0,
             "ticks": ""
            },
            "type": "choropleth"
           }
          ],
          "contour": [
           {
            "colorbar": {
             "outlinewidth": 0,
             "ticks": ""
            },
            "colorscale": [
             [
              0,
              "#0d0887"
             ],
             [
              0.1111111111111111,
              "#46039f"
             ],
             [
              0.2222222222222222,
              "#7201a8"
             ],
             [
              0.3333333333333333,
              "#9c179e"
             ],
             [
              0.4444444444444444,
              "#bd3786"
             ],
             [
              0.5555555555555556,
              "#d8576b"
             ],
             [
              0.6666666666666666,
              "#ed7953"
             ],
             [
              0.7777777777777778,
              "#fb9f3a"
             ],
             [
              0.8888888888888888,
              "#fdca26"
             ],
             [
              1,
              "#f0f921"
             ]
            ],
            "type": "contour"
           }
          ],
          "contourcarpet": [
           {
            "colorbar": {
             "outlinewidth": 0,
             "ticks": ""
            },
            "type": "contourcarpet"
           }
          ],
          "heatmap": [
           {
            "colorbar": {
             "outlinewidth": 0,
             "ticks": ""
            },
            "colorscale": [
             [
              0,
              "#0d0887"
             ],
             [
              0.1111111111111111,
              "#46039f"
             ],
             [
              0.2222222222222222,
              "#7201a8"
             ],
             [
              0.3333333333333333,
              "#9c179e"
             ],
             [
              0.4444444444444444,
              "#bd3786"
             ],
             [
              0.5555555555555556,
              "#d8576b"
             ],
             [
              0.6666666666666666,
              "#ed7953"
             ],
             [
              0.7777777777777778,
              "#fb9f3a"
             ],
             [
              0.8888888888888888,
              "#fdca26"
             ],
             [
              1,
              "#f0f921"
             ]
            ],
            "type": "heatmap"
           }
          ],
          "heatmapgl": [
           {
            "colorbar": {
             "outlinewidth": 0,
             "ticks": ""
            },
            "colorscale": [
             [
              0,
              "#0d0887"
             ],
             [
              0.1111111111111111,
              "#46039f"
             ],
             [
              0.2222222222222222,
              "#7201a8"
             ],
             [
              0.3333333333333333,
              "#9c179e"
             ],
             [
              0.4444444444444444,
              "#bd3786"
             ],
             [
              0.5555555555555556,
              "#d8576b"
             ],
             [
              0.6666666666666666,
              "#ed7953"
             ],
             [
              0.7777777777777778,
              "#fb9f3a"
             ],
             [
              0.8888888888888888,
              "#fdca26"
             ],
             [
              1,
              "#f0f921"
             ]
            ],
            "type": "heatmapgl"
           }
          ],
          "histogram": [
           {
            "marker": {
             "colorbar": {
              "outlinewidth": 0,
              "ticks": ""
             }
            },
            "type": "histogram"
           }
          ],
          "histogram2d": [
           {
            "colorbar": {
             "outlinewidth": 0,
             "ticks": ""
            },
            "colorscale": [
             [
              0,
              "#0d0887"
             ],
             [
              0.1111111111111111,
              "#46039f"
             ],
             [
              0.2222222222222222,
              "#7201a8"
             ],
             [
              0.3333333333333333,
              "#9c179e"
             ],
             [
              0.4444444444444444,
              "#bd3786"
             ],
             [
              0.5555555555555556,
              "#d8576b"
             ],
             [
              0.6666666666666666,
              "#ed7953"
             ],
             [
              0.7777777777777778,
              "#fb9f3a"
             ],
             [
              0.8888888888888888,
              "#fdca26"
             ],
             [
              1,
              "#f0f921"
             ]
            ],
            "type": "histogram2d"
           }
          ],
          "histogram2dcontour": [
           {
            "colorbar": {
             "outlinewidth": 0,
             "ticks": ""
            },
            "colorscale": [
             [
              0,
              "#0d0887"
             ],
             [
              0.1111111111111111,
              "#46039f"
             ],
             [
              0.2222222222222222,
              "#7201a8"
             ],
             [
              0.3333333333333333,
              "#9c179e"
             ],
             [
              0.4444444444444444,
              "#bd3786"
             ],
             [
              0.5555555555555556,
              "#d8576b"
             ],
             [
              0.6666666666666666,
              "#ed7953"
             ],
             [
              0.7777777777777778,
              "#fb9f3a"
             ],
             [
              0.8888888888888888,
              "#fdca26"
             ],
             [
              1,
              "#f0f921"
             ]
            ],
            "type": "histogram2dcontour"
           }
          ],
          "mesh3d": [
           {
            "colorbar": {
             "outlinewidth": 0,
             "ticks": ""
            },
            "type": "mesh3d"
           }
          ],
          "parcoords": [
           {
            "line": {
             "colorbar": {
              "outlinewidth": 0,
              "ticks": ""
             }
            },
            "type": "parcoords"
           }
          ],
          "pie": [
           {
            "automargin": true,
            "type": "pie"
           }
          ],
          "scatter": [
           {
            "marker": {
             "colorbar": {
              "outlinewidth": 0,
              "ticks": ""
             }
            },
            "type": "scatter"
           }
          ],
          "scatter3d": [
           {
            "line": {
             "colorbar": {
              "outlinewidth": 0,
              "ticks": ""
             }
            },
            "marker": {
             "colorbar": {
              "outlinewidth": 0,
              "ticks": ""
             }
            },
            "type": "scatter3d"
           }
          ],
          "scattercarpet": [
           {
            "marker": {
             "colorbar": {
              "outlinewidth": 0,
              "ticks": ""
             }
            },
            "type": "scattercarpet"
           }
          ],
          "scattergeo": [
           {
            "marker": {
             "colorbar": {
              "outlinewidth": 0,
              "ticks": ""
             }
            },
            "type": "scattergeo"
           }
          ],
          "scattergl": [
           {
            "marker": {
             "colorbar": {
              "outlinewidth": 0,
              "ticks": ""
             }
            },
            "type": "scattergl"
           }
          ],
          "scattermapbox": [
           {
            "marker": {
             "colorbar": {
              "outlinewidth": 0,
              "ticks": ""
             }
            },
            "type": "scattermapbox"
           }
          ],
          "scatterpolar": [
           {
            "marker": {
             "colorbar": {
              "outlinewidth": 0,
              "ticks": ""
             }
            },
            "type": "scatterpolar"
           }
          ],
          "scatterpolargl": [
           {
            "marker": {
             "colorbar": {
              "outlinewidth": 0,
              "ticks": ""
             }
            },
            "type": "scatterpolargl"
           }
          ],
          "scatterternary": [
           {
            "marker": {
             "colorbar": {
              "outlinewidth": 0,
              "ticks": ""
             }
            },
            "type": "scatterternary"
           }
          ],
          "surface": [
           {
            "colorbar": {
             "outlinewidth": 0,
             "ticks": ""
            },
            "colorscale": [
             [
              0,
              "#0d0887"
             ],
             [
              0.1111111111111111,
              "#46039f"
             ],
             [
              0.2222222222222222,
              "#7201a8"
             ],
             [
              0.3333333333333333,
              "#9c179e"
             ],
             [
              0.4444444444444444,
              "#bd3786"
             ],
             [
              0.5555555555555556,
              "#d8576b"
             ],
             [
              0.6666666666666666,
              "#ed7953"
             ],
             [
              0.7777777777777778,
              "#fb9f3a"
             ],
             [
              0.8888888888888888,
              "#fdca26"
             ],
             [
              1,
              "#f0f921"
             ]
            ],
            "type": "surface"
           }
          ],
          "table": [
           {
            "cells": {
             "fill": {
              "color": "#EBF0F8"
             },
             "line": {
              "color": "white"
             }
            },
            "header": {
             "fill": {
              "color": "#C8D4E3"
             },
             "line": {
              "color": "white"
             }
            },
            "type": "table"
           }
          ]
         },
         "layout": {
          "annotationdefaults": {
           "arrowcolor": "#2a3f5f",
           "arrowhead": 0,
           "arrowwidth": 1
          },
          "coloraxis": {
           "colorbar": {
            "outlinewidth": 0,
            "ticks": ""
           }
          },
          "colorscale": {
           "diverging": [
            [
             0,
             "#8e0152"
            ],
            [
             0.1,
             "#c51b7d"
            ],
            [
             0.2,
             "#de77ae"
            ],
            [
             0.3,
             "#f1b6da"
            ],
            [
             0.4,
             "#fde0ef"
            ],
            [
             0.5,
             "#f7f7f7"
            ],
            [
             0.6,
             "#e6f5d0"
            ],
            [
             0.7,
             "#b8e186"
            ],
            [
             0.8,
             "#7fbc41"
            ],
            [
             0.9,
             "#4d9221"
            ],
            [
             1,
             "#276419"
            ]
           ],
           "sequential": [
            [
             0,
             "#0d0887"
            ],
            [
             0.1111111111111111,
             "#46039f"
            ],
            [
             0.2222222222222222,
             "#7201a8"
            ],
            [
             0.3333333333333333,
             "#9c179e"
            ],
            [
             0.4444444444444444,
             "#bd3786"
            ],
            [
             0.5555555555555556,
             "#d8576b"
            ],
            [
             0.6666666666666666,
             "#ed7953"
            ],
            [
             0.7777777777777778,
             "#fb9f3a"
            ],
            [
             0.8888888888888888,
             "#fdca26"
            ],
            [
             1,
             "#f0f921"
            ]
           ],
           "sequentialminus": [
            [
             0,
             "#0d0887"
            ],
            [
             0.1111111111111111,
             "#46039f"
            ],
            [
             0.2222222222222222,
             "#7201a8"
            ],
            [
             0.3333333333333333,
             "#9c179e"
            ],
            [
             0.4444444444444444,
             "#bd3786"
            ],
            [
             0.5555555555555556,
             "#d8576b"
            ],
            [
             0.6666666666666666,
             "#ed7953"
            ],
            [
             0.7777777777777778,
             "#fb9f3a"
            ],
            [
             0.8888888888888888,
             "#fdca26"
            ],
            [
             1,
             "#f0f921"
            ]
           ]
          },
          "colorway": [
           "#636efa",
           "#EF553B",
           "#00cc96",
           "#ab63fa",
           "#FFA15A",
           "#19d3f3",
           "#FF6692",
           "#B6E880",
           "#FF97FF",
           "#FECB52"
          ],
          "font": {
           "color": "#2a3f5f"
          },
          "geo": {
           "bgcolor": "white",
           "lakecolor": "white",
           "landcolor": "#E5ECF6",
           "showlakes": true,
           "showland": true,
           "subunitcolor": "white"
          },
          "hoverlabel": {
           "align": "left"
          },
          "hovermode": "closest",
          "mapbox": {
           "style": "light"
          },
          "paper_bgcolor": "white",
          "plot_bgcolor": "#E5ECF6",
          "polar": {
           "angularaxis": {
            "gridcolor": "white",
            "linecolor": "white",
            "ticks": ""
           },
           "bgcolor": "#E5ECF6",
           "radialaxis": {
            "gridcolor": "white",
            "linecolor": "white",
            "ticks": ""
           }
          },
          "scene": {
           "xaxis": {
            "backgroundcolor": "#E5ECF6",
            "gridcolor": "white",
            "gridwidth": 2,
            "linecolor": "white",
            "showbackground": true,
            "ticks": "",
            "zerolinecolor": "white"
           },
           "yaxis": {
            "backgroundcolor": "#E5ECF6",
            "gridcolor": "white",
            "gridwidth": 2,
            "linecolor": "white",
            "showbackground": true,
            "ticks": "",
            "zerolinecolor": "white"
           },
           "zaxis": {
            "backgroundcolor": "#E5ECF6",
            "gridcolor": "white",
            "gridwidth": 2,
            "linecolor": "white",
            "showbackground": true,
            "ticks": "",
            "zerolinecolor": "white"
           }
          },
          "shapedefaults": {
           "line": {
            "color": "#2a3f5f"
           }
          },
          "ternary": {
           "aaxis": {
            "gridcolor": "white",
            "linecolor": "white",
            "ticks": ""
           },
           "baxis": {
            "gridcolor": "white",
            "linecolor": "white",
            "ticks": ""
           },
           "bgcolor": "#E5ECF6",
           "caxis": {
            "gridcolor": "white",
            "linecolor": "white",
            "ticks": ""
           }
          },
          "title": {
           "x": 0.05
          },
          "xaxis": {
           "automargin": true,
           "gridcolor": "white",
           "linecolor": "white",
           "ticks": "",
           "title": {
            "standoff": 15
           },
           "zerolinecolor": "white",
           "zerolinewidth": 2
          },
          "yaxis": {
           "automargin": true,
           "gridcolor": "white",
           "linecolor": "white",
           "ticks": "",
           "title": {
            "standoff": 15
           },
           "zerolinecolor": "white",
           "zerolinewidth": 2
          }
         }
        },
        "title": {
         "text": "Fights by Win Type"
        }
       }
      },
      "image/png": "[encoded data removed]",
      "text/html": [
       "<div>\n",
       "        \n",
       "        \n",
       "            <div id=\"468e9eb7-9321-4950-803d-3449d390b1d2\" class=\"plotly-graph-div\" style=\"height:525px; width:100%;\"></div>\n",
       "            <script type=\"text/javascript\">\n",
       "                require([\"plotly\"], function(Plotly) {\n",
       "                    window.PLOTLYENV=window.PLOTLYENV || {};\n",
       "                    \n",
       "                if (document.getElementById(\"468e9eb7-9321-4950-803d-3449d390b1d2\")) {\n",
       "                    Plotly.newPlot(\n",
       "                        '468e9eb7-9321-4950-803d-3449d390b1d2',\n",
       "                        [{\"domain\": {\"column\": 0}, \"hole\": 0.5, \"hoverinfo\": \"label+percent+value\", \"labels\": [\"DEC\", \"KO/TKO\", \"SUB\", \"NC\"], \"name\": \"Normal bout\", \"text\": [\"DEC\", \"KO/TKO\", \"SUB\", \"NC\"], \"type\": \"pie\", \"values\": [1040, 634, 390, 35]}, {\"domain\": {\"column\": 1}, \"hole\": 0.5, \"hoverinfo\": \"label+percent+value\", \"labels\": [\"DEC\", \"KO/TKO\", \"SUB\", \"NC\"], \"name\": \"Title bout\", \"text\": [\"DEC\", \"KO/TKO\", \"SUB\", \"NC\"], \"textposition\": \"inside\", \"type\": \"pie\", \"values\": [71, 110, 37, 1]}],\n",
       "                        {\"annotations\": [{\"font\": {\"size\": 20}, \"showarrow\": false, \"text\": \"Normal bout\", \"x\": 0.17, \"y\": 0.5}, {\"font\": {\"size\": 20}, \"showarrow\": false, \"text\": \"Title bout\", \"x\": 0.815, \"y\": 0.5}], \"grid\": {\"columns\": 2, \"rows\": 1}, \"template\": {\"data\": {\"bar\": [{\"error_x\": {\"color\": \"#2a3f5f\"}, \"error_y\": {\"color\": \"#2a3f5f\"}, \"marker\": {\"line\": {\"color\": \"#E5ECF6\", \"width\": 0.5}}, \"type\": \"bar\"}], \"barpolar\": [{\"marker\": {\"line\": {\"color\": \"#E5ECF6\", \"width\": 0.5}}, \"type\": \"barpolar\"}], \"carpet\": [{\"aaxis\": {\"endlinecolor\": \"#2a3f5f\", \"gridcolor\": \"white\", \"linecolor\": \"white\", \"minorgridcolor\": \"white\", \"startlinecolor\": \"#2a3f5f\"}, \"baxis\": {\"endlinecolor\": \"#2a3f5f\", \"gridcolor\": \"white\", \"linecolor\": \"white\", \"minorgridcolor\": \"white\", \"startlinecolor\": \"#2a3f5f\"}, \"type\": \"carpet\"}], \"choropleth\": [{\"colorbar\": {\"outlinewidth\": 0, \"ticks\": \"\"}, \"type\": \"choropleth\"}], \"contour\": [{\"colorbar\": {\"outlinewidth\": 0, \"ticks\": \"\"}, \"colorscale\": [[0.0, \"#0d0887\"], [0.1111111111111111, \"#46039f\"], [0.2222222222222222, \"#7201a8\"], [0.3333333333333333, \"#9c179e\"], [0.4444444444444444, \"#bd3786\"], [0.5555555555555556, \"#d8576b\"], [0.6666666666666666, \"#ed7953\"], [0.7777777777777778, \"#fb9f3a\"], [0.8888888888888888, \"#fdca26\"], [1.0, \"#f0f921\"]], \"type\": \"contour\"}], \"contourcarpet\": [{\"colorbar\": {\"outlinewidth\": 0, \"ticks\": \"\"}, \"type\": \"contourcarpet\"}], \"heatmap\": [{\"colorbar\": {\"outlinewidth\": 0, \"ticks\": \"\"}, \"colorscale\": [[0.0, \"#0d0887\"], [0.1111111111111111, \"#46039f\"], [0.2222222222222222, \"#7201a8\"], [0.3333333333333333, \"#9c179e\"], [0.4444444444444444, \"#bd3786\"], [0.5555555555555556, \"#d8576b\"], [0.6666666666666666, \"#ed7953\"], [0.7777777777777778, \"#fb9f3a\"], [0.8888888888888888, \"#fdca26\"], [1.0, \"#f0f921\"]], \"type\": \"heatmap\"}], \"heatmapgl\": [{\"colorbar\": {\"outlinewidth\": 0, \"ticks\": \"\"}, \"colorscale\": [[0.0, \"#0d0887\"], [0.1111111111111111, \"#46039f\"], [0.2222222222222222, \"#7201a8\"], [0.3333333333333333, \"#9c179e\"], [0.4444444444444444, \"#bd3786\"], [0.5555555555555556, \"#d8576b\"], [0.6666666666666666, \"#ed7953\"], [0.7777777777777778, \"#fb9f3a\"], [0.8888888888888888, \"#fdca26\"], [1.0, \"#f0f921\"]], \"type\": \"heatmapgl\"}], \"histogram\": [{\"marker\": {\"colorbar\": {\"outlinewidth\": 0, \"ticks\": \"\"}}, \"type\": \"histogram\"}], \"histogram2d\": [{\"colorbar\": {\"outlinewidth\": 0, \"ticks\": \"\"}, \"colorscale\": [[0.0, \"#0d0887\"], [0.1111111111111111, \"#46039f\"], [0.2222222222222222, \"#7201a8\"], [0.3333333333333333, \"#9c179e\"], [0.4444444444444444, \"#bd3786\"], [0.5555555555555556, \"#d8576b\"], [0.6666666666666666, \"#ed7953\"], [0.7777777777777778, \"#fb9f3a\"], [0.8888888888888888, \"#fdca26\"], [1.0, \"#f0f921\"]], \"type\": \"histogram2d\"}], \"histogram2dcontour\": [{\"colorbar\": {\"outlinewidth\": 0, \"ticks\": \"\"}, \"colorscale\": [[0.0, \"#0d0887\"], [0.1111111111111111, \"#46039f\"], [0.2222222222222222, \"#7201a8\"], [0.3333333333333333, \"#9c179e\"], [0.4444444444444444, \"#bd3786\"], [0.5555555555555556, \"#d8576b\"], [0.6666666666666666, \"#ed7953\"], [0.7777777777777778, \"#fb9f3a\"], [0.8888888888888888, \"#fdca26\"], [1.0, \"#f0f921\"]], \"type\": \"histogram2dcontour\"}], \"mesh3d\": [{\"colorbar\": {\"outlinewidth\": 0, \"ticks\": \"\"}, \"type\": \"mesh3d\"}], \"parcoords\": [{\"line\": {\"colorbar\": {\"outlinewidth\": 0, \"ticks\": \"\"}}, \"type\": \"parcoords\"}], \"pie\": [{\"automargin\": true, \"type\": \"pie\"}], \"scatter\": [{\"marker\": {\"colorbar\": {\"outlinewidth\": 0, \"ticks\": \"\"}}, \"type\": \"scatter\"}], \"scatter3d\": [{\"line\": {\"colorbar\": {\"outlinewidth\": 0, \"ticks\": \"\"}}, \"marker\": {\"colorbar\": {\"outlinewidth\": 0, \"ticks\": \"\"}}, \"type\": \"scatter3d\"}], \"scattercarpet\": [{\"marker\": {\"colorbar\": {\"outlinewidth\": 0, \"ticks\": \"\"}}, \"type\": \"scattercarpet\"}], \"scattergeo\": [{\"marker\": {\"colorbar\": {\"outlinewidth\": 0, \"ticks\": \"\"}}, \"type\": \"scattergeo\"}], \"scattergl\": [{\"marker\": {\"colorbar\": {\"outlinewidth\": 0, \"ticks\": \"\"}}, \"type\": \"scattergl\"}], \"scattermapbox\": [{\"marker\": {\"colorbar\": {\"outlinewidth\": 0, \"ticks\": \"\"}}, \"type\": \"scattermapbox\"}], \"scatterpolar\": [{\"marker\": {\"colorbar\": {\"outlinewidth\": 0, \"ticks\": \"\"}}, \"type\": \"scatterpolar\"}], \"scatterpolargl\": [{\"marker\": {\"colorbar\": {\"outlinewidth\": 0, \"ticks\": \"\"}}, \"type\": \"scatterpolargl\"}], \"scatterternary\": [{\"marker\": {\"colorbar\": {\"outlinewidth\": 0, \"ticks\": \"\"}}, \"type\": \"scatterternary\"}], \"surface\": [{\"colorbar\": {\"outlinewidth\": 0, \"ticks\": \"\"}, \"colorscale\": [[0.0, \"#0d0887\"], [0.1111111111111111, \"#46039f\"], [0.2222222222222222, \"#7201a8\"], [0.3333333333333333, \"#9c179e\"], [0.4444444444444444, \"#bd3786\"], [0.5555555555555556, \"#d8576b\"], [0.6666666666666666, \"#ed7953\"], [0.7777777777777778, \"#fb9f3a\"], [0.8888888888888888, \"#fdca26\"], [1.0, \"#f0f921\"]], \"type\": \"surface\"}], \"table\": [{\"cells\": {\"fill\": {\"color\": \"#EBF0F8\"}, \"line\": {\"color\": \"white\"}}, \"header\": {\"fill\": {\"color\": \"#C8D4E3\"}, \"line\": {\"color\": \"white\"}}, \"type\": \"table\"}]}, \"layout\": {\"annotationdefaults\": {\"arrowcolor\": \"#2a3f5f\", \"arrowhead\": 0, \"arrowwidth\": 1}, \"coloraxis\": {\"colorbar\": {\"outlinewidth\": 0, \"ticks\": \"\"}}, \"colorscale\": {\"diverging\": [[0, \"#8e0152\"], [0.1, \"#c51b7d\"], [0.2, \"#de77ae\"], [0.3, \"#f1b6da\"], [0.4, \"#fde0ef\"], [0.5, \"#f7f7f7\"], [0.6, \"#e6f5d0\"], [0.7, \"#b8e186\"], [0.8, \"#7fbc41\"], [0.9, \"#4d9221\"], [1, \"#276419\"]], \"sequential\": [[0.0, \"#0d0887\"], [0.1111111111111111, \"#46039f\"], [0.2222222222222222, \"#7201a8\"], [0.3333333333333333, \"#9c179e\"], [0.4444444444444444, \"#bd3786\"], [0.5555555555555556, \"#d8576b\"], [0.6666666666666666, \"#ed7953\"], [0.7777777777777778, \"#fb9f3a\"], [0.8888888888888888, \"#fdca26\"], [1.0, \"#f0f921\"]], \"sequentialminus\": [[0.0, \"#0d0887\"], [0.1111111111111111, \"#46039f\"], [0.2222222222222222, \"#7201a8\"], [0.3333333333333333, \"#9c179e\"], [0.4444444444444444, \"#bd3786\"], [0.5555555555555556, \"#d8576b\"], [0.6666666666666666, \"#ed7953\"], [0.7777777777777778, \"#fb9f3a\"], [0.8888888888888888, \"#fdca26\"], [1.0, \"#f0f921\"]]}, \"colorway\": [\"#636efa\", \"#EF553B\", \"#00cc96\", \"#ab63fa\", \"#FFA15A\", \"#19d3f3\", \"#FF6692\", \"#B6E880\", \"#FF97FF\", \"#FECB52\"], \"font\": {\"color\": \"#2a3f5f\"}, \"geo\": {\"bgcolor\": \"white\", \"lakecolor\": \"white\", \"landcolor\": \"#E5ECF6\", \"showlakes\": true, \"showland\": true, \"subunitcolor\": \"white\"}, \"hoverlabel\": {\"align\": \"left\"}, \"hovermode\": \"closest\", \"mapbox\": {\"style\": \"light\"}, \"paper_bgcolor\": \"white\", \"plot_bgcolor\": \"#E5ECF6\", \"polar\": {\"angularaxis\": {\"gridcolor\": \"white\", \"linecolor\": \"white\", \"ticks\": \"\"}, \"bgcolor\": \"#E5ECF6\", \"radialaxis\": {\"gridcolor\": \"white\", \"linecolor\": \"white\", \"ticks\": \"\"}}, \"scene\": {\"xaxis\": {\"backgroundcolor\": \"#E5ECF6\", \"gridcolor\": \"white\", \"gridwidth\": 2, \"linecolor\": \"white\", \"showbackground\": true, \"ticks\": \"\", \"zerolinecolor\": \"white\"}, \"yaxis\": {\"backgroundcolor\": \"#E5ECF6\", \"gridcolor\": \"white\", \"gridwidth\": 2, \"linecolor\": \"white\", \"showbackground\": true, \"ticks\": \"\", \"zerolinecolor\": \"white\"}, \"zaxis\": {\"backgroundcolor\": \"#E5ECF6\", \"gridcolor\": \"white\", \"gridwidth\": 2, \"linecolor\": \"white\", \"showbackground\": true, \"ticks\": \"\", \"zerolinecolor\": \"white\"}}, \"shapedefaults\": {\"line\": {\"color\": \"#2a3f5f\"}}, \"ternary\": {\"aaxis\": {\"gridcolor\": \"white\", \"linecolor\": \"white\", \"ticks\": \"\"}, \"baxis\": {\"gridcolor\": \"white\", \"linecolor\": \"white\", \"ticks\": \"\"}, \"bgcolor\": \"#E5ECF6\", \"caxis\": {\"gridcolor\": \"white\", \"linecolor\": \"white\", \"ticks\": \"\"}}, \"title\": {\"x\": 0.05}, \"xaxis\": {\"automargin\": true, \"gridcolor\": \"white\", \"linecolor\": \"white\", \"ticks\": \"\", \"title\": {\"standoff\": 15}, \"zerolinecolor\": \"white\", \"zerolinewidth\": 2}, \"yaxis\": {\"automargin\": true, \"gridcolor\": \"white\", \"linecolor\": \"white\", \"ticks\": \"\", \"title\": {\"standoff\": 15}, \"zerolinecolor\": \"white\", \"zerolinewidth\": 2}}}, \"title\": {\"text\": \"Fights by Win Type\"}},\n",
       "                        {\"responsive\": true}\n",
       "                    ).then(function(){\n",
       "                            \n",
       "var gd = document.getElementById('468e9eb7-9321-4950-803d-3449d390b1d2');\n",
       "var x = new MutationObserver(function (mutations, observer) {{\n",
       "        var display = window.getComputedStyle(gd).display;\n",
       "        if (!display || display === 'none') {{\n",
       "            console.log([gd, 'removed!']);\n",
       "            Plotly.purge(gd);\n",
       "            observer.disconnect();\n",
       "        }}\n",
       "}});\n",
       "\n",
       "// Listen for the removal of the full notebook cells\n",
       "var notebookContainer = gd.closest('#notebook-container');\n",
       "if (notebookContainer) {{\n",
       "    x.observe(notebookContainer, {childList: true});\n",
       "}}\n",
       "\n",
       "// Listen for the clearing of the current output cell\n",
       "var outputEl = gd.closest('.output');\n",
       "if (outputEl) {{\n",
       "    x.observe(outputEl, {childList: true});\n",
       "}}\n",
       "\n",
       "                        })\n",
       "                };\n",
       "                });\n",
       "            </script>\n",
       "        </div>"
      ]
     },
     "metadata": {},
     "output_type": "display_data"
    }
   ],
   "source": [
    "fight_outcomes = df['winby'].unique().tolist()\n",
    "\n",
    "all_fights = {3: {}, 5: {}}\n",
    "\n",
    "# calculate outcomes by # max rounds\n",
    "for num_max_rounds in [3, 5]:\n",
    "    for outcome in fight_outcomes:\n",
    "        fights_by_round_and_outcome = df['Last_round'][(df['Max_round'] == num_max_rounds) & (df['winby'] == outcome)].size\n",
    "        if outcome in all_fights[num_max_rounds]:\n",
    "            all_fights[num_max_rounds][outcome] += fights_by_round_and_outcome\n",
    "        else:\n",
    "            all_fights[num_max_rounds][outcome] = fights_by_round_and_outcome\n",
    "        \n",
    "all_3round = sum(all_fights[3].values())\n",
    "all_5round = sum(all_fights[5].values())\n",
    "\n",
    "fig = {\n",
    "  \"data\": [\n",
    "    {\n",
    "      \"values\": list(all_fights[3].values()),\n",
    "      \"labels\": list(all_fights[3].keys()),\n",
    "      \"text\": list(all_fights[3].keys()),\n",
    "      \"domain\": {\"column\": 0},\n",
    "      \"name\": \"Normal bout\",\n",
    "      \"hoverinfo\":\"label+percent+value\",\n",
    "      \"hole\": .5,\n",
    "      \"type\": \"pie\"\n",
    "    },\n",
    "    {\n",
    "      \"values\": list(all_fights[5].values()),\n",
    "      \"labels\": list(all_fights[5].keys()),\n",
    "      \"text\": list(all_fights[5].keys()),\n",
    "      \"textposition\":\"inside\",\n",
    "      \"domain\": {\"column\": 1},\n",
    "      \"name\": \"Title bout\",\n",
    "      \"hoverinfo\":\"label+percent+value\",\n",
    "      \"hole\": .5,\n",
    "      \"type\": \"pie\"\n",
    "    }],\n",
    "  \"layout\": {\n",
    "        \"title\":\"Fights by Win Type\",\n",
    "        \"grid\": {\"rows\": 1, \"columns\": 2},\n",
    "        \"annotations\": [\n",
    "            {\n",
    "                \"font\": {\n",
    "                    \"size\": 20\n",
    "                },\n",
    "                \"showarrow\": False,\n",
    "                \"text\": \"Normal bout\",\n",
    "                \"x\": 0.17,\n",
    "                \"y\": 0.50\n",
    "            },            \n",
    "            {\n",
    "                \"font\": {\n",
    "                    \"size\": 20\n",
    "                },\n",
    "                \"showarrow\": False,\n",
    "                \"text\": \"Title bout\",\n",
    "                \"x\": 0.815,\n",
    "                \"y\": 0.50\n",
    "            },\n",
    "            \n",
    "        ]\n",
    "    }\n",
    "}\n",
    "iplot(fig, filename='winby fight tyoe')"
   ]
  },
  {
   "cell_type": "markdown",
   "metadata": {},
   "source": [
    "# Analyzing the correlation of features"
   ]
  },
  {
   "cell_type": "markdown",
   "metadata": {},
   "source": [
    "### Analyze the correlation of head strikes landed"
   ]
  },
  {
   "cell_type": "markdown",
   "metadata": {},
   "source": [
    "Get the columns for each round that contains the type of attacks, landed and attempted, made during that single round"
   ]
  },
  {
   "cell_type": "code",
   "execution_count": 25,
   "metadata": {},
   "outputs": [],
   "source": [
    "cols = [ col for col in df.columns.values if 'Round1' in col ]\n",
    "cols1 = [ col for col in cols if 'Head' in col ]\n",
    "cols_round1 = [ col for col in cols1 if 'Landed' in col ]\n",
    "cols_round1.insert(0, 'winner')\n",
    "\n",
    "cols = [ col for col in df.columns.values if 'Round2' in col ]\n",
    "cols1 = [ col for col in cols if 'Head' in col ]\n",
    "cols_round2 = [ col for col in cols1 if 'Landed' in col ]\n",
    "cols_round2.insert(0, 'winner')\n",
    "\n",
    "cols = [ col for col in df.columns.values if 'Round3' in col ]\n",
    "cols1 = [ col for col in cols if 'Head' in col ]\n",
    "cols_round3 = [ col for col in cols1 if 'Landed' in col ]\n",
    "cols_round3.insert(0, 'winner')\n",
    "\n",
    "cols = [ col for col in df.columns.values if 'Round4' in col ]\n",
    "cols1 = [ col for col in cols if 'Head' in col ]\n",
    "cols_round4 = [ col for col in cols1 if 'Landed' in col ]\n",
    "cols_round4.insert(0, 'winner')\n",
    "\n",
    "cols = [ col for col in df.columns.values if 'Round5' in col ]\n",
    "cols1 = [ col for col in cols if 'Head' in col ]\n",
    "cols_round5 = [ col for col in cols1 if 'Landed' in col ]\n",
    "cols_round5.insert(0, 'winner')\n"
   ]
  },
  {
   "cell_type": "markdown",
   "metadata": {},
   "source": [
    "### One-Hot Encoding for winner of the type"
   ]
  },
  {
   "cell_type": "markdown",
   "metadata": {},
   "source": [
    "Due to the fact that the winnner is represented by the corner color, I need to transform this into a numeric variable so I can analyze it. The Encoding will transform the winner column into the following keys: \n",
    "* 0: Red corner won the fight\n",
    "* 1: Blue corner won the fight\n"
   ]
  },
  {
   "cell_type": "code",
   "execution_count": 26,
   "metadata": {},
   "outputs": [],
   "source": [
    "wins_df = pd.concat([df, (df['winner'] == 'blue').astype(int)], axis=1)\n",
    "round1 = wins_df[cols_round1].corr().fillna(0)\n",
    "\n",
    "round2 = wins_df[cols_round2].corr().fillna(0)\n",
    "\n",
    "round3 = wins_df[cols_round3].corr().fillna(0)\n",
    "\n",
    "round4 = wins_df[cols_round4].corr().fillna(0)\n",
    "\n",
    "round5 = wins_df[cols_round5].corr().fillna(0)"
   ]
  },
  {
   "cell_type": "markdown",
   "metadata": {},
   "source": [
    "## Let's use a heatmap to visualize the correlation of the kind of attacks for: "
   ]
  },
  {
   "cell_type": "markdown",
   "metadata": {},
   "source": [
    "### Round 1"
   ]
  },
  {
   "cell_type": "code",
   "execution_count": 27,
   "metadata": {},
   "outputs": [
    {
     "data": {
      "text/plain": [
       "<matplotlib.axes._subplots.AxesSubplot at 0x1e6c795b648>"
      ]
     },
     "execution_count": 27,
     "metadata": {},
     "output_type": "execute_result"
    },
    {
     "data": {
      "image/png": "[encoded data removed]",
      "text/plain": [
       "<Figure size 432x288 with 2 Axes>"
      ]
     },
     "metadata": {
      "needs_background": "light"
     },
     "output_type": "display_data"
    }
   ],
   "source": [
    "sns.heatmap(round1)"
   ]
  },
  {
   "cell_type": "markdown",
   "metadata": {},
   "source": [
    "### Round 2"
   ]
  },
  {
   "cell_type": "code",
   "execution_count": 28,
   "metadata": {},
   "outputs": [
    {
     "data": {
      "text/plain": [
       "<matplotlib.axes._subplots.AxesSubplot at 0x1e6c72841c8>"
      ]
     },
     "execution_count": 28,
     "metadata": {},
     "output_type": "execute_result"
    },
    {
     "data": {
      "image/png": "[encoded data removed]",
      "text/plain": [
       "<Figure size 432x288 with 2 Axes>"
      ]
     },
     "metadata": {
      "needs_background": "light"
     },
     "output_type": "display_data"
    }
   ],
   "source": [
    "sns.heatmap(round2)"
   ]
  },
  {
   "cell_type": "markdown",
   "metadata": {},
   "source": [
    "### Round 3"
   ]
  },
  {
   "cell_type": "code",
   "execution_count": 29,
   "metadata": {},
   "outputs": [
    {
     "data": {
      "text/plain": [
       "<matplotlib.axes._subplots.AxesSubplot at 0x1e6c6eea1c8>"
      ]
     },
     "execution_count": 29,
     "metadata": {},
     "output_type": "execute_result"
    },
    {
     "data": {
      "image/png": "[encoded data removed]",
      "text/plain": [
       "<Figure size 432x288 with 2 Axes>"
      ]
     },
     "metadata": {
      "needs_background": "light"
     },
     "output_type": "display_data"
    }
   ],
   "source": [
    "sns.heatmap(round3)"
   ]
  },
  {
   "cell_type": "markdown",
   "metadata": {},
   "source": [
    "### Round 4"
   ]
  },
  {
   "cell_type": "code",
   "execution_count": 30,
   "metadata": {},
   "outputs": [
    {
     "data": {
      "text/plain": [
       "<matplotlib.axes._subplots.AxesSubplot at 0x1e6c721cf48>"
      ]
     },
     "execution_count": 30,
     "metadata": {},
     "output_type": "execute_result"
    },
    {
     "data": {
      "image/png": "[encoded data removed]",
      "text/plain": [
       "<Figure size 432x288 with 2 Axes>"
      ]
     },
     "metadata": {
      "needs_background": "light"
     },
     "output_type": "display_data"
    }
   ],
   "source": [
    "sns.heatmap(round4)"
   ]
  },
  {
   "cell_type": "markdown",
   "metadata": {},
   "source": [
    "### Round 5"
   ]
  },
  {
   "cell_type": "code",
   "execution_count": 31,
   "metadata": {},
   "outputs": [
    {
     "data": {
      "text/plain": [
       "<matplotlib.axes._subplots.AxesSubplot at 0x1e6c30c40c8>"
      ]
     },
     "execution_count": 31,
     "metadata": {},
     "output_type": "execute_result"
    },
    {
     "data": {
      "image/png": "[encoded data removed]",
      "text/plain": [
       "<Figure size 432x288 with 2 Axes>"
      ]
     },
     "metadata": {
      "needs_background": "light"
     },
     "output_type": "display_data"
    }
   ],
   "source": [
    "sns.heatmap(round5)"
   ]
  },
  {
   "cell_type": "markdown",
   "metadata": {},
   "source": [
    "### Try SVM Model"
   ]
  },
  {
   "cell_type": "code",
   "execution_count": 32,
   "metadata": {},
   "outputs": [],
   "source": [
    "cols = [ col for col in df.columns.values if 'Round' in col ]\n",
    "X = wins_df[cols]\n",
    "X\n",
    "y = wins_df['winner']\n",
    "y = y.iloc[:, 1]"
   ]
  },
  {
   "cell_type": "code",
   "execution_count": 33,
   "metadata": {},
   "outputs": [],
   "source": [
    "# shuffle and split training and test sets\n",
    "X_train, X_test, y_train, y_test = train_test_split(X, y, test_size=.5,\n",
    "                                                    random_state=0)"
   ]
  },
  {
   "cell_type": "markdown",
   "metadata": {},
   "source": [
    "## Train the SVM"
   ]
  },
  {
   "cell_type": "code",
   "execution_count": null,
   "metadata": {},
   "outputs": [],
   "source": [
    "# classifier = OneVsRestClassifier(svm.SVC(kernel='linear', probability=True))\n",
    "                                 \n",
    "\n",
    "# y_score = classifier.fit(X_train, y_train).decision_function(X_test)"
   ]
  },
  {
   "cell_type": "code",
   "execution_count": null,
   "metadata": {},
   "outputs": [],
   "source": [
    "# scrore head\n",
    "#y_score[0:10]"
   ]
  },
  {
   "cell_type": "markdown",
   "metadata": {},
   "source": [
    "# Let's cluster the fighters by fighting style"
   ]
  },
  {
   "cell_type": "markdown",
   "metadata": {},
   "source": [
    "To do this I will use the same features used for the correlation, which are the kind of attacks made by the fighter during each round. This will help me find out which fighters attempt more takedowns, clinches, and submissions (wrestlers). And fighters which prefer to attempt punches and kicks (stand up fighters)"
   ]
  },
  {
   "cell_type": "code",
   "execution_count": 28,
   "metadata": {},
   "outputs": [
    {
     "data": {
      "text/html": [
       "<div>\n",
       "<style scoped>\n",
       "    .dataframe tbody tr th:only-of-type {\n",
       "        vertical-align: middle;\n",
       "    }\n",
       "\n",
       "    .dataframe tbody tr th {\n",
       "        vertical-align: top;\n",
       "    }\n",
       "\n",
       "    .dataframe thead th {\n",
       "        text-align: right;\n",
       "    }\n",
       "</style>\n",
       "<table border=\"1\" class=\"dataframe\">\n",
       "  <thead>\n",
       "    <tr style=\"text-align: right;\">\n",
       "      <th></th>\n",
       "      <th>Strikes_Clinch Significant Punches_Landed</th>\n",
       "      <th>Strikes_Distance Leg Kicks_Attempts</th>\n",
       "      <th>Grappling_Takedowns_Attempts</th>\n",
       "      <th>Strikes_Ground Total Strikes_Landed</th>\n",
       "      <th>Strikes_Distance Head Punches_Attempts</th>\n",
       "      <th>Strikes_Distance Head Strikes_Landed</th>\n",
       "      <th>Strikes_Leg Total Strikes_Landed</th>\n",
       "      <th>Strikes_Legs Significant Strikes_Landed</th>\n",
       "      <th>Strikes_Total Strikes_Landed</th>\n",
       "      <th>Strikes_Leg Total Strikes_Attempts</th>\n",
       "      <th>...</th>\n",
       "      <th>Strikes_Punches_Attempts</th>\n",
       "      <th>Strikes_Distance Head Punches_Landed</th>\n",
       "      <th>Strikes_Clinch Total Strikes_Attempts</th>\n",
       "      <th>Strikes_Distance Strikes_Attempts</th>\n",
       "      <th>Strikes_Body Significant Strikes_Landed</th>\n",
       "      <th>Strikes_Ground Significant Strikes_Landed</th>\n",
       "      <th>Grappling_Submissions_Attempts</th>\n",
       "      <th>Strikes_Clinch Leg Strikes_Attempts</th>\n",
       "      <th>Strikes_Body Total Strikes_Attempts</th>\n",
       "      <th>Strikes_Clinch Significant Strikes_Landed</th>\n",
       "    </tr>\n",
       "  </thead>\n",
       "  <tbody>\n",
       "    <tr>\n",
       "      <th>count</th>\n",
       "      <td>347.000000</td>\n",
       "      <td>347.000000</td>\n",
       "      <td>347.000000</td>\n",
       "      <td>347.000000</td>\n",
       "      <td>347.000000</td>\n",
       "      <td>347.000000</td>\n",
       "      <td>347.000000</td>\n",
       "      <td>347.000000</td>\n",
       "      <td>347.000000</td>\n",
       "      <td>347.000000</td>\n",
       "      <td>...</td>\n",
       "      <td>347.000000</td>\n",
       "      <td>347.000000</td>\n",
       "      <td>347.000000</td>\n",
       "      <td>347.000000</td>\n",
       "      <td>347.000000</td>\n",
       "      <td>347.000000</td>\n",
       "      <td>347.000000</td>\n",
       "      <td>347.000000</td>\n",
       "      <td>347.000000</td>\n",
       "      <td>347.000000</td>\n",
       "    </tr>\n",
       "    <tr>\n",
       "      <th>mean</th>\n",
       "      <td>0.424203</td>\n",
       "      <td>1.096278</td>\n",
       "      <td>3.401851</td>\n",
       "      <td>19.949031</td>\n",
       "      <td>10.146278</td>\n",
       "      <td>16.645967</td>\n",
       "      <td>0.492179</td>\n",
       "      <td>6.371790</td>\n",
       "      <td>58.611217</td>\n",
       "      <td>0.617224</td>\n",
       "      <td>...</td>\n",
       "      <td>15.826473</td>\n",
       "      <td>3.549222</td>\n",
       "      <td>15.456939</td>\n",
       "      <td>71.681258</td>\n",
       "      <td>7.681901</td>\n",
       "      <td>6.418836</td>\n",
       "      <td>0.428150</td>\n",
       "      <td>0.827275</td>\n",
       "      <td>16.706124</td>\n",
       "      <td>6.148765</td>\n",
       "    </tr>\n",
       "    <tr>\n",
       "      <th>std</th>\n",
       "      <td>0.972431</td>\n",
       "      <td>2.432205</td>\n",
       "      <td>2.994472</td>\n",
       "      <td>17.177737</td>\n",
       "      <td>17.125555</td>\n",
       "      <td>11.026027</td>\n",
       "      <td>1.359028</td>\n",
       "      <td>4.996988</td>\n",
       "      <td>30.301056</td>\n",
       "      <td>1.761861</td>\n",
       "      <td>...</td>\n",
       "      <td>24.054948</td>\n",
       "      <td>6.250071</td>\n",
       "      <td>12.680800</td>\n",
       "      <td>42.458783</td>\n",
       "      <td>5.620311</td>\n",
       "      <td>5.809190</td>\n",
       "      <td>0.499479</td>\n",
       "      <td>1.380734</td>\n",
       "      <td>11.495761</td>\n",
       "      <td>5.083957</td>\n",
       "    </tr>\n",
       "    <tr>\n",
       "      <th>min</th>\n",
       "      <td>0.000000</td>\n",
       "      <td>0.000000</td>\n",
       "      <td>0.000000</td>\n",
       "      <td>0.000000</td>\n",
       "      <td>0.000000</td>\n",
       "      <td>1.133333</td>\n",
       "      <td>0.000000</td>\n",
       "      <td>0.000000</td>\n",
       "      <td>9.133333</td>\n",
       "      <td>0.000000</td>\n",
       "      <td>...</td>\n",
       "      <td>0.000000</td>\n",
       "      <td>0.000000</td>\n",
       "      <td>0.266667</td>\n",
       "      <td>2.733333</td>\n",
       "      <td>0.000000</td>\n",
       "      <td>0.000000</td>\n",
       "      <td>0.000000</td>\n",
       "      <td>0.000000</td>\n",
       "      <td>0.266667</td>\n",
       "      <td>0.000000</td>\n",
       "    </tr>\n",
       "    <tr>\n",
       "      <th>25%</th>\n",
       "      <td>0.000000</td>\n",
       "      <td>0.000000</td>\n",
       "      <td>1.244048</td>\n",
       "      <td>8.272222</td>\n",
       "      <td>0.000000</td>\n",
       "      <td>8.583333</td>\n",
       "      <td>0.000000</td>\n",
       "      <td>2.877778</td>\n",
       "      <td>37.409722</td>\n",
       "      <td>0.000000</td>\n",
       "      <td>...</td>\n",
       "      <td>0.000000</td>\n",
       "      <td>0.000000</td>\n",
       "      <td>6.122222</td>\n",
       "      <td>39.845238</td>\n",
       "      <td>3.797619</td>\n",
       "      <td>2.483333</td>\n",
       "      <td>0.000000</td>\n",
       "      <td>0.000000</td>\n",
       "      <td>8.913690</td>\n",
       "      <td>2.250000</td>\n",
       "    </tr>\n",
       "    <tr>\n",
       "      <th>50%</th>\n",
       "      <td>0.000000</td>\n",
       "      <td>0.000000</td>\n",
       "      <td>2.611111</td>\n",
       "      <td>15.500000</td>\n",
       "      <td>0.000000</td>\n",
       "      <td>13.761905</td>\n",
       "      <td>0.000000</td>\n",
       "      <td>5.125000</td>\n",
       "      <td>52.000000</td>\n",
       "      <td>0.000000</td>\n",
       "      <td>...</td>\n",
       "      <td>0.000000</td>\n",
       "      <td>0.000000</td>\n",
       "      <td>12.266667</td>\n",
       "      <td>64.750000</td>\n",
       "      <td>6.095238</td>\n",
       "      <td>4.761905</td>\n",
       "      <td>0.277778</td>\n",
       "      <td>0.285714</td>\n",
       "      <td>14.277778</td>\n",
       "      <td>4.900000</td>\n",
       "    </tr>\n",
       "    <tr>\n",
       "      <th>75%</th>\n",
       "      <td>0.288690</td>\n",
       "      <td>0.909091</td>\n",
       "      <td>4.648148</td>\n",
       "      <td>26.625000</td>\n",
       "      <td>14.734127</td>\n",
       "      <td>23.045238</td>\n",
       "      <td>0.000000</td>\n",
       "      <td>8.715278</td>\n",
       "      <td>73.538462</td>\n",
       "      <td>0.000000</td>\n",
       "      <td>...</td>\n",
       "      <td>28.404762</td>\n",
       "      <td>4.905983</td>\n",
       "      <td>20.359524</td>\n",
       "      <td>95.666667</td>\n",
       "      <td>10.178571</td>\n",
       "      <td>8.837500</td>\n",
       "      <td>0.666667</td>\n",
       "      <td>1.042328</td>\n",
       "      <td>20.837963</td>\n",
       "      <td>8.150000</td>\n",
       "    </tr>\n",
       "    <tr>\n",
       "      <th>max</th>\n",
       "      <td>5.454545</td>\n",
       "      <td>15.833333</td>\n",
       "      <td>15.722222</td>\n",
       "      <td>100.622222</td>\n",
       "      <td>117.666667</td>\n",
       "      <td>62.041667</td>\n",
       "      <td>9.333333</td>\n",
       "      <td>28.303030</td>\n",
       "      <td>210.866667</td>\n",
       "      <td>12.500000</td>\n",
       "      <td>...</td>\n",
       "      <td>126.000000</td>\n",
       "      <td>42.666667</td>\n",
       "      <td>72.933333</td>\n",
       "      <td>217.633333</td>\n",
       "      <td>30.208333</td>\n",
       "      <td>36.151515</td>\n",
       "      <td>2.969697</td>\n",
       "      <td>8.750000</td>\n",
       "      <td>77.666667</td>\n",
       "      <td>30.166667</td>\n",
       "    </tr>\n",
       "  </tbody>\n",
       "</table>\n",
       "<p>8 rows × 74 columns</p>\n",
       "</div>"
      ],
      "text/plain": [
       "       Strikes_Clinch Significant Punches_Landed  \\\n",
       "count                                 347.000000   \n",
       "mean                                    0.424203   \n",
       "std                                     0.972431   \n",
       "min                                     0.000000   \n",
       "25%                                     0.000000   \n",
       "50%                                     0.000000   \n",
       "75%                                     0.288690   \n",
       "max                                     5.454545   \n",
       "\n",
       "       Strikes_Distance Leg Kicks_Attempts  Grappling_Takedowns_Attempts  \\\n",
       "count                           347.000000                    347.000000   \n",
       "mean                              1.096278                      3.401851   \n",
       "std                               2.432205                      2.994472   \n",
       "min                               0.000000                      0.000000   \n",
       "25%                               0.000000                      1.244048   \n",
       "50%                               0.000000                      2.611111   \n",
       "75%                               0.909091                      4.648148   \n",
       "max                              15.833333                     15.722222   \n",
       "\n",
       "       Strikes_Ground Total Strikes_Landed  \\\n",
       "count                           347.000000   \n",
       "mean                             19.949031   \n",
       "std                              17.177737   \n",
       "min                               0.000000   \n",
       "25%                               8.272222   \n",
       "50%                              15.500000   \n",
       "75%                              26.625000   \n",
       "max                             100.622222   \n",
       "\n",
       "       Strikes_Distance Head Punches_Attempts  \\\n",
       "count                              347.000000   \n",
       "mean                                10.146278   \n",
       "std                                 17.125555   \n",
       "min                                  0.000000   \n",
       "25%                                  0.000000   \n",
       "50%                                  0.000000   \n",
       "75%                                 14.734127   \n",
       "max                                117.666667   \n",
       "\n",
       "       Strikes_Distance Head Strikes_Landed  Strikes_Leg Total Strikes_Landed  \\\n",
       "count                            347.000000                        347.000000   \n",
       "mean                              16.645967                          0.492179   \n",
       "std                               11.026027                          1.359028   \n",
       "min                                1.133333                          0.000000   \n",
       "25%                                8.583333                          0.000000   \n",
       "50%                               13.761905                          0.000000   \n",
       "75%                               23.045238                          0.000000   \n",
       "max                               62.041667                          9.333333   \n",
       "\n",
       "       Strikes_Legs Significant Strikes_Landed  Strikes_Total Strikes_Landed  \\\n",
       "count                               347.000000                    347.000000   \n",
       "mean                                  6.371790                     58.611217   \n",
       "std                                   4.996988                     30.301056   \n",
       "min                                   0.000000                      9.133333   \n",
       "25%                                   2.877778                     37.409722   \n",
       "50%                                   5.125000                     52.000000   \n",
       "75%                                   8.715278                     73.538462   \n",
       "max                                  28.303030                    210.866667   \n",
       "\n",
       "       Strikes_Leg Total Strikes_Attempts  ...  Strikes_Punches_Attempts  \\\n",
       "count                          347.000000  ...                347.000000   \n",
       "mean                             0.617224  ...                 15.826473   \n",
       "std                              1.761861  ...                 24.054948   \n",
       "min                              0.000000  ...                  0.000000   \n",
       "25%                              0.000000  ...                  0.000000   \n",
       "50%                              0.000000  ...                  0.000000   \n",
       "75%                              0.000000  ...                 28.404762   \n",
       "max                             12.500000  ...                126.000000   \n",
       "\n",
       "       Strikes_Distance Head Punches_Landed  \\\n",
       "count                            347.000000   \n",
       "mean                               3.549222   \n",
       "std                                6.250071   \n",
       "min                                0.000000   \n",
       "25%                                0.000000   \n",
       "50%                                0.000000   \n",
       "75%                                4.905983   \n",
       "max                               42.666667   \n",
       "\n",
       "       Strikes_Clinch Total Strikes_Attempts  \\\n",
       "count                             347.000000   \n",
       "mean                               15.456939   \n",
       "std                                12.680800   \n",
       "min                                 0.266667   \n",
       "25%                                 6.122222   \n",
       "50%                                12.266667   \n",
       "75%                                20.359524   \n",
       "max                                72.933333   \n",
       "\n",
       "       Strikes_Distance Strikes_Attempts  \\\n",
       "count                         347.000000   \n",
       "mean                           71.681258   \n",
       "std                            42.458783   \n",
       "min                             2.733333   \n",
       "25%                            39.845238   \n",
       "50%                            64.750000   \n",
       "75%                            95.666667   \n",
       "max                           217.633333   \n",
       "\n",
       "       Strikes_Body Significant Strikes_Landed  \\\n",
       "count                               347.000000   \n",
       "mean                                  7.681901   \n",
       "std                                   5.620311   \n",
       "min                                   0.000000   \n",
       "25%                                   3.797619   \n",
       "50%                                   6.095238   \n",
       "75%                                  10.178571   \n",
       "max                                  30.208333   \n",
       "\n",
       "       Strikes_Ground Significant Strikes_Landed  \\\n",
       "count                                 347.000000   \n",
       "mean                                    6.418836   \n",
       "std                                     5.809190   \n",
       "min                                     0.000000   \n",
       "25%                                     2.483333   \n",
       "50%                                     4.761905   \n",
       "75%                                     8.837500   \n",
       "max                                    36.151515   \n",
       "\n",
       "       Grappling_Submissions_Attempts  Strikes_Clinch Leg Strikes_Attempts  \\\n",
       "count                      347.000000                           347.000000   \n",
       "mean                         0.428150                             0.827275   \n",
       "std                          0.499479                             1.380734   \n",
       "min                          0.000000                             0.000000   \n",
       "25%                          0.000000                             0.000000   \n",
       "50%                          0.277778                             0.285714   \n",
       "75%                          0.666667                             1.042328   \n",
       "max                          2.969697                             8.750000   \n",
       "\n",
       "       Strikes_Body Total Strikes_Attempts  \\\n",
       "count                           347.000000   \n",
       "mean                             16.706124   \n",
       "std                              11.495761   \n",
       "min                               0.266667   \n",
       "25%                               8.913690   \n",
       "50%                              14.277778   \n",
       "75%                              20.837963   \n",
       "max                              77.666667   \n",
       "\n",
       "       Strikes_Clinch Significant Strikes_Landed  \n",
       "count                                 347.000000  \n",
       "mean                                    6.148765  \n",
       "std                                     5.083957  \n",
       "min                                     0.000000  \n",
       "25%                                     2.250000  \n",
       "50%                                     4.900000  \n",
       "75%                                     8.150000  \n",
       "max                                    30.166667  \n",
       "\n",
       "[8 rows x 74 columns]"
      ]
     },
     "execution_count": 28,
     "metadata": {},
     "output_type": "execute_result"
    }
   ],
   "source": [
    "clustering_columns = [ col for col in df.columns if ('Round' in col and 'TIP' not in col and 'Round4' not in col and 'Round5' not in col) ]\n",
    "b_clustering_columns = [ col for col in clustering_columns if col.startswith('B_') ]\n",
    "r_clustering_columns = [ col for col in clustering_columns if col.startswith('R_') ]\n",
    "\n",
    "# filter out 5-round fights\n",
    "df_3round = df[df['Max_round'] == 3]\n",
    "\n",
    "# combine blue and red fighters into a single dataframe with the relevant stats, and add name column\n",
    "clustering_df = pd.concat([df_3round[b_clustering_columns].rename(lambda x: x[3:], axis='columns'), df_3round[r_clustering_columns].rename(lambda x: x[3:], axis='columns')], ignore_index=True)\n",
    "aggregated_columns = list(set([ col[7:] for col in clustering_df.columns.values if col ])) + ['Name'] # remove \"RoundX_\" from the start of each column\n",
    "clustering_df['Name'] = pd.concat([df_3round['B_Name'], df_3round['R_Name']], ignore_index=True)\n",
    "\n",
    "# aggregate round stats\n",
    "new_rows = []\n",
    "for index, row in clustering_df.iterrows():\n",
    "    row_dict = {}\n",
    "    for aggregated_column in aggregated_columns:\n",
    "        if aggregated_column is 'Name':\n",
    "            row_dict['Name'] = row['Name']\n",
    "        else:\n",
    "            col_sum = 0\n",
    "            num_rounds = 0\n",
    "            for round_num in range(1,4):\n",
    "                round_column = 'Round' + str(round_num) + '_' + aggregated_column\n",
    "                if not np.isnan(row[round_column]):\n",
    "                    num_rounds += 1\n",
    "                    col_sum += row[round_column]\n",
    "            row_dict[aggregated_column] = col_sum / num_rounds if num_rounds > 0 else np.nan\n",
    "    new_rows.append(row_dict)\n",
    "    \n",
    "# fill Nan values (missing stats for all 3 rounds) with the mean of each column\n",
    "aggregated_clustering_df_raw = pd.DataFrame(new_rows)\n",
    "aggregated_clustering_df_raw = aggregated_clustering_df_raw.fillna(aggregated_clustering_df_raw.mean())\n",
    "\n",
    "# combine all rows for a single fighter into one row for that fighter\n",
    "fighter_rows = []\n",
    "names = aggregated_clustering_df_raw['Name'].unique()\n",
    "\n",
    "for name in names:\n",
    "    fights_for_fighter = aggregated_clustering_df_raw[aggregated_clustering_df_raw['Name'] == name]\n",
    "    if len(fights_for_fighter) >= 5:\n",
    "        fighter_row = fights_for_fighter.mean()\n",
    "        fighter_row['Name'] = name # add name back in\n",
    "        fighter_rows.append(fighter_row)\n",
    "\n",
    "aggregated_clustering_df_raw_byname = pd.DataFrame(fighter_rows)\n",
    "\n",
    "aggregated_clustering_df_raw_byname.describe()\n"
   ]
  },
  {
   "cell_type": "markdown",
   "metadata": {},
   "source": [
    "Normalize the resulting data"
   ]
  },
  {
   "cell_type": "code",
   "execution_count": 29,
   "metadata": {},
   "outputs": [
    {
     "data": {
      "text/html": [
       "<div>\n",
       "<style scoped>\n",
       "    .dataframe tbody tr th:only-of-type {\n",
       "        vertical-align: middle;\n",
       "    }\n",
       "\n",
       "    .dataframe tbody tr th {\n",
       "        vertical-align: top;\n",
       "    }\n",
       "\n",
       "    .dataframe thead th {\n",
       "        text-align: right;\n",
       "    }\n",
       "</style>\n",
       "<table border=\"1\" class=\"dataframe\">\n",
       "  <thead>\n",
       "    <tr style=\"text-align: right;\">\n",
       "      <th></th>\n",
       "      <th>Strikes_Clinch Significant Punches_Landed</th>\n",
       "      <th>Strikes_Distance Leg Kicks_Attempts</th>\n",
       "      <th>Grappling_Takedowns_Attempts</th>\n",
       "      <th>Strikes_Ground Total Strikes_Landed</th>\n",
       "      <th>Strikes_Distance Head Punches_Attempts</th>\n",
       "      <th>Strikes_Distance Head Strikes_Landed</th>\n",
       "      <th>Strikes_Leg Total Strikes_Landed</th>\n",
       "      <th>Strikes_Legs Significant Strikes_Landed</th>\n",
       "      <th>Strikes_Total Strikes_Landed</th>\n",
       "      <th>Strikes_Leg Total Strikes_Attempts</th>\n",
       "      <th>...</th>\n",
       "      <th>Strikes_Punches_Attempts</th>\n",
       "      <th>Strikes_Distance Head Punches_Landed</th>\n",
       "      <th>Strikes_Clinch Total Strikes_Attempts</th>\n",
       "      <th>Strikes_Distance Strikes_Attempts</th>\n",
       "      <th>Strikes_Body Significant Strikes_Landed</th>\n",
       "      <th>Strikes_Ground Significant Strikes_Landed</th>\n",
       "      <th>Grappling_Submissions_Attempts</th>\n",
       "      <th>Strikes_Clinch Leg Strikes_Attempts</th>\n",
       "      <th>Strikes_Body Total Strikes_Attempts</th>\n",
       "      <th>Strikes_Clinch Significant Strikes_Landed</th>\n",
       "    </tr>\n",
       "  </thead>\n",
       "  <tbody>\n",
       "    <tr>\n",
       "      <th>count</th>\n",
       "      <td>3.470000e+02</td>\n",
       "      <td>3.470000e+02</td>\n",
       "      <td>3.470000e+02</td>\n",
       "      <td>3.470000e+02</td>\n",
       "      <td>347.000000</td>\n",
       "      <td>3.470000e+02</td>\n",
       "      <td>3.470000e+02</td>\n",
       "      <td>3.470000e+02</td>\n",
       "      <td>3.470000e+02</td>\n",
       "      <td>3.470000e+02</td>\n",
       "      <td>...</td>\n",
       "      <td>3.470000e+02</td>\n",
       "      <td>3.470000e+02</td>\n",
       "      <td>3.470000e+02</td>\n",
       "      <td>3.470000e+02</td>\n",
       "      <td>3.470000e+02</td>\n",
       "      <td>3.470000e+02</td>\n",
       "      <td>3.470000e+02</td>\n",
       "      <td>3.470000e+02</td>\n",
       "      <td>3.470000e+02</td>\n",
       "      <td>3.470000e+02</td>\n",
       "    </tr>\n",
       "    <tr>\n",
       "      <th>mean</th>\n",
       "      <td>1.023837e-17</td>\n",
       "      <td>1.023837e-16</td>\n",
       "      <td>1.023837e-16</td>\n",
       "      <td>-1.433372e-16</td>\n",
       "      <td>0.000000</td>\n",
       "      <td>-6.143021e-16</td>\n",
       "      <td>-8.190694e-17</td>\n",
       "      <td>4.632861e-16</td>\n",
       "      <td>8.190694e-17</td>\n",
       "      <td>-1.842906e-16</td>\n",
       "      <td>...</td>\n",
       "      <td>-1.638139e-16</td>\n",
       "      <td>-1.126220e-16</td>\n",
       "      <td>4.300115e-16</td>\n",
       "      <td>-8.856188e-16</td>\n",
       "      <td>-4.095347e-17</td>\n",
       "      <td>2.815551e-16</td>\n",
       "      <td>2.661976e-16</td>\n",
       "      <td>1.279796e-16</td>\n",
       "      <td>-9.419299e-16</td>\n",
       "      <td>5.323951e-16</td>\n",
       "    </tr>\n",
       "    <tr>\n",
       "      <th>std</th>\n",
       "      <td>1.000000e+00</td>\n",
       "      <td>1.000000e+00</td>\n",
       "      <td>1.000000e+00</td>\n",
       "      <td>1.000000e+00</td>\n",
       "      <td>1.000000</td>\n",
       "      <td>1.000000e+00</td>\n",
       "      <td>1.000000e+00</td>\n",
       "      <td>1.000000e+00</td>\n",
       "      <td>1.000000e+00</td>\n",
       "      <td>1.000000e+00</td>\n",
       "      <td>...</td>\n",
       "      <td>1.000000e+00</td>\n",
       "      <td>1.000000e+00</td>\n",
       "      <td>1.000000e+00</td>\n",
       "      <td>1.000000e+00</td>\n",
       "      <td>1.000000e+00</td>\n",
       "      <td>1.000000e+00</td>\n",
       "      <td>1.000000e+00</td>\n",
       "      <td>1.000000e+00</td>\n",
       "      <td>1.000000e+00</td>\n",
       "      <td>1.000000e+00</td>\n",
       "    </tr>\n",
       "    <tr>\n",
       "      <th>min</th>\n",
       "      <td>-4.362299e-01</td>\n",
       "      <td>-4.507343e-01</td>\n",
       "      <td>-1.136044e+00</td>\n",
       "      <td>-1.161331e+00</td>\n",
       "      <td>-0.592464</td>\n",
       "      <td>-1.406911e+00</td>\n",
       "      <td>-3.621553e-01</td>\n",
       "      <td>-1.275126e+00</td>\n",
       "      <td>-1.632877e+00</td>\n",
       "      <td>-3.503248e-01</td>\n",
       "      <td>...</td>\n",
       "      <td>-6.579300e-01</td>\n",
       "      <td>-5.678691e-01</td>\n",
       "      <td>-1.197895e+00</td>\n",
       "      <td>-1.623879e+00</td>\n",
       "      <td>-1.366811e+00</td>\n",
       "      <td>-1.104945e+00</td>\n",
       "      <td>-8.571938e-01</td>\n",
       "      <td>-5.991562e-01</td>\n",
       "      <td>-1.430045e+00</td>\n",
       "      <td>-1.209445e+00</td>\n",
       "    </tr>\n",
       "    <tr>\n",
       "      <th>25%</th>\n",
       "      <td>-4.362299e-01</td>\n",
       "      <td>-4.507343e-01</td>\n",
       "      <td>-7.205956e-01</td>\n",
       "      <td>-6.797641e-01</td>\n",
       "      <td>-0.592464</td>\n",
       "      <td>-7.312366e-01</td>\n",
       "      <td>-3.621553e-01</td>\n",
       "      <td>-6.992237e-01</td>\n",
       "      <td>-6.996949e-01</td>\n",
       "      <td>-3.503248e-01</td>\n",
       "      <td>...</td>\n",
       "      <td>-6.579300e-01</td>\n",
       "      <td>-5.678691e-01</td>\n",
       "      <td>-7.361300e-01</td>\n",
       "      <td>-7.498100e-01</td>\n",
       "      <td>-6.911151e-01</td>\n",
       "      <td>-6.774615e-01</td>\n",
       "      <td>-8.571938e-01</td>\n",
       "      <td>-5.991562e-01</td>\n",
       "      <td>-6.778528e-01</td>\n",
       "      <td>-7.668761e-01</td>\n",
       "    </tr>\n",
       "    <tr>\n",
       "      <th>50%</th>\n",
       "      <td>-4.362299e-01</td>\n",
       "      <td>-4.507343e-01</td>\n",
       "      <td>-2.640666e-01</td>\n",
       "      <td>-2.589998e-01</td>\n",
       "      <td>-0.592464</td>\n",
       "      <td>-2.615686e-01</td>\n",
       "      <td>-3.621553e-01</td>\n",
       "      <td>-2.495083e-01</td>\n",
       "      <td>-2.181844e-01</td>\n",
       "      <td>-3.503248e-01</td>\n",
       "      <td>...</td>\n",
       "      <td>-6.579300e-01</td>\n",
       "      <td>-5.678691e-01</td>\n",
       "      <td>-2.515829e-01</td>\n",
       "      <td>-1.632467e-01</td>\n",
       "      <td>-2.823087e-01</td>\n",
       "      <td>-2.852258e-01</td>\n",
       "      <td>-3.010588e-01</td>\n",
       "      <td>-3.922269e-01</td>\n",
       "      <td>-2.112384e-01</td>\n",
       "      <td>-2.456286e-01</td>\n",
       "    </tr>\n",
       "    <tr>\n",
       "      <th>75%</th>\n",
       "      <td>-1.393548e-01</td>\n",
       "      <td>-7.696205e-02</td>\n",
       "      <td>4.161992e-01</td>\n",
       "      <td>3.886408e-01</td>\n",
       "      <td>0.267895</td>\n",
       "      <td>5.803787e-01</td>\n",
       "      <td>-3.621553e-01</td>\n",
       "      <td>4.689801e-01</td>\n",
       "      <td>4.926312e-01</td>\n",
       "      <td>-3.503248e-01</td>\n",
       "      <td>...</td>\n",
       "      <td>5.228982e-01</td>\n",
       "      <td>2.170793e-01</td>\n",
       "      <td>3.866148e-01</td>\n",
       "      <td>5.649104e-01</td>\n",
       "      <td>4.442228e-01</td>\n",
       "      <td>4.163514e-01</td>\n",
       "      <td>4.775302e-01</td>\n",
       "      <td>1.557526e-01</td>\n",
       "      <td>3.594228e-01</td>\n",
       "      <td>3.936373e-01</td>\n",
       "    </tr>\n",
       "    <tr>\n",
       "      <th>max</th>\n",
       "      <td>5.172956e+00</td>\n",
       "      <td>6.059133e+00</td>\n",
       "      <td>4.114372e+00</td>\n",
       "      <td>4.696381e+00</td>\n",
       "      <td>6.278359</td>\n",
       "      <td>4.117140e+00</td>\n",
       "      <td>6.505499e+00</td>\n",
       "      <td>4.388892e+00</td>\n",
       "      <td>5.024757e+00</td>\n",
       "      <td>6.744445e+00</td>\n",
       "      <td>...</td>\n",
       "      <td>4.580078e+00</td>\n",
       "      <td>6.258721e+00</td>\n",
       "      <td>4.532553e+00</td>\n",
       "      <td>3.437500e+00</td>\n",
       "      <td>4.008040e+00</td>\n",
       "      <td>5.118215e+00</td>\n",
       "      <td>5.088395e+00</td>\n",
       "      <td>5.738054e+00</td>\n",
       "      <td>5.302871e+00</td>\n",
       "      <td>4.724254e+00</td>\n",
       "    </tr>\n",
       "  </tbody>\n",
       "</table>\n",
       "<p>8 rows × 74 columns</p>\n",
       "</div>"
      ],
      "text/plain": [
       "       Strikes_Clinch Significant Punches_Landed  \\\n",
       "count                               3.470000e+02   \n",
       "mean                                1.023837e-17   \n",
       "std                                 1.000000e+00   \n",
       "min                                -4.362299e-01   \n",
       "25%                                -4.362299e-01   \n",
       "50%                                -4.362299e-01   \n",
       "75%                                -1.393548e-01   \n",
       "max                                 5.172956e+00   \n",
       "\n",
       "       Strikes_Distance Leg Kicks_Attempts  Grappling_Takedowns_Attempts  \\\n",
       "count                         3.470000e+02                  3.470000e+02   \n",
       "mean                          1.023837e-16                  1.023837e-16   \n",
       "std                           1.000000e+00                  1.000000e+00   \n",
       "min                          -4.507343e-01                 -1.136044e+00   \n",
       "25%                          -4.507343e-01                 -7.205956e-01   \n",
       "50%                          -4.507343e-01                 -2.640666e-01   \n",
       "75%                          -7.696205e-02                  4.161992e-01   \n",
       "max                           6.059133e+00                  4.114372e+00   \n",
       "\n",
       "       Strikes_Ground Total Strikes_Landed  \\\n",
       "count                         3.470000e+02   \n",
       "mean                         -1.433372e-16   \n",
       "std                           1.000000e+00   \n",
       "min                          -1.161331e+00   \n",
       "25%                          -6.797641e-01   \n",
       "50%                          -2.589998e-01   \n",
       "75%                           3.886408e-01   \n",
       "max                           4.696381e+00   \n",
       "\n",
       "       Strikes_Distance Head Punches_Attempts  \\\n",
       "count                              347.000000   \n",
       "mean                                 0.000000   \n",
       "std                                  1.000000   \n",
       "min                                 -0.592464   \n",
       "25%                                 -0.592464   \n",
       "50%                                 -0.592464   \n",
       "75%                                  0.267895   \n",
       "max                                  6.278359   \n",
       "\n",
       "       Strikes_Distance Head Strikes_Landed  Strikes_Leg Total Strikes_Landed  \\\n",
       "count                          3.470000e+02                      3.470000e+02   \n",
       "mean                          -6.143021e-16                     -8.190694e-17   \n",
       "std                            1.000000e+00                      1.000000e+00   \n",
       "min                           -1.406911e+00                     -3.621553e-01   \n",
       "25%                           -7.312366e-01                     -3.621553e-01   \n",
       "50%                           -2.615686e-01                     -3.621553e-01   \n",
       "75%                            5.803787e-01                     -3.621553e-01   \n",
       "max                            4.117140e+00                      6.505499e+00   \n",
       "\n",
       "       Strikes_Legs Significant Strikes_Landed  Strikes_Total Strikes_Landed  \\\n",
       "count                             3.470000e+02                  3.470000e+02   \n",
       "mean                              4.632861e-16                  8.190694e-17   \n",
       "std                               1.000000e+00                  1.000000e+00   \n",
       "min                              -1.275126e+00                 -1.632877e+00   \n",
       "25%                              -6.992237e-01                 -6.996949e-01   \n",
       "50%                              -2.495083e-01                 -2.181844e-01   \n",
       "75%                               4.689801e-01                  4.926312e-01   \n",
       "max                               4.388892e+00                  5.024757e+00   \n",
       "\n",
       "       Strikes_Leg Total Strikes_Attempts  ...  Strikes_Punches_Attempts  \\\n",
       "count                        3.470000e+02  ...              3.470000e+02   \n",
       "mean                        -1.842906e-16  ...             -1.638139e-16   \n",
       "std                          1.000000e+00  ...              1.000000e+00   \n",
       "min                         -3.503248e-01  ...             -6.579300e-01   \n",
       "25%                         -3.503248e-01  ...             -6.579300e-01   \n",
       "50%                         -3.503248e-01  ...             -6.579300e-01   \n",
       "75%                         -3.503248e-01  ...              5.228982e-01   \n",
       "max                          6.744445e+00  ...              4.580078e+00   \n",
       "\n",
       "       Strikes_Distance Head Punches_Landed  \\\n",
       "count                          3.470000e+02   \n",
       "mean                          -1.126220e-16   \n",
       "std                            1.000000e+00   \n",
       "min                           -5.678691e-01   \n",
       "25%                           -5.678691e-01   \n",
       "50%                           -5.678691e-01   \n",
       "75%                            2.170793e-01   \n",
       "max                            6.258721e+00   \n",
       "\n",
       "       Strikes_Clinch Total Strikes_Attempts  \\\n",
       "count                           3.470000e+02   \n",
       "mean                            4.300115e-16   \n",
       "std                             1.000000e+00   \n",
       "min                            -1.197895e+00   \n",
       "25%                            -7.361300e-01   \n",
       "50%                            -2.515829e-01   \n",
       "75%                             3.866148e-01   \n",
       "max                             4.532553e+00   \n",
       "\n",
       "       Strikes_Distance Strikes_Attempts  \\\n",
       "count                       3.470000e+02   \n",
       "mean                       -8.856188e-16   \n",
       "std                         1.000000e+00   \n",
       "min                        -1.623879e+00   \n",
       "25%                        -7.498100e-01   \n",
       "50%                        -1.632467e-01   \n",
       "75%                         5.649104e-01   \n",
       "max                         3.437500e+00   \n",
       "\n",
       "       Strikes_Body Significant Strikes_Landed  \\\n",
       "count                             3.470000e+02   \n",
       "mean                             -4.095347e-17   \n",
       "std                               1.000000e+00   \n",
       "min                              -1.366811e+00   \n",
       "25%                              -6.911151e-01   \n",
       "50%                              -2.823087e-01   \n",
       "75%                               4.442228e-01   \n",
       "max                               4.008040e+00   \n",
       "\n",
       "       Strikes_Ground Significant Strikes_Landed  \\\n",
       "count                               3.470000e+02   \n",
       "mean                                2.815551e-16   \n",
       "std                                 1.000000e+00   \n",
       "min                                -1.104945e+00   \n",
       "25%                                -6.774615e-01   \n",
       "50%                                -2.852258e-01   \n",
       "75%                                 4.163514e-01   \n",
       "max                                 5.118215e+00   \n",
       "\n",
       "       Grappling_Submissions_Attempts  Strikes_Clinch Leg Strikes_Attempts  \\\n",
       "count                    3.470000e+02                         3.470000e+02   \n",
       "mean                     2.661976e-16                         1.279796e-16   \n",
       "std                      1.000000e+00                         1.000000e+00   \n",
       "min                     -8.571938e-01                        -5.991562e-01   \n",
       "25%                     -8.571938e-01                        -5.991562e-01   \n",
       "50%                     -3.010588e-01                        -3.922269e-01   \n",
       "75%                      4.775302e-01                         1.557526e-01   \n",
       "max                      5.088395e+00                         5.738054e+00   \n",
       "\n",
       "       Strikes_Body Total Strikes_Attempts  \\\n",
       "count                         3.470000e+02   \n",
       "mean                         -9.419299e-16   \n",
       "std                           1.000000e+00   \n",
       "min                          -1.430045e+00   \n",
       "25%                          -6.778528e-01   \n",
       "50%                          -2.112384e-01   \n",
       "75%                           3.594228e-01   \n",
       "max                           5.302871e+00   \n",
       "\n",
       "       Strikes_Clinch Significant Strikes_Landed  \n",
       "count                               3.470000e+02  \n",
       "mean                                5.323951e-16  \n",
       "std                                 1.000000e+00  \n",
       "min                                -1.209445e+00  \n",
       "25%                                -7.668761e-01  \n",
       "50%                                -2.456286e-01  \n",
       "75%                                 3.936373e-01  \n",
       "max                                 4.724254e+00  \n",
       "\n",
       "[8 rows x 74 columns]"
      ]
     },
     "execution_count": 29,
     "metadata": {},
     "output_type": "execute_result"
    }
   ],
   "source": [
    "pre_normalized = aggregated_clustering_df_raw_byname.drop('Name', axis=1)\n",
    "aggregated_clustering_df = (pre_normalized - pre_normalized.mean()) / pre_normalized.std()\n",
    "aggregated_clustering_df.describe()"
   ]
  },
  {
   "cell_type": "markdown",
   "metadata": {},
   "source": [
    "## Clusterize the data"
   ]
  },
  {
   "cell_type": "code",
   "execution_count": 35,
   "metadata": {},
   "outputs": [
    {
     "name": "stdout",
     "output_type": "stream",
     "text": [
      "First 20 classifications:\n",
      "Alistair Overeem 0\n",
      "Alan Patrick 1\n",
      "Kevin Lee 0\n",
      "Rashid Magomedov 1\n",
      "Abel Trujillo 1\n",
      "Joe Proctor 1\n",
      "Nico Musoke 1\n",
      "Wilson Reis 1\n",
      "Maximo Blanco 1\n",
      "Albert Tumenov 1\n",
      "Tae Hyun Bang 1\n",
      "Russell Doane 1\n",
      "Ilir Latifi 1\n",
      "Neil Seery 0\n",
      "Omari Akhmedov 1\n",
      "Demian Maia 0\n",
      "Pedro Munhoz 1\n",
      "Jessica Eye 0\n",
      "Aljamain Sterling 0\n",
      "Erik Koch 1\n"
     ]
    }
   ],
   "source": [
    "n_clusters = 2\n",
    "clustering_data = aggregated_clustering_df.values\n",
    "cluster = AgglomerativeClustering(n_clusters=n_clusters, affinity='euclidean', linkage='ward')\n",
    "\n",
    "cluster.fit_predict(clustering_data)\n",
    "\n",
    "print('First 20 classifications:')\n",
    "for name, label in zip(aggregated_clustering_df_raw_byname['Name'][:20], cluster.labels_[:20]):\n",
    "    print(name, label)"
   ]
  },
  {
   "cell_type": "markdown",
   "metadata": {},
   "source": [
    "The most famous fighter shown is Alistair Overeem and he is known to be an striker, not a wrestler, so we can infer that the clusters number means: \n",
    "* 0: for strikers\n",
    "* 1: for grapplers or wrestlers"
   ]
  },
  {
   "cell_type": "markdown",
   "metadata": {},
   "source": [
    "## Run the PCA Algorithm to view clusters"
   ]
  },
  {
   "cell_type": "code",
   "execution_count": 32,
   "metadata": {},
   "outputs": [
    {
     "data": {
      "application/vnd.plotly.v1+json": {
       "config": {
        "plotlyServerURL": "https://plot.ly"
       },
       "data": [
        {
         "customdata": [
          [
           "Alistair Overeem"
          ],
          [
           "Alan Patrick"
          ],
          [
           "Kevin Lee"
          ],
          [
           "Rashid Magomedov"
          ],
          [
           "Abel Trujillo"
          ],
          [
           "Joe Proctor"
          ],
          [
           "Nico Musoke"
          ],
          [
           "Wilson Reis"
          ],
          [
           "Maximo Blanco"
          ],
          [
           "Albert Tumenov"
          ],
          [
           "Tae Hyun Bang"
          ],
          [
           "Russell Doane"
          ],
          [
           "Ilir Latifi"
          ],
          [
           "Neil Seery"
          ],
          [
           "Omari Akhmedov"
          ],
          [
           "Demian Maia"
          ],
          [
           "Pedro Munhoz"
          ],
          [
           "Jessica Eye"
          ],
          [
           "Aljamain Sterling"
          ],
          [
           "Erik Koch"
          ],
          [
           "Sam Sicilia"
          ],
          [
           "Brad Tavares"
          ],
          [
           "Beneil Dariush"
          ],
          [
           "Derek Brunson"
          ],
          [
           "Dustin Ortiz"
          ],
          [
           "Louis Smolka"
          ],
          [
           "Jeremy Stephens"
          ],
          [
           "Patrick Cummins"
          ],
          [
           "Yaotzin Meza"
          ],
          [
           "Norman Parke"
          ],
          [
           "Elias Theodorou"
          ],
          [
           "Ryan LaFlare"
          ],
          [
           "Rafael Natal"
          ],
          [
           "Bryan Caraway"
          ],
          [
           "Alex Caceres"
          ],
          [
           "Trevor Smith"
          ],
          [
           "Adriano Martins"
          ],
          [
           "Nikita Krylov"
          ],
          [
           "Sergio Pettis"
          ],
          [
           "Sean Strickland"
          ],
          [
           "Hector Lombard"
          ],
          [
           "Myles Jury"
          ],
          [
           "Alex Garcia"
          ],
          [
           "Justin Scoggins"
          ],
          [
           "Jessica Andrade"
          ],
          [
           "Shawn Jordan"
          ],
          [
           "Andre Fili"
          ],
          [
           "Tim Elliott"
          ],
          [
           "Bethe Correia"
          ],
          [
           "Tim Boetsch"
          ],
          [
           "Yancy Medeiros"
          ],
          [
           "Liz Carmouche"
          ],
          [
           "Edson Barboza"
          ],
          [
           "Yoel Romero"
          ],
          [
           "Alex White"
          ],
          [
           "Ray Borg"
          ],
          [
           "Chas Skelly"
          ],
          [
           "CB Dollaway"
          ],
          [
           "Gian Villante"
          ],
          [
           "Mairbek Taisumov"
          ],
          [
           "Thiago Santos"
          ],
          [
           "Scott Jorgensen"
          ],
          [
           "Kenny Robertson"
          ],
          [
           "Kyle Noke"
          ],
          [
           "Mike de la Torre"
          ],
          [
           "Leslie Smith"
          ],
          [
           "Sean O'Connell"
          ],
          [
           "Olivier Aubin-Mercier"
          ],
          [
           "Jake Ellenberger"
          ],
          [
           "Chico Camus"
          ],
          [
           "James Krause"
          ],
          [
           "Francisco Rivera"
          ],
          [
           "Francisco Trinaldo"
          ],
          [
           "Katsunori Kikuno"
          ],
          [
           "Vinc Pichel"
          ],
          [
           "Li Jingliang"
          ],
          [
           "Tatsuya Kawajiri"
          ],
          [
           "Daniel Omielanczuk"
          ],
          [
           "Alexander Yakovlev"
          ],
          [
           "Antonio Carlos Junior"
          ],
          [
           "Warlley Alves"
          ],
          [
           "Nik Lentz"
          ],
          [
           "Zak Cummings"
          ],
          [
           "Johnny Eduardo"
          ],
          [
           "Daron Cruickshank"
          ],
          [
           "Lorenz Larkin"
          ],
          [
           "Tim Means"
          ],
          [
           "John Moraga"
          ],
          [
           "Ross Pearson"
          ],
          [
           "Kiichi Kunimoto"
          ],
          [
           "Michinori Tanaka"
          ],
          [
           "Anthony Hamilton"
          ],
          [
           "James Moontasri"
          ],
          [
           "Hacran Dias"
          ],
          [
           "Leandro Issa"
          ],
          [
           "Drew Dober"
          ],
          [
           "Krzysztof Jotko"
          ],
          [
           "Iuri Alcantara"
          ],
          [
           "Rob Font"
          ],
          [
           "Charles Oliveira"
          ],
          [
           "Jared Rosholt"
          ],
          [
           "Evan Dunham"
          ],
          [
           "Danny Castillo"
          ],
          [
           "Diego Ferreira"
          ],
          [
           "Bobby Green"
          ],
          [
           "Dennis Bermudez"
          ],
          [
           "Gilbert Burns"
          ],
          [
           "Jorge Masvidal"
          ],
          [
           "Brian Ortega"
          ],
          [
           "Dong Hyun Kim"
          ],
          [
           "Colby Covington"
          ],
          [
           "Takanori Gomi"
          ],
          [
           "Richard Walsh"
          ],
          [
           "Johnny Case"
          ],
          [
           "Dan Hooker"
          ],
          [
           "Zach Makovsky"
          ],
          [
           "Alan Jouban"
          ],
          [
           "Sam Alvey"
          ],
          [
           "Lauren Murphy"
          ],
          [
           "Frankie Saenz"
          ],
          [
           "Joby Sanchez"
          ],
          [
           "Jordan Mein"
          ],
          [
           "Thales Leites"
          ],
          [
           "Michael Chiesa"
          ],
          [
           "Derrick Lewis"
          ],
          [
           "Chris Camozzi"
          ],
          [
           "Takeya Mizugaki"
          ],
          [
           "Eddie Alvarez"
          ],
          [
           "Efrain Escudero"
          ],
          [
           "Sean Spencer"
          ],
          [
           "George Sullivan"
          ],
          [
           "Charles Rosa"
          ],
          [
           "Jan Blachowicz"
          ],
          [
           "Scott Askham"
          ],
          [
           "Max Holloway"
          ],
          [
           "Neil Magny"
          ],
          [
           "Tony Martin"
          ],
          [
           "Paul Felder"
          ],
          [
           "Kelvin Gastelum"
          ],
          [
           "Jose Quinonez"
          ],
          [
           "Marlon Vera"
          ],
          [
           "Ashlee Evans-Smith"
          ],
          [
           "Joshua Burkman"
          ],
          [
           "Nate Marquardt"
          ],
          [
           "Jared Cannonier"
          ],
          [
           "Marion Reneau"
          ],
          [
           "Kailin Curran"
          ],
          [
           "Aleksei Oleinik"
          ],
          [
           "Nick Hein"
          ],
          [
           "Nina Ansaroff"
          ],
          [
           "Leon Edwards"
          ],
          [
           "Clint Hester"
          ],
          [
           "Walt Harris"
          ],
          [
           "Daniel Kelly"
          ],
          [
           "Al Iaquinta"
          ],
          [
           "Stefan Struve"
          ],
          [
           "Bryan Barberena"
          ],
          [
           "Ben Saunders"
          ],
          [
           "Renato Moicano"
          ],
          [
           "Ulka Sasaki"
          ],
          [
           "Alex Chambers"
          ],
          [
           "Angela Hill"
          ],
          [
           "Randa Markos"
          ],
          [
           "Gleison Tibau"
          ],
          [
           "Chris Wade"
          ],
          [
           "Thiago Alves"
          ],
          [
           "Sara McMann"
          ],
          [
           "John Lineker"
          ],
          [
           "Cole Miller"
          ],
          [
           "Gegard Mousasi"
          ],
          [
           "Makwan Amirkhani"
          ],
          [
           "Chris Beal"
          ],
          [
           "Michael Johnson"
          ],
          [
           "Henry Cejudo"
          ],
          [
           "Ryan Benoit"
          ],
          [
           "Matt Brown"
          ],
          [
           "Joe Duffy"
          ],
          [
           "Paige VanZant"
          ],
          [
           "Valerie Letourneau"
          ],
          [
           "Shane Campbell"
          ],
          [
           "Tim Johnson"
          ],
          [
           "Alex Oliveira"
          ],
          [
           "Leandro Silva"
          ],
          [
           "Matt Mitrione"
          ],
          [
           "Jake Collier"
          ],
          [
           "Garreth McLellan"
          ],
          [
           "Stevie Ray"
          ],
          [
           "Maryna Moroz"
          ],
          [
           "Kajan Johnson"
          ],
          [
           "Jon Tuck"
          ],
          [
           "Dhiego Lima"
          ],
          [
           "Robert Whittaker"
          ],
          [
           "James Vick"
          ],
          [
           "Bradley Scott"
          ],
          [
           "John Makdessi"
          ],
          [
           "Andrei Arlovski"
          ],
          [
           "John Howard"
          ],
          [
           "Henry Briones"
          ],
          [
           "Thomas Almeida"
          ],
          [
           "Nordine Taleb"
          ],
          [
           "Tom Breese"
          ],
          [
           "Mirsad Bektic"
          ],
          [
           "Tony Ferguson"
          ],
          [
           "Manvel Gamburyan"
          ],
          [
           "Andrew Holbrook"
          ],
          [
           "Dominique Steele"
          ],
          [
           "Cezar Ferreira"
          ],
          [
           "Vicente Luque"
          ],
          [
           "Cortney Casey"
          ],
          [
           "Jimmie Rivera"
          ],
          [
           "Scott Holtzman"
          ],
          [
           "Oluwale Bamgbose"
          ],
          [
           "Erick Silva"
          ],
          [
           "Felipe Arantes"
          ],
          [
           "Uriah Hall"
          ],
          [
           "Teruto Ishihara"
          ],
          [
           "Jimi Manuwa"
          ],
          [
           "Corey Anderson"
          ],
          [
           "Raquel Pennington"
          ],
          [
           "Viktor Pesta"
          ],
          [
           "Islam Makhachev"
          ],
          [
           "Sage Northcutt"
          ],
          [
           "Diego Sanchez"
          ],
          [
           "Michel Prazeres"
          ],
          [
           "Enrique Barzola"
          ],
          [
           "Polo Reyes"
          ],
          [
           "Luis Henrique"
          ],
          [
           "Karolina Kowalkiewicz"
          ],
          [
           "Peter Sobotta"
          ],
          [
           "Ben Nguyen"
          ],
          [
           "Cathal Pendred"
          ],
          [
           "Michelle Waterson"
          ],
          [
           "Gunnar Nelson"
          ],
          [
           "Alex Morono"
          ],
          [
           "Marco Beltran"
          ],
          [
           "Kevin Casey"
          ],
          [
           "Sergio Moraes"
          ],
          [
           "Ed Herman"
          ],
          [
           "Kyle Bochniak"
          ],
          [
           "Luke Sanders"
          ],
          [
           "Randy Brown"
          ],
          [
           "Rustam Khabilov"
          ],
          [
           "Keita Nakamura"
          ],
          [
           "Brad Pickett"
          ],
          [
           "Thibault Gouti"
          ],
          [
           "Shamil Abdurakhimov"
          ],
          [
           "Damien Brown"
          ],
          [
           "Jim Miller"
          ],
          [
           "Curtis Blaydes"
          ],
          [
           "Marcin Tybura"
          ],
          [
           "Bojan Velickovic"
          ],
          [
           "Alejandro Perez"
          ],
          [
           "Damian Stasiak"
          ],
          [
           "Cyril Asker"
          ],
          [
           "Tecia Torres"
          ],
          [
           "Santiago Ponzinibbio"
          ],
          [
           "Juliana Lima"
          ],
          [
           "Josh Emmett"
          ],
          [
           "Francimar Barroso"
          ],
          [
           "Henrique da Silva"
          ],
          [
           "Clay Guida"
          ],
          [
           "Ricardo Lamas"
          ],
          [
           "Patrick Cote"
          ],
          [
           "Ion Cutelaba"
          ],
          [
           "Joe Soto"
          ],
          [
           "Joanne Calderwood"
          ],
          [
           "Anthony Smith"
          ],
          [
           "Amanda Cooper"
          ],
          [
           "Vitor Miranda"
          ],
          [
           "Travis Browne"
          ],
          [
           "Joe Lauzon"
          ],
          [
           "Raphael Assuncao"
          ],
          [
           "Eddie Wineland"
          ],
          [
           "Godofredo Pepey"
          ],
          [
           "Jason Knight"
          ],
          [
           "Belal Muhammad"
          ],
          [
           "Lando Vannata"
          ],
          [
           "Matthew Lopez"
          ],
          [
           "Katlyn Chookagian"
          ],
          [
           "Chad Laprise"
          ],
          [
           "Jack Hermansson"
          ],
          [
           "Mickey Gall"
          ],
          [
           "Mike Perry"
          ],
          [
           "Glover Teixeira"
          ],
          [
           "Donald Cerrone"
          ],
          [
           "Marvin Vettori"
          ],
          [
           "Rony Jason"
          ],
          [
           "Danielle Taylor"
          ],
          [
           "Alessio Di Chirico"
          ],
          [
           "Bec Rawlings"
          ],
          [
           "Rick Glenn"
          ],
          [
           "Albert Morales"
          ],
          [
           "Zak Ottow"
          ],
          [
           "Elizeu Zaleski dos Santos"
          ],
          [
           "Gregor Gillespie"
          ],
          [
           "Eric Spicely"
          ],
          [
           "Max Griffin"
          ],
          [
           "Douglas Silva de Andrade"
          ],
          [
           "Marc Diakiese"
          ],
          [
           "Kamaru Usman"
          ],
          [
           "Darren Stewart"
          ],
          [
           "Alexander Volkanovski"
          ],
          [
           "Tyson Pedro"
          ],
          [
           "Devin Clark"
          ],
          [
           "Alexis Davis"
          ],
          [
           "Gerald Meerschaert"
          ],
          [
           "Misha Cirkunov"
          ],
          [
           "Niko Price"
          ],
          [
           "Chase Sherman"
          ],
          [
           "Felice Herrig"
          ],
          [
           "Francis Ngannou"
          ],
          [
           "Darren Elkins"
          ],
          [
           "David Teymur"
          ],
          [
           "Abdul Razak Alhassan"
          ],
          [
           "Desmond Green"
          ],
          [
           "Dustin Poirier"
          ],
          [
           "Yair Rodriguez"
          ],
          [
           "Marcos Rogerio de Lima"
          ],
          [
           "Andrew Sanchez"
          ],
          [
           "Roy Nelson"
          ],
          [
           "Brian Kelleher"
          ],
          [
           "Johny Hendricks"
          ],
          [
           "Rani Yahya"
          ],
          [
           "Brandon Davis"
          ],
          [
           "Renan Barao"
          ],
          [
           "Danny Roberts"
          ],
          [
           "Brett Johns"
          ],
          [
           "Carla Esparza"
          ],
          [
           "Gabriel Benitez"
          ],
          [
           "Anthony Pettis"
          ],
          [
           "Cub Swanson"
          ],
          [
           "Jake Matthews"
          ],
          [
           "John Dodson"
          ],
          [
           "Jussier Formiga"
          ],
          [
           "Jacare Souza"
          ],
          [
           "Mike Pyle"
          ],
          [
           "Leonardo Santos"
          ],
          [
           "Urijah Faber"
          ],
          [
           "Ovince Saint Preux"
          ],
          [
           "Joseph Benavidez"
          ],
          [
           "Miesha Tate"
          ],
          [
           "Kyoji Horiguchi"
          ],
          [
           "Jason Saggo"
          ],
          [
           "Claudia Gadelha"
          ],
          [
           "Gray Maynard"
          ],
          [
           "Court McGee"
          ],
          [
           "Artem Lobov"
          ]
         ],
         "hoverlabel": {
          "namelength": 0
         },
         "hovertemplate": "pca_x=%{x}<br>pca_y=%{y}<br>Name=%{customdata[0]}<br>label=%{marker.color}",
         "legendgroup": "",
         "marker": {
          "color": [
           0,
           1,
           0,
           1,
           1,
           1,
           1,
           1,
           1,
           1,
           1,
           1,
           1,
           0,
           1,
           0,
           1,
           0,
           0,
           1,
           1,
           0,
           0,
           1,
           0,
           0,
           0,
           0,
           1,
           1,
           0,
           1,
           0,
           1,
           0,
           1,
           1,
           1,
           0,
           0,
           1,
           1,
           1,
           1,
           0,
           1,
           0,
           1,
           0,
           1,
           1,
           1,
           0,
           1,
           0,
           1,
           1,
           1,
           0,
           1,
           0,
           1,
           1,
           1,
           1,
           0,
           1,
           1,
           1,
           1,
           0,
           1,
           0,
           1,
           0,
           0,
           1,
           1,
           1,
           1,
           1,
           1,
           1,
           1,
           0,
           1,
           0,
           0,
           0,
           1,
           1,
           0,
           1,
           1,
           1,
           1,
           0,
           1,
           1,
           1,
           1,
           0,
           1,
           1,
           0,
           0,
           0,
           0,
           1,
           1,
           1,
           0,
           1,
           1,
           0,
           1,
           0,
           0,
           0,
           0,
           1,
           1,
           1,
           1,
           0,
           0,
           1,
           0,
           1,
           1,
           0,
           1,
           1,
           1,
           0,
           0,
           1,
           0,
           0,
           1,
           1,
           1,
           1,
           1,
           1,
           0,
           1,
           1,
           1,
           1,
           1,
           1,
           1,
           0,
           1,
           1,
           0,
           1,
           1,
           1,
           1,
           0,
           0,
           1,
           1,
           0,
           1,
           0,
           1,
           0,
           1,
           1,
           0,
           0,
           1,
           0,
           1,
           0,
           1,
           1,
           1,
           1,
           1,
           1,
           1,
           0,
           1,
           1,
           1,
           1,
           1,
           1,
           0,
           1,
           0,
           0,
           1,
           1,
           1,
           1,
           1,
           0,
           0,
           1,
           1,
           1,
           1,
           1,
           0,
           1,
           0,
           1,
           1,
           1,
           0,
           1,
           1,
           0,
           0,
           1,
           1,
           1,
           1,
           1,
           1,
           1,
           1,
           0,
           1,
           1,
           1,
           1,
           1,
           1,
           1,
           1,
           1,
           1,
           1,
           1,
           1,
           1,
           1,
           0,
           1,
           1,
           1,
           0,
           0,
           1,
           1,
           1,
           1,
           1,
           0,
           1,
           0,
           1,
           0,
           1,
           0,
           0,
           0,
           1,
           0,
           0,
           1,
           1,
           1,
           1,
           1,
           0,
           1,
           1,
           0,
           0,
           1,
           1,
           1,
           0,
           1,
           1,
           1,
           0,
           0,
           1,
           1,
           1,
           1,
           1,
           1,
           1,
           1,
           0,
           1,
           1,
           1,
           1,
           1,
           0,
           1,
           0,
           1,
           1,
           0,
           1,
           1,
           1,
           1,
           1,
           1,
           0,
           1,
           1,
           1,
           1,
           0,
           1,
           1,
           1,
           1,
           0,
           1,
           0,
           0,
           1,
           1,
           0,
           1,
           0,
           0,
           0,
           1,
           1,
           1,
           1,
           1,
           1,
           1,
           0,
           1,
           1,
           1,
           0,
           1,
           1,
           1
          ],
          "coloraxis": "coloraxis",
          "symbol": "circle"
         },
         "mode": "markers",
         "name": "",
         "showlegend": false,
         "type": "scatter",
         "x": [
          3.497450476891091,
          -1.4162184691376412,
          7.397511494856456,
          1.1449479441433625,
          -4.105562212452735,
          -1.3889599938548145,
          -2.41247554501775,
          1.4678262170078162,
          -0.0827688521961166,
          -3.151528865446041,
          -5.6793570381441265,
          -1.3224304223558643,
          -6.894268657242202,
          0.15301354699592215,
          -1.4306087694504557,
          1.3566470893447724,
          -0.18287776480347934,
          5.924382552812155,
          15.787607894960342,
          -7.181940600274257,
          -2.298317102701758,
          3.968727156795098,
          4.711744342981393,
          -0.769272912533718,
          17.58160164496633,
          6.846574630285453,
          9.030409590257964,
          6.020582625660632,
          -4.919563446201253,
          -1.0035031174368239,
          10.020463135107859,
          0.22836004144889704,
          3.4810186885723735,
          -3.5117876008104867,
          6.511301887513898,
          1.10762430249391,
          -6.6928672507170575,
          -2.6244118717202234,
          11.426395463383367,
          2.45457431839109,
          0.18168941037405664,
          -4.669904928774777,
          -0.38468908002800833,
          3.9402127510020106,
          13.665927394186484,
          -5.246922702848211,
          5.2486661333807305,
          -2.5607255379900744,
          5.941469269175257,
          -2.564063741977031,
          -0.5616720995574239,
          -1.0805102126315882,
          4.294427186783086,
          1.0790796302034351,
          6.354315477300057,
          -4.093126807241301,
          -1.4217389843703834,
          -3.4001311427060497,
          6.011958669976959,
          -3.0785689483852554,
          4.273832036652028,
          -5.73561245549869,
          -2.621126491720789,
          -2.114015434148155,
          -2.319648422259961,
          3.3298965883728693,
          1.1896980263258552,
          0.9659690593823013,
          -2.123841487105708,
          -3.918647437618584,
          1.8374893803417116,
          -2.9774465108312884,
          9.120327231141292,
          -5.7656632204310485,
          1.3470836548373655,
          2.8135577326369448,
          -4.908182453858869,
          -1.181985718662974,
          -4.607739918071523,
          -1.680016749668836,
          -1.5538265256559245,
          1.9859038558470348,
          -1.5560729449895392,
          -7.308347734677914,
          3.428228606101831,
          -0.1921732163336984,
          11.284156754560849,
          5.674194556179092,
          7.8565969484585985,
          -6.638308075821969,
          -4.6714477577009,
          3.5084339087567273,
          -4.107682041941038,
          -3.683814101282457,
          -3.224458209847375,
          -0.556233377105888,
          3.4025077107440533,
          1.4668531110115375,
          -1.7021394783144843,
          2.5528906758303616,
          -0.35798829010479394,
          5.203913005492707,
          -4.623664100956639,
          -3.5575647747882795,
          4.0300683306862535,
          11.463700564715472,
          2.0176870513240406,
          18.918472216846812,
          -4.3445080804735055,
          -3.473290261071872,
          -0.5980603047198269,
          -0.86622555090005,
          1.920211935943547,
          -2.230901035099187,
          2.2049195213484816,
          -2.9138275562595357,
          4.133203283138992,
          7.101321340073468,
          3.6890557359126825,
          3.413240371131278,
          -1.164980104053053,
          -1.7772485458693539,
          -1.2288702424282534,
          0.3017242603461375,
          -0.3266897716059894,
          4.441762618254979,
          -2.528280143489233,
          0.678541427729832,
          -2.583449053272804,
          0.8305892914643661,
          4.803908225580209,
          -4.06677781285632,
          2.7455022921535384,
          -3.9266507187686073,
          11.94046236090562,
          21.968466102422422,
          0.2211117678833953,
          8.163823739228802,
          5.885351394700078,
          -4.900880148354222,
          -1.0002822255221668,
          0.2967496908751386,
          0.6858113807503017,
          -2.7592777030308193,
          -3.756488859615155,
          2.83258745882968,
          0.49209860667644767,
          -4.893416584709021,
          -0.9520661029120552,
          -1.1315476383640033,
          -2.4321312338367456,
          -1.6787392479340082,
          -4.007655807251459,
          0.7619618090701279,
          -0.4002298418933872,
          -2.9441368657975215,
          8.467277334699748,
          -0.3926073695716254,
          -0.9319392258971206,
          -5.258447009742332,
          -4.2351896077412965,
          6.413994375137919,
          6.245721035345711,
          -1.1206608465052899,
          -2.9305669063347413,
          7.098696101525361,
          -0.3085461488145868,
          12.153576061394077,
          -4.646253125783839,
          4.805507343003785,
          -7.68580600942585,
          -2.2083235306588684,
          5.182057283237675,
          8.031621685811587,
          -6.353321641105416,
          4.739725943748254,
          -6.1902078088903165,
          3.2541503270319816,
          1.083602596435824,
          -3.5343510967165037,
          -0.3714679861225973,
          3.7935308085298254,
          -3.992350112113237,
          -7.037515081832482,
          -3.115974235041768,
          -2.8011453222922578,
          -1.842068549653022,
          -3.8672311363402145,
          -3.0726762010354323,
          -1.333191992179096,
          -5.465569674583098,
          -1.5596046830561923,
          6.774204367421673,
          -2.434727999280659,
          7.279006382866515,
          3.59886460056133,
          -2.0320902042832962,
          -2.2521343171843933,
          0.12436162782206345,
          2.328195717764854,
          -5.230161014698724,
          0.6354202591808689,
          2.3422216077640208,
          -4.1711398296715165,
          -5.866694414234311,
          -5.540688058919009,
          -3.6741445223832496,
          -3.3134996068711966,
          4.242303013676174,
          -1.736028310271145,
          3.8998799539933895,
          -6.918860083833431,
          -3.8277189948372445,
          -3.6313578333170358,
          0.0630904386602482,
          -0.9349584096950309,
          -3.053511255500897,
          10.88144799082782,
          4.723197175077704,
          -4.835090911877953,
          -5.446208656267059,
          -3.068266911188555,
          -0.8475261119512543,
          -0.029067138840640497,
          1.3066797611592913,
          -2.3867163268941964,
          -4.8394586674634,
          8.967014300793158,
          -3.9587681585274646,
          -5.150162593010762,
          -2.860569914919843,
          -2.7133768771069353,
          -6.273153776309654,
          -1.1122123479724764,
          -4.181485451302354,
          -5.623349454781507,
          -2.872998383541147,
          -4.271310614230527,
          -3.8351480205641475,
          -4.078675261646061,
          -2.2602404634468227,
          1.0932578589260864,
          -4.493742779843805,
          2.417575948024317,
          -7.134070542757496,
          -3.5451055365383923,
          -4.670068963206048,
          5.694392154363154,
          0.049786329491103204,
          -0.6564849426228747,
          -1.4951362240955806,
          0.21992076354166934,
          -6.279394658921537,
          -7.11102638316209,
          12.439661294850634,
          -2.250502361874178,
          2.4081788919926774,
          -0.9484672798557889,
          1.151759475521853,
          -1.4680620837560434,
          0.808097911928081,
          6.773200792651727,
          3.666321299869909,
          -2.421574801282213,
          -0.17988291177676333,
          13.198006076618185,
          -1.8465001603861408,
          -5.857761952939111,
          -1.5220579672774133,
          -0.5008059089252833,
          -0.6710169348565946,
          5.6182628829868735,
          -0.8161402675526694,
          -6.6593946620133755,
          0.8470129490579618,
          1.5388089924110395,
          -3.6998195559791327,
          -5.784789881774345,
          -1.5783396484682986,
          4.079604114436066,
          -1.679454802056251,
          -7.656166375862576,
          -0.3622138723620547,
          4.531355043795813,
          15.114994757062425,
          -4.3666815826997025,
          -7.146393786619154,
          -4.169431817264237,
          -3.302264604398641,
          0.24529442384859138,
          0.11106915597784231,
          -0.6822901669823763,
          -2.438392937771625,
          2.6796556517185985,
          -4.727727927746111,
          -7.735894298519491,
          -5.599469521321237,
          -3.805324943613129,
          -3.843645432820812,
          1.8476684578663802,
          -4.976350449244065,
          -1.3190591684869517,
          -6.511099710960413,
          -3.3909308780624716,
          3.5204893124585395,
          -7.377471421230049,
          -4.402520014692399,
          -5.193474316793415,
          1.4381156658106593,
          0.013007163062767224,
          -5.4731483341942,
          11.540460599558552,
          -3.400657129974008,
          -6.318158082421874,
          -3.3074995446629156,
          -1.8048914987528624,
          0.30248021532728014,
          -6.301891915987326,
          -1.8913676324108655,
          -1.1218724019926913,
          -5.276710489811744,
          18.08547029977446,
          -3.363859505804561,
          2.1927376722275094,
          12.631541568174947,
          -2.2005549302100738,
          -3.4045177949922167,
          5.52596123274611,
          -1.9402310187911298,
          6.177517465757533,
          12.800550601068583,
          0.7216570078447365,
          0.48422532089168263,
          -2.082255960039946,
          -1.3911241020321017,
          0.43700629212146236,
          -5.143370364079234,
          0.40976885394256585,
          3.3399597320297287,
          5.044594985869322,
          -0.9021650904281028,
          -0.3840469360453969,
          -3.597927629036697,
          7.524293994394118,
          -4.48217874500307,
          -2.3919433048467003,
          -4.501121793746405
         ],
         "xaxis": "x",
         "y": [
          -3.205987637032231,
          0.4595629572567685,
          -3.7696866141912366,
          1.9797517028494018,
          0.9781566337187788,
          3.069929767685447,
          0.2972603305817116,
          -1.4544443572989973,
          0.15011837278308474,
          0.6321119943452742,
          0.6714834992065626,
          -2.5966761595828887,
          0.886986702768243,
          -1.8031468090473064,
          -0.6881879912860523,
          -7.216574256088095,
          3.353427262542335,
          5.535727003021088,
          -4.713056290454312,
          0.37688847829969235,
          -0.43901184404517823,
          3.1692838213719097,
          -0.9709030250835734,
          -1.4359205662597925,
          -10.245246641833347,
          -7.945740003152602,
          6.4594086022942445,
          -9.865403413692404,
          0.37351306326829825,
          -0.9138311335169503,
          -2.391373669400467,
          -1.4447778963142526,
          1.336823691586263,
          1.629645461316461,
          4.895074998108369,
          -3.1536432913137684,
          2.118090070121078,
          -1.5658840511366696,
          4.382116654980079,
          -0.6849116624801765,
          -2.29700954782067,
          0.6891496030559754,
          -0.1074882007446871,
          -0.9254117206490099,
          -7.23612463654871,
          -0.678172613752096,
          1.8780375129402156,
          -2.6638399847084675,
          4.596360391190347,
          0.03517099260634592,
          3.3117273502683555,
          -0.6937364871835062,
          8.168884000247337,
          -0.10722507505257607,
          5.098106872217897,
          -2.6170458006559114,
          -0.969190964303011,
          -0.236183882576711,
          1.6711792779663777,
          0.5373772642011827,
          2.776472096113,
          -0.17508240861005148,
          -1.0958263966483393,
          0.8376511221210181,
          -0.835529494805065,
          3.15468297700201,
          -0.05158890908175496,
          -1.9570427307538625,
          0.7315416644330789,
          1.4500535044216665,
          3.706119063038999,
          2.5728972421725937,
          -2.53525732834683,
          1.1125508963644117,
          -2.0638406726307705,
          0.5505113999274597,
          -2.3741379066849078,
          -1.6768258740566238,
          1.5220118022651898,
          -3.152009911606037,
          -0.550672874314749,
          -3.5060247506451416,
          -0.07898645744010452,
          1.902068048811297,
          4.014650546725359,
          2.4879533941713468,
          4.324369291803913,
          -0.9753678242197883,
          3.615925702784774,
          0.7588467512829662,
          -2.0869546256968663,
          -9.193638395943735,
          -2.6369176437875548,
          0.27168241404278276,
          2.318604555743815,
          -0.13722768398810942,
          -2.4748354429938493,
          -2.8195862538946486,
          1.3259591548781424,
          -6.098396241503232,
          -6.42817978449959,
          -0.3298197323573064,
          1.7464519146236477,
          0.7722869273976244,
          8.452939688335922,
          -2.250722378317272,
          1.7330675151164516,
          1.3185381802562381,
          0.6692741532528373,
          -1.5971544639714186,
          -5.92596248713443,
          3.632166551737576,
          -2.581034463980111,
          -1.3421126422047147,
          -0.9583069097575884,
          -0.6627503526521841,
          2.514460640054549,
          0.2827591212810177,
          -3.5128338471907505,
          -2.260274260755669,
          0.2485186937607513,
          1.8256712758953983,
          0.901210341509493,
          -2.3094200066628865,
          -6.025917403319036,
          3.575412803836763,
          -0.33787608791990553,
          2.1789991802287925,
          -1.135886178524263,
          3.25587779930246,
          -0.14794370033058046,
          0.6631365196198226,
          -3.7104499790175827,
          0.3306260561688215,
          0.5860293819486618,
          -9.544279543358428,
          1.0138865044688947,
          -0.6483210137395765,
          2.507057041467111,
          -0.24824348383720865,
          -0.6591869895170993,
          -0.981634645628375,
          3.620664073010609,
          0.7318415055649244,
          0.6552949810262148,
          -0.25224985284627865,
          -1.8237765468401628,
          -0.9484045421633198,
          3.133502616467725,
          0.8860138121076188,
          -1.0757489111374348,
          3.3618293204197625,
          0.7207789681071808,
          -2.132887790572442,
          3.218118362908541,
          1.8624320537876298,
          -0.2150564106583328,
          0.3102728538050381,
          3.5838272549844685,
          0.46056927670021364,
          0.7713847653264432,
          -2.037261740992786,
          -3.264431863594883,
          0.3672163544086615,
          -1.526035987619929,
          9.734788883462425,
          -2.051967801559502,
          4.426176299683186,
          2.317892639854956,
          -3.3070468741950467,
          -0.3658908897828947,
          -0.8042202845903926,
          4.672209601402664,
          0.05709417284299433,
          0.806875699267375,
          -4.87429131923482,
          1.0733749888960846,
          -7.171146389134249,
          1.2121983356511925,
          1.0535459123617152,
          -2.541760585693978,
          -5.600451443547085,
          0.14884700229905867,
          0.909338193798215,
          1.3382826521963784,
          -4.353663247152244,
          -0.20851133412025905,
          0.9768502426090057,
          -0.5721720834863987,
          -0.8126579202027058,
          -1.977218832053874,
          1.3535902766583467,
          7.346137987429353,
          0.9874276240824913,
          6.276821215471031,
          0.3034121158673067,
          0.9565095589295464,
          1.5276341168664336,
          2.6417164949115195,
          -3.9198197637212253,
          0.15684235486405437,
          -5.2772001056419295,
          3.6907660303671097,
          0.2602799233183134,
          -0.9008458105741989,
          -1.0321174916983802,
          -0.4263174370153393,
          -0.5746162004078674,
          -1.7384527994761743,
          2.7057699605674483,
          -3.3639616660704363,
          0.7352009702410554,
          -0.3693680117725964,
          -0.918668153394447,
          3.9759910364972897,
          2.156907576657817,
          1.8237628809444697,
          -8.484474315383904,
          -0.1572995993036651,
          -2.063339246361156,
          -1.513555700748479,
          -1.48181540978677,
          0.18530264823383233,
          -0.8033501209010996,
          -3.704143331852749,
          0.7870263283637663,
          -2.310222268596719,
          -1.2810535351344505,
          -0.2629442093500192,
          0.9406999969182827,
          1.86953979761267,
          -0.6914206735390953,
          -0.4716654693360641,
          1.6775428796771648,
          -1.1082366457966606,
          -0.45176778489490094,
          1.2567326318859502,
          0.45517622741369607,
          2.1902817909201815,
          -1.8609691611932841,
          -0.5417260487215622,
          -2.4591151605555623,
          -0.4159528520853436,
          0.9779921750437223,
          0.4438052482473962,
          0.3697424429068495,
          0.17470044208788743,
          1.8302301864318984,
          -5.027082110218635,
          -1.8858436683058706,
          1.8002328670852594,
          0.6163686765410203,
          0.5893706617818448,
          -0.32076580039499575,
          5.367940913358357,
          2.2772210756577214,
          -1.3483612706716446,
          1.1760501551400684,
          -1.4843189961302223,
          -2.20196225967209,
          -2.5433104150264825,
          6.29718375199972,
          -0.6553388534315234,
          0.835017673020653,
          2.4910822551758414,
          5.057432446563913,
          0.4447701143580786,
          -0.34395838856331173,
          -1.331489895617868,
          -0.5778935061623846,
          -1.8463918538592259,
          5.935676527015532,
          0.3741664997077711,
          0.03400572565484321,
          -0.667748107485416,
          0.3204934957772015,
          2.2406221923596203,
          -0.9381711095336731,
          2.5095789033446514,
          3.7695663626822813,
          0.138319743065828,
          -0.34168513120566407,
          0.86278798079314,
          -2.376289460589239,
          11.971885134884614,
          -0.7817768105302987,
          1.2318153285842584,
          2.6996268701747987,
          0.5432372061015124,
          -0.7999914652176184,
          -2.7627657256253713,
          3.6067664448422576,
          2.117182376621825,
          -0.42955386852884103,
          -1.9789376461052859,
          0.24797365293439955,
          0.23079753451945173,
          2.753961168678455,
          0.26414477578822304,
          -6.624244860259249,
          0.23323865755165193,
          -4.121061879937216,
          0.6974812928089933,
          -1.1420780587068655,
          2.522735255191,
          0.5977119355449203,
          -1.2964272598647093,
          0.8702820196848576,
          3.9445171889651123,
          -1.1474174707875555,
          0.4914133626584887,
          -8.731062220689438,
          2.9357761191802165,
          1.2063605373854367,
          1.5923966003835364,
          0.3652890249537937,
          1.8656932514403362,
          -0.2148058839267406,
          -2.061565117024957,
          0.5282699324370391,
          0.6751517425360198,
          6.761237889291004,
          -0.513529890558116,
          2.8530394032536157,
          4.978704336180923,
          1.1850605171978157,
          -3.952382698367481,
          -8.340059423917312,
          0.5634991276568416,
          1.1096081778285503,
          4.785499829226628,
          -5.892797375089042,
          2.3008332850290705,
          -1.2218493785355558,
          -2.899615480018774,
          0.1559865327523119,
          0.6064822975951624,
          0.4691844476600785,
          -0.327853107525741,
          3.1924523193068186,
          -2.1727460816474338,
          -1.112064109789525,
          -1.3207991361374145,
          -2.341172590969474,
          -0.03023517563539439,
          0.31914097546493775,
          2.253207009379145
         ],
         "yaxis": "y"
        }
       ],
       "layout": {
        "autosize": true,
        "coloraxis": {
         "colorbar": {
          "title": {
           "text": "label"
          }
         },
         "colorscale": [
          [
           0,
           "#0d0887"
          ],
          [
           0.1111111111111111,
           "#46039f"
          ],
          [
           0.2222222222222222,
           "#7201a8"
          ],
          [
           0.3333333333333333,
           "#9c179e"
          ],
          [
           0.4444444444444444,
           "#bd3786"
          ],
          [
           0.5555555555555556,
           "#d8576b"
          ],
          [
           0.6666666666666666,
           "#ed7953"
          ],
          [
           0.7777777777777778,
           "#fb9f3a"
          ],
          [
           0.8888888888888888,
           "#fdca26"
          ],
          [
           1,
           "#f0f921"
          ]
         ]
        },
        "legend": {
         "tracegroupgap": 0
        },
        "margin": {
         "t": 60
        },
        "template": {
         "data": {
          "bar": [
           {
            "error_x": {
             "color": "#2a3f5f"
            },
            "error_y": {
             "color": "#2a3f5f"
            },
            "marker": {
             "line": {
              "color": "#E5ECF6",
              "width": 0.5
             }
            },
            "type": "bar"
           }
          ],
          "barpolar": [
           {
            "marker": {
             "line": {
              "color": "#E5ECF6",
              "width": 0.5
             }
            },
            "type": "barpolar"
           }
          ],
          "carpet": [
           {
            "aaxis": {
             "endlinecolor": "#2a3f5f",
             "gridcolor": "white",
             "linecolor": "white",
             "minorgridcolor": "white",
             "startlinecolor": "#2a3f5f"
            },
            "baxis": {
             "endlinecolor": "#2a3f5f",
             "gridcolor": "white",
             "linecolor": "white",
             "minorgridcolor": "white",
             "startlinecolor": "#2a3f5f"
            },
            "type": "carpet"
           }
          ],
          "choropleth": [
           {
            "colorbar": {
             "outlinewidth": 0,
             "ticks": ""
            },
            "type": "choropleth"
           }
          ],
          "contour": [
           {
            "colorbar": {
             "outlinewidth": 0,
             "ticks": ""
            },
            "colorscale": [
             [
              0,
              "#0d0887"
             ],
             [
              0.1111111111111111,
              "#46039f"
             ],
             [
              0.2222222222222222,
              "#7201a8"
             ],
             [
              0.3333333333333333,
              "#9c179e"
             ],
             [
              0.4444444444444444,
              "#bd3786"
             ],
             [
              0.5555555555555556,
              "#d8576b"
             ],
             [
              0.6666666666666666,
              "#ed7953"
             ],
             [
              0.7777777777777778,
              "#fb9f3a"
             ],
             [
              0.8888888888888888,
              "#fdca26"
             ],
             [
              1,
              "#f0f921"
             ]
            ],
            "type": "contour"
           }
          ],
          "contourcarpet": [
           {
            "colorbar": {
             "outlinewidth": 0,
             "ticks": ""
            },
            "type": "contourcarpet"
           }
          ],
          "heatmap": [
           {
            "colorbar": {
             "outlinewidth": 0,
             "ticks": ""
            },
            "colorscale": [
             [
              0,
              "#0d0887"
             ],
             [
              0.1111111111111111,
              "#46039f"
             ],
             [
              0.2222222222222222,
              "#7201a8"
             ],
             [
              0.3333333333333333,
              "#9c179e"
             ],
             [
              0.4444444444444444,
              "#bd3786"
             ],
             [
              0.5555555555555556,
              "#d8576b"
             ],
             [
              0.6666666666666666,
              "#ed7953"
             ],
             [
              0.7777777777777778,
              "#fb9f3a"
             ],
             [
              0.8888888888888888,
              "#fdca26"
             ],
             [
              1,
              "#f0f921"
             ]
            ],
            "type": "heatmap"
           }
          ],
          "heatmapgl": [
           {
            "colorbar": {
             "outlinewidth": 0,
             "ticks": ""
            },
            "colorscale": [
             [
              0,
              "#0d0887"
             ],
             [
              0.1111111111111111,
              "#46039f"
             ],
             [
              0.2222222222222222,
              "#7201a8"
             ],
             [
              0.3333333333333333,
              "#9c179e"
             ],
             [
              0.4444444444444444,
              "#bd3786"
             ],
             [
              0.5555555555555556,
              "#d8576b"
             ],
             [
              0.6666666666666666,
              "#ed7953"
             ],
             [
              0.7777777777777778,
              "#fb9f3a"
             ],
             [
              0.8888888888888888,
              "#fdca26"
             ],
             [
              1,
              "#f0f921"
             ]
            ],
            "type": "heatmapgl"
           }
          ],
          "histogram": [
           {
            "marker": {
             "colorbar": {
              "outlinewidth": 0,
              "ticks": ""
             }
            },
            "type": "histogram"
           }
          ],
          "histogram2d": [
           {
            "colorbar": {
             "outlinewidth": 0,
             "ticks": ""
            },
            "colorscale": [
             [
              0,
              "#0d0887"
             ],
             [
              0.1111111111111111,
              "#46039f"
             ],
             [
              0.2222222222222222,
              "#7201a8"
             ],
             [
              0.3333333333333333,
              "#9c179e"
             ],
             [
              0.4444444444444444,
              "#bd3786"
             ],
             [
              0.5555555555555556,
              "#d8576b"
             ],
             [
              0.6666666666666666,
              "#ed7953"
             ],
             [
              0.7777777777777778,
              "#fb9f3a"
             ],
             [
              0.8888888888888888,
              "#fdca26"
             ],
             [
              1,
              "#f0f921"
             ]
            ],
            "type": "histogram2d"
           }
          ],
          "histogram2dcontour": [
           {
            "colorbar": {
             "outlinewidth": 0,
             "ticks": ""
            },
            "colorscale": [
             [
              0,
              "#0d0887"
             ],
             [
              0.1111111111111111,
              "#46039f"
             ],
             [
              0.2222222222222222,
              "#7201a8"
             ],
             [
              0.3333333333333333,
              "#9c179e"
             ],
             [
              0.4444444444444444,
              "#bd3786"
             ],
             [
              0.5555555555555556,
              "#d8576b"
             ],
             [
              0.6666666666666666,
              "#ed7953"
             ],
             [
              0.7777777777777778,
              "#fb9f3a"
             ],
             [
              0.8888888888888888,
              "#fdca26"
             ],
             [
              1,
              "#f0f921"
             ]
            ],
            "type": "histogram2dcontour"
           }
          ],
          "mesh3d": [
           {
            "colorbar": {
             "outlinewidth": 0,
             "ticks": ""
            },
            "type": "mesh3d"
           }
          ],
          "parcoords": [
           {
            "line": {
             "colorbar": {
              "outlinewidth": 0,
              "ticks": ""
             }
            },
            "type": "parcoords"
           }
          ],
          "pie": [
           {
            "automargin": true,
            "type": "pie"
           }
          ],
          "scatter": [
           {
            "marker": {
             "colorbar": {
              "outlinewidth": 0,
              "ticks": ""
             }
            },
            "type": "scatter"
           }
          ],
          "scatter3d": [
           {
            "line": {
             "colorbar": {
              "outlinewidth": 0,
              "ticks": ""
             }
            },
            "marker": {
             "colorbar": {
              "outlinewidth": 0,
              "ticks": ""
             }
            },
            "type": "scatter3d"
           }
          ],
          "scattercarpet": [
           {
            "marker": {
             "colorbar": {
              "outlinewidth": 0,
              "ticks": ""
             }
            },
            "type": "scattercarpet"
           }
          ],
          "scattergeo": [
           {
            "marker": {
             "colorbar": {
              "outlinewidth": 0,
              "ticks": ""
             }
            },
            "type": "scattergeo"
           }
          ],
          "scattergl": [
           {
            "marker": {
             "colorbar": {
              "outlinewidth": 0,
              "ticks": ""
             }
            },
            "type": "scattergl"
           }
          ],
          "scattermapbox": [
           {
            "marker": {
             "colorbar": {
              "outlinewidth": 0,
              "ticks": ""
             }
            },
            "type": "scattermapbox"
           }
          ],
          "scatterpolar": [
           {
            "marker": {
             "colorbar": {
              "outlinewidth": 0,
              "ticks": ""
             }
            },
            "type": "scatterpolar"
           }
          ],
          "scatterpolargl": [
           {
            "marker": {
             "colorbar": {
              "outlinewidth": 0,
              "ticks": ""
             }
            },
            "type": "scatterpolargl"
           }
          ],
          "scatterternary": [
           {
            "marker": {
             "colorbar": {
              "outlinewidth": 0,
              "ticks": ""
             }
            },
            "type": "scatterternary"
           }
          ],
          "surface": [
           {
            "colorbar": {
             "outlinewidth": 0,
             "ticks": ""
            },
            "colorscale": [
             [
              0,
              "#0d0887"
             ],
             [
              0.1111111111111111,
              "#46039f"
             ],
             [
              0.2222222222222222,
              "#7201a8"
             ],
             [
              0.3333333333333333,
              "#9c179e"
             ],
             [
              0.4444444444444444,
              "#bd3786"
             ],
             [
              0.5555555555555556,
              "#d8576b"
             ],
             [
              0.6666666666666666,
              "#ed7953"
             ],
             [
              0.7777777777777778,
              "#fb9f3a"
             ],
             [
              0.8888888888888888,
              "#fdca26"
             ],
             [
              1,
              "#f0f921"
             ]
            ],
            "type": "surface"
           }
          ],
          "table": [
           {
            "cells": {
             "fill": {
              "color": "#EBF0F8"
             },
             "line": {
              "color": "white"
             }
            },
            "header": {
             "fill": {
              "color": "#C8D4E3"
             },
             "line": {
              "color": "white"
             }
            },
            "type": "table"
           }
          ]
         },
         "layout": {
          "annotationdefaults": {
           "arrowcolor": "#2a3f5f",
           "arrowhead": 0,
           "arrowwidth": 1
          },
          "coloraxis": {
           "colorbar": {
            "outlinewidth": 0,
            "ticks": ""
           }
          },
          "colorscale": {
           "diverging": [
            [
             0,
             "#8e0152"
            ],
            [
             0.1,
             "#c51b7d"
            ],
            [
             0.2,
             "#de77ae"
            ],
            [
             0.3,
             "#f1b6da"
            ],
            [
             0.4,
             "#fde0ef"
            ],
            [
             0.5,
             "#f7f7f7"
            ],
            [
             0.6,
             "#e6f5d0"
            ],
            [
             0.7,
             "#b8e186"
            ],
            [
             0.8,
             "#7fbc41"
            ],
            [
             0.9,
             "#4d9221"
            ],
            [
             1,
             "#276419"
            ]
           ],
           "sequential": [
            [
             0,
             "#0d0887"
            ],
            [
             0.1111111111111111,
             "#46039f"
            ],
            [
             0.2222222222222222,
             "#7201a8"
            ],
            [
             0.3333333333333333,
             "#9c179e"
            ],
            [
             0.4444444444444444,
             "#bd3786"
            ],
            [
             0.5555555555555556,
             "#d8576b"
            ],
            [
             0.6666666666666666,
             "#ed7953"
            ],
            [
             0.7777777777777778,
             "#fb9f3a"
            ],
            [
             0.8888888888888888,
             "#fdca26"
            ],
            [
             1,
             "#f0f921"
            ]
           ],
           "sequentialminus": [
            [
             0,
             "#0d0887"
            ],
            [
             0.1111111111111111,
             "#46039f"
            ],
            [
             0.2222222222222222,
             "#7201a8"
            ],
            [
             0.3333333333333333,
             "#9c179e"
            ],
            [
             0.4444444444444444,
             "#bd3786"
            ],
            [
             0.5555555555555556,
             "#d8576b"
            ],
            [
             0.6666666666666666,
             "#ed7953"
            ],
            [
             0.7777777777777778,
             "#fb9f3a"
            ],
            [
             0.8888888888888888,
             "#fdca26"
            ],
            [
             1,
             "#f0f921"
            ]
           ]
          },
          "colorway": [
           "#636efa",
           "#EF553B",
           "#00cc96",
           "#ab63fa",
           "#FFA15A",
           "#19d3f3",
           "#FF6692",
           "#B6E880",
           "#FF97FF",
           "#FECB52"
          ],
          "font": {
           "color": "#2a3f5f"
          },
          "geo": {
           "bgcolor": "white",
           "lakecolor": "white",
           "landcolor": "#E5ECF6",
           "showlakes": true,
           "showland": true,
           "subunitcolor": "white"
          },
          "hoverlabel": {
           "align": "left"
          },
          "hovermode": "closest",
          "mapbox": {
           "style": "light"
          },
          "paper_bgcolor": "white",
          "plot_bgcolor": "#E5ECF6",
          "polar": {
           "angularaxis": {
            "gridcolor": "white",
            "linecolor": "white",
            "ticks": ""
           },
           "bgcolor": "#E5ECF6",
           "radialaxis": {
            "gridcolor": "white",
            "linecolor": "white",
            "ticks": ""
           }
          },
          "scene": {
           "xaxis": {
            "backgroundcolor": "#E5ECF6",
            "gridcolor": "white",
            "gridwidth": 2,
            "linecolor": "white",
            "showbackground": true,
            "ticks": "",
            "zerolinecolor": "white"
           },
           "yaxis": {
            "backgroundcolor": "#E5ECF6",
            "gridcolor": "white",
            "gridwidth": 2,
            "linecolor": "white",
            "showbackground": true,
            "ticks": "",
            "zerolinecolor": "white"
           },
           "zaxis": {
            "backgroundcolor": "#E5ECF6",
            "gridcolor": "white",
            "gridwidth": 2,
            "linecolor": "white",
            "showbackground": true,
            "ticks": "",
            "zerolinecolor": "white"
           }
          },
          "shapedefaults": {
           "line": {
            "color": "#2a3f5f"
           }
          },
          "ternary": {
           "aaxis": {
            "gridcolor": "white",
            "linecolor": "white",
            "ticks": ""
           },
           "baxis": {
            "gridcolor": "white",
            "linecolor": "white",
            "ticks": ""
           },
           "bgcolor": "#E5ECF6",
           "caxis": {
            "gridcolor": "white",
            "linecolor": "white",
            "ticks": ""
           }
          },
          "title": {
           "x": 0.05
          },
          "xaxis": {
           "automargin": true,
           "gridcolor": "white",
           "linecolor": "white",
           "ticks": "",
           "title": {
            "standoff": 15
           },
           "zerolinecolor": "white",
           "zerolinewidth": 2
          },
          "yaxis": {
           "automargin": true,
           "gridcolor": "white",
           "linecolor": "white",
           "ticks": "",
           "title": {
            "standoff": 15
           },
           "zerolinecolor": "white",
           "zerolinewidth": 2
          }
         }
        },
        "xaxis": {
         "anchor": "y",
         "autorange": true,
         "domain": [
          0,
          1
         ],
         "range": [
          -9.55810843177166,
          23.79068023567459
         ],
         "title": {
          "text": "pca_x"
         },
         "type": "linear"
        },
        "yaxis": {
         "anchor": "x",
         "autorange": true,
         "domain": [
          0,
          1
         ],
         "range": [
          -11.820494474989225,
          13.547132968040492
         ],
         "title": {
          "text": "pca_y"
         },
         "type": "linear"
        }
       }
      },
      "image/png": "[encoded data removed]",
      "text/html": [
       "<div>\n",
       "        \n",
       "        \n",
       "            <div id=\"9a53b994-158e-4056-ad0f-852a80be2bc1\" class=\"plotly-graph-div\" style=\"height:525px; width:100%;\"></div>\n",
       "            <script type=\"text/javascript\">\n",
       "                require([\"plotly\"], function(Plotly) {\n",
       "                    window.PLOTLYENV=window.PLOTLYENV || {};\n",
       "                    \n",
       "                if (document.getElementById(\"9a53b994-158e-4056-ad0f-852a80be2bc1\")) {\n",
       "                    Plotly.newPlot(\n",
       "                        '9a53b994-158e-4056-ad0f-852a80be2bc1',\n",
       "                        [{\"customdata\": [[\"Alistair Overeem\"], [\"Alan Patrick\"], [\"Kevin Lee\"], [\"Rashid Magomedov\"], [\"Abel Trujillo\"], [\"Joe Proctor\"], [\"Nico Musoke\"], [\"Wilson Reis\"], [\"Maximo Blanco\"], [\"Albert Tumenov\"], [\"Tae Hyun Bang\"], [\"Russell Doane\"], [\"Ilir Latifi\"], [\"Neil Seery\"], [\"Omari Akhmedov\"], [\"Demian Maia\"], [\"Pedro Munhoz\"], [\"Jessica Eye\"], [\"Aljamain Sterling\"], [\"Erik Koch\"], [\"Sam Sicilia\"], [\"Brad Tavares\"], [\"Beneil Dariush\"], [\"Derek Brunson\"], [\"Dustin Ortiz\"], [\"Louis Smolka\"], [\"Jeremy Stephens\"], [\"Patrick Cummins\"], [\"Yaotzin Meza\"], [\"Norman Parke\"], [\"Elias Theodorou\"], [\"Ryan LaFlare\"], [\"Rafael Natal\"], [\"Bryan Caraway\"], [\"Alex Caceres\"], [\"Trevor Smith\"], [\"Adriano Martins\"], [\"Nikita Krylov\"], [\"Sergio Pettis\"], [\"Sean Strickland\"], [\"Hector Lombard\"], [\"Myles Jury\"], [\"Alex Garcia\"], [\"Justin Scoggins\"], [\"Jessica Andrade\"], [\"Shawn Jordan\"], [\"Andre Fili\"], [\"Tim Elliott\"], [\"Bethe Correia\"], [\"Tim Boetsch\"], [\"Yancy Medeiros\"], [\"Liz Carmouche\"], [\"Edson Barboza\"], [\"Yoel Romero\"], [\"Alex White\"], [\"Ray Borg\"], [\"Chas Skelly\"], [\"CB Dollaway\"], [\"Gian Villante\"], [\"Mairbek Taisumov\"], [\"Thiago Santos\"], [\"Scott Jorgensen\"], [\"Kenny Robertson\"], [\"Kyle Noke\"], [\"Mike de la Torre\"], [\"Leslie Smith\"], [\"Sean O'Connell\"], [\"Olivier Aubin-Mercier\"], [\"Jake Ellenberger\"], [\"Chico Camus\"], [\"James Krause\"], [\"Francisco Rivera\"], [\"Francisco Trinaldo\"], [\"Katsunori Kikuno\"], [\"Vinc Pichel\"], [\"Li Jingliang\"], [\"Tatsuya Kawajiri\"], [\"Daniel Omielanczuk\"], [\"Alexander Yakovlev\"], [\"Antonio Carlos Junior\"], [\"Warlley Alves\"], [\"Nik Lentz\"], [\"Zak Cummings\"], [\"Johnny Eduardo\"], [\"Daron Cruickshank\"], [\"Lorenz Larkin\"], [\"Tim Means\"], [\"John Moraga\"], [\"Ross Pearson\"], [\"Kiichi Kunimoto\"], [\"Michinori Tanaka\"], [\"Anthony Hamilton\"], [\"James Moontasri\"], [\"Hacran Dias\"], [\"Leandro Issa\"], [\"Drew Dober\"], [\"Krzysztof Jotko\"], [\"Iuri Alcantara\"], [\"Rob Font\"], [\"Charles Oliveira\"], [\"Jared Rosholt\"], [\"Evan Dunham\"], [\"Danny Castillo\"], [\"Diego Ferreira\"], [\"Bobby Green\"], [\"Dennis Bermudez\"], [\"Gilbert Burns\"], [\"Jorge Masvidal\"], [\"Brian Ortega\"], [\"Dong Hyun Kim\"], [\"Colby Covington\"], [\"Takanori Gomi\"], [\"Richard Walsh\"], [\"Johnny Case\"], [\"Dan Hooker\"], [\"Zach Makovsky\"], [\"Alan Jouban\"], [\"Sam Alvey\"], [\"Lauren Murphy\"], [\"Frankie Saenz\"], [\"Joby Sanchez\"], [\"Jordan Mein\"], [\"Thales Leites\"], [\"Michael Chiesa\"], [\"Derrick Lewis\"], [\"Chris Camozzi\"], [\"Takeya Mizugaki\"], [\"Eddie Alvarez\"], [\"Efrain Escudero\"], [\"Sean Spencer\"], [\"George Sullivan\"], [\"Charles Rosa\"], [\"Jan Blachowicz\"], [\"Scott Askham\"], [\"Max Holloway\"], [\"Neil Magny\"], [\"Tony Martin\"], [\"Paul Felder\"], [\"Kelvin Gastelum\"], [\"Jose Quinonez\"], [\"Marlon Vera\"], [\"Ashlee Evans-Smith\"], [\"Joshua Burkman\"], [\"Nate Marquardt\"], [\"Jared Cannonier\"], [\"Marion Reneau\"], [\"Kailin Curran\"], [\"Aleksei Oleinik\"], [\"Nick Hein\"], [\"Nina Ansaroff\"], [\"Leon Edwards\"], [\"Clint Hester\"], [\"Walt Harris\"], [\"Daniel Kelly\"], [\"Al Iaquinta\"], [\"Stefan Struve\"], [\"Bryan Barberena\"], [\"Ben Saunders\"], [\"Renato Moicano\"], [\"Ulka Sasaki\"], [\"Alex Chambers\"], [\"Angela Hill\"], [\"Randa Markos\"], [\"Gleison Tibau\"], [\"Chris Wade\"], [\"Thiago Alves\"], [\"Sara McMann\"], [\"John Lineker\"], [\"Cole Miller\"], [\"Gegard Mousasi\"], [\"Makwan Amirkhani\"], [\"Chris Beal\"], [\"Michael Johnson\"], [\"Henry Cejudo\"], [\"Ryan Benoit\"], [\"Matt Brown\"], [\"Joe Duffy\"], [\"Paige VanZant\"], [\"Valerie Letourneau\"], [\"Shane Campbell\"], [\"Tim Johnson\"], [\"Alex Oliveira\"], [\"Leandro Silva\"], [\"Matt Mitrione\"], [\"Jake Collier\"], [\"Garreth McLellan\"], [\"Stevie Ray\"], [\"Maryna Moroz\"], [\"Kajan Johnson\"], [\"Jon Tuck\"], [\"Dhiego Lima\"], [\"Robert Whittaker\"], [\"James Vick\"], [\"Bradley Scott\"], [\"John Makdessi\"], [\"Andrei Arlovski\"], [\"John Howard\"], [\"Henry Briones\"], [\"Thomas Almeida\"], [\"Nordine Taleb\"], [\"Tom Breese\"], [\"Mirsad Bektic\"], [\"Tony Ferguson\"], [\"Manvel Gamburyan\"], [\"Andrew Holbrook\"], [\"Dominique Steele\"], [\"Cezar Ferreira\"], [\"Vicente Luque\"], [\"Cortney Casey\"], [\"Jimmie Rivera\"], [\"Scott Holtzman\"], [\"Oluwale Bamgbose\"], [\"Erick Silva\"], [\"Felipe Arantes\"], [\"Uriah Hall\"], [\"Teruto Ishihara\"], [\"Jimi Manuwa\"], [\"Corey Anderson\"], [\"Raquel Pennington\"], [\"Viktor Pesta\"], [\"Islam Makhachev\"], [\"Sage Northcutt\"], [\"Diego Sanchez\"], [\"Michel Prazeres\"], [\"Enrique Barzola\"], [\"Polo Reyes\"], [\"Luis Henrique\"], [\"Karolina Kowalkiewicz\"], [\"Peter Sobotta\"], [\"Ben Nguyen\"], [\"Cathal Pendred\"], [\"Michelle Waterson\"], [\"Gunnar Nelson\"], [\"Alex Morono\"], [\"Marco Beltran\"], [\"Kevin Casey\"], [\"Sergio Moraes\"], [\"Ed Herman\"], [\"Kyle Bochniak\"], [\"Luke Sanders\"], [\"Randy Brown\"], [\"Rustam Khabilov\"], [\"Keita Nakamura\"], [\"Brad Pickett\"], [\"Thibault Gouti\"], [\"Shamil Abdurakhimov\"], [\"Damien Brown\"], [\"Jim Miller\"], [\"Curtis Blaydes\"], [\"Marcin Tybura\"], [\"Bojan Velickovic\"], [\"Alejandro Perez\"], [\"Damian Stasiak\"], [\"Cyril Asker\"], [\"Tecia Torres\"], [\"Santiago Ponzinibbio\"], [\"Juliana Lima\"], [\"Josh Emmett\"], [\"Francimar Barroso\"], [\"Henrique da Silva\"], [\"Clay Guida\"], [\"Ricardo Lamas\"], [\"Patrick Cote\"], [\"Ion Cutelaba\"], [\"Joe Soto\"], [\"Joanne Calderwood\"], [\"Anthony Smith\"], [\"Amanda Cooper\"], [\"Vitor Miranda\"], [\"Travis Browne\"], [\"Joe Lauzon\"], [\"Raphael Assuncao\"], [\"Eddie Wineland\"], [\"Godofredo Pepey\"], [\"Jason Knight\"], [\"Belal Muhammad\"], [\"Lando Vannata\"], [\"Matthew Lopez\"], [\"Katlyn Chookagian\"], [\"Chad Laprise\"], [\"Jack Hermansson\"], [\"Mickey Gall\"], [\"Mike Perry\"], [\"Glover Teixeira\"], [\"Donald Cerrone\"], [\"Marvin Vettori\"], [\"Rony Jason\"], [\"Danielle Taylor\"], [\"Alessio Di Chirico\"], [\"Bec Rawlings\"], [\"Rick Glenn\"], [\"Albert Morales\"], [\"Zak Ottow\"], [\"Elizeu Zaleski dos Santos\"], [\"Gregor Gillespie\"], [\"Eric Spicely\"], [\"Max Griffin\"], [\"Douglas Silva de Andrade\"], [\"Marc Diakiese\"], [\"Kamaru Usman\"], [\"Darren Stewart\"], [\"Alexander Volkanovski\"], [\"Tyson Pedro\"], [\"Devin Clark\"], [\"Alexis Davis\"], [\"Gerald Meerschaert\"], [\"Misha Cirkunov\"], [\"Niko Price\"], [\"Chase Sherman\"], [\"Felice Herrig\"], [\"Francis Ngannou\"], [\"Darren Elkins\"], [\"David Teymur\"], [\"Abdul Razak Alhassan\"], [\"Desmond Green\"], [\"Dustin Poirier\"], [\"Yair Rodriguez\"], [\"Marcos Rogerio de Lima\"], [\"Andrew Sanchez\"], [\"Roy Nelson\"], [\"Brian Kelleher\"], [\"Johny Hendricks\"], [\"Rani Yahya\"], [\"Brandon Davis\"], [\"Renan Barao\"], [\"Danny Roberts\"], [\"Brett Johns\"], [\"Carla Esparza\"], [\"Gabriel Benitez\"], [\"Anthony Pettis\"], [\"Cub Swanson\"], [\"Jake Matthews\"], [\"John Dodson\"], [\"Jussier Formiga\"], [\"Jacare Souza\"], [\"Mike Pyle\"], [\"Leonardo Santos\"], [\"Urijah Faber\"], [\"Ovince Saint Preux\"], [\"Joseph Benavidez\"], [\"Miesha Tate\"], [\"Kyoji Horiguchi\"], [\"Jason Saggo\"], [\"Claudia Gadelha\"], [\"Gray Maynard\"], [\"Court McGee\"], [\"Artem Lobov\"]], \"hoverlabel\": {\"namelength\": 0}, \"hovertemplate\": \"pca_x=%{x}<br>pca_y=%{y}<br>Name=%{customdata[0]}<br>label=%{marker.color}\", \"legendgroup\": \"\", \"marker\": {\"color\": [0, 1, 0, 1, 1, 1, 1, 1, 1, 1, 1, 1, 1, 0, 1, 0, 1, 0, 0, 1, 1, 0, 0, 1, 0, 0, 0, 0, 1, 1, 0, 1, 0, 1, 0, 1, 1, 1, 0, 0, 1, 1, 1, 1, 0, 1, 0, 1, 0, 1, 1, 1, 0, 1, 0, 1, 1, 1, 0, 1, 0, 1, 1, 1, 1, 0, 1, 1, 1, 1, 0, 1, 0, 1, 0, 0, 1, 1, 1, 1, 1, 1, 1, 1, 0, 1, 0, 0, 0, 1, 1, 0, 1, 1, 1, 1, 0, 1, 1, 1, 1, 0, 1, 1, 0, 0, 0, 0, 1, 1, 1, 0, 1, 1, 0, 1, 0, 0, 0, 0, 1, 1, 1, 1, 0, 0, 1, 0, 1, 1, 0, 1, 1, 1, 0, 0, 1, 0, 0, 1, 1, 1, 1, 1, 1, 0, 1, 1, 1, 1, 1, 1, 1, 0, 1, 1, 0, 1, 1, 1, 1, 0, 0, 1, 1, 0, 1, 0, 1, 0, 1, 1, 0, 0, 1, 0, 1, 0, 1, 1, 1, 1, 1, 1, 1, 0, 1, 1, 1, 1, 1, 1, 0, 1, 0, 0, 1, 1, 1, 1, 1, 0, 0, 1, 1, 1, 1, 1, 0, 1, 0, 1, 1, 1, 0, 1, 1, 0, 0, 1, 1, 1, 1, 1, 1, 1, 1, 0, 1, 1, 1, 1, 1, 1, 1, 1, 1, 1, 1, 1, 1, 1, 1, 0, 1, 1, 1, 0, 0, 1, 1, 1, 1, 1, 0, 1, 0, 1, 0, 1, 0, 0, 0, 1, 0, 0, 1, 1, 1, 1, 1, 0, 1, 1, 0, 0, 1, 1, 1, 0, 1, 1, 1, 0, 0, 1, 1, 1, 1, 1, 1, 1, 1, 0, 1, 1, 1, 1, 1, 0, 1, 0, 1, 1, 0, 1, 1, 1, 1, 1, 1, 0, 1, 1, 1, 1, 0, 1, 1, 1, 1, 0, 1, 0, 0, 1, 1, 0, 1, 0, 0, 0, 1, 1, 1, 1, 1, 1, 1, 0, 1, 1, 1, 0, 1, 1, 1], \"coloraxis\": \"coloraxis\", \"symbol\": \"circle\"}, \"mode\": \"markers\", \"name\": \"\", \"showlegend\": false, \"type\": \"scatter\", \"x\": [3.497450476891091, -1.4162184691376412, 7.397511494856456, 1.1449479441433625, -4.105562212452735, -1.3889599938548145, -2.41247554501775, 1.4678262170078162, -0.0827688521961166, -3.151528865446041, -5.6793570381441265, -1.3224304223558643, -6.894268657242202, 0.15301354699592215, -1.4306087694504557, 1.3566470893447724, -0.18287776480347934, 5.924382552812155, 15.787607894960342, -7.181940600274257, -2.298317102701758, 3.968727156795098, 4.711744342981393, -0.769272912533718, 17.58160164496633, 6.846574630285453, 9.030409590257964, 6.020582625660632, -4.919563446201253, -1.0035031174368239, 10.020463135107859, 0.22836004144889704, 3.4810186885723735, -3.5117876008104867, 6.511301887513898, 1.10762430249391, -6.6928672507170575, -2.6244118717202234, 11.426395463383367, 2.45457431839109, 0.18168941037405664, -4.669904928774777, -0.38468908002800833, 3.9402127510020106, 13.665927394186484, -5.246922702848211, 5.2486661333807305, -2.5607255379900744, 5.941469269175257, -2.564063741977031, -0.5616720995574239, -1.0805102126315882, 4.294427186783086, 1.0790796302034351, 6.354315477300057, -4.093126807241301, -1.4217389843703834, -3.4001311427060497, 6.011958669976959, -3.0785689483852554, 4.273832036652028, -5.73561245549869, -2.621126491720789, -2.114015434148155, -2.319648422259961, 3.3298965883728693, 1.1896980263258552, 0.9659690593823013, -2.123841487105708, -3.918647437618584, 1.8374893803417116, -2.9774465108312884, 9.120327231141292, -5.7656632204310485, 1.3470836548373655, 2.8135577326369448, -4.908182453858869, -1.181985718662974, -4.607739918071523, -1.680016749668836, -1.5538265256559245, 1.9859038558470348, -1.5560729449895392, -7.308347734677914, 3.428228606101831, -0.1921732163336984, 11.284156754560849, 5.674194556179092, 7.8565969484585985, -6.638308075821969, -4.6714477577009, 3.5084339087567273, -4.107682041941038, -3.683814101282457, -3.224458209847375, -0.556233377105888, 3.4025077107440533, 1.4668531110115375, -1.7021394783144843, 2.5528906758303616, -0.35798829010479394, 5.203913005492707, -4.623664100956639, -3.5575647747882795, 4.0300683306862535, 11.463700564715472, 2.0176870513240406, 18.918472216846812, -4.3445080804735055, -3.473290261071872, -0.5980603047198269, -0.86622555090005, 1.920211935943547, -2.230901035099187, 2.2049195213484816, -2.9138275562595357, 4.133203283138992, 7.101321340073468, 3.6890557359126825, 3.413240371131278, -1.164980104053053, -1.7772485458693539, -1.2288702424282534, 0.3017242603461375, -0.3266897716059894, 4.441762618254979, -2.528280143489233, 0.678541427729832, -2.583449053272804, 0.8305892914643661, 4.803908225580209, -4.06677781285632, 2.7455022921535384, -3.9266507187686073, 11.94046236090562, 21.968466102422422, 0.2211117678833953, 8.163823739228802, 5.885351394700078, -4.900880148354222, -1.0002822255221668, 0.2967496908751386, 0.6858113807503017, -2.7592777030308193, -3.756488859615155, 2.83258745882968, 0.49209860667644767, -4.893416584709021, -0.9520661029120552, -1.1315476383640033, -2.4321312338367456, -1.6787392479340082, -4.007655807251459, 0.7619618090701279, -0.4002298418933872, -2.9441368657975215, 8.467277334699748, -0.3926073695716254, -0.9319392258971206, -5.258447009742332, -4.2351896077412965, 6.413994375137919, 6.245721035345711, -1.1206608465052899, -2.9305669063347413, 7.098696101525361, -0.3085461488145868, 12.153576061394077, -4.646253125783839, 4.805507343003785, -7.68580600942585, -2.2083235306588684, 5.182057283237675, 8.031621685811587, -6.353321641105416, 4.739725943748254, -6.1902078088903165, 3.2541503270319816, 1.083602596435824, -3.5343510967165037, -0.3714679861225973, 3.7935308085298254, -3.992350112113237, -7.037515081832482, -3.115974235041768, -2.8011453222922578, -1.842068549653022, -3.8672311363402145, -3.0726762010354323, -1.333191992179096, -5.465569674583098, -1.5596046830561923, 6.774204367421673, -2.434727999280659, 7.279006382866515, 3.59886460056133, -2.0320902042832962, -2.2521343171843933, 0.12436162782206345, 2.328195717764854, -5.230161014698724, 0.6354202591808689, 2.3422216077640208, -4.1711398296715165, -5.866694414234311, -5.540688058919009, -3.6741445223832496, -3.3134996068711966, 4.242303013676174, -1.736028310271145, 3.8998799539933895, -6.918860083833431, -3.8277189948372445, -3.6313578333170358, 0.0630904386602482, -0.9349584096950309, -3.053511255500897, 10.88144799082782, 4.723197175077704, -4.835090911877953, -5.446208656267059, -3.068266911188555, -0.8475261119512543, -0.029067138840640497, 1.3066797611592913, -2.3867163268941964, -4.8394586674634, 8.967014300793158, -3.9587681585274646, -5.150162593010762, -2.860569914919843, -2.7133768771069353, -6.273153776309654, -1.1122123479724764, -4.181485451302354, -5.623349454781507, -2.872998383541147, -4.271310614230527, -3.8351480205641475, -4.078675261646061, -2.2602404634468227, 1.0932578589260864, -4.493742779843805, 2.417575948024317, -7.134070542757496, -3.5451055365383923, -4.670068963206048, 5.694392154363154, 0.049786329491103204, -0.6564849426228747, -1.4951362240955806, 0.21992076354166934, -6.279394658921537, -7.11102638316209, 12.439661294850634, -2.250502361874178, 2.4081788919926774, -0.9484672798557889, 1.151759475521853, -1.4680620837560434, 0.808097911928081, 6.773200792651727, 3.666321299869909, -2.421574801282213, -0.17988291177676333, 13.198006076618185, -1.8465001603861408, -5.857761952939111, -1.5220579672774133, -0.5008059089252833, -0.6710169348565946, 5.6182628829868735, -0.8161402675526694, -6.6593946620133755, 0.8470129490579618, 1.5388089924110395, -3.6998195559791327, -5.784789881774345, -1.5783396484682986, 4.079604114436066, -1.679454802056251, -7.656166375862576, -0.3622138723620547, 4.531355043795813, 15.114994757062425, -4.3666815826997025, -7.146393786619154, -4.169431817264237, -3.302264604398641, 0.24529442384859138, 0.11106915597784231, -0.6822901669823763, -2.438392937771625, 2.6796556517185985, -4.727727927746111, -7.735894298519491, -5.599469521321237, -3.805324943613129, -3.843645432820812, 1.8476684578663802, -4.976350449244065, -1.3190591684869517, -6.511099710960413, -3.3909308780624716, 3.5204893124585395, -7.377471421230049, -4.402520014692399, -5.193474316793415, 1.4381156658106593, 0.013007163062767224, -5.4731483341942, 11.540460599558552, -3.400657129974008, -6.318158082421874, -3.3074995446629156, -1.8048914987528624, 0.30248021532728014, -6.301891915987326, -1.8913676324108655, -1.1218724019926913, -5.276710489811744, 18.08547029977446, -3.363859505804561, 2.1927376722275094, 12.631541568174947, -2.2005549302100738, -3.4045177949922167, 5.52596123274611, -1.9402310187911298, 6.177517465757533, 12.800550601068583, 0.7216570078447365, 0.48422532089168263, -2.082255960039946, -1.3911241020321017, 0.43700629212146236, -5.143370364079234, 0.40976885394256585, 3.3399597320297287, 5.044594985869322, -0.9021650904281028, -0.3840469360453969, -3.597927629036697, 7.524293994394118, -4.48217874500307, -2.3919433048467003, -4.501121793746405], \"xaxis\": \"x\", \"y\": [-3.205987637032231, 0.4595629572567685, -3.7696866141912366, 1.9797517028494018, 0.9781566337187788, 3.069929767685447, 0.2972603305817116, -1.4544443572989973, 0.15011837278308474, 0.6321119943452742, 0.6714834992065626, -2.5966761595828887, 0.886986702768243, -1.8031468090473064, -0.6881879912860523, -7.216574256088095, 3.353427262542335, 5.535727003021088, -4.713056290454312, 0.37688847829969235, -0.43901184404517823, 3.1692838213719097, -0.9709030250835734, -1.4359205662597925, -10.245246641833347, -7.945740003152602, 6.4594086022942445, -9.865403413692404, 0.37351306326829825, -0.9138311335169503, -2.391373669400467, -1.4447778963142526, 1.336823691586263, 1.629645461316461, 4.895074998108369, -3.1536432913137684, 2.118090070121078, -1.5658840511366696, 4.382116654980079, -0.6849116624801765, -2.29700954782067, 0.6891496030559754, -0.1074882007446871, -0.9254117206490099, -7.23612463654871, -0.678172613752096, 1.8780375129402156, -2.6638399847084675, 4.596360391190347, 0.03517099260634592, 3.3117273502683555, -0.6937364871835062, 8.168884000247337, -0.10722507505257607, 5.098106872217897, -2.6170458006559114, -0.969190964303011, -0.236183882576711, 1.6711792779663777, 0.5373772642011827, 2.776472096113, -0.17508240861005148, -1.0958263966483393, 0.8376511221210181, -0.835529494805065, 3.15468297700201, -0.05158890908175496, -1.9570427307538625, 0.7315416644330789, 1.4500535044216665, 3.706119063038999, 2.5728972421725937, -2.53525732834683, 1.1125508963644117, -2.0638406726307705, 0.5505113999274597, -2.3741379066849078, -1.6768258740566238, 1.5220118022651898, -3.152009911606037, -0.550672874314749, -3.5060247506451416, -0.07898645744010452, 1.902068048811297, 4.014650546725359, 2.4879533941713468, 4.324369291803913, -0.9753678242197883, 3.615925702784774, 0.7588467512829662, -2.0869546256968663, -9.193638395943735, -2.6369176437875548, 0.27168241404278276, 2.318604555743815, -0.13722768398810942, -2.4748354429938493, -2.8195862538946486, 1.3259591548781424, -6.098396241503232, -6.42817978449959, -0.3298197323573064, 1.7464519146236477, 0.7722869273976244, 8.452939688335922, -2.250722378317272, 1.7330675151164516, 1.3185381802562381, 0.6692741532528373, -1.5971544639714186, -5.92596248713443, 3.632166551737576, -2.581034463980111, -1.3421126422047147, -0.9583069097575884, -0.6627503526521841, 2.514460640054549, 0.2827591212810177, -3.5128338471907505, -2.260274260755669, 0.2485186937607513, 1.8256712758953983, 0.901210341509493, -2.3094200066628865, -6.025917403319036, 3.575412803836763, -0.33787608791990553, 2.1789991802287925, -1.135886178524263, 3.25587779930246, -0.14794370033058046, 0.6631365196198226, -3.7104499790175827, 0.3306260561688215, 0.5860293819486618, -9.544279543358428, 1.0138865044688947, -0.6483210137395765, 2.507057041467111, -0.24824348383720865, -0.6591869895170993, -0.981634645628375, 3.620664073010609, 0.7318415055649244, 0.6552949810262148, -0.25224985284627865, -1.8237765468401628, -0.9484045421633198, 3.133502616467725, 0.8860138121076188, -1.0757489111374348, 3.3618293204197625, 0.7207789681071808, -2.132887790572442, 3.218118362908541, 1.8624320537876298, -0.2150564106583328, 0.3102728538050381, 3.5838272549844685, 0.46056927670021364, 0.7713847653264432, -2.037261740992786, -3.264431863594883, 0.3672163544086615, -1.526035987619929, 9.734788883462425, -2.051967801559502, 4.426176299683186, 2.317892639854956, -3.3070468741950467, -0.3658908897828947, -0.8042202845903926, 4.672209601402664, 0.05709417284299433, 0.806875699267375, -4.87429131923482, 1.0733749888960846, -7.171146389134249, 1.2121983356511925, 1.0535459123617152, -2.541760585693978, -5.600451443547085, 0.14884700229905867, 0.909338193798215, 1.3382826521963784, -4.353663247152244, -0.20851133412025905, 0.9768502426090057, -0.5721720834863987, -0.8126579202027058, -1.977218832053874, 1.3535902766583467, 7.346137987429353, 0.9874276240824913, 6.276821215471031, 0.3034121158673067, 0.9565095589295464, 1.5276341168664336, 2.6417164949115195, -3.9198197637212253, 0.15684235486405437, -5.2772001056419295, 3.6907660303671097, 0.2602799233183134, -0.9008458105741989, -1.0321174916983802, -0.4263174370153393, -0.5746162004078674, -1.7384527994761743, 2.7057699605674483, -3.3639616660704363, 0.7352009702410554, -0.3693680117725964, -0.918668153394447, 3.9759910364972897, 2.156907576657817, 1.8237628809444697, -8.484474315383904, -0.1572995993036651, -2.063339246361156, -1.513555700748479, -1.48181540978677, 0.18530264823383233, -0.8033501209010996, -3.704143331852749, 0.7870263283637663, -2.310222268596719, -1.2810535351344505, -0.2629442093500192, 0.9406999969182827, 1.86953979761267, -0.6914206735390953, -0.4716654693360641, 1.6775428796771648, -1.1082366457966606, -0.45176778489490094, 1.2567326318859502, 0.45517622741369607, 2.1902817909201815, -1.8609691611932841, -0.5417260487215622, -2.4591151605555623, -0.4159528520853436, 0.9779921750437223, 0.4438052482473962, 0.3697424429068495, 0.17470044208788743, 1.8302301864318984, -5.027082110218635, -1.8858436683058706, 1.8002328670852594, 0.6163686765410203, 0.5893706617818448, -0.32076580039499575, 5.367940913358357, 2.2772210756577214, -1.3483612706716446, 1.1760501551400684, -1.4843189961302223, -2.20196225967209, -2.5433104150264825, 6.29718375199972, -0.6553388534315234, 0.835017673020653, 2.4910822551758414, 5.057432446563913, 0.4447701143580786, -0.34395838856331173, -1.331489895617868, -0.5778935061623846, -1.8463918538592259, 5.935676527015532, 0.3741664997077711, 0.03400572565484321, -0.667748107485416, 0.3204934957772015, 2.2406221923596203, -0.9381711095336731, 2.5095789033446514, 3.7695663626822813, 0.138319743065828, -0.34168513120566407, 0.86278798079314, -2.376289460589239, 11.971885134884614, -0.7817768105302987, 1.2318153285842584, 2.6996268701747987, 0.5432372061015124, -0.7999914652176184, -2.7627657256253713, 3.6067664448422576, 2.117182376621825, -0.42955386852884103, -1.9789376461052859, 0.24797365293439955, 0.23079753451945173, 2.753961168678455, 0.26414477578822304, -6.624244860259249, 0.23323865755165193, -4.121061879937216, 0.6974812928089933, -1.1420780587068655, 2.522735255191, 0.5977119355449203, -1.2964272598647093, 0.8702820196848576, 3.9445171889651123, -1.1474174707875555, 0.4914133626584887, -8.731062220689438, 2.9357761191802165, 1.2063605373854367, 1.5923966003835364, 0.3652890249537937, 1.8656932514403362, -0.2148058839267406, -2.061565117024957, 0.5282699324370391, 0.6751517425360198, 6.761237889291004, -0.513529890558116, 2.8530394032536157, 4.978704336180923, 1.1850605171978157, -3.952382698367481, -8.340059423917312, 0.5634991276568416, 1.1096081778285503, 4.785499829226628, -5.892797375089042, 2.3008332850290705, -1.2218493785355558, -2.899615480018774, 0.1559865327523119, 0.6064822975951624, 0.4691844476600785, -0.327853107525741, 3.1924523193068186, -2.1727460816474338, -1.112064109789525, -1.3207991361374145, -2.341172590969474, -0.03023517563539439, 0.31914097546493775, 2.253207009379145], \"yaxis\": \"y\"}],\n",
       "                        {\"coloraxis\": {\"colorbar\": {\"title\": {\"text\": \"label\"}}, \"colorscale\": [[0.0, \"#0d0887\"], [0.1111111111111111, \"#46039f\"], [0.2222222222222222, \"#7201a8\"], [0.3333333333333333, \"#9c179e\"], [0.4444444444444444, \"#bd3786\"], [0.5555555555555556, \"#d8576b\"], [0.6666666666666666, \"#ed7953\"], [0.7777777777777778, \"#fb9f3a\"], [0.8888888888888888, \"#fdca26\"], [1.0, \"#f0f921\"]]}, \"legend\": {\"tracegroupgap\": 0}, \"margin\": {\"t\": 60}, \"template\": {\"data\": {\"bar\": [{\"error_x\": {\"color\": \"#2a3f5f\"}, \"error_y\": {\"color\": \"#2a3f5f\"}, \"marker\": {\"line\": {\"color\": \"#E5ECF6\", \"width\": 0.5}}, \"type\": \"bar\"}], \"barpolar\": [{\"marker\": {\"line\": {\"color\": \"#E5ECF6\", \"width\": 0.5}}, \"type\": \"barpolar\"}], \"carpet\": [{\"aaxis\": {\"endlinecolor\": \"#2a3f5f\", \"gridcolor\": \"white\", \"linecolor\": \"white\", \"minorgridcolor\": \"white\", \"startlinecolor\": \"#2a3f5f\"}, \"baxis\": {\"endlinecolor\": \"#2a3f5f\", \"gridcolor\": \"white\", \"linecolor\": \"white\", \"minorgridcolor\": \"white\", \"startlinecolor\": \"#2a3f5f\"}, \"type\": \"carpet\"}], \"choropleth\": [{\"colorbar\": {\"outlinewidth\": 0, \"ticks\": \"\"}, \"type\": \"choropleth\"}], \"contour\": [{\"colorbar\": {\"outlinewidth\": 0, \"ticks\": \"\"}, \"colorscale\": [[0.0, \"#0d0887\"], [0.1111111111111111, \"#46039f\"], [0.2222222222222222, \"#7201a8\"], [0.3333333333333333, \"#9c179e\"], [0.4444444444444444, \"#bd3786\"], [0.5555555555555556, \"#d8576b\"], [0.6666666666666666, \"#ed7953\"], [0.7777777777777778, \"#fb9f3a\"], [0.8888888888888888, \"#fdca26\"], [1.0, \"#f0f921\"]], \"type\": \"contour\"}], \"contourcarpet\": [{\"colorbar\": {\"outlinewidth\": 0, \"ticks\": \"\"}, \"type\": \"contourcarpet\"}], \"heatmap\": [{\"colorbar\": {\"outlinewidth\": 0, \"ticks\": \"\"}, \"colorscale\": [[0.0, \"#0d0887\"], [0.1111111111111111, \"#46039f\"], [0.2222222222222222, \"#7201a8\"], [0.3333333333333333, \"#9c179e\"], [0.4444444444444444, \"#bd3786\"], [0.5555555555555556, \"#d8576b\"], [0.6666666666666666, \"#ed7953\"], [0.7777777777777778, \"#fb9f3a\"], [0.8888888888888888, \"#fdca26\"], [1.0, \"#f0f921\"]], \"type\": \"heatmap\"}], \"heatmapgl\": [{\"colorbar\": {\"outlinewidth\": 0, \"ticks\": \"\"}, \"colorscale\": [[0.0, \"#0d0887\"], [0.1111111111111111, \"#46039f\"], [0.2222222222222222, \"#7201a8\"], [0.3333333333333333, \"#9c179e\"], [0.4444444444444444, \"#bd3786\"], [0.5555555555555556, \"#d8576b\"], [0.6666666666666666, \"#ed7953\"], [0.7777777777777778, \"#fb9f3a\"], [0.8888888888888888, \"#fdca26\"], [1.0, \"#f0f921\"]], \"type\": \"heatmapgl\"}], \"histogram\": [{\"marker\": {\"colorbar\": {\"outlinewidth\": 0, \"ticks\": \"\"}}, \"type\": \"histogram\"}], \"histogram2d\": [{\"colorbar\": {\"outlinewidth\": 0, \"ticks\": \"\"}, \"colorscale\": [[0.0, \"#0d0887\"], [0.1111111111111111, \"#46039f\"], [0.2222222222222222, \"#7201a8\"], [0.3333333333333333, \"#9c179e\"], [0.4444444444444444, \"#bd3786\"], [0.5555555555555556, \"#d8576b\"], [0.6666666666666666, \"#ed7953\"], [0.7777777777777778, \"#fb9f3a\"], [0.8888888888888888, \"#fdca26\"], [1.0, \"#f0f921\"]], \"type\": \"histogram2d\"}], \"histogram2dcontour\": [{\"colorbar\": {\"outlinewidth\": 0, \"ticks\": \"\"}, \"colorscale\": [[0.0, \"#0d0887\"], [0.1111111111111111, \"#46039f\"], [0.2222222222222222, \"#7201a8\"], [0.3333333333333333, \"#9c179e\"], [0.4444444444444444, \"#bd3786\"], [0.5555555555555556, \"#d8576b\"], [0.6666666666666666, \"#ed7953\"], [0.7777777777777778, \"#fb9f3a\"], [0.8888888888888888, \"#fdca26\"], [1.0, \"#f0f921\"]], \"type\": \"histogram2dcontour\"}], \"mesh3d\": [{\"colorbar\": {\"outlinewidth\": 0, \"ticks\": \"\"}, \"type\": \"mesh3d\"}], \"parcoords\": [{\"line\": {\"colorbar\": {\"outlinewidth\": 0, \"ticks\": \"\"}}, \"type\": \"parcoords\"}], \"pie\": [{\"automargin\": true, \"type\": \"pie\"}], \"scatter\": [{\"marker\": {\"colorbar\": {\"outlinewidth\": 0, \"ticks\": \"\"}}, \"type\": \"scatter\"}], \"scatter3d\": [{\"line\": {\"colorbar\": {\"outlinewidth\": 0, \"ticks\": \"\"}}, \"marker\": {\"colorbar\": {\"outlinewidth\": 0, \"ticks\": \"\"}}, \"type\": \"scatter3d\"}], \"scattercarpet\": [{\"marker\": {\"colorbar\": {\"outlinewidth\": 0, \"ticks\": \"\"}}, \"type\": \"scattercarpet\"}], \"scattergeo\": [{\"marker\": {\"colorbar\": {\"outlinewidth\": 0, \"ticks\": \"\"}}, \"type\": \"scattergeo\"}], \"scattergl\": [{\"marker\": {\"colorbar\": {\"outlinewidth\": 0, \"ticks\": \"\"}}, \"type\": \"scattergl\"}], \"scattermapbox\": [{\"marker\": {\"colorbar\": {\"outlinewidth\": 0, \"ticks\": \"\"}}, \"type\": \"scattermapbox\"}], \"scatterpolar\": [{\"marker\": {\"colorbar\": {\"outlinewidth\": 0, \"ticks\": \"\"}}, \"type\": \"scatterpolar\"}], \"scatterpolargl\": [{\"marker\": {\"colorbar\": {\"outlinewidth\": 0, \"ticks\": \"\"}}, \"type\": \"scatterpolargl\"}], \"scatterternary\": [{\"marker\": {\"colorbar\": {\"outlinewidth\": 0, \"ticks\": \"\"}}, \"type\": \"scatterternary\"}], \"surface\": [{\"colorbar\": {\"outlinewidth\": 0, \"ticks\": \"\"}, \"colorscale\": [[0.0, \"#0d0887\"], [0.1111111111111111, \"#46039f\"], [0.2222222222222222, \"#7201a8\"], [0.3333333333333333, \"#9c179e\"], [0.4444444444444444, \"#bd3786\"], [0.5555555555555556, \"#d8576b\"], [0.6666666666666666, \"#ed7953\"], [0.7777777777777778, \"#fb9f3a\"], [0.8888888888888888, \"#fdca26\"], [1.0, \"#f0f921\"]], \"type\": \"surface\"}], \"table\": [{\"cells\": {\"fill\": {\"color\": \"#EBF0F8\"}, \"line\": {\"color\": \"white\"}}, \"header\": {\"fill\": {\"color\": \"#C8D4E3\"}, \"line\": {\"color\": \"white\"}}, \"type\": \"table\"}]}, \"layout\": {\"annotationdefaults\": {\"arrowcolor\": \"#2a3f5f\", \"arrowhead\": 0, \"arrowwidth\": 1}, \"coloraxis\": {\"colorbar\": {\"outlinewidth\": 0, \"ticks\": \"\"}}, \"colorscale\": {\"diverging\": [[0, \"#8e0152\"], [0.1, \"#c51b7d\"], [0.2, \"#de77ae\"], [0.3, \"#f1b6da\"], [0.4, \"#fde0ef\"], [0.5, \"#f7f7f7\"], [0.6, \"#e6f5d0\"], [0.7, \"#b8e186\"], [0.8, \"#7fbc41\"], [0.9, \"#4d9221\"], [1, \"#276419\"]], \"sequential\": [[0.0, \"#0d0887\"], [0.1111111111111111, \"#46039f\"], [0.2222222222222222, \"#7201a8\"], [0.3333333333333333, \"#9c179e\"], [0.4444444444444444, \"#bd3786\"], [0.5555555555555556, \"#d8576b\"], [0.6666666666666666, \"#ed7953\"], [0.7777777777777778, \"#fb9f3a\"], [0.8888888888888888, \"#fdca26\"], [1.0, \"#f0f921\"]], \"sequentialminus\": [[0.0, \"#0d0887\"], [0.1111111111111111, \"#46039f\"], [0.2222222222222222, \"#7201a8\"], [0.3333333333333333, \"#9c179e\"], [0.4444444444444444, \"#bd3786\"], [0.5555555555555556, \"#d8576b\"], [0.6666666666666666, \"#ed7953\"], [0.7777777777777778, \"#fb9f3a\"], [0.8888888888888888, \"#fdca26\"], [1.0, \"#f0f921\"]]}, \"colorway\": [\"#636efa\", \"#EF553B\", \"#00cc96\", \"#ab63fa\", \"#FFA15A\", \"#19d3f3\", \"#FF6692\", \"#B6E880\", \"#FF97FF\", \"#FECB52\"], \"font\": {\"color\": \"#2a3f5f\"}, \"geo\": {\"bgcolor\": \"white\", \"lakecolor\": \"white\", \"landcolor\": \"#E5ECF6\", \"showlakes\": true, \"showland\": true, \"subunitcolor\": \"white\"}, \"hoverlabel\": {\"align\": \"left\"}, \"hovermode\": \"closest\", \"mapbox\": {\"style\": \"light\"}, \"paper_bgcolor\": \"white\", \"plot_bgcolor\": \"#E5ECF6\", \"polar\": {\"angularaxis\": {\"gridcolor\": \"white\", \"linecolor\": \"white\", \"ticks\": \"\"}, \"bgcolor\": \"#E5ECF6\", \"radialaxis\": {\"gridcolor\": \"white\", \"linecolor\": \"white\", \"ticks\": \"\"}}, \"scene\": {\"xaxis\": {\"backgroundcolor\": \"#E5ECF6\", \"gridcolor\": \"white\", \"gridwidth\": 2, \"linecolor\": \"white\", \"showbackground\": true, \"ticks\": \"\", \"zerolinecolor\": \"white\"}, \"yaxis\": {\"backgroundcolor\": \"#E5ECF6\", \"gridcolor\": \"white\", \"gridwidth\": 2, \"linecolor\": \"white\", \"showbackground\": true, \"ticks\": \"\", \"zerolinecolor\": \"white\"}, \"zaxis\": {\"backgroundcolor\": \"#E5ECF6\", \"gridcolor\": \"white\", \"gridwidth\": 2, \"linecolor\": \"white\", \"showbackground\": true, \"ticks\": \"\", \"zerolinecolor\": \"white\"}}, \"shapedefaults\": {\"line\": {\"color\": \"#2a3f5f\"}}, \"ternary\": {\"aaxis\": {\"gridcolor\": \"white\", \"linecolor\": \"white\", \"ticks\": \"\"}, \"baxis\": {\"gridcolor\": \"white\", \"linecolor\": \"white\", \"ticks\": \"\"}, \"bgcolor\": \"#E5ECF6\", \"caxis\": {\"gridcolor\": \"white\", \"linecolor\": \"white\", \"ticks\": \"\"}}, \"title\": {\"x\": 0.05}, \"xaxis\": {\"automargin\": true, \"gridcolor\": \"white\", \"linecolor\": \"white\", \"ticks\": \"\", \"title\": {\"standoff\": 15}, \"zerolinecolor\": \"white\", \"zerolinewidth\": 2}, \"yaxis\": {\"automargin\": true, \"gridcolor\": \"white\", \"linecolor\": \"white\", \"ticks\": \"\", \"title\": {\"standoff\": 15}, \"zerolinecolor\": \"white\", \"zerolinewidth\": 2}}}, \"xaxis\": {\"anchor\": \"y\", \"domain\": [0.0, 1.0], \"title\": {\"text\": \"pca_x\"}}, \"yaxis\": {\"anchor\": \"x\", \"domain\": [0.0, 1.0], \"title\": {\"text\": \"pca_y\"}}},\n",
       "                        {\"responsive\": true}\n",
       "                    ).then(function(){\n",
       "                            \n",
       "var gd = document.getElementById('9a53b994-158e-4056-ad0f-852a80be2bc1');\n",
       "var x = new MutationObserver(function (mutations, observer) {{\n",
       "        var display = window.getComputedStyle(gd).display;\n",
       "        if (!display || display === 'none') {{\n",
       "            console.log([gd, 'removed!']);\n",
       "            Plotly.purge(gd);\n",
       "            observer.disconnect();\n",
       "        }}\n",
       "}});\n",
       "\n",
       "// Listen for the removal of the full notebook cells\n",
       "var notebookContainer = gd.closest('#notebook-container');\n",
       "if (notebookContainer) {{\n",
       "    x.observe(notebookContainer, {childList: true});\n",
       "}}\n",
       "\n",
       "// Listen for the clearing of the current output cell\n",
       "var outputEl = gd.closest('.output');\n",
       "if (outputEl) {{\n",
       "    x.observe(outputEl, {childList: true});\n",
       "}}\n",
       "\n",
       "                        })\n",
       "                };\n",
       "                });\n",
       "            </script>\n",
       "        </div>"
      ]
     },
     "metadata": {},
     "output_type": "display_data"
    }
   ],
   "source": [
    "pca_model = PCA(n_components=2)\n",
    "components = pca_model.fit_transform(clustering_data)\n",
    "\n",
    "# plot the components with their cluster labels\n",
    "cluster_data = pd.DataFrame(components, columns=['pca_x', 'pca_y'])\n",
    "cluster_data['Name'] = aggregated_clustering_df_raw_byname['Name']\n",
    "cluster_data['label'] = cluster.labels_\n",
    "fig = px.scatter(cluster_data, x=\"pca_x\", y=\"pca_y\", color=\"label\", hover_data=['Name'])\n",
    "fig.show()"
   ]
  },
  {
   "cell_type": "code",
   "execution_count": null,
   "metadata": {},
   "outputs": [],
   "source": []
  }
 ],
 "metadata": {
  "kernelspec": {
   "display_name": "Python 3",
   "language": "python",
   "name": "python3"
  },
  "language_info": {
   "codemirror_mode": {
    "name": "ipython",
    "version": 3
   },
   "file_extension": ".py",
   "mimetype": "text/x-python",
   "name": "python",
   "nbconvert_exporter": "python",
   "pygments_lexer": "ipython3",
   "version": "3.7.5"
  }
 },
 "nbformat": 4,
 "nbformat_minor": 4
}
