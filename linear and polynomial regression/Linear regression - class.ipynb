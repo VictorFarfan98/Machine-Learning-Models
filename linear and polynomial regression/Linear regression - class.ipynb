{
 "cells": [
  {
   "cell_type": "markdown",
   "metadata": {},
   "source": [
    "# Intro to Linear Regression\n",
    "\n",
    "- Simple linear regression\n",
    "- multiple linear regression"
   ]
  },
  {
   "cell_type": "code",
   "execution_count": null,
   "metadata": {},
   "outputs": [],
   "source": [
    "import matplotlib.pyplot as plt\n",
    "import pandas as pd\n",
    "import numpy as np\n",
    "from sklearn import datasets\n",
    "from sklearn.model_selection import train_test_split\n",
    "import seaborn as sns\n",
    "from math import sqrt\n",
    "%matplotlib inline"
   ]
  },
  {
   "cell_type": "markdown",
   "metadata": {},
   "source": [
    "## Import data"
   ]
  },
  {
   "cell_type": "code",
   "execution_count": 2,
   "metadata": {},
   "outputs": [],
   "source": [
    "diabetes = datasets.load_diabetes()"
   ]
  },
  {
   "cell_type": "markdown",
   "metadata": {},
   "source": [
    "Data source:\n",
    "http://web.stanford.edu/~hastie/Papers/LARS/LeastAngle_2002.pdf\n"
   ]
  },
  {
   "cell_type": "code",
   "execution_count": 3,
   "metadata": {},
   "outputs": [],
   "source": [
    "diabetes_df = pd.DataFrame(data=diabetes.data, columns=diabetes.feature_names)"
   ]
  },
  {
   "cell_type": "code",
   "execution_count": 4,
   "metadata": {},
   "outputs": [
    {
     "data": {
      "text/html": [
       "<div>\n",
       "<style scoped>\n",
       "    .dataframe tbody tr th:only-of-type {\n",
       "        vertical-align: middle;\n",
       "    }\n",
       "\n",
       "    .dataframe tbody tr th {\n",
       "        vertical-align: top;\n",
       "    }\n",
       "\n",
       "    .dataframe thead th {\n",
       "        text-align: right;\n",
       "    }\n",
       "</style>\n",
       "<table border=\"1\" class=\"dataframe\">\n",
       "  <thead>\n",
       "    <tr style=\"text-align: right;\">\n",
       "      <th></th>\n",
       "      <th>age</th>\n",
       "      <th>sex</th>\n",
       "      <th>bmi</th>\n",
       "      <th>bp</th>\n",
       "      <th>s1</th>\n",
       "      <th>s2</th>\n",
       "      <th>s3</th>\n",
       "      <th>s4</th>\n",
       "      <th>s5</th>\n",
       "      <th>s6</th>\n",
       "    </tr>\n",
       "  </thead>\n",
       "  <tbody>\n",
       "    <tr>\n",
       "      <th>0</th>\n",
       "      <td>0.038076</td>\n",
       "      <td>0.050680</td>\n",
       "      <td>0.061696</td>\n",
       "      <td>0.021872</td>\n",
       "      <td>-0.044223</td>\n",
       "      <td>-0.034821</td>\n",
       "      <td>-0.043401</td>\n",
       "      <td>-0.002592</td>\n",
       "      <td>0.019908</td>\n",
       "      <td>-0.017646</td>\n",
       "    </tr>\n",
       "    <tr>\n",
       "      <th>1</th>\n",
       "      <td>-0.001882</td>\n",
       "      <td>-0.044642</td>\n",
       "      <td>-0.051474</td>\n",
       "      <td>-0.026328</td>\n",
       "      <td>-0.008449</td>\n",
       "      <td>-0.019163</td>\n",
       "      <td>0.074412</td>\n",
       "      <td>-0.039493</td>\n",
       "      <td>-0.068330</td>\n",
       "      <td>-0.092204</td>\n",
       "    </tr>\n",
       "    <tr>\n",
       "      <th>2</th>\n",
       "      <td>0.085299</td>\n",
       "      <td>0.050680</td>\n",
       "      <td>0.044451</td>\n",
       "      <td>-0.005671</td>\n",
       "      <td>-0.045599</td>\n",
       "      <td>-0.034194</td>\n",
       "      <td>-0.032356</td>\n",
       "      <td>-0.002592</td>\n",
       "      <td>0.002864</td>\n",
       "      <td>-0.025930</td>\n",
       "    </tr>\n",
       "    <tr>\n",
       "      <th>3</th>\n",
       "      <td>-0.089063</td>\n",
       "      <td>-0.044642</td>\n",
       "      <td>-0.011595</td>\n",
       "      <td>-0.036656</td>\n",
       "      <td>0.012191</td>\n",
       "      <td>0.024991</td>\n",
       "      <td>-0.036038</td>\n",
       "      <td>0.034309</td>\n",
       "      <td>0.022692</td>\n",
       "      <td>-0.009362</td>\n",
       "    </tr>\n",
       "    <tr>\n",
       "      <th>4</th>\n",
       "      <td>0.005383</td>\n",
       "      <td>-0.044642</td>\n",
       "      <td>-0.036385</td>\n",
       "      <td>0.021872</td>\n",
       "      <td>0.003935</td>\n",
       "      <td>0.015596</td>\n",
       "      <td>0.008142</td>\n",
       "      <td>-0.002592</td>\n",
       "      <td>-0.031991</td>\n",
       "      <td>-0.046641</td>\n",
       "    </tr>\n",
       "  </tbody>\n",
       "</table>\n",
       "</div>"
      ],
      "text/plain": [
       "        age       sex       bmi        bp        s1        s2        s3  \\\n",
       "0  0.038076  0.050680  0.061696  0.021872 -0.044223 -0.034821 -0.043401   \n",
       "1 -0.001882 -0.044642 -0.051474 -0.026328 -0.008449 -0.019163  0.074412   \n",
       "2  0.085299  0.050680  0.044451 -0.005671 -0.045599 -0.034194 -0.032356   \n",
       "3 -0.089063 -0.044642 -0.011595 -0.036656  0.012191  0.024991 -0.036038   \n",
       "4  0.005383 -0.044642 -0.036385  0.021872  0.003935  0.015596  0.008142   \n",
       "\n",
       "         s4        s5        s6  \n",
       "0 -0.002592  0.019908 -0.017646  \n",
       "1 -0.039493 -0.068330 -0.092204  \n",
       "2 -0.002592  0.002864 -0.025930  \n",
       "3  0.034309  0.022692 -0.009362  \n",
       "4 -0.002592 -0.031991 -0.046641  "
      ]
     },
     "execution_count": 4,
     "metadata": {},
     "output_type": "execute_result"
    }
   ],
   "source": [
    "diabetes_df.head()"
   ]
  },
  {
   "cell_type": "markdown",
   "metadata": {},
   "source": [
    "recoding sex variable"
   ]
  },
  {
   "cell_type": "code",
   "execution_count": 5,
   "metadata": {},
   "outputs": [
    {
     "data": {
      "text/plain": [
       "-0.044642    235\n",
       " 0.050680    207\n",
       "Name: sex, dtype: int64"
      ]
     },
     "execution_count": 5,
     "metadata": {},
     "output_type": "execute_result"
    }
   ],
   "source": [
    "diabetes_df['sex'].value_counts()"
   ]
  },
  {
   "cell_type": "code",
   "execution_count": 6,
   "metadata": {},
   "outputs": [],
   "source": [
    "diabetes_df['sex'] = np.where(diabetes_df['sex'] > 0, 1,0)"
   ]
  },
  {
   "cell_type": "code",
   "execution_count": 7,
   "metadata": {},
   "outputs": [
    {
     "data": {
      "text/plain": [
       "0    235\n",
       "1    207\n",
       "Name: sex, dtype: int64"
      ]
     },
     "execution_count": 7,
     "metadata": {},
     "output_type": "execute_result"
    }
   ],
   "source": [
    "diabetes_df['sex'].value_counts()"
   ]
  },
  {
   "cell_type": "code",
   "execution_count": 8,
   "metadata": {},
   "outputs": [
    {
     "data": {
      "text/html": [
       "<div>\n",
       "<style scoped>\n",
       "    .dataframe tbody tr th:only-of-type {\n",
       "        vertical-align: middle;\n",
       "    }\n",
       "\n",
       "    .dataframe tbody tr th {\n",
       "        vertical-align: top;\n",
       "    }\n",
       "\n",
       "    .dataframe thead th {\n",
       "        text-align: right;\n",
       "    }\n",
       "</style>\n",
       "<table border=\"1\" class=\"dataframe\">\n",
       "  <thead>\n",
       "    <tr style=\"text-align: right;\">\n",
       "      <th></th>\n",
       "      <th>age</th>\n",
       "      <th>sex</th>\n",
       "      <th>bmi</th>\n",
       "      <th>bp</th>\n",
       "      <th>s1</th>\n",
       "      <th>s2</th>\n",
       "      <th>s3</th>\n",
       "      <th>s4</th>\n",
       "      <th>s5</th>\n",
       "      <th>s6</th>\n",
       "    </tr>\n",
       "  </thead>\n",
       "  <tbody>\n",
       "    <tr>\n",
       "      <th>count</th>\n",
       "      <td>4.420000e+02</td>\n",
       "      <td>442.000000</td>\n",
       "      <td>4.420000e+02</td>\n",
       "      <td>4.420000e+02</td>\n",
       "      <td>4.420000e+02</td>\n",
       "      <td>4.420000e+02</td>\n",
       "      <td>4.420000e+02</td>\n",
       "      <td>4.420000e+02</td>\n",
       "      <td>4.420000e+02</td>\n",
       "      <td>4.420000e+02</td>\n",
       "    </tr>\n",
       "    <tr>\n",
       "      <th>mean</th>\n",
       "      <td>-3.639623e-16</td>\n",
       "      <td>0.468326</td>\n",
       "      <td>-8.013951e-16</td>\n",
       "      <td>1.289818e-16</td>\n",
       "      <td>-9.042540e-17</td>\n",
       "      <td>1.301121e-16</td>\n",
       "      <td>-4.563971e-16</td>\n",
       "      <td>3.863174e-16</td>\n",
       "      <td>-3.848103e-16</td>\n",
       "      <td>-3.398488e-16</td>\n",
       "    </tr>\n",
       "    <tr>\n",
       "      <th>std</th>\n",
       "      <td>4.761905e-02</td>\n",
       "      <td>0.499561</td>\n",
       "      <td>4.761905e-02</td>\n",
       "      <td>4.761905e-02</td>\n",
       "      <td>4.761905e-02</td>\n",
       "      <td>4.761905e-02</td>\n",
       "      <td>4.761905e-02</td>\n",
       "      <td>4.761905e-02</td>\n",
       "      <td>4.761905e-02</td>\n",
       "      <td>4.761905e-02</td>\n",
       "    </tr>\n",
       "    <tr>\n",
       "      <th>min</th>\n",
       "      <td>-1.072256e-01</td>\n",
       "      <td>0.000000</td>\n",
       "      <td>-9.027530e-02</td>\n",
       "      <td>-1.123996e-01</td>\n",
       "      <td>-1.267807e-01</td>\n",
       "      <td>-1.156131e-01</td>\n",
       "      <td>-1.023071e-01</td>\n",
       "      <td>-7.639450e-02</td>\n",
       "      <td>-1.260974e-01</td>\n",
       "      <td>-1.377672e-01</td>\n",
       "    </tr>\n",
       "    <tr>\n",
       "      <th>25%</th>\n",
       "      <td>-3.729927e-02</td>\n",
       "      <td>0.000000</td>\n",
       "      <td>-3.422907e-02</td>\n",
       "      <td>-3.665645e-02</td>\n",
       "      <td>-3.424784e-02</td>\n",
       "      <td>-3.035840e-02</td>\n",
       "      <td>-3.511716e-02</td>\n",
       "      <td>-3.949338e-02</td>\n",
       "      <td>-3.324879e-02</td>\n",
       "      <td>-3.317903e-02</td>\n",
       "    </tr>\n",
       "    <tr>\n",
       "      <th>50%</th>\n",
       "      <td>5.383060e-03</td>\n",
       "      <td>0.000000</td>\n",
       "      <td>-7.283766e-03</td>\n",
       "      <td>-5.670611e-03</td>\n",
       "      <td>-4.320866e-03</td>\n",
       "      <td>-3.819065e-03</td>\n",
       "      <td>-6.584468e-03</td>\n",
       "      <td>-2.592262e-03</td>\n",
       "      <td>-1.947634e-03</td>\n",
       "      <td>-1.077698e-03</td>\n",
       "    </tr>\n",
       "    <tr>\n",
       "      <th>75%</th>\n",
       "      <td>3.807591e-02</td>\n",
       "      <td>1.000000</td>\n",
       "      <td>3.124802e-02</td>\n",
       "      <td>3.564384e-02</td>\n",
       "      <td>2.835801e-02</td>\n",
       "      <td>2.984439e-02</td>\n",
       "      <td>2.931150e-02</td>\n",
       "      <td>3.430886e-02</td>\n",
       "      <td>3.243323e-02</td>\n",
       "      <td>2.791705e-02</td>\n",
       "    </tr>\n",
       "    <tr>\n",
       "      <th>max</th>\n",
       "      <td>1.107267e-01</td>\n",
       "      <td>1.000000</td>\n",
       "      <td>1.705552e-01</td>\n",
       "      <td>1.320442e-01</td>\n",
       "      <td>1.539137e-01</td>\n",
       "      <td>1.987880e-01</td>\n",
       "      <td>1.811791e-01</td>\n",
       "      <td>1.852344e-01</td>\n",
       "      <td>1.335990e-01</td>\n",
       "      <td>1.356118e-01</td>\n",
       "    </tr>\n",
       "  </tbody>\n",
       "</table>\n",
       "</div>"
      ],
      "text/plain": [
       "                age         sex           bmi            bp            s1  \\\n",
       "count  4.420000e+02  442.000000  4.420000e+02  4.420000e+02  4.420000e+02   \n",
       "mean  -3.639623e-16    0.468326 -8.013951e-16  1.289818e-16 -9.042540e-17   \n",
       "std    4.761905e-02    0.499561  4.761905e-02  4.761905e-02  4.761905e-02   \n",
       "min   -1.072256e-01    0.000000 -9.027530e-02 -1.123996e-01 -1.267807e-01   \n",
       "25%   -3.729927e-02    0.000000 -3.422907e-02 -3.665645e-02 -3.424784e-02   \n",
       "50%    5.383060e-03    0.000000 -7.283766e-03 -5.670611e-03 -4.320866e-03   \n",
       "75%    3.807591e-02    1.000000  3.124802e-02  3.564384e-02  2.835801e-02   \n",
       "max    1.107267e-01    1.000000  1.705552e-01  1.320442e-01  1.539137e-01   \n",
       "\n",
       "                 s2            s3            s4            s5            s6  \n",
       "count  4.420000e+02  4.420000e+02  4.420000e+02  4.420000e+02  4.420000e+02  \n",
       "mean   1.301121e-16 -4.563971e-16  3.863174e-16 -3.848103e-16 -3.398488e-16  \n",
       "std    4.761905e-02  4.761905e-02  4.761905e-02  4.761905e-02  4.761905e-02  \n",
       "min   -1.156131e-01 -1.023071e-01 -7.639450e-02 -1.260974e-01 -1.377672e-01  \n",
       "25%   -3.035840e-02 -3.511716e-02 -3.949338e-02 -3.324879e-02 -3.317903e-02  \n",
       "50%   -3.819065e-03 -6.584468e-03 -2.592262e-03 -1.947634e-03 -1.077698e-03  \n",
       "75%    2.984439e-02  2.931150e-02  3.430886e-02  3.243323e-02  2.791705e-02  \n",
       "max    1.987880e-01  1.811791e-01  1.852344e-01  1.335990e-01  1.356118e-01  "
      ]
     },
     "execution_count": 8,
     "metadata": {},
     "output_type": "execute_result"
    }
   ],
   "source": [
    "diabetes_df.describe()"
   ]
  },
  {
   "cell_type": "code",
   "execution_count": 11,
   "metadata": {},
   "outputs": [],
   "source": [
    "y = pd.DataFrame(data=diabetes.target, columns=['disease'])"
   ]
  },
  {
   "cell_type": "code",
   "execution_count": 12,
   "metadata": {},
   "outputs": [
    {
     "data": {
      "text/html": [
       "<div>\n",
       "<style scoped>\n",
       "    .dataframe tbody tr th:only-of-type {\n",
       "        vertical-align: middle;\n",
       "    }\n",
       "\n",
       "    .dataframe tbody tr th {\n",
       "        vertical-align: top;\n",
       "    }\n",
       "\n",
       "    .dataframe thead th {\n",
       "        text-align: right;\n",
       "    }\n",
       "</style>\n",
       "<table border=\"1\" class=\"dataframe\">\n",
       "  <thead>\n",
       "    <tr style=\"text-align: right;\">\n",
       "      <th></th>\n",
       "      <th>disease</th>\n",
       "    </tr>\n",
       "  </thead>\n",
       "  <tbody>\n",
       "    <tr>\n",
       "      <th>count</th>\n",
       "      <td>442.000000</td>\n",
       "    </tr>\n",
       "    <tr>\n",
       "      <th>mean</th>\n",
       "      <td>152.133484</td>\n",
       "    </tr>\n",
       "    <tr>\n",
       "      <th>std</th>\n",
       "      <td>77.093005</td>\n",
       "    </tr>\n",
       "    <tr>\n",
       "      <th>min</th>\n",
       "      <td>25.000000</td>\n",
       "    </tr>\n",
       "    <tr>\n",
       "      <th>25%</th>\n",
       "      <td>87.000000</td>\n",
       "    </tr>\n",
       "    <tr>\n",
       "      <th>50%</th>\n",
       "      <td>140.500000</td>\n",
       "    </tr>\n",
       "    <tr>\n",
       "      <th>75%</th>\n",
       "      <td>211.500000</td>\n",
       "    </tr>\n",
       "    <tr>\n",
       "      <th>max</th>\n",
       "      <td>346.000000</td>\n",
       "    </tr>\n",
       "  </tbody>\n",
       "</table>\n",
       "</div>"
      ],
      "text/plain": [
       "          disease\n",
       "count  442.000000\n",
       "mean   152.133484\n",
       "std     77.093005\n",
       "min     25.000000\n",
       "25%     87.000000\n",
       "50%    140.500000\n",
       "75%    211.500000\n",
       "max    346.000000"
      ]
     },
     "execution_count": 12,
     "metadata": {},
     "output_type": "execute_result"
    }
   ],
   "source": [
    "y.describe()"
   ]
  },
  {
   "cell_type": "markdown",
   "metadata": {},
   "source": [
    "## Initial exploration"
   ]
  },
  {
   "cell_type": "markdown",
   "metadata": {},
   "source": [
    "Plotting our Label against BMI, can you see a linear relationship?"
   ]
  },
  {
   "cell_type": "code",
   "execution_count": 14,
   "metadata": {},
   "outputs": [
    {
     "data": {
      "image/png": "[encoded data removed]",
      "text/plain": [
       "<Figure size 432x288 with 1 Axes>"
      ]
     },
     "metadata": {
      "needs_background": "light"
     },
     "output_type": "display_data"
    }
   ],
   "source": [
    "sns.scatterplot(x=diabetes_df['bmi'].values, y=y.values.ravel(), );"
   ]
  },
  {
   "cell_type": "code",
   "execution_count": 15,
   "metadata": {},
   "outputs": [
    {
     "data": {
      "image/png": "[encoded data removed]",
      "text/plain": [
       "<Figure size 432x432 with 3 Axes>"
      ]
     },
     "metadata": {
      "needs_background": "light"
     },
     "output_type": "display_data"
    }
   ],
   "source": [
    "sns.jointplot(x=diabetes_df['bmi'], y=y.values.ravel(), kind='reg');"
   ]
  },
  {
   "cell_type": "markdown",
   "metadata": {},
   "source": [
    "## Preparing our data"
   ]
  },
  {
   "cell_type": "code",
   "execution_count": 16,
   "metadata": {},
   "outputs": [],
   "source": [
    "X_train, X_test, y_train, y_test = train_test_split(diabetes_df, y, test_size=0.20, random_state=42)"
   ]
  },
  {
   "cell_type": "code",
   "execution_count": 17,
   "metadata": {},
   "outputs": [
    {
     "data": {
      "text/plain": [
       "(353, 10)"
      ]
     },
     "execution_count": 17,
     "metadata": {},
     "output_type": "execute_result"
    }
   ],
   "source": [
    "X_train.shape"
   ]
  },
  {
   "cell_type": "code",
   "execution_count": 18,
   "metadata": {},
   "outputs": [
    {
     "data": {
      "text/plain": [
       "(89, 10)"
      ]
     },
     "execution_count": 18,
     "metadata": {},
     "output_type": "execute_result"
    }
   ],
   "source": [
    "X_test.shape"
   ]
  },
  {
   "cell_type": "code",
   "execution_count": 29,
   "metadata": {},
   "outputs": [],
   "source": [
    "from sklearn.linear_model import LinearRegression"
   ]
  },
  {
   "cell_type": "code",
   "execution_count": 41,
   "metadata": {},
   "outputs": [
    {
     "data": {
      "text/plain": [
       "array([ 0.01211685, -0.01806189,  0.04984027, -0.03530688, -0.06548562,\n",
       "       -0.03961813,  0.02073935,  0.06924089,  0.03798434, -0.01698407,\n",
       "       -0.06871905,  0.01966154, -0.05794093,  0.10480869, -0.07949718,\n",
       "        0.02073935, -0.04069594, -0.03530688, -0.04392938,  0.01966154,\n",
       "        0.02612841, -0.03638469,  0.04229559, -0.05039625,  0.05522933,\n",
       "        0.01427248, -0.01159501, -0.0105172 , -0.00943939, -0.00405033,\n",
       "        0.01535029,  0.02397278, -0.0374625 , -0.03207344,  0.01858372,\n",
       "       -0.01590626, -0.00620595,  0.00888341, -0.0374625 , -0.00943939,\n",
       "       -0.07734155, -0.00189471, -0.04500719,  0.04552903,  0.03259528,\n",
       "        0.08540807, -0.0105172 ,  0.11019775, -0.00620595,  0.00133873,\n",
       "        0.114509  , -0.04069594,  0.01750591,  0.05954058, -0.046085  ,\n",
       "        0.04768465,  0.00564998, -0.03099563,  0.05415152, -0.00512814,\n",
       "       -0.00943939,  0.0250506 ,  0.12852056,  0.01427248, -0.00081689,\n",
       "       -0.03099563,  0.00457217,  0.00996123, -0.03099563, -0.03854032,\n",
       "        0.00241654, -0.02560657, -0.06656343, -0.03961813, -0.04716281,\n",
       "       -0.03207344,  0.00241654,  0.04552903, -0.0547075 , -0.03854032,\n",
       "       -0.01590626, -0.01159501, -0.08919748, -0.02560657,  0.02289497,\n",
       "        0.06169621, -0.00728377,  0.08001901,  0.06061839,  0.05630715,\n",
       "       -0.02560657,  0.00457217,  0.00672779, -0.0277622 , -0.04716281,\n",
       "       -0.00405033, -0.03961813, -0.06548562,  0.0703187 ,  0.02720622,\n",
       "        0.02397278, -0.08380842,  0.07139652,  0.04121778, -0.02237314,\n",
       "        0.07139652, -0.05901875,  0.06924089,  0.00672779,  0.0164281 ,\n",
       "        0.05415152, -0.04177375,  0.04013997,  0.06816308, -0.05901875,\n",
       "       -0.04824063, -0.02452876,  0.07247433, -0.0816528 ,  0.09295276,\n",
       "        0.04445121,  0.00457217, -0.05578531, -0.046085  , -0.02991782,\n",
       "        0.0347509 , -0.01375064,  0.00996123,  0.00564998, -0.04824063,\n",
       "       -0.03422907, -0.02560657,  0.08864151,  0.00672779, -0.02991782,\n",
       "        0.06061839,  0.01103904,  0.04660684,  0.08109682,  0.03367309,\n",
       "        0.00133873,  0.00564998, -0.01482845,  0.03906215,  0.10480869,\n",
       "        0.12744274,  0.06492964, -0.02991782, -0.00728377,  0.04768465,\n",
       "       -0.00836158,  0.05954058, -0.03315126, -0.06225218, -0.02345095,\n",
       "       -0.01267283, -0.07518593, -0.00943939, -0.04177375,  0.0164281 ,\n",
       "        0.08864151,  0.00241654,  0.05522933, -0.04716281, -0.03530688,\n",
       "       -0.02345095,  0.04013997, -0.0105172 ,  0.02181716,  0.02073935,\n",
       "       -0.01590626,  0.00888341, -0.01375064,  0.07678558, -0.04069594,\n",
       "        0.00672779,  0.03690653, -0.02452876, -0.0191397 , -0.0816528 ,\n",
       "        0.00349435, -0.02452876,  0.00026092,  0.00133873,  0.00457217,\n",
       "       -0.06656343, -0.03315126, -0.00836158, -0.00189471, -0.03854032,\n",
       "        0.04984027, -0.02991782, -0.05362969,  0.06169621,  0.06816308,\n",
       "       -0.08057499, -0.02452876, -0.05255187,  0.07139652, -0.02345095,\n",
       "        0.04229559,  0.0433734 , -0.02884001, -0.03099563, -0.02129532,\n",
       "       -0.02021751,  0.01211685, -0.07195249,  0.03367309, -0.03854032,\n",
       "       -0.05794093,  0.0164281 ,  0.07462995, -0.05686312,  0.08540807,\n",
       "       -0.00836158, -0.06764124, -0.03638469,  0.02612841, -0.00512814,\n",
       "        0.05630715, -0.03854032, -0.03638469,  0.16085492, -0.03099563,\n",
       "        0.01750591, -0.046085  ,  0.00996123, -0.07087468, -0.046085  ,\n",
       "       -0.00512814, -0.02237314,  0.09403057,  0.00457217, -0.0730303 ,\n",
       "        0.12528712, -0.00081689, -0.05794093,  0.01858372,  0.05954058,\n",
       "       -0.02884001,  0.07139652, -0.00836158, -0.01698407,  0.03043966,\n",
       "       -0.00297252,  0.11127556, -0.00728377,  0.05630715, -0.06225218,\n",
       "        0.06169621, -0.00836158, -0.02560657,  0.07355214, -0.02560657,\n",
       "       -0.0105172 , -0.00836158,  0.12313149,  0.04984027,  0.03582872,\n",
       "       -0.02452876,  0.06061839, -0.01267283,  0.00672779,  0.04552903,\n",
       "        0.00349435,  0.03906215,  0.097264  ,  0.09834182, -0.03099563,\n",
       "        0.05415152,  0.0347509 ,  0.06061839, -0.03207344, -0.05578531,\n",
       "        0.06385183, -0.02345095,  0.03151747, -0.01267283,  0.00133873,\n",
       "       -0.03638469, -0.03207344, -0.01590626, -0.05147406, -0.03422907,\n",
       "        0.01427248,  0.01211685,  0.04660684, -0.06332999, -0.07734155,\n",
       "        0.13714305,  0.0519959 , -0.00728377, -0.00943939, -0.00297252,\n",
       "        0.02828403, -0.00836158, -0.00189471, -0.02021751, -0.04069594,\n",
       "        0.01535029, -0.02021751, -0.06009656,  0.06708527,  0.00133873,\n",
       "        0.0433734 , -0.00189471,  0.01103904,  0.00457217, -0.046085  ,\n",
       "        0.0250506 , -0.02452876, -0.00728377,  0.00996123, -0.06656343,\n",
       "       -0.01590626, -0.0547075 , -0.02668438, -0.06440781, -0.04177375,\n",
       "       -0.01159501, -0.01482845,  0.05954058, -0.02237314,  0.05307371,\n",
       "       -0.06225218,  0.02612841, -0.04177375, -0.0191397 ,  0.09295276,\n",
       "       -0.00081689,  0.01858372, -0.05578531, -0.046085  , -0.00512814,\n",
       "        0.09618619, -0.00405033,  0.00564998, -0.06440781, -0.02345095,\n",
       "       -0.00620595,  0.03043966, -0.03315126,  0.01750591, -0.0730303 ,\n",
       "       -0.05686312, -0.00297252,  0.03367309, -0.07626374,  0.03043966,\n",
       "       -0.02021751, -0.02345095,  0.02828403])"
      ]
     },
     "execution_count": 41,
     "metadata": {},
     "output_type": "execute_result"
    }
   ],
   "source": []
  },
  {
   "cell_type": "code",
   "execution_count": 45,
   "metadata": {},
   "outputs": [
    {
     "name": "stdout",
     "output_type": "stream",
     "text": [
      "Coeficients\n",
      "[[998.57768914]]\n",
      "Intercept\n",
      "[152.00335421]\n"
     ]
    }
   ],
   "source": [
    "lr = LinearRegression()\n",
    "lr.fit(X_train['bmi'].values.reshape(-1,1), y_train)\n",
    "print('Coeficients')\n",
    "print(lr.coef_)\n",
    "print('Intercept')\n",
    "print(lr.intercept_)"
   ]
  },
  {
   "cell_type": "markdown",
   "metadata": {},
   "source": [
    "## Simple linear regression with Statsmodels\n",
    "- Recomended linear regression api due to useful summary output"
   ]
  },
  {
   "cell_type": "code",
   "execution_count": 46,
   "metadata": {},
   "outputs": [
    {
     "name": "stdout",
     "output_type": "stream",
     "text": [
      "Requirement already satisfied: statsmodels in c:\\users\\cmedina\\appdata\\local\\programs\\python\\python37\\lib\\site-packages (0.10.2)\n",
      "Requirement already satisfied: patsy>=0.4.0 in c:\\users\\cmedina\\appdata\\local\\programs\\python\\python37\\lib\\site-packages (from statsmodels) (0.5.1)\n",
      "Requirement already satisfied: numpy>=1.11 in c:\\users\\cmedina\\appdata\\local\\programs\\python\\python37\\lib\\site-packages (from statsmodels) (1.16.4)\n",
      "Requirement already satisfied: pandas>=0.19 in c:\\users\\cmedina\\appdata\\local\\programs\\python\\python37\\lib\\site-packages (from statsmodels) (0.25.3)\n",
      "Requirement already satisfied: scipy>=0.18 in c:\\users\\cmedina\\appdata\\local\\programs\\python\\python37\\lib\\site-packages (from statsmodels) (1.3.1)\n",
      "Requirement already satisfied: six in c:\\users\\cmedina\\appdata\\local\\programs\\python\\python37\\lib\\site-packages (from patsy>=0.4.0->statsmodels) (1.12.0)\n",
      "Requirement already satisfied: pytz>=2017.2 in c:\\users\\cmedina\\appdata\\local\\programs\\python\\python37\\lib\\site-packages (from pandas>=0.19->statsmodels) (2019.2)\n",
      "Requirement already satisfied: python-dateutil>=2.6.1 in c:\\users\\cmedina\\appdata\\local\\programs\\python\\python37\\lib\\site-packages (from pandas>=0.19->statsmodels) (2.8.0)\n"
     ]
    }
   ],
   "source": [
    "!pip install statsmodels"
   ]
  },
  {
   "cell_type": "code",
   "execution_count": 47,
   "metadata": {},
   "outputs": [],
   "source": [
    "import statsmodels.api as sm\n",
    "from statsmodels.sandbox.regression.predstd import wls_prediction_std"
   ]
  },
  {
   "cell_type": "code",
   "execution_count": 58,
   "metadata": {},
   "outputs": [],
   "source": [
    "X = sm.add_constant(X_train['bmi'])\n",
    "simple_model = sm.OLS(y_train, X)\n",
    "\n",
    "simple_result = simple_model.fit();"
   ]
  },
  {
   "cell_type": "code",
   "execution_count": 59,
   "metadata": {},
   "outputs": [
    {
     "name": "stdout",
     "output_type": "stream",
     "text": [
      "                            OLS Regression Results                            \n",
      "==============================================================================\n",
      "Dep. Variable:                disease   R-squared:                       0.366\n",
      "Model:                            OLS   Adj. R-squared:                  0.364\n",
      "Method:                 Least Squares   F-statistic:                     202.4\n",
      "Date:                Thu, 27 Feb 2020   Prob (F-statistic):           1.40e-36\n",
      "Time:                        11:48:47   Log-Likelihood:                -1958.2\n",
      "No. Observations:                 353   AIC:                             3920.\n",
      "Df Residuals:                     351   BIC:                             3928.\n",
      "Df Model:                           1                                         \n",
      "Covariance Type:            nonrobust                                         \n",
      "==============================================================================\n",
      "                 coef    std err          t      P>|t|      [0.025      0.975]\n",
      "------------------------------------------------------------------------------\n",
      "const        152.0034      3.316     45.841      0.000     145.482     158.525\n",
      "bmi          998.5777     70.192     14.226      0.000     860.527    1136.628\n",
      "==============================================================================\n",
      "Omnibus:                        8.367   Durbin-Watson:                   1.786\n",
      "Prob(Omnibus):                  0.015   Jarque-Bera (JB):                5.093\n",
      "Skew:                           0.108   Prob(JB):                       0.0783\n",
      "Kurtosis:                       2.453   Cond. No.                         21.2\n",
      "==============================================================================\n",
      "\n",
      "Warnings:\n",
      "[1] Standard Errors assume that the covariance matrix of the errors is correctly specified.\n"
     ]
    }
   ],
   "source": [
    "print(simple_result.summary())"
   ]
  },
  {
   "cell_type": "code",
   "execution_count": 61,
   "metadata": {},
   "outputs": [
    {
     "data": {
      "text/plain": [
       "287   -0.006206\n",
       "211    0.036907\n",
       "72    -0.004050\n",
       "321    0.051996\n",
       "73    -0.020218\n",
       "         ...   \n",
       "255   -0.065486\n",
       "90    -0.025607\n",
       "57    -0.063330\n",
       "391   -0.069797\n",
       "24     0.035829\n",
       "Name: bmi, Length: 89, dtype: float64"
      ]
     },
     "execution_count": 61,
     "metadata": {},
     "output_type": "execute_result"
    }
   ],
   "source": [
    "X_test['bmi']"
   ]
  },
  {
   "cell_type": "code",
   "execution_count": 62,
   "metadata": {},
   "outputs": [],
   "source": [
    "y_pred_simple = simple_result.predict(sm.add_constant(X_test['bmi']))"
   ]
  },
  {
   "cell_type": "code",
   "execution_count": 80,
   "metadata": {},
   "outputs": [
    {
     "data": {
      "image/png": "[encoded data removed]",
      "text/plain": [
       "<Figure size 432x288 with 1 Axes>"
      ]
     },
     "metadata": {
      "needs_background": "light"
     },
     "output_type": "display_data"
    }
   ],
   "source": [
    "sns.scatterplot(x = X_test['bmi'], y = y_test.values.ravel())\n",
    "sns.lineplot(x = X_test['bmi'] , y = y_pred_simple, color='r')\n",
    "plt.title('Regression plot');"
   ]
  },
  {
   "cell_type": "code",
   "execution_count": 72,
   "metadata": {},
   "outputs": [
    {
     "data": {
      "image/png": "[encoded data removed]",
      "text/plain": [
       "<Figure size 432x288 with 1 Axes>"
      ]
     },
     "metadata": {
      "needs_background": "light"
     },
     "output_type": "display_data"
    }
   ],
   "source": [
    "sns.scatterplot(x = y_pred_simple, y = (y_pred_simple- y_test.values.ravel()))\n",
    "plt.hlines(y=0, xmin=0, xmax=350,color='r')\n",
    "plt.title('Residual plot');"
   ]
  },
  {
   "cell_type": "markdown",
   "metadata": {},
   "source": [
    "## Multiple linear regression"
   ]
  },
  {
   "cell_type": "code",
   "execution_count": 75,
   "metadata": {},
   "outputs": [
    {
     "name": "stdout",
     "output_type": "stream",
     "text": [
      "                            OLS Regression Results                            \n",
      "==============================================================================\n",
      "Dep. Variable:                disease   R-squared:                       0.528\n",
      "Model:                            OLS   Adj. R-squared:                  0.514\n",
      "Method:                 Least Squares   F-statistic:                     38.25\n",
      "Date:                Thu, 27 Feb 2020   Prob (F-statistic):           5.41e-50\n",
      "Time:                        11:55:31   Log-Likelihood:                -1906.1\n",
      "No. Observations:                 353   AIC:                             3834.\n",
      "Df Residuals:                     342   BIC:                             3877.\n",
      "Df Model:                          10                                         \n",
      "Covariance Type:            nonrobust                                         \n",
      "==============================================================================\n",
      "                 coef    std err          t      P>|t|      [0.025      0.975]\n",
      "------------------------------------------------------------------------------\n",
      "const        162.1474      4.208     38.530      0.000     153.870     170.425\n",
      "age           37.9003     69.056      0.549      0.583     -97.927     173.728\n",
      "sex          -23.0646      6.536     -3.529      0.000     -35.921     -10.208\n",
      "bmi          542.4258     76.956      7.049      0.000     391.059     693.792\n",
      "bp           347.7083     71.357      4.873      0.000     207.355     488.062\n",
      "s1          -931.4613    451.142     -2.065      0.040   -1818.823     -44.099\n",
      "s2           518.0441    364.118      1.423      0.156    -198.150    1234.238\n",
      "s3           163.4035    233.015      0.701      0.484    -294.919     621.726\n",
      "s4           275.3100    185.399      1.485      0.138     -89.357     639.977\n",
      "s5           736.1891    192.440      3.826      0.000     357.675    1114.704\n",
      "s6            48.6711     73.435      0.663      0.508     -95.771     193.113\n",
      "==============================================================================\n",
      "Omnibus:                        1.457   Durbin-Watson:                   1.794\n",
      "Prob(Omnibus):                  0.483   Jarque-Bera (JB):                1.412\n",
      "Skew:                           0.064   Prob(JB):                        0.494\n",
      "Kurtosis:                       2.718   Cond. No.                         247.\n",
      "==============================================================================\n",
      "\n",
      "Warnings:\n",
      "[1] Standard Errors assume that the covariance matrix of the errors is correctly specified.\n"
     ]
    }
   ],
   "source": [
    "multiple_model = sm.OLS(y_train, sm.add_constant(X_train))\n",
    "multiple_result = multiple_model.fit()\n",
    "print(multiple_result.summary())"
   ]
  },
  {
   "cell_type": "code",
   "execution_count": null,
   "metadata": {},
   "outputs": [],
   "source": []
  }
 ],
 "metadata": {
  "kernelspec": {
   "display_name": "Python 3",
   "language": "python",
   "name": "python3"
  },
  "language_info": {
   "codemirror_mode": {
    "name": "ipython",
    "version": 3
   },
   "file_extension": ".py",
   "mimetype": "text/x-python",
   "name": "python",
   "nbconvert_exporter": "python",
   "pygments_lexer": "ipython3",
   "version": "3.7.5"
  }
 },
 "nbformat": 4,
 "nbformat_minor": 4
}
