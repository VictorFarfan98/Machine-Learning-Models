{
 "cells": [
  {
   "cell_type": "markdown",
   "metadata": {},
   "source": [
    "# Import packages"
   ]
  },
  {
   "cell_type": "code",
   "execution_count": 10,
   "metadata": {},
   "outputs": [],
   "source": [
    "import pandas as pd\n",
    "import numpy as np\n",
    "import seaborn as sns\n",
    "from sklearn.model_selection import train_test_split\n",
    "from sklearn.linear_model import LinearRegression\n",
    "from sklearn.linear_model import Ridge\n",
    "from sklearn.linear_model import Lasso\n",
    "from sklearn.linear_model import ElasticNet\n",
    "from sklearn.preprocessing import PolynomialFeatures\n",
    "import statsmodels.api as sm\n",
    "import matplotlib.pyplot as plt"
   ]
  },
  {
   "cell_type": "markdown",
   "metadata": {},
   "source": [
    "# Import data"
   ]
  },
  {
   "cell_type": "code",
   "execution_count": 3,
   "metadata": {},
   "outputs": [],
   "source": [
    "# Import data from URL and add column names\n",
    "\n",
    "import ssl\n",
    "\n",
    "ssl._create_default_https_context = ssl._create_unverified_context\n",
    "auto_df = pd.read_csv('https://archive.ics.uci.edu/ml/machine-learning-databases/autos/imports-85.data', header = None\n",
    "                     , na_values = '?')\n",
    "\n",
    "auto_df.columns = [\n",
    " 'symboling'\n",
    " ,'normalized-losses'\n",
    " ,'make'\n",
    " ,'fuel-type'\n",
    " ,'aspiration'\n",
    " ,'num-of-doors'\n",
    " ,'body-style'\n",
    " ,'drive-wheels'\n",
    " ,'engine-location'\n",
    " ,'wheel-base'\n",
    " ,'length'\n",
    " ,'width'\n",
    " ,'height'\n",
    " ,'curb-weight'\n",
    " ,'engine-type'\n",
    " ,'num-of-cylinders'\n",
    " ,'engine-size'\n",
    " ,'fuel-system'\n",
    " ,'bore'\n",
    " ,'stroke'\n",
    " ,'compression-ratio'\n",
    " ,'horsepower'\n",
    " ,'peak-rpm'\n",
    " ,'city-mpg'\n",
    " ,'highway-mpg'\n",
    " , 'price'\n",
    "]"
   ]
  },
  {
   "cell_type": "code",
   "execution_count": 4,
   "metadata": {},
   "outputs": [
    {
     "data": {
      "text/html": [
       "<div>\n",
       "<style scoped>\n",
       "    .dataframe tbody tr th:only-of-type {\n",
       "        vertical-align: middle;\n",
       "    }\n",
       "\n",
       "    .dataframe tbody tr th {\n",
       "        vertical-align: top;\n",
       "    }\n",
       "\n",
       "    .dataframe thead th {\n",
       "        text-align: right;\n",
       "    }\n",
       "</style>\n",
       "<table border=\"1\" class=\"dataframe\">\n",
       "  <thead>\n",
       "    <tr style=\"text-align: right;\">\n",
       "      <th></th>\n",
       "      <th>symboling</th>\n",
       "      <th>normalized-losses</th>\n",
       "      <th>make</th>\n",
       "      <th>fuel-type</th>\n",
       "      <th>aspiration</th>\n",
       "      <th>num-of-doors</th>\n",
       "      <th>body-style</th>\n",
       "      <th>drive-wheels</th>\n",
       "      <th>engine-location</th>\n",
       "      <th>wheel-base</th>\n",
       "      <th>...</th>\n",
       "      <th>engine-size</th>\n",
       "      <th>fuel-system</th>\n",
       "      <th>bore</th>\n",
       "      <th>stroke</th>\n",
       "      <th>compression-ratio</th>\n",
       "      <th>horsepower</th>\n",
       "      <th>peak-rpm</th>\n",
       "      <th>city-mpg</th>\n",
       "      <th>highway-mpg</th>\n",
       "      <th>price</th>\n",
       "    </tr>\n",
       "  </thead>\n",
       "  <tbody>\n",
       "    <tr>\n",
       "      <th>200</th>\n",
       "      <td>-1</td>\n",
       "      <td>95.0</td>\n",
       "      <td>volvo</td>\n",
       "      <td>gas</td>\n",
       "      <td>std</td>\n",
       "      <td>four</td>\n",
       "      <td>sedan</td>\n",
       "      <td>rwd</td>\n",
       "      <td>front</td>\n",
       "      <td>109.1</td>\n",
       "      <td>...</td>\n",
       "      <td>141</td>\n",
       "      <td>mpfi</td>\n",
       "      <td>3.78</td>\n",
       "      <td>3.15</td>\n",
       "      <td>9.5</td>\n",
       "      <td>114.0</td>\n",
       "      <td>5400.0</td>\n",
       "      <td>23</td>\n",
       "      <td>28</td>\n",
       "      <td>16845.0</td>\n",
       "    </tr>\n",
       "    <tr>\n",
       "      <th>201</th>\n",
       "      <td>-1</td>\n",
       "      <td>95.0</td>\n",
       "      <td>volvo</td>\n",
       "      <td>gas</td>\n",
       "      <td>turbo</td>\n",
       "      <td>four</td>\n",
       "      <td>sedan</td>\n",
       "      <td>rwd</td>\n",
       "      <td>front</td>\n",
       "      <td>109.1</td>\n",
       "      <td>...</td>\n",
       "      <td>141</td>\n",
       "      <td>mpfi</td>\n",
       "      <td>3.78</td>\n",
       "      <td>3.15</td>\n",
       "      <td>8.7</td>\n",
       "      <td>160.0</td>\n",
       "      <td>5300.0</td>\n",
       "      <td>19</td>\n",
       "      <td>25</td>\n",
       "      <td>19045.0</td>\n",
       "    </tr>\n",
       "    <tr>\n",
       "      <th>202</th>\n",
       "      <td>-1</td>\n",
       "      <td>95.0</td>\n",
       "      <td>volvo</td>\n",
       "      <td>gas</td>\n",
       "      <td>std</td>\n",
       "      <td>four</td>\n",
       "      <td>sedan</td>\n",
       "      <td>rwd</td>\n",
       "      <td>front</td>\n",
       "      <td>109.1</td>\n",
       "      <td>...</td>\n",
       "      <td>173</td>\n",
       "      <td>mpfi</td>\n",
       "      <td>3.58</td>\n",
       "      <td>2.87</td>\n",
       "      <td>8.8</td>\n",
       "      <td>134.0</td>\n",
       "      <td>5500.0</td>\n",
       "      <td>18</td>\n",
       "      <td>23</td>\n",
       "      <td>21485.0</td>\n",
       "    </tr>\n",
       "    <tr>\n",
       "      <th>203</th>\n",
       "      <td>-1</td>\n",
       "      <td>95.0</td>\n",
       "      <td>volvo</td>\n",
       "      <td>diesel</td>\n",
       "      <td>turbo</td>\n",
       "      <td>four</td>\n",
       "      <td>sedan</td>\n",
       "      <td>rwd</td>\n",
       "      <td>front</td>\n",
       "      <td>109.1</td>\n",
       "      <td>...</td>\n",
       "      <td>145</td>\n",
       "      <td>idi</td>\n",
       "      <td>3.01</td>\n",
       "      <td>3.40</td>\n",
       "      <td>23.0</td>\n",
       "      <td>106.0</td>\n",
       "      <td>4800.0</td>\n",
       "      <td>26</td>\n",
       "      <td>27</td>\n",
       "      <td>22470.0</td>\n",
       "    </tr>\n",
       "    <tr>\n",
       "      <th>204</th>\n",
       "      <td>-1</td>\n",
       "      <td>95.0</td>\n",
       "      <td>volvo</td>\n",
       "      <td>gas</td>\n",
       "      <td>turbo</td>\n",
       "      <td>four</td>\n",
       "      <td>sedan</td>\n",
       "      <td>rwd</td>\n",
       "      <td>front</td>\n",
       "      <td>109.1</td>\n",
       "      <td>...</td>\n",
       "      <td>141</td>\n",
       "      <td>mpfi</td>\n",
       "      <td>3.78</td>\n",
       "      <td>3.15</td>\n",
       "      <td>9.5</td>\n",
       "      <td>114.0</td>\n",
       "      <td>5400.0</td>\n",
       "      <td>19</td>\n",
       "      <td>25</td>\n",
       "      <td>22625.0</td>\n",
       "    </tr>\n",
       "  </tbody>\n",
       "</table>\n",
       "<p>5 rows × 26 columns</p>\n",
       "</div>"
      ],
      "text/plain": [
       "     symboling  normalized-losses   make fuel-type aspiration num-of-doors  \\\n",
       "200         -1               95.0  volvo       gas        std         four   \n",
       "201         -1               95.0  volvo       gas      turbo         four   \n",
       "202         -1               95.0  volvo       gas        std         four   \n",
       "203         -1               95.0  volvo    diesel      turbo         four   \n",
       "204         -1               95.0  volvo       gas      turbo         four   \n",
       "\n",
       "    body-style drive-wheels engine-location  wheel-base  ...  engine-size  \\\n",
       "200      sedan          rwd           front       109.1  ...          141   \n",
       "201      sedan          rwd           front       109.1  ...          141   \n",
       "202      sedan          rwd           front       109.1  ...          173   \n",
       "203      sedan          rwd           front       109.1  ...          145   \n",
       "204      sedan          rwd           front       109.1  ...          141   \n",
       "\n",
       "     fuel-system  bore  stroke compression-ratio horsepower  peak-rpm  \\\n",
       "200         mpfi  3.78    3.15               9.5      114.0    5400.0   \n",
       "201         mpfi  3.78    3.15               8.7      160.0    5300.0   \n",
       "202         mpfi  3.58    2.87               8.8      134.0    5500.0   \n",
       "203          idi  3.01    3.40              23.0      106.0    4800.0   \n",
       "204         mpfi  3.78    3.15               9.5      114.0    5400.0   \n",
       "\n",
       "    city-mpg  highway-mpg    price  \n",
       "200       23           28  16845.0  \n",
       "201       19           25  19045.0  \n",
       "202       18           23  21485.0  \n",
       "203       26           27  22470.0  \n",
       "204       19           25  22625.0  \n",
       "\n",
       "[5 rows x 26 columns]"
      ]
     },
     "execution_count": 4,
     "metadata": {},
     "output_type": "execute_result"
    }
   ],
   "source": [
    "auto_df.tail()"
   ]
  },
  {
   "cell_type": "markdown",
   "metadata": {},
   "source": [
    "# Data imputation"
   ]
  },
  {
   "cell_type": "code",
   "execution_count": 5,
   "metadata": {},
   "outputs": [],
   "source": [
    "# Impute values for columns with NAs\n",
    "auto_df['normalized-losses'].fillna(auto_df['normalized-losses'].median(), inplace=True)\n",
    "auto_df['num-of-doors'].fillna(auto_df['num-of-doors'].mode(), inplace=True)\n",
    "auto_df['fuel-type'].fillna(auto_df['fuel-type'].mode(), inplace=True)\n",
    "auto_df['num-of-cylinders'].fillna(auto_df['num-of-cylinders'].mode(), inplace=True)\n",
    "auto_df['bore'].fillna(auto_df['bore'].median(), inplace=True)\n",
    "auto_df['stroke'].fillna(auto_df['stroke'].median(), inplace=True)\n",
    "auto_df['horsepower'].fillna(auto_df['horsepower'].median(), inplace=True)\n",
    "auto_df['peak-rpm'].fillna(auto_df['peak-rpm'].median(), inplace=True)\n",
    "auto_df['price'].fillna(auto_df['price'].median(), inplace=True)"
   ]
  },
  {
   "cell_type": "markdown",
   "metadata": {},
   "source": [
    "# Data exploration"
   ]
  },
  {
   "cell_type": "code",
   "execution_count": 11,
   "metadata": {},
   "outputs": [
    {
     "data": {
      "image/png": "[encoded data removed]",
      "text/plain": [
       "<Figure size 720x720 with 2 Axes>"
      ]
     },
     "metadata": {
      "needs_background": "light"
     },
     "output_type": "display_data"
    }
   ],
   "source": [
    "# Calculate correlations between the variables. What do the black squares represent?\n",
    "corr = auto_df.corr()\n",
    " \n",
    "# Heatmap\n",
    "fig = plt.figure(figsize=(10,10))\n",
    "sns.heatmap(corr, annot=True, square=True); #annot = True shows numerical values ||| square=True forces a square figure for irregular size in axis"
   ]
  },
  {
   "cell_type": "code",
   "execution_count": null,
   "metadata": {},
   "outputs": [],
   "source": []
  },
  {
   "cell_type": "markdown",
   "metadata": {},
   "source": [
    "# Modeling preparation"
   ]
  },
  {
   "cell_type": "code",
   "execution_count": 12,
   "metadata": {},
   "outputs": [],
   "source": [
    "# Isolate response variable\n",
    "y = pd.DataFrame(auto_df['price'])"
   ]
  },
  {
   "cell_type": "code",
   "execution_count": 13,
   "metadata": {},
   "outputs": [],
   "source": [
    "# Drop response variable from feature dataframe\n",
    "X = auto_df.drop('price', axis=1)"
   ]
  },
  {
   "cell_type": "code",
   "execution_count": 14,
   "metadata": {},
   "outputs": [],
   "source": [
    "# Choose a subset of variables to work with\n",
    "# X  = X[['fuel-type', 'wheel-base', 'peak-rpm', 'city-mpg']]\n",
    "# X = X[['num-of-cylinders','fuel-type','peak-rpm', 'city-mpg']]\n",
    "X  = X[['fuel-type','peak-rpm', 'city-mpg']]"
   ]
  },
  {
   "cell_type": "code",
   "execution_count": 15,
   "metadata": {},
   "outputs": [],
   "source": [
    "# Split into training and testing sets\n",
    "X_train, X_test, y_train, y_test = train_test_split(X, y, test_size=0.3, random_state=42)"
   ]
  },
  {
   "cell_type": "code",
   "execution_count": 16,
   "metadata": {},
   "outputs": [],
   "source": [
    "# Reset each index, so we'll be able to concatenate them with our encoded variables dataframe\n",
    "X_train.reset_index(inplace=True)\n",
    "X_test.reset_index(inplace=True)\n",
    "y_train.reset_index(inplace=True)\n",
    "y_test.reset_index(inplace=True)"
   ]
  },
  {
   "cell_type": "code",
   "execution_count": 17,
   "metadata": {},
   "outputs": [
    {
     "data": {
      "text/html": [
       "<div>\n",
       "<style scoped>\n",
       "    .dataframe tbody tr th:only-of-type {\n",
       "        vertical-align: middle;\n",
       "    }\n",
       "\n",
       "    .dataframe tbody tr th {\n",
       "        vertical-align: top;\n",
       "    }\n",
       "\n",
       "    .dataframe thead th {\n",
       "        text-align: right;\n",
       "    }\n",
       "</style>\n",
       "<table border=\"1\" class=\"dataframe\">\n",
       "  <thead>\n",
       "    <tr style=\"text-align: right;\">\n",
       "      <th></th>\n",
       "      <th>index</th>\n",
       "      <th>fuel-type</th>\n",
       "      <th>peak-rpm</th>\n",
       "      <th>city-mpg</th>\n",
       "    </tr>\n",
       "  </thead>\n",
       "  <tbody>\n",
       "    <tr>\n",
       "      <th>0</th>\n",
       "      <td>177</td>\n",
       "      <td>gas</td>\n",
       "      <td>4200.0</td>\n",
       "      <td>27</td>\n",
       "    </tr>\n",
       "    <tr>\n",
       "      <th>1</th>\n",
       "      <td>75</td>\n",
       "      <td>gas</td>\n",
       "      <td>5000.0</td>\n",
       "      <td>19</td>\n",
       "    </tr>\n",
       "    <tr>\n",
       "      <th>2</th>\n",
       "      <td>174</td>\n",
       "      <td>diesel</td>\n",
       "      <td>4500.0</td>\n",
       "      <td>30</td>\n",
       "    </tr>\n",
       "    <tr>\n",
       "      <th>3</th>\n",
       "      <td>31</td>\n",
       "      <td>gas</td>\n",
       "      <td>6000.0</td>\n",
       "      <td>31</td>\n",
       "    </tr>\n",
       "    <tr>\n",
       "      <th>4</th>\n",
       "      <td>12</td>\n",
       "      <td>gas</td>\n",
       "      <td>4250.0</td>\n",
       "      <td>21</td>\n",
       "    </tr>\n",
       "  </tbody>\n",
       "</table>\n",
       "</div>"
      ],
      "text/plain": [
       "   index fuel-type  peak-rpm  city-mpg\n",
       "0    177       gas    4200.0        27\n",
       "1     75       gas    5000.0        19\n",
       "2    174    diesel    4500.0        30\n",
       "3     31       gas    6000.0        31\n",
       "4     12       gas    4250.0        21"
      ]
     },
     "execution_count": 17,
     "metadata": {},
     "output_type": "execute_result"
    }
   ],
   "source": [
    "# Take a look at the df before transformation\n",
    "X_train.head()"
   ]
  },
  {
   "cell_type": "code",
   "execution_count": 12,
   "metadata": {},
   "outputs": [
    {
     "data": {
      "text/plain": [
       "gas       131\n",
       "diesel     12\n",
       "Name: fuel-type, dtype: int64"
      ]
     },
     "execution_count": 12,
     "metadata": {},
     "output_type": "execute_result"
    }
   ],
   "source": [
    "# See levels of fuel-type\n",
    "X_train['fuel-type'].value_counts()"
   ]
  },
  {
   "cell_type": "code",
   "execution_count": 13,
   "metadata": {},
   "outputs": [],
   "source": [
    "# Source: http://www.insightsbot.com/blog/McTKK/python-one-hot-encoding-with-scikit-learn\n",
    "# Get dummies from fuel-type\n",
    "from sklearn.preprocessing import LabelBinarizer\n",
    "fuel_type_lb = LabelBinarizer()\n",
    "\n",
    "# Train\n",
    "fuel_type_dummies_df = fuel_type_lb.fit_transform(X_train['fuel-type'].values)\n",
    "\n",
    "# Test\n",
    "fuel_type_dummies_test_df = fuel_type_lb.fit_transform(X_test['fuel-type'].values)"
   ]
  },
  {
   "cell_type": "code",
   "execution_count": 14,
   "metadata": {},
   "outputs": [],
   "source": [
    "# Add everything back to your main df\n",
    "# Train\n",
    "fuel_type_dummies_df = pd.DataFrame(fuel_type_dummies_df, columns = [\"FuelType_\"+str(int(i)) for i in range(fuel_type_dummies_df.shape[1])])\n",
    "X_train_final = pd.concat([X_train, fuel_type_dummies_df], axis=1)\n",
    "\n",
    "#Test\n",
    "fuel_type_dummies_test_df = pd.DataFrame(fuel_type_dummies_test_df, columns = [\"FuelType_\"+str(int(i)) for i in range(fuel_type_dummies_test_df.shape[1])])\n",
    "X_test_final = pd.concat([X_test, fuel_type_dummies_test_df], axis=1)"
   ]
  },
  {
   "cell_type": "code",
   "execution_count": 15,
   "metadata": {},
   "outputs": [
    {
     "data": {
      "text/html": [
       "<div>\n",
       "<style scoped>\n",
       "    .dataframe tbody tr th:only-of-type {\n",
       "        vertical-align: middle;\n",
       "    }\n",
       "\n",
       "    .dataframe tbody tr th {\n",
       "        vertical-align: top;\n",
       "    }\n",
       "\n",
       "    .dataframe thead th {\n",
       "        text-align: right;\n",
       "    }\n",
       "</style>\n",
       "<table border=\"1\" class=\"dataframe\">\n",
       "  <thead>\n",
       "    <tr style=\"text-align: right;\">\n",
       "      <th></th>\n",
       "      <th>index</th>\n",
       "      <th>fuel-type</th>\n",
       "      <th>peak-rpm</th>\n",
       "      <th>city-mpg</th>\n",
       "      <th>FuelType_0</th>\n",
       "    </tr>\n",
       "  </thead>\n",
       "  <tbody>\n",
       "    <tr>\n",
       "      <th>0</th>\n",
       "      <td>177</td>\n",
       "      <td>gas</td>\n",
       "      <td>4200.0</td>\n",
       "      <td>27</td>\n",
       "      <td>1</td>\n",
       "    </tr>\n",
       "    <tr>\n",
       "      <th>1</th>\n",
       "      <td>75</td>\n",
       "      <td>gas</td>\n",
       "      <td>5000.0</td>\n",
       "      <td>19</td>\n",
       "      <td>1</td>\n",
       "    </tr>\n",
       "    <tr>\n",
       "      <th>2</th>\n",
       "      <td>174</td>\n",
       "      <td>diesel</td>\n",
       "      <td>4500.0</td>\n",
       "      <td>30</td>\n",
       "      <td>0</td>\n",
       "    </tr>\n",
       "    <tr>\n",
       "      <th>3</th>\n",
       "      <td>31</td>\n",
       "      <td>gas</td>\n",
       "      <td>6000.0</td>\n",
       "      <td>31</td>\n",
       "      <td>1</td>\n",
       "    </tr>\n",
       "    <tr>\n",
       "      <th>4</th>\n",
       "      <td>12</td>\n",
       "      <td>gas</td>\n",
       "      <td>4250.0</td>\n",
       "      <td>21</td>\n",
       "      <td>1</td>\n",
       "    </tr>\n",
       "  </tbody>\n",
       "</table>\n",
       "</div>"
      ],
      "text/plain": [
       "   index fuel-type  peak-rpm  city-mpg  FuelType_0\n",
       "0    177       gas    4200.0        27           1\n",
       "1     75       gas    5000.0        19           1\n",
       "2    174    diesel    4500.0        30           0\n",
       "3     31       gas    6000.0        31           1\n",
       "4     12       gas    4250.0        21           1"
      ]
     },
     "execution_count": 15,
     "metadata": {},
     "output_type": "execute_result"
    }
   ],
   "source": [
    "# Take a look after transformation\n",
    "X_train_final.head()"
   ]
  },
  {
   "cell_type": "code",
   "execution_count": 16,
   "metadata": {},
   "outputs": [
    {
     "name": "stderr",
     "output_type": "stream",
     "text": [
      "c:\\users\\cmedina\\appdata\\local\\programs\\python\\python37\\lib\\site-packages\\pandas\\core\\frame.py:4117: SettingWithCopyWarning: \n",
      "A value is trying to be set on a copy of a slice from a DataFrame\n",
      "\n",
      "See the caveats in the documentation: http://pandas.pydata.org/pandas-docs/stable/user_guide/indexing.html#returning-a-view-versus-a-copy\n",
      "  errors=errors,\n"
     ]
    }
   ],
   "source": [
    "# Drop redundant columns and index\n",
    "# Train\n",
    "X_train_final.drop('index', axis=1, inplace=True)\n",
    "X_train_final.drop('fuel-type', axis=1, inplace=True)\n",
    "y_train.drop('index', axis=1, inplace=True)\n",
    "\n",
    "# Test\n",
    "X_test_final.drop('index', axis=1, inplace=True)\n",
    "X_test_final.drop('fuel-type', axis=1, inplace=True)\n",
    "y_test.drop('index', axis=1, inplace=True)"
   ]
  },
  {
   "cell_type": "code",
   "execution_count": 17,
   "metadata": {},
   "outputs": [
    {
     "data": {
      "text/html": [
       "<div>\n",
       "<style scoped>\n",
       "    .dataframe tbody tr th:only-of-type {\n",
       "        vertical-align: middle;\n",
       "    }\n",
       "\n",
       "    .dataframe tbody tr th {\n",
       "        vertical-align: top;\n",
       "    }\n",
       "\n",
       "    .dataframe thead th {\n",
       "        text-align: right;\n",
       "    }\n",
       "</style>\n",
       "<table border=\"1\" class=\"dataframe\">\n",
       "  <thead>\n",
       "    <tr style=\"text-align: right;\">\n",
       "      <th></th>\n",
       "      <th>peak-rpm</th>\n",
       "      <th>city-mpg</th>\n",
       "      <th>FuelType_0</th>\n",
       "    </tr>\n",
       "  </thead>\n",
       "  <tbody>\n",
       "    <tr>\n",
       "      <th>0</th>\n",
       "      <td>4200.0</td>\n",
       "      <td>27</td>\n",
       "      <td>1</td>\n",
       "    </tr>\n",
       "    <tr>\n",
       "      <th>1</th>\n",
       "      <td>5000.0</td>\n",
       "      <td>19</td>\n",
       "      <td>1</td>\n",
       "    </tr>\n",
       "    <tr>\n",
       "      <th>2</th>\n",
       "      <td>4500.0</td>\n",
       "      <td>30</td>\n",
       "      <td>0</td>\n",
       "    </tr>\n",
       "    <tr>\n",
       "      <th>3</th>\n",
       "      <td>6000.0</td>\n",
       "      <td>31</td>\n",
       "      <td>1</td>\n",
       "    </tr>\n",
       "    <tr>\n",
       "      <th>4</th>\n",
       "      <td>4250.0</td>\n",
       "      <td>21</td>\n",
       "      <td>1</td>\n",
       "    </tr>\n",
       "  </tbody>\n",
       "</table>\n",
       "</div>"
      ],
      "text/plain": [
       "   peak-rpm  city-mpg  FuelType_0\n",
       "0    4200.0        27           1\n",
       "1    5000.0        19           1\n",
       "2    4500.0        30           0\n",
       "3    6000.0        31           1\n",
       "4    4250.0        21           1"
      ]
     },
     "execution_count": 17,
     "metadata": {},
     "output_type": "execute_result"
    }
   ],
   "source": [
    "# Last check that everything looks right\n",
    "X_train_final.head()"
   ]
  },
  {
   "cell_type": "markdown",
   "metadata": {},
   "source": [
    "# Linear regression with lasso - sklearn"
   ]
  },
  {
   "cell_type": "code",
   "execution_count": 18,
   "metadata": {
    "scrolled": true
   },
   "outputs": [
    {
     "name": "stdout",
     "output_type": "stream",
     "text": [
      "0.37730473581775914\n"
     ]
    },
    {
     "data": {
      "text/plain": [
       "array([[-1.16435206e+00, -1.02868136e+03, -6.59799909e+03]])"
      ]
     },
     "execution_count": 18,
     "metadata": {},
     "output_type": "execute_result"
    }
   ],
   "source": [
    "# Our baseline linear regression model\n",
    "lr_model = LinearRegression()\n",
    "lr_model.fit(X_train_final, y_train)\n",
    "lr_pred = lr_model.predict(X_test_final)\n",
    "print(lr_model.score(X_test_final, y_test))\n",
    "lr_model.coef_"
   ]
  },
  {
   "cell_type": "code",
   "execution_count": 26,
   "metadata": {
    "scrolled": true
   },
   "outputs": [
    {
     "name": "stdout",
     "output_type": "stream",
     "text": [
      "0.37730473581777224\n"
     ]
    },
    {
     "name": "stderr",
     "output_type": "stream",
     "text": [
      "c:\\users\\cmedina\\appdata\\local\\programs\\python\\python37\\lib\\site-packages\\ipykernel_launcher.py:3: UserWarning: With alpha=0, this algorithm does not converge well. You are advised to use the LinearRegression estimator\n",
      "  This is separate from the ipykernel package so we can avoid doing imports until\n",
      "c:\\users\\cmedina\\appdata\\local\\programs\\python\\python37\\lib\\site-packages\\sklearn\\linear_model\\coordinate_descent.py:475: UserWarning: Coordinate descent with no regularization may lead to unexpected results and is discouraged.\n",
      "  positive)\n",
      "c:\\users\\cmedina\\appdata\\local\\programs\\python\\python37\\lib\\site-packages\\sklearn\\linear_model\\coordinate_descent.py:475: ConvergenceWarning: Objective did not converge. You might want to increase the number of iterations. Duality gap: 1694145592.6691003, tolerance: 838857.1669356646\n",
      "  positive)\n"
     ]
    },
    {
     "data": {
      "text/plain": [
       "array([-1.16435206e+00, -1.02868136e+03, -6.59799909e+03])"
      ]
     },
     "execution_count": 26,
     "metadata": {},
     "output_type": "execute_result"
    }
   ],
   "source": [
    "# Lasso regression model with no penalty (OLS)\n",
    "lasso_model_0 = Lasso(alpha=0, fit_intercept=True)\n",
    "lasso_model_0.fit(X_train_final, y_train)\n",
    "print(lasso_model_0.score(X_test_final, y_test))\n",
    "lasso_model_0.coef_"
   ]
  },
  {
   "cell_type": "code",
   "execution_count": 20,
   "metadata": {
    "scrolled": true
   },
   "outputs": [
    {
     "name": "stdout",
     "output_type": "stream",
     "text": [
      "0.3768868275194177\n"
     ]
    },
    {
     "data": {
      "text/plain": [
       "array([-1.20857504e+00, -1.02633803e+03, -6.41956494e+03])"
      ]
     },
     "execution_count": 20,
     "metadata": {},
     "output_type": "execute_result"
    }
   ],
   "source": [
    "# Lasso regression model with alpha = 10 (some penalty)\n",
    "lasso_model_10 = Lasso(alpha=10, fit_intercept=True)\n",
    "lasso_model_10.fit(X_train_final, y_train)\n",
    "print(lasso_model_10.score(X_test_final, y_test))\n",
    "lasso_model_10.coef_"
   ]
  },
  {
   "cell_type": "code",
   "execution_count": 21,
   "metadata": {
    "scrolled": true
   },
   "outputs": [
    {
     "name": "stdout",
     "output_type": "stream",
     "text": [
      "0.3776576977155204\n"
     ]
    },
    {
     "data": {
      "text/plain": [
       "array([  -2.55757145, -663.8062391 ,   -0.        ])"
      ]
     },
     "execution_count": 21,
     "metadata": {},
     "output_type": "execute_result"
    }
   ],
   "source": [
    "# Lasso regression model with alpha = 10000 (high penalty)\n",
    "lasso_model_10k = Lasso(alpha=10000, fit_intercept=True)\n",
    "lasso_model_10k.fit(X_train_final, y_train)\n",
    "lasso_10k_pred = lasso_model_10k.predict(X_test_final)\n",
    "print(lasso_model_10k.score(X_test_final, y_test))\n",
    "lasso_model_10k.coef_"
   ]
  },
  {
   "cell_type": "code",
   "execution_count": 22,
   "metadata": {},
   "outputs": [],
   "source": [
    "lm_combined = pd.concat([X_test_final['city-mpg'], pd.Series(lr_pred.ravel())], axis=1)"
   ]
  },
  {
   "cell_type": "code",
   "execution_count": 23,
   "metadata": {},
   "outputs": [],
   "source": [
    "lm_combined.columns = ['city-mpg', 'pred']"
   ]
  },
  {
   "cell_type": "code",
   "execution_count": 25,
   "metadata": {},
   "outputs": [
    {
     "data": {
      "image/png": "[encoded data removed]",
      "text/plain": [
       "<Figure size 432x288 with 1 Axes>"
      ]
     },
     "metadata": {
      "needs_background": "light"
     },
     "output_type": "display_data"
    }
   ],
   "source": [
    "# Plot to compare models\n",
    "sns.scatterplot(x = X_test_final['city-mpg'], y = y_test.values.ravel())\n",
    "sns.regplot(x = X_test_final['city-mpg'], y = lr_pred.ravel(), color='g')\n",
    "sns.regplot(x = X_test_final['city-mpg'], y = lasso_10k_pred.ravel(), color='purple');"
   ]
  },
  {
   "cell_type": "markdown",
   "metadata": {},
   "source": [
    "# Ridge regression - sklearn"
   ]
  },
  {
   "cell_type": "code",
   "execution_count": 27,
   "metadata": {},
   "outputs": [
    {
     "name": "stdout",
     "output_type": "stream",
     "text": [
      "0.2724781493540728\n"
     ]
    },
    {
     "data": {
      "text/plain": [
       "array([[  -2.34885698, -315.559277  ,   -1.71853767]])"
      ]
     },
     "execution_count": 27,
     "metadata": {},
     "output_type": "execute_result"
    }
   ],
   "source": [
    "# Ridge regression with high penalty\n",
    "ridge_model = Ridge(alpha=10000, fit_intercept=True)\n",
    "ridge_model.fit(X_train_final, y_train)\n",
    "ridge_pred = ridge_model.predict(X_test_final)\n",
    "print(ridge_model.score(X_test_final, y_test))\n",
    "ridge_model.coef_"
   ]
  },
  {
   "cell_type": "code",
   "execution_count": 29,
   "metadata": {},
   "outputs": [
    {
     "data": {
      "image/png": "[encoded data removed]",
      "text/plain": [
       "<Figure size 432x288 with 1 Axes>"
      ]
     },
     "metadata": {
      "needs_background": "light"
     },
     "output_type": "display_data"
    }
   ],
   "source": [
    "# Plot to compare models\n",
    "sns.scatterplot(x = X_test_final['city-mpg'], y = y_test.values.ravel())\n",
    "sns.regplot(x = X_test_final['city-mpg'], y = lr_pred.ravel(), color='g')\n",
    "sns.regplot(x = X_test_final['city-mpg'], y = ridge_pred.ravel(), color='purple');"
   ]
  },
  {
   "cell_type": "markdown",
   "metadata": {},
   "source": [
    "# Lasso polynomial regression - sklearn"
   ]
  },
  {
   "cell_type": "code",
   "execution_count": 67,
   "metadata": {},
   "outputs": [],
   "source": [
    "# Create polynomial regression features of nth degree\n",
    "poly_reg = PolynomialFeatures(degree = 3)\n",
    "X_poly_train = poly_reg.fit_transform(pd.DataFrame(X_train_final))\n",
    "X_poly_test = poly_reg.fit_transform(pd.DataFrame(X_test_final))\n",
    "\n",
    "# poly_result = poly_reg.fit(X_train_final, y_train)\n",
    "\n",
    "# Fit linear model now polynomial features\n",
    "poly_model = LinearRegression()\n",
    "poly_result = poly_model.fit(X_poly_train, y_train)\n",
    "y_poly_pred = poly_model.predict(X_poly_test)"
   ]
  },
  {
   "cell_type": "code",
   "execution_count": 68,
   "metadata": {},
   "outputs": [
    {
     "name": "stdout",
     "output_type": "stream",
     "text": [
      "0.5284061873353236\n"
     ]
    },
    {
     "name": "stderr",
     "output_type": "stream",
     "text": [
      "c:\\users\\cmedina\\appdata\\local\\programs\\python\\python37\\lib\\site-packages\\sklearn\\linear_model\\coordinate_descent.py:475: ConvergenceWarning: Objective did not converge. You might want to increase the number of iterations. Duality gap: 984378288.7975979, tolerance: 838857.1669356646\n",
      "  positive)\n"
     ]
    },
    {
     "data": {
      "text/plain": [
       "array([ 0.00000000e+00,  1.55024598e+00, -0.00000000e+00,  0.00000000e+00,\n",
       "        1.28631200e-04, -1.67970435e+00,  9.56864091e-01,  0.00000000e+00,\n",
       "        0.00000000e+00,  0.00000000e+00,  6.93889781e-08,  1.27042779e-04,\n",
       "       -1.34091756e-03,  1.30798225e-02,  1.09861661e-01,  4.76063385e-01,\n",
       "        1.06738659e-01,  0.00000000e+00,  0.00000000e+00,  0.00000000e+00])"
      ]
     },
     "execution_count": 68,
     "metadata": {},
     "output_type": "execute_result"
    }
   ],
   "source": [
    "# Lasso regression model with alpha = 10000 (high penalty) -- now with a lot of new variables\n",
    "lasso_poly_model_10k = Lasso(alpha=10000, fit_intercept=True)\n",
    "lasso_poly_model_10k.fit(X_poly_train, y_train)\n",
    "lasso_poly_10k_pred = lasso_poly_model_10k.predict(X_poly_test)\n",
    "print(lasso_poly_model_10k.score(X_poly_test, y_test))\n",
    "lasso_poly_model_10k.coef_"
   ]
  },
  {
   "cell_type": "code",
   "execution_count": 33,
   "metadata": {},
   "outputs": [
    {
     "data": {
      "image/png": "[encoded data removed]",
      "text/plain": [
       "<Figure size 432x288 with 1 Axes>"
      ]
     },
     "metadata": {
      "needs_background": "light"
     },
     "output_type": "display_data"
    }
   ],
   "source": [
    "# Plot to compare models\n",
    "sns.scatterplot(x = X_test_final['city-mpg'], y = y_test.values.ravel())\n",
    "sns.regplot(x = X_test_final['city-mpg'], y = lr_pred.ravel(), color='g')\n",
    "sns.regplot(x = X_test_final['city-mpg'], y = y_poly_pred.ravel(), color='gray', order=3)\n",
    "sns.regplot(x = X_test_final['city-mpg'], y = lasso_poly_10k_pred.ravel(), color='purple', order=3);"
   ]
  },
  {
   "cell_type": "code",
   "execution_count": 37,
   "metadata": {},
   "outputs": [
    {
     "data": {
      "text/plain": [
       "Index(['symboling', 'normalized-losses', 'make', 'fuel-type', 'aspiration',\n",
       "       'num-of-doors', 'body-style', 'drive-wheels', 'engine-location',\n",
       "       'wheel-base', 'length', 'width', 'height', 'curb-weight', 'engine-type',\n",
       "       'num-of-cylinders', 'engine-size', 'fuel-system', 'bore', 'stroke',\n",
       "       'compression-ratio', 'horsepower', 'peak-rpm', 'city-mpg',\n",
       "       'highway-mpg', 'price'],\n",
       "      dtype='object')"
      ]
     },
     "execution_count": 37,
     "metadata": {},
     "output_type": "execute_result"
    }
   ],
   "source": [
    "auto_df.columns"
   ]
  },
  {
   "cell_type": "markdown",
   "metadata": {},
   "source": [
    "# Appendix: handling many levels of categorical variables"
   ]
  },
  {
   "cell_type": "code",
   "execution_count": 58,
   "metadata": {},
   "outputs": [
    {
     "data": {
      "text/plain": [
       "four      114\n",
       "six        17\n",
       "five        5\n",
       "eight       4\n",
       "two         2\n",
       "twelve      1\n",
       "Name: num-of-cylinders, dtype: int64"
      ]
     },
     "execution_count": 58,
     "metadata": {},
     "output_type": "execute_result"
    }
   ],
   "source": [
    "# See that this is a multi-class categorical variable\n",
    "X = auto_df.drop(['price'], axis=1)\n",
    "X_train = X.copy()\n",
    "X_train['num-of-cylinders'].value_counts()"
   ]
  },
  {
   "cell_type": "code",
   "execution_count": 59,
   "metadata": {},
   "outputs": [],
   "source": [
    "X = auto_df.drop('price', axis=1)\n",
    "X_train, X_test, y_train, y_test = train_test_split(X, y, test_size=0.3, random_state=42)"
   ]
  },
  {
   "cell_type": "code",
   "execution_count": 60,
   "metadata": {},
   "outputs": [],
   "source": [
    "# Take a subset of columns\n",
    "X_train_pred = X_train[['fuel-type', 'wheel-base', 'peak-rpm', 'city-mpg', 'num-of-cylinders']]"
   ]
  },
  {
   "cell_type": "code",
   "execution_count": 61,
   "metadata": {},
   "outputs": [],
   "source": [
    "# Source: http://www.insightsbot.com/blog/McTKK/python-one-hot-encoding-with-scikit-learn\n",
    "# Create dummy variables \n",
    "from sklearn.preprocessing import LabelBinarizer\n",
    "fuel_type_lb = LabelBinarizer()\n",
    "num_cyl_mlb = LabelBinarizer()\n",
    "X = fuel_type_lb.fit_transform(X_train_pred['fuel-type'].values)\n",
    "X2 = num_cyl_mlb.fit_transform(X_train_pred['num-of-cylinders'].values) "
   ]
  },
  {
   "cell_type": "code",
   "execution_count": 62,
   "metadata": {},
   "outputs": [],
   "source": [
    "# Determine variable order and rename\n",
    "col_levels = ['eight', 'five', 'four', 'six', 'twelve', 'two']"
   ]
  },
  {
   "cell_type": "code",
   "execution_count": 63,
   "metadata": {},
   "outputs": [],
   "source": [
    "# Naming columns to make sense\n",
    "dfOneHot = pd.DataFrame(X, columns = [\"FuelType_\"+str(int(i)) for i in range(X.shape[1])])\n",
    "dfOneHot2 = pd.DataFrame(X2, columns = [\"NumCyl_\"+str(col_levels[i]) for i in range(X2.shape[1])])\n",
    "df = pd.concat([X_train_pred, dfOneHot, dfOneHot2], axis=1)"
   ]
  },
  {
   "cell_type": "code",
   "execution_count": 64,
   "metadata": {},
   "outputs": [],
   "source": [
    "# Drop unecessary columns\n",
    "# df.drop('index', axis=1, inplace=True)\n",
    "df.drop('fuel-type', axis=1, inplace=True)\n",
    "df.drop('num-of-cylinders', axis=1, inplace=True)"
   ]
  },
  {
   "cell_type": "code",
   "execution_count": 65,
   "metadata": {},
   "outputs": [
    {
     "data": {
      "text/html": [
       "<div>\n",
       "<style scoped>\n",
       "    .dataframe tbody tr th:only-of-type {\n",
       "        vertical-align: middle;\n",
       "    }\n",
       "\n",
       "    .dataframe tbody tr th {\n",
       "        vertical-align: top;\n",
       "    }\n",
       "\n",
       "    .dataframe thead th {\n",
       "        text-align: right;\n",
       "    }\n",
       "</style>\n",
       "<table border=\"1\" class=\"dataframe\">\n",
       "  <thead>\n",
       "    <tr style=\"text-align: right;\">\n",
       "      <th></th>\n",
       "      <th>wheel-base</th>\n",
       "      <th>peak-rpm</th>\n",
       "      <th>city-mpg</th>\n",
       "      <th>FuelType_0</th>\n",
       "      <th>NumCyl_eight</th>\n",
       "      <th>NumCyl_five</th>\n",
       "      <th>NumCyl_four</th>\n",
       "      <th>NumCyl_six</th>\n",
       "      <th>NumCyl_twelve</th>\n",
       "      <th>NumCyl_two</th>\n",
       "    </tr>\n",
       "  </thead>\n",
       "  <tbody>\n",
       "    <tr>\n",
       "      <th>0</th>\n",
       "      <td>88.6</td>\n",
       "      <td>5000.0</td>\n",
       "      <td>21.0</td>\n",
       "      <td>1.0</td>\n",
       "      <td>0.0</td>\n",
       "      <td>0.0</td>\n",
       "      <td>1.0</td>\n",
       "      <td>0.0</td>\n",
       "      <td>0.0</td>\n",
       "      <td>0.0</td>\n",
       "    </tr>\n",
       "    <tr>\n",
       "      <th>1</th>\n",
       "      <td>88.6</td>\n",
       "      <td>5000.0</td>\n",
       "      <td>21.0</td>\n",
       "      <td>1.0</td>\n",
       "      <td>0.0</td>\n",
       "      <td>0.0</td>\n",
       "      <td>1.0</td>\n",
       "      <td>0.0</td>\n",
       "      <td>0.0</td>\n",
       "      <td>0.0</td>\n",
       "    </tr>\n",
       "    <tr>\n",
       "      <th>2</th>\n",
       "      <td>94.5</td>\n",
       "      <td>5000.0</td>\n",
       "      <td>19.0</td>\n",
       "      <td>0.0</td>\n",
       "      <td>0.0</td>\n",
       "      <td>0.0</td>\n",
       "      <td>1.0</td>\n",
       "      <td>0.0</td>\n",
       "      <td>0.0</td>\n",
       "      <td>0.0</td>\n",
       "    </tr>\n",
       "    <tr>\n",
       "      <th>3</th>\n",
       "      <td>99.8</td>\n",
       "      <td>5500.0</td>\n",
       "      <td>24.0</td>\n",
       "      <td>1.0</td>\n",
       "      <td>0.0</td>\n",
       "      <td>0.0</td>\n",
       "      <td>1.0</td>\n",
       "      <td>0.0</td>\n",
       "      <td>0.0</td>\n",
       "      <td>0.0</td>\n",
       "    </tr>\n",
       "    <tr>\n",
       "      <th>4</th>\n",
       "      <td>99.4</td>\n",
       "      <td>5500.0</td>\n",
       "      <td>18.0</td>\n",
       "      <td>1.0</td>\n",
       "      <td>0.0</td>\n",
       "      <td>0.0</td>\n",
       "      <td>0.0</td>\n",
       "      <td>1.0</td>\n",
       "      <td>0.0</td>\n",
       "      <td>0.0</td>\n",
       "    </tr>\n",
       "  </tbody>\n",
       "</table>\n",
       "</div>"
      ],
      "text/plain": [
       "   wheel-base  peak-rpm  city-mpg  FuelType_0  NumCyl_eight  NumCyl_five  \\\n",
       "0        88.6    5000.0      21.0         1.0           0.0          0.0   \n",
       "1        88.6    5000.0      21.0         1.0           0.0          0.0   \n",
       "2        94.5    5000.0      19.0         0.0           0.0          0.0   \n",
       "3        99.8    5500.0      24.0         1.0           0.0          0.0   \n",
       "4        99.4    5500.0      18.0         1.0           0.0          0.0   \n",
       "\n",
       "   NumCyl_four  NumCyl_six  NumCyl_twelve  NumCyl_two  \n",
       "0          1.0         0.0            0.0         0.0  \n",
       "1          1.0         0.0            0.0         0.0  \n",
       "2          1.0         0.0            0.0         0.0  \n",
       "3          1.0         0.0            0.0         0.0  \n",
       "4          0.0         1.0            0.0         0.0  "
      ]
     },
     "execution_count": 65,
     "metadata": {},
     "output_type": "execute_result"
    }
   ],
   "source": [
    "df.head()"
   ]
  },
  {
   "cell_type": "markdown",
   "metadata": {},
   "source": [
    "# Appendix: alternate categorical variable encoding - one-hot encoding"
   ]
  },
  {
   "cell_type": "code",
   "execution_count": 51,
   "metadata": {},
   "outputs": [],
   "source": [
    "# Take a subset of columns\n",
    "X_train_pred = X_train[['fuel-type', 'wheel-base', 'peak-rpm', 'city-mpg', 'num-of-cylinders']]"
   ]
  },
  {
   "cell_type": "code",
   "execution_count": 52,
   "metadata": {},
   "outputs": [
    {
     "name": "stderr",
     "output_type": "stream",
     "text": [
      "c:\\users\\cmedina\\appdata\\local\\programs\\python\\python37\\lib\\site-packages\\ipykernel_launcher.py:4: SettingWithCopyWarning: \n",
      "A value is trying to be set on a copy of a slice from a DataFrame.\n",
      "Try using .loc[row_indexer,col_indexer] = value instead\n",
      "\n",
      "See the caveats in the documentation: http://pandas.pydata.org/pandas-docs/stable/user_guide/indexing.html#returning-a-view-versus-a-copy\n",
      "  after removing the cwd from sys.path.\n"
     ]
    }
   ],
   "source": [
    "# Encode categorical variables to numerical levels\n",
    "from sklearn.preprocessing import LabelEncoder\n",
    "le_fuel_type = LabelEncoder()\n",
    "X_train_pred['fuel-type'] = le_fuel_type.fit_transform(X_train_pred['fuel-type'])"
   ]
  },
  {
   "cell_type": "code",
   "execution_count": 53,
   "metadata": {},
   "outputs": [
    {
     "name": "stderr",
     "output_type": "stream",
     "text": [
      "c:\\users\\cmedina\\appdata\\local\\programs\\python\\python37\\lib\\site-packages\\sklearn\\preprocessing\\_encoders.py:415: FutureWarning: The handling of integer data will change in version 0.22. Currently, the categories are determined based on the range [0, max(values)], while in the future they will be determined based on the unique values.\n",
      "If you want the future behaviour and silence this warning, you can specify \"categories='auto'\".\n",
      "In case you used a LabelEncoder before this OneHotEncoder to convert the categories to integers, then you can now use the OneHotEncoder directly.\n",
      "  warnings.warn(msg, FutureWarning)\n"
     ]
    }
   ],
   "source": [
    "# Get dummies from numerical levels\n",
    "from sklearn.preprocessing import OneHotEncoder\n",
    "fuel_type_ohe = OneHotEncoder()\n",
    "X = fuel_type_ohe.fit_transform(X_train_pred['fuel-type'].values.reshape(-1,1)).toarray()"
   ]
  },
  {
   "cell_type": "code",
   "execution_count": 54,
   "metadata": {},
   "outputs": [],
   "source": [
    "# Reset the training df index\n",
    "X_train_pred.reset_index(inplace=True)"
   ]
  },
  {
   "cell_type": "code",
   "execution_count": 55,
   "metadata": {},
   "outputs": [],
   "source": [
    "# Join the one hot encoded dataframe back to your other dataframe\n",
    "dfOneHot = pd.DataFrame(X, columns = [\"FuelType_\"+str(int(i)) for i in range(X.shape[1])])\n",
    "df = pd.concat([X_train_pred, dfOneHot], axis=1)"
   ]
  },
  {
   "cell_type": "code",
   "execution_count": 56,
   "metadata": {},
   "outputs": [
    {
     "data": {
      "text/html": [
       "<div>\n",
       "<style scoped>\n",
       "    .dataframe tbody tr th:only-of-type {\n",
       "        vertical-align: middle;\n",
       "    }\n",
       "\n",
       "    .dataframe tbody tr th {\n",
       "        vertical-align: top;\n",
       "    }\n",
       "\n",
       "    .dataframe thead th {\n",
       "        text-align: right;\n",
       "    }\n",
       "</style>\n",
       "<table border=\"1\" class=\"dataframe\">\n",
       "  <thead>\n",
       "    <tr style=\"text-align: right;\">\n",
       "      <th></th>\n",
       "      <th>index</th>\n",
       "      <th>fuel-type</th>\n",
       "      <th>wheel-base</th>\n",
       "      <th>peak-rpm</th>\n",
       "      <th>city-mpg</th>\n",
       "      <th>num-of-cylinders</th>\n",
       "      <th>FuelType_0</th>\n",
       "      <th>FuelType_1</th>\n",
       "    </tr>\n",
       "  </thead>\n",
       "  <tbody>\n",
       "    <tr>\n",
       "      <th>0</th>\n",
       "      <td>177</td>\n",
       "      <td>1</td>\n",
       "      <td>102.4</td>\n",
       "      <td>4200.0</td>\n",
       "      <td>27</td>\n",
       "      <td>four</td>\n",
       "      <td>0.0</td>\n",
       "      <td>1.0</td>\n",
       "    </tr>\n",
       "    <tr>\n",
       "      <th>1</th>\n",
       "      <td>75</td>\n",
       "      <td>1</td>\n",
       "      <td>102.7</td>\n",
       "      <td>5000.0</td>\n",
       "      <td>19</td>\n",
       "      <td>four</td>\n",
       "      <td>0.0</td>\n",
       "      <td>1.0</td>\n",
       "    </tr>\n",
       "    <tr>\n",
       "      <th>2</th>\n",
       "      <td>174</td>\n",
       "      <td>0</td>\n",
       "      <td>102.4</td>\n",
       "      <td>4500.0</td>\n",
       "      <td>30</td>\n",
       "      <td>four</td>\n",
       "      <td>1.0</td>\n",
       "      <td>0.0</td>\n",
       "    </tr>\n",
       "    <tr>\n",
       "      <th>3</th>\n",
       "      <td>31</td>\n",
       "      <td>1</td>\n",
       "      <td>86.6</td>\n",
       "      <td>6000.0</td>\n",
       "      <td>31</td>\n",
       "      <td>four</td>\n",
       "      <td>0.0</td>\n",
       "      <td>1.0</td>\n",
       "    </tr>\n",
       "    <tr>\n",
       "      <th>4</th>\n",
       "      <td>12</td>\n",
       "      <td>1</td>\n",
       "      <td>101.2</td>\n",
       "      <td>4250.0</td>\n",
       "      <td>21</td>\n",
       "      <td>six</td>\n",
       "      <td>0.0</td>\n",
       "      <td>1.0</td>\n",
       "    </tr>\n",
       "  </tbody>\n",
       "</table>\n",
       "</div>"
      ],
      "text/plain": [
       "   index  fuel-type  wheel-base  peak-rpm  city-mpg num-of-cylinders  \\\n",
       "0    177          1       102.4    4200.0        27             four   \n",
       "1     75          1       102.7    5000.0        19             four   \n",
       "2    174          0       102.4    4500.0        30             four   \n",
       "3     31          1        86.6    6000.0        31             four   \n",
       "4     12          1       101.2    4250.0        21              six   \n",
       "\n",
       "   FuelType_0  FuelType_1  \n",
       "0         0.0         1.0  \n",
       "1         0.0         1.0  \n",
       "2         1.0         0.0  \n",
       "3         0.0         1.0  \n",
       "4         0.0         1.0  "
      ]
     },
     "execution_count": 56,
     "metadata": {},
     "output_type": "execute_result"
    }
   ],
   "source": [
    "# Take a look\n",
    "df.head()"
   ]
  },
  {
   "cell_type": "code",
   "execution_count": 57,
   "metadata": {},
   "outputs": [],
   "source": [
    "# Drop unecessary columns\n",
    "df.drop('index', axis=1, inplace=True)\n",
    "df.drop('fuel-type', axis=1, inplace=True)\n",
    "df.drop('num-of-cylinders', axis=1, inplace=True)"
   ]
  }
 ],
 "metadata": {
  "kernelspec": {
   "display_name": "Python 3",
   "language": "python",
   "name": "python3"
  },
  "language_info": {
   "codemirror_mode": {
    "name": "ipython",
    "version": 3
   },
   "file_extension": ".py",
   "mimetype": "text/x-python",
   "name": "python",
   "nbconvert_exporter": "python",
   "pygments_lexer": "ipython3",
   "version": "3.7.5"
  },
  "toc": {
   "base_numbering": 1,
   "nav_menu": {},
   "number_sections": true,
   "sideBar": true,
   "skip_h1_title": false,
   "title_cell": "Table of Contents",
   "title_sidebar": "Contents",
   "toc_cell": false,
   "toc_position": {},
   "toc_section_display": true,
   "toc_window_display": false
  }
 },
 "nbformat": 4,
 "nbformat_minor": 4
}
